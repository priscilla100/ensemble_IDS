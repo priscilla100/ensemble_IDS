{
 "cells": [
  {
   "cell_type": "code",
   "execution_count": 1,
   "metadata": {},
   "outputs": [],
   "source": [
    "from sklearn.model_selection import cross_val_score\n",
    "from sklearn.linear_model import LogisticRegression\n",
    "from sklearn.naive_bayes import GaussianNB\n",
    "from sklearn.ensemble import RandomForestClassifier\n",
    "from sklearn.ensemble import VotingClassifier\n",
    "from sklearn.neighbors import KNeighborsClassifier\n",
    "from sklearn.ensemble import RandomForestClassifier,AdaBoostClassifier,GradientBoostingClassifier\n",
    "from time import time\n",
    "from sklearn.svm import SVC\n",
    "from sklearn import svm\n",
    "from mlxtend.classifier import StackingClassifier\n",
    "from sklearn.svm import SVC\n",
    "from sklearn.neural_network import MLPClassifier\n",
    "import pandas as pd\n",
    "import numpy as np\n",
    "import glob\n",
    "import matplotlib.pyplot as plt\n",
    "import seaborn as sns\n",
    "import helpers\n",
    "from sklearn import preprocessing\n",
    "import numpy as np\n",
    "from statistics import mode\n",
    "from scipy.stats import kurtosis, skew\n",
    "import statistics\n",
    "import struct\n",
    "import ast\n",
    "from time import time\n",
    "import itertools\n",
    "from sklearn.ensemble import RandomForestClassifier,BaggingClassifier,AdaBoostClassifier,GradientBoostingClassifier,ExtraTreesClassifier\n",
    "\n",
    "from ast import literal_eval\n",
    "from sklearn.ensemble import IsolationForest\n",
    "import pandas as pd\n",
    "import glob\n",
    "from sklearn.model_selection import train_test_split\n",
    "from sklearn.ensemble import RandomForestClassifier\n",
    "from sklearn.metrics import accuracy_score\n",
    "from sklearn.metrics import confusion_matrix \n",
    "from sklearn.metrics import roc_curve, auc\n",
    "import sklearn\n",
    "from sklearn.multiclass import OneVsRestClassifier\n",
    "from time import time\n",
    "import seaborn as sns\n",
    "import matplotlib.pyplot as plt\n",
    "from sklearn import metrics\n",
    "from sklearn.metrics import classification_report\n",
    "import numpy as np\n",
    "from sklearn import tree\n",
    "from sklearn.tree import DecisionTreeClassifier\n",
    "from sklearn.preprocessing import LabelEncoder\n",
    "from sklearn import preprocessing\n",
    "from sklearn.preprocessing import LabelBinarizer\n",
    "from sklearn.ensemble import RandomForestClassifier\n",
    "from sklearn.model_selection import train_test_split, GridSearchCV, StratifiedKFold\n",
    "from sklearn.metrics import f1_score,roc_curve, precision_recall_curve, auc, make_scorer, recall_score, accuracy_score, precision_score, confusion_matrix\n",
    "from sklearn.metrics import roc_auc_score\n",
    "from xgboost import XGBRegressor\n",
    "from sklearn.preprocessing import StandardScaler\n",
    "from sklearn.model_selection import train_test_split\n",
    "from sklearn.model_selection import GridSearchCV\n",
    "from sklearn.model_selection import cross_val_score\n",
    "from sklearn.metrics import mean_squared_error\n",
    "from sklearn.ensemble import IsolationForest\n",
    "from sklearn import model_selection\n",
    "import warnings\n",
    "warnings.filterwarnings(\"ignore\")\n",
    "import matplotlib.pyplot as plt\n",
    "plt.style.use(\"ggplot\")\n",
    "from collections import Counter\n",
    "import time\n",
    "from sklearn.model_selection import cross_val_score\n",
    "from sklearn.linear_model import LogisticRegression\n",
    "from sklearn.naive_bayes import GaussianNB\n",
    "from sklearn.ensemble import RandomForestClassifier\n",
    "from sklearn.ensemble import VotingClassifier\n",
    "from IPython.core.pylabtools import figsize\n",
    "# Load Library\n",
    "from sklearn.datasets import make_moons\n",
    "from sklearn.metrics import accuracy_score\n",
    "from sklearn.model_selection import train_test_split\n",
    "from sklearn.tree import DecisionTreeClassifier\n",
    "from sklearn.ensemble import RandomForestClassifier,AdaBoostClassifier,GradientBoostingClassifier\n",
    "\n",
    "from sklearn.pipeline import make_pipeline\n",
    "from sklearn.preprocessing import StandardScaler\n",
    "\n",
    "import time as time"
   ]
  },
  {
   "cell_type": "code",
   "execution_count": 2,
   "metadata": {},
   "outputs": [
    {
     "ename": "ParserError",
     "evalue": "Error tokenizing data. C error: Calling read(nbytes) on source failed. Try engine='python'.",
     "output_type": "error",
     "traceback": [
      "\u001b[0;31m---------------------------------------------------------------------------\u001b[0m",
      "\u001b[0;31mParserError\u001b[0m                               Traceback (most recent call last)",
      "\u001b[0;32m<ipython-input-2-0d6e3a41abf1>\u001b[0m in \u001b[0;36m<module>\u001b[0;34m\u001b[0m\n\u001b[0;32m----> 1\u001b[0;31m \u001b[0mgafgyt_combo\u001b[0m \u001b[0;34m=\u001b[0m \u001b[0mpd\u001b[0m\u001b[0;34m.\u001b[0m\u001b[0mread_csv\u001b[0m\u001b[0;34m(\u001b[0m\u001b[0;34mr'/Users/mac/OneDrive - University of New Brunswick/Directed Studies Term Project Implementation/N-BaIoT/Provision_PT_838_Security_Camera/6.gafgyt.combo.csv'\u001b[0m\u001b[0;34m)\u001b[0m\u001b[0;34m\u001b[0m\u001b[0;34m\u001b[0m\u001b[0m\n\u001b[0m\u001b[1;32m      2\u001b[0m \u001b[0;34m\u001b[0m\u001b[0m\n\u001b[1;32m      3\u001b[0m \u001b[0;34m\u001b[0m\u001b[0m\n\u001b[1;32m      4\u001b[0m \u001b[0mgafgyt_combo\u001b[0m\u001b[0;34m[\u001b[0m\u001b[0;34m'label'\u001b[0m\u001b[0;34m]\u001b[0m \u001b[0;34m=\u001b[0m \u001b[0;34m\"gafgyt_combo\"\u001b[0m\u001b[0;34m\u001b[0m\u001b[0;34m\u001b[0m\u001b[0m\n\u001b[1;32m      5\u001b[0m \u001b[0;34m\u001b[0m\u001b[0m\n",
      "\u001b[0;32m/Applications/anaconda3/lib/python3.7/site-packages/pandas/util/_decorators.py\u001b[0m in \u001b[0;36mwrapper\u001b[0;34m(*args, **kwargs)\u001b[0m\n\u001b[1;32m    309\u001b[0m                     \u001b[0mstacklevel\u001b[0m\u001b[0;34m=\u001b[0m\u001b[0mstacklevel\u001b[0m\u001b[0;34m,\u001b[0m\u001b[0;34m\u001b[0m\u001b[0;34m\u001b[0m\u001b[0m\n\u001b[1;32m    310\u001b[0m                 )\n\u001b[0;32m--> 311\u001b[0;31m             \u001b[0;32mreturn\u001b[0m \u001b[0mfunc\u001b[0m\u001b[0;34m(\u001b[0m\u001b[0;34m*\u001b[0m\u001b[0margs\u001b[0m\u001b[0;34m,\u001b[0m \u001b[0;34m**\u001b[0m\u001b[0mkwargs\u001b[0m\u001b[0;34m)\u001b[0m\u001b[0;34m\u001b[0m\u001b[0;34m\u001b[0m\u001b[0m\n\u001b[0m\u001b[1;32m    312\u001b[0m \u001b[0;34m\u001b[0m\u001b[0m\n\u001b[1;32m    313\u001b[0m         \u001b[0;32mreturn\u001b[0m \u001b[0mwrapper\u001b[0m\u001b[0;34m\u001b[0m\u001b[0;34m\u001b[0m\u001b[0m\n",
      "\u001b[0;32m/Applications/anaconda3/lib/python3.7/site-packages/pandas/io/parsers/readers.py\u001b[0m in \u001b[0;36mread_csv\u001b[0;34m(filepath_or_buffer, sep, delimiter, header, names, index_col, usecols, squeeze, prefix, mangle_dupe_cols, dtype, engine, converters, true_values, false_values, skipinitialspace, skiprows, skipfooter, nrows, na_values, keep_default_na, na_filter, verbose, skip_blank_lines, parse_dates, infer_datetime_format, keep_date_col, date_parser, dayfirst, cache_dates, iterator, chunksize, compression, thousands, decimal, lineterminator, quotechar, quoting, doublequote, escapechar, comment, encoding, encoding_errors, dialect, error_bad_lines, warn_bad_lines, on_bad_lines, delim_whitespace, low_memory, memory_map, float_precision, storage_options)\u001b[0m\n\u001b[1;32m    584\u001b[0m     \u001b[0mkwds\u001b[0m\u001b[0;34m.\u001b[0m\u001b[0mupdate\u001b[0m\u001b[0;34m(\u001b[0m\u001b[0mkwds_defaults\u001b[0m\u001b[0;34m)\u001b[0m\u001b[0;34m\u001b[0m\u001b[0;34m\u001b[0m\u001b[0m\n\u001b[1;32m    585\u001b[0m \u001b[0;34m\u001b[0m\u001b[0m\n\u001b[0;32m--> 586\u001b[0;31m     \u001b[0;32mreturn\u001b[0m \u001b[0m_read\u001b[0m\u001b[0;34m(\u001b[0m\u001b[0mfilepath_or_buffer\u001b[0m\u001b[0;34m,\u001b[0m \u001b[0mkwds\u001b[0m\u001b[0;34m)\u001b[0m\u001b[0;34m\u001b[0m\u001b[0;34m\u001b[0m\u001b[0m\n\u001b[0m\u001b[1;32m    587\u001b[0m \u001b[0;34m\u001b[0m\u001b[0m\n\u001b[1;32m    588\u001b[0m \u001b[0;34m\u001b[0m\u001b[0m\n",
      "\u001b[0;32m/Applications/anaconda3/lib/python3.7/site-packages/pandas/io/parsers/readers.py\u001b[0m in \u001b[0;36m_read\u001b[0;34m(filepath_or_buffer, kwds)\u001b[0m\n\u001b[1;32m    480\u001b[0m \u001b[0;34m\u001b[0m\u001b[0m\n\u001b[1;32m    481\u001b[0m     \u001b[0;31m# Create the parser.\u001b[0m\u001b[0;34m\u001b[0m\u001b[0;34m\u001b[0m\u001b[0;34m\u001b[0m\u001b[0m\n\u001b[0;32m--> 482\u001b[0;31m     \u001b[0mparser\u001b[0m \u001b[0;34m=\u001b[0m \u001b[0mTextFileReader\u001b[0m\u001b[0;34m(\u001b[0m\u001b[0mfilepath_or_buffer\u001b[0m\u001b[0;34m,\u001b[0m \u001b[0;34m**\u001b[0m\u001b[0mkwds\u001b[0m\u001b[0;34m)\u001b[0m\u001b[0;34m\u001b[0m\u001b[0;34m\u001b[0m\u001b[0m\n\u001b[0m\u001b[1;32m    483\u001b[0m \u001b[0;34m\u001b[0m\u001b[0m\n\u001b[1;32m    484\u001b[0m     \u001b[0;32mif\u001b[0m \u001b[0mchunksize\u001b[0m \u001b[0;32mor\u001b[0m \u001b[0miterator\u001b[0m\u001b[0;34m:\u001b[0m\u001b[0;34m\u001b[0m\u001b[0;34m\u001b[0m\u001b[0m\n",
      "\u001b[0;32m/Applications/anaconda3/lib/python3.7/site-packages/pandas/io/parsers/readers.py\u001b[0m in \u001b[0;36m__init__\u001b[0;34m(self, f, engine, **kwds)\u001b[0m\n\u001b[1;32m    809\u001b[0m             \u001b[0mself\u001b[0m\u001b[0;34m.\u001b[0m\u001b[0moptions\u001b[0m\u001b[0;34m[\u001b[0m\u001b[0;34m\"has_index_names\"\u001b[0m\u001b[0;34m]\u001b[0m \u001b[0;34m=\u001b[0m \u001b[0mkwds\u001b[0m\u001b[0;34m[\u001b[0m\u001b[0;34m\"has_index_names\"\u001b[0m\u001b[0;34m]\u001b[0m\u001b[0;34m\u001b[0m\u001b[0;34m\u001b[0m\u001b[0m\n\u001b[1;32m    810\u001b[0m \u001b[0;34m\u001b[0m\u001b[0m\n\u001b[0;32m--> 811\u001b[0;31m         \u001b[0mself\u001b[0m\u001b[0;34m.\u001b[0m\u001b[0m_engine\u001b[0m \u001b[0;34m=\u001b[0m \u001b[0mself\u001b[0m\u001b[0;34m.\u001b[0m\u001b[0m_make_engine\u001b[0m\u001b[0;34m(\u001b[0m\u001b[0mself\u001b[0m\u001b[0;34m.\u001b[0m\u001b[0mengine\u001b[0m\u001b[0;34m)\u001b[0m\u001b[0;34m\u001b[0m\u001b[0;34m\u001b[0m\u001b[0m\n\u001b[0m\u001b[1;32m    812\u001b[0m \u001b[0;34m\u001b[0m\u001b[0m\n\u001b[1;32m    813\u001b[0m     \u001b[0;32mdef\u001b[0m \u001b[0mclose\u001b[0m\u001b[0;34m(\u001b[0m\u001b[0mself\u001b[0m\u001b[0;34m)\u001b[0m\u001b[0;34m:\u001b[0m\u001b[0;34m\u001b[0m\u001b[0;34m\u001b[0m\u001b[0m\n",
      "\u001b[0;32m/Applications/anaconda3/lib/python3.7/site-packages/pandas/io/parsers/readers.py\u001b[0m in \u001b[0;36m_make_engine\u001b[0;34m(self, engine)\u001b[0m\n\u001b[1;32m   1038\u001b[0m             )\n\u001b[1;32m   1039\u001b[0m         \u001b[0;31m# error: Too many arguments for \"ParserBase\"\u001b[0m\u001b[0;34m\u001b[0m\u001b[0;34m\u001b[0m\u001b[0;34m\u001b[0m\u001b[0m\n\u001b[0;32m-> 1040\u001b[0;31m         \u001b[0;32mreturn\u001b[0m \u001b[0mmapping\u001b[0m\u001b[0;34m[\u001b[0m\u001b[0mengine\u001b[0m\u001b[0;34m]\u001b[0m\u001b[0;34m(\u001b[0m\u001b[0mself\u001b[0m\u001b[0;34m.\u001b[0m\u001b[0mf\u001b[0m\u001b[0;34m,\u001b[0m \u001b[0;34m**\u001b[0m\u001b[0mself\u001b[0m\u001b[0;34m.\u001b[0m\u001b[0moptions\u001b[0m\u001b[0;34m)\u001b[0m  \u001b[0;31m# type: ignore[call-arg]\u001b[0m\u001b[0;34m\u001b[0m\u001b[0;34m\u001b[0m\u001b[0m\n\u001b[0m\u001b[1;32m   1041\u001b[0m \u001b[0;34m\u001b[0m\u001b[0m\n\u001b[1;32m   1042\u001b[0m     \u001b[0;32mdef\u001b[0m \u001b[0m_failover_to_python\u001b[0m\u001b[0;34m(\u001b[0m\u001b[0mself\u001b[0m\u001b[0;34m)\u001b[0m\u001b[0;34m:\u001b[0m\u001b[0;34m\u001b[0m\u001b[0;34m\u001b[0m\u001b[0m\n",
      "\u001b[0;32m/Applications/anaconda3/lib/python3.7/site-packages/pandas/io/parsers/c_parser_wrapper.py\u001b[0m in \u001b[0;36m__init__\u001b[0;34m(self, src, **kwds)\u001b[0m\n\u001b[1;32m     67\u001b[0m         \u001b[0mkwds\u001b[0m\u001b[0;34m[\u001b[0m\u001b[0;34m\"dtype\"\u001b[0m\u001b[0;34m]\u001b[0m \u001b[0;34m=\u001b[0m \u001b[0mensure_dtype_objs\u001b[0m\u001b[0;34m(\u001b[0m\u001b[0mkwds\u001b[0m\u001b[0;34m.\u001b[0m\u001b[0mget\u001b[0m\u001b[0;34m(\u001b[0m\u001b[0;34m\"dtype\"\u001b[0m\u001b[0;34m,\u001b[0m \u001b[0;32mNone\u001b[0m\u001b[0;34m)\u001b[0m\u001b[0;34m)\u001b[0m\u001b[0;34m\u001b[0m\u001b[0;34m\u001b[0m\u001b[0m\n\u001b[1;32m     68\u001b[0m         \u001b[0;32mtry\u001b[0m\u001b[0;34m:\u001b[0m\u001b[0;34m\u001b[0m\u001b[0;34m\u001b[0m\u001b[0m\n\u001b[0;32m---> 69\u001b[0;31m             \u001b[0mself\u001b[0m\u001b[0;34m.\u001b[0m\u001b[0m_reader\u001b[0m \u001b[0;34m=\u001b[0m \u001b[0mparsers\u001b[0m\u001b[0;34m.\u001b[0m\u001b[0mTextReader\u001b[0m\u001b[0;34m(\u001b[0m\u001b[0mself\u001b[0m\u001b[0;34m.\u001b[0m\u001b[0mhandles\u001b[0m\u001b[0;34m.\u001b[0m\u001b[0mhandle\u001b[0m\u001b[0;34m,\u001b[0m \u001b[0;34m**\u001b[0m\u001b[0mkwds\u001b[0m\u001b[0;34m)\u001b[0m\u001b[0;34m\u001b[0m\u001b[0;34m\u001b[0m\u001b[0m\n\u001b[0m\u001b[1;32m     70\u001b[0m         \u001b[0;32mexcept\u001b[0m \u001b[0mException\u001b[0m\u001b[0;34m:\u001b[0m\u001b[0;34m\u001b[0m\u001b[0;34m\u001b[0m\u001b[0m\n\u001b[1;32m     71\u001b[0m             \u001b[0mself\u001b[0m\u001b[0;34m.\u001b[0m\u001b[0mhandles\u001b[0m\u001b[0;34m.\u001b[0m\u001b[0mclose\u001b[0m\u001b[0;34m(\u001b[0m\u001b[0;34m)\u001b[0m\u001b[0;34m\u001b[0m\u001b[0;34m\u001b[0m\u001b[0m\n",
      "\u001b[0;32m/Applications/anaconda3/lib/python3.7/site-packages/pandas/_libs/parsers.pyx\u001b[0m in \u001b[0;36mpandas._libs.parsers.TextReader.__cinit__\u001b[0;34m()\u001b[0m\n",
      "\u001b[0;32m/Applications/anaconda3/lib/python3.7/site-packages/pandas/_libs/parsers.pyx\u001b[0m in \u001b[0;36mpandas._libs.parsers.TextReader._get_header\u001b[0;34m()\u001b[0m\n",
      "\u001b[0;32m/Applications/anaconda3/lib/python3.7/site-packages/pandas/_libs/parsers.pyx\u001b[0m in \u001b[0;36mpandas._libs.parsers.TextReader._tokenize_rows\u001b[0;34m()\u001b[0m\n",
      "\u001b[0;32m/Applications/anaconda3/lib/python3.7/site-packages/pandas/_libs/parsers.pyx\u001b[0m in \u001b[0;36mpandas._libs.parsers.raise_parser_error\u001b[0;34m()\u001b[0m\n",
      "\u001b[0;31mParserError\u001b[0m: Error tokenizing data. C error: Calling read(nbytes) on source failed. Try engine='python'."
     ]
    }
   ],
   "source": [
    "gafgyt_combo = pd.read_csv(r'/Users/mac/OneDrive - University of New Brunswick/Directed Studies Term Project Implementation/N-BaIoT/Provision_PT_838_Security_Camera/6.gafgyt.combo.csv')\n",
    "\n",
    "\n",
    "gafgyt_combo['label'] = \"gafgyt_combo\"\n",
    "\n",
    "gafgyt_combo.head(2)\n"
   ]
  },
  {
   "cell_type": "code",
   "execution_count": null,
   "metadata": {},
   "outputs": [],
   "source": [
    "gafgyt_combo.columns"
   ]
  },
  {
   "cell_type": "code",
   "execution_count": null,
   "metadata": {},
   "outputs": [],
   "source": [
    "benign=pd.read_csv(r'/Users/mac/OneDrive - University of New Brunswick/Directed Studies Term Project Implementation/N-BaIoT/Provision_PT_838_Security_Camera/6.benign.csv')\n",
    "g_c=pd.read_csv(r'/Users/mac/OneDrive - University of New Brunswick/Directed Studies Term Project Implementation/N-BaIoT/Provision_PT_838_Security_Camera/6.gafgyt.combo.csv')\n",
    "g_j=pd.read_csv(r'/Users/mac/OneDrive - University of New Brunswick/Directed Studies Term Project Implementation/N-BaIoT/Provision_PT_838_Security_Camera/6.gafgyt.junk.csv')\n",
    "g_s=pd.read_csv(r'/Users/mac/OneDrive - University of New Brunswick/Directed Studies Term Project Implementation/N-BaIoT/Provision_PT_838_Security_Camera/6.gafgyt.scan.csv')\n",
    "g_t=pd.read_csv(r'/Users/mac/OneDrive - University of New Brunswick/Directed Studies Term Project Implementation/N-BaIoT/Provision_PT_838_Security_Camera/6.gafgyt.tcp.csv')\n",
    "g_u=pd.read_csv(r'/Users/mac/OneDrive - University of New Brunswick/Directed Studies Term Project Implementation/N-BaIoT/Provision_PT_838_Security_Camera/6.gafgyt.udp.csv')\n",
    "m_a=pd.read_csv(r'/Users/mac/OneDrive - University of New Brunswick/Directed Studies Term Project Implementation/N-BaIoT/Provision_PT_838_Security_Camera/6.mirai.ack.csv')\n",
    "m_sc=pd.read_csv(r'/Users/mac/OneDrive - University of New Brunswick/Directed Studies Term Project Implementation/N-BaIoT/Provision_PT_838_Security_Camera/6.mirai.scan.csv')\n",
    "m_sy=pd.read_csv(r'/Users/mac/OneDrive - University of New Brunswick/Directed Studies Term Project Implementation/N-BaIoT/Provision_PT_838_Security_Camera/6.mirai.syn.csv')\n",
    "m_u=pd.read_csv(r'/Users/mac/OneDrive - University of New Brunswick/Directed Studies Term Project Implementation/N-BaIoT/Provision_PT_838_Security_Camera/6.mirai.udp.csv')\n",
    "m_u_p=pd.read_csv(r'/Users/mac/OneDrive - University of New Brunswick/Directed Studies Term Project Implementation/N-BaIoT/Provision_PT_838_Security_Camera/6.mirai.udpplain.csv')\n",
    "\n",
    "'''\n",
    "benign=benign.sample(frac=0.25,replace=False)\n",
    "g_c=g_c.sample(frac=0.25,replace=False)\n",
    "g_j=g_j.sample(frac=0.5,replace=False)\n",
    "g_s=g_s.sample(frac=0.5,replace=False)\n",
    "g_t=g_t.sample(frac=0.15,replace=False)\n",
    "g_u=g_u.sample(frac=0.15,replace=False)\n",
    "m_a=m_a.sample(frac=0.25,replace=False)\n",
    "m_sc=m_sc.sample(frac=0.15,replace=False)\n",
    "m_sy=m_sy.sample(frac=0.25,replace=False)\n",
    "m_u=m_u.sample(frac=0.1,replace=False)\n",
    "m_u_p=m_u_p.sample(frac=0.27,replace=False)\n",
    "'''\n",
    "\n",
    "benign['type']='benign'\n",
    "m_u['type']='mirai_udp'\n",
    "g_c['type']='gafgyt_combo'\n",
    "g_j['type']='gafgyt_junk'\n",
    "g_s['type']='gafgyt_scan'\n",
    "g_t['type']='gafgyt_tcp'\n",
    "g_u['type']='gafgyt_udp'\n",
    "m_a['type']='mirai_ack'\n",
    "m_sc['type']='mirai_scan'\n",
    "m_sy['type']='mirai_syn'\n",
    "m_u_p['type']='mirai_udpplain'\n",
    "\n",
    "data=pd.concat([benign,m_u,g_c,g_j,g_s,g_t,g_u,m_a,m_sc,m_sy,m_u_p],\n",
    "               axis=0, sort=False, ignore_index=True)\n",
    "\n",
    "\n",
    "data.head()"
   ]
  },
  {
   "cell_type": "code",
   "execution_count": null,
   "metadata": {},
   "outputs": [],
   "source": [
    "data.groupby('type')['type'].count()"
   ]
  },
  {
   "cell_type": "code",
   "execution_count": null,
   "metadata": {},
   "outputs": [],
   "source": [
    "data.shape"
   ]
  },
  {
   "cell_type": "code",
   "execution_count": null,
   "metadata": {},
   "outputs": [],
   "source": [
    "data.dropna(inplace=True)\n",
    "data = data.replace((np.inf, -np.inf, np.nan), 0).reset_index(drop=True)\n",
    "data.shape"
   ]
  },
  {
   "cell_type": "code",
   "execution_count": null,
   "metadata": {},
   "outputs": [],
   "source": [
    "data.groupby('type')['type'].count()"
   ]
  },
  {
   "cell_type": "code",
   "execution_count": null,
   "metadata": {},
   "outputs": [],
   "source": [
    "sample_df = data.groupby(\"type\").sample(n=6000, random_state=1)\n",
    "sample_df.groupby('type')['type'].count()"
   ]
  },
  {
   "cell_type": "code",
   "execution_count": null,
   "metadata": {},
   "outputs": [],
   "source": [
    "X = sample_df.drop(['type'], axis=1)\n",
    "y = sample_df['type']\n"
   ]
  },
  {
   "cell_type": "code",
   "execution_count": null,
   "metadata": {},
   "outputs": [],
   "source": [
    "min_max_scaler = preprocessing.MinMaxScaler()\n",
    "X_minmax = min_max_scaler.fit_transform(X)\n",
    "X_minmax"
   ]
  },
  {
   "cell_type": "code",
   "execution_count": null,
   "metadata": {},
   "outputs": [],
   "source": [
    "from sklearn.feature_selection import SelectKBest\n",
    "from sklearn.feature_selection import chi2\n",
    "\n",
    "X_new = SelectKBest(chi2, k=20).fit_transform(X_minmax, y)\n",
    "\n"
   ]
  },
  {
   "cell_type": "code",
   "execution_count": null,
   "metadata": {},
   "outputs": [],
   "source": [
    "me = SelectKBest(chi2, k=20).fit_transform(X, y)\n",
    "\n",
    "me.get_feature_names_out()\n"
   ]
  },
  {
   "cell_type": "code",
   "execution_count": null,
   "metadata": {},
   "outputs": [],
   "source": [
    "X_train, X_test, y_train, y_test = train_test_split(X_new, y, test_size=0.2)"
   ]
  },
  {
   "cell_type": "code",
   "execution_count": null,
   "metadata": {},
   "outputs": [],
   "source": [
    "def plot_confusion_matrix(cm, classes,\n",
    "                          normalize=False,\n",
    "                          title='Confusion matrix',\n",
    "                          cmap=plt.cm.Reds):\n",
    "    \"\"\"\n",
    "    This function prints and plots the confusion matrix.\n",
    "    Normalization can be applied by setting `normalize=True`.\n",
    "    Source: http://scikit-learn.org/stable/auto_examples/model_selection/plot_confusion_matrix.html\n",
    "    \"\"\"\n",
    "    if normalize:\n",
    "        cm = cm.astype('float') / cm.sum(axis=1)[:, np.newaxis]\n",
    "        print(\"Normalized confusion matrix\")\n",
    "    else:\n",
    "        print('Confusion matrix, without normalization')\n",
    "\n",
    "    print(cm)\n",
    "\n",
    "    # Plot the confusion matrix\n",
    "    plt.figure(figsize = (16, 14))\n",
    "    plt.imshow(cm, interpolation='nearest', cmap=cmap)\n",
    "    plt.title(title, size = 24)\n",
    "#     plt.colorbar(aspect=4)\n",
    "    tick_marks = np.arange(len(classes))\n",
    "    plt.xticks(tick_marks, classes, rotation=45, size = 14)\n",
    "    plt.yticks(tick_marks, classes, size = 14)\n",
    "\n",
    "    fmt = '.2f' if normalize else 'd'\n",
    "    thresh = cm.max() / 2.\n",
    "    \n",
    "    # Labeling the plot\n",
    "    for i, j in itertools.product(range(cm.shape[0]), range(cm.shape[1])):\n",
    "        plt.text(j, i, format(cm[i, j], fmt), fontsize = 20,\n",
    "                 horizontalalignment=\"center\",\n",
    "                 color=\"white\" if cm[i, j] > thresh else \"black\")\n",
    "        \n",
    "    plt.grid(None)\n",
    "    plt.tight_layout()\n",
    "    plt.ylabel('True label', size = 18)\n",
    "    plt.xlabel('Predicted label', size = 18)\n"
   ]
  },
  {
   "cell_type": "code",
   "execution_count": null,
   "metadata": {},
   "outputs": [],
   "source": [
    "rf_cic_lab=(RandomForestClassifier(n_estimators=100,oob_score=True))\n",
    "# t0 = time()\n",
    "rf_cic_lab = rf_cic_lab.fit(X_train,y_train)\n",
    "rf_predicted =rf_cic_lab.predict(X_test)\n",
    "accuracy = accuracy_score(y_test,rf_predicted)\n",
    "#print (rf.oob_score_)\n",
    "print (\"Accuracy: \", accuracy)\n",
    "#acc, score = rf.evaluate(x_test, y_test)\n",
    "# print(\"Time: \", time()-t0)   \n",
    "# creating a confusion matrix \n",
    "rf_cm = confusion_matrix(y_test, rf_predicted)\n",
    "print(\"Confusion Matrix: \", rf_cm)\n",
    "\n",
    "plot_confusion_matrix(rf_cm, classes = rf_cic_lab.classes_,\n",
    "                      title = 'Confusion Matrix of RF')\n",
    "\n",
    "# plt.savefig('svm.png')"
   ]
  },
  {
   "cell_type": "code",
   "execution_count": null,
   "metadata": {},
   "outputs": [],
   "source": [
    "gb=(GradientBoostingClassifier(n_estimators=100))\n",
    "# t0 = time()\n",
    "gb = gb.fit(X_train,y_train)\n",
    "gb_predicted =gb.predict(X_test)\n",
    "accuracy = accuracy_score(y_test,gb_predicted)\n",
    "#print (rf.oob_score_)\n",
    "print (\"Accuracy: \", accuracy)"
   ]
  },
  {
   "cell_type": "code",
   "execution_count": null,
   "metadata": {},
   "outputs": [],
   "source": [
    "predicted = gradclf.predict(X_test)\n",
    "\n",
    "gradclf.score(X_test, y_test)\n",
    "print(classification_report(y_test, gb_predicted))\n",
    "le.fit(gb_predicted)\n",
    "g_enc = le.transform(gb_predicted)\n",
    "gcm = ConfusionMatrix(actual_vector=y_test_enc, predict_vector=g_enc) # Create CM From Data\n",
    "# >>> cm.classes\n",
    "# [0, 1, 2]\n",
    "# >>> cm.table\n",
    "# {0: {0: 3, 1: 0, 2: 0}, 1: {0: 0, 1: 1, 2: 2}, 2: {0: 2, 1: 1, 2: 3}}\n",
    "# >>> \n",
    "print(gcm)"
   ]
  },
  {
   "cell_type": "code",
   "execution_count": null,
   "metadata": {},
   "outputs": [],
   "source": [
    "\n",
    "svmclf = svm.SVC()\n",
    "svmclf.fit(X_train, y_train)\n",
    "rf_predicted =svmclf.predict(X_test)\n",
    "accuracy = accuracy_score(y_test,rf_predicted)\n",
    "#print (rf.oob_score_)\n",
    "print (\"Accuracy: \", accuracy)\n",
    "\n",
    "rf_cm = confusion_matrix(y_test, rf_predicted)\n",
    "print(\"Confusion Matrix: \", rf_cm)\n",
    "\n",
    "plot_confusion_matrix(rf_cm, classes = svmclf.classes_,\n",
    "                      title = 'Confusion Matrix of Support Vector Machine')\n",
    "\n",
    "plt.savefig('nbaiot_svm.png')"
   ]
  },
  {
   "cell_type": "code",
   "execution_count": null,
   "metadata": {},
   "outputs": [],
   "source": [
    "\n",
    "from sklearn import preprocessing\n",
    "\n",
    "le = preprocessing.LabelEncoder()\n",
    "\n",
    "le.fit(y_test)\n",
    "y_test_enc = le.transform(y_test)\n"
   ]
  },
  {
   "cell_type": "code",
   "execution_count": null,
   "metadata": {},
   "outputs": [],
   "source": [
    "from pycm import *\n",
    "\n",
    "svmclf_predicted =svmclf.predict(X_test)\n",
    "\n",
    "le.fit(svmclf_predicted)\n",
    "svm_enc = le.transform(svmclf_predicted)\n",
    "svmcm = ConfusionMatrix(actual_vector=y_test_enc, predict_vector=svm_enc) # Create CM From Data\n",
    "\n",
    "print(svmcm)\n",
    "\n",
    "print(classification_report(y_test, svmclf_predicted))\n"
   ]
  },
  {
   "cell_type": "code",
   "execution_count": null,
   "metadata": {},
   "outputs": [],
   "source": [
    "print(classification_report(y_test, svmclf_predicted))\n"
   ]
  },
  {
   "cell_type": "code",
   "execution_count": null,
   "metadata": {},
   "outputs": [],
   "source": [
    "from sklearn.neighbors import KNeighborsClassifier\n",
    "neigh = KNeighborsClassifier(n_neighbors=10)\n",
    "neigh.fit(X_train, y_train)\n",
    "rf_predicted =neigh.predict(X_test)\n",
    "accuracy = accuracy_score(y_test,rf_predicted)\n",
    "print (\"Accuracy: \", accuracy)\n",
    "\n",
    "rf_cm = confusion_matrix(y_test, rf_predicted)\n",
    "print(\"Confusion Matrix: \", rf_cm)\n",
    "\n",
    "\n",
    "plot_confusion_matrix(rf_cm, classes = neigh.classes_,\n",
    "                      title = 'Confusion Matrix of K-Nearest Neighbors Classifier')\n",
    "\n",
    "plt.savefig('nbaiot_knn.png')"
   ]
  },
  {
   "cell_type": "code",
   "execution_count": null,
   "metadata": {
    "scrolled": false
   },
   "outputs": [],
   "source": [
    "from pycm import *\n",
    "\n",
    "knn_predicted =neigh.predict(X_test)\n",
    "\n",
    "le.fit(knn_predicted)\n",
    "knn_enc = le.transform(knn_predicted)\n",
    "knncm = ConfusionMatrix(actual_vector=y_test_enc, predict_vector=knn_enc) # Create CM From Data\n",
    "\n",
    "print(knncm)\n",
    "\n",
    "print(classification_report(y_test, knn_predicted))\n"
   ]
  },
  {
   "cell_type": "code",
   "execution_count": null,
   "metadata": {},
   "outputs": [],
   "source": [
    "from sklearn.naive_bayes import GaussianNB\n",
    "gnbclf = GaussianNB()\n",
    "gnbclf.fit(X_train, y_train)\n",
    "rf_predicted =gnbclf.predict(X_test)\n",
    "accuracy = accuracy_score(y_test,rf_predicted)\n",
    "\n",
    "print (\"Accuracy: \", accuracy)\n",
    "\n",
    "rf_cm = confusion_matrix(y_test, rf_predicted)\n",
    "print(\"Confusion Matrix: \", rf_cm)\n",
    "\n",
    "plot_confusion_matrix(rf_cm, classes = gnbclf.classes_,\n",
    "                      title = 'Confusion Matrix of Gaussian Naive Bayes')\n",
    "\n",
    "plt.savefig('nbaiot_gnb.png')"
   ]
  },
  {
   "cell_type": "code",
   "execution_count": null,
   "metadata": {
    "scrolled": false
   },
   "outputs": [],
   "source": [
    "from pycm import *\n",
    "\n",
    "gnb_predicted =gnbclf.predict(X_test)\n",
    "\n",
    "le.fit(gnb_predicted)\n",
    "gnb_enc = le.transform(gnb_predicted)\n",
    "gnbcm = ConfusionMatrix(actual_vector=y_test_enc, predict_vector=gnb_enc) # Create CM From Data\n",
    "\n",
    "print(gnbcm)\n",
    "\n",
    "print(classification_report(y_test, gnb_predicted))\n"
   ]
  },
  {
   "cell_type": "code",
   "execution_count": null,
   "metadata": {
    "scrolled": false
   },
   "outputs": [],
   "source": [
    "gradclf = GradientBoostingClassifier(n_estimators=100, learning_rate=1.0,max_depth=1, random_state=0).fit(X_train, y_train)\n",
    "\n",
    "predicted = gradclf.predict(X_test)\n",
    "\n",
    "gradclf.score(X_test, y_test)\n",
    "print(classification_report(y_test, predicted))\n",
    "le.fit(predicted)\n",
    "g_enc = le.transform(predicted)\n",
    "gcm = ConfusionMatrix(actual_vector=y_test_enc, predict_vector=g_enc) # Create CM From Data\n",
    "\n",
    "print(gcm)"
   ]
  },
  {
   "cell_type": "code",
   "execution_count": null,
   "metadata": {
    "scrolled": false
   },
   "outputs": [],
   "source": [
    "clf1 = svm.SVC()\n",
    "clf2 = KNeighborsClassifier(n_neighbors=10)\n",
    "clf3 = GaussianNB()\n",
    "estimators=[clf1,clf2,clf3]\n",
    "for clf in estimators:\n",
    "\n",
    "    bagging_clf = BaggingClassifier(clf)\n",
    "    bagging_scores = cross_val_score(bagging_clf, X_train, y_train, cv=3, n_jobs=-1)\n",
    "    bagging_clf.fit(X_train, y_train)\n",
    "    rf_predicted =bagging_clf.predict(X_test)\n",
    "    accuracy = accuracy_score(y_test,rf_predicted)\n",
    "    print (\"Accuracy: \", accuracy)\n",
    "\n",
    "    rf_cm = confusion_matrix(y_test, rf_predicted)\n",
    "    print(\"Confusion Matrix: \", rf_cm)\n",
    "\n",
    "\n",
    "\n",
    "    plot_confusion_matrix(rf_cm, classes = bagging_clf.classes_,\n",
    "                          title = 'Confusion Matrix of Bagging Classifier')\n",
    "\n",
    "    plt.savefig('nbaiot_bagging.png')\n",
    "\n",
    "    print(\"Accuracy: %0.6f (+/- %0.6f) [Bagging %s]\\n\" % (bagging_scores.mean(), bagging_scores.std(), clf.__class__.__name__))"
   ]
  },
  {
   "cell_type": "code",
   "execution_count": null,
   "metadata": {},
   "outputs": [],
   "source": [
    "from sklearn.model_selection import cross_val_score\n",
    "from sklearn.linear_model import LogisticRegression\n",
    "from sklearn.naive_bayes import GaussianNB\n",
    "from sklearn.ensemble import RandomForestClassifier\n",
    "from sklearn.ensemble import VotingClassifier\n",
    "\n",
    "clf1 = svm.SVC()\n",
    "clf2 = KNeighborsClassifier(n_neighbors=10)\n",
    "clf3 = GaussianNB()\n",
    "\n",
    "eclf = VotingClassifier(estimators=[('svm', clf1), ('knn', clf2), ('nb', clf3)],voting='hard')\n",
    "eclf.fit(X_train, y_train)\n",
    "rf_predicted =eclf.predict(X_test)\n",
    "accuracy = accuracy_score(y_test,rf_predicted)\n",
    "print (\"Accuracy: \", accuracy)\n",
    "\n",
    "rf_cm = confusion_matrix(y_test, rf_predicted)\n",
    "print(\"Confusion Matrix: \", rf_cm)\n",
    "plot_confusion_matrix(rf_cm, classes = rf_cic_lab.classes_,\n",
    "                      title = 'Confusion Matrix of Voting Ensemble')\n",
    "\n",
    "plt.savefig('nbaiot_voting.png')\n",
    "\n",
    "for clf, label in zip([clf1, clf2, clf3, eclf], ['SVM', 'KNN', 'Gaussian NB','Ensemble']):\n",
    "    scores = cross_val_score(clf, X_train, y_train, scoring='accuracy', cv=5)\n",
    "    print(\"Accuracy: %0.6f (+/- %0.6f) [%s]\" % (scores.mean(), scores.std(), label))\n"
   ]
  },
  {
   "cell_type": "code",
   "execution_count": null,
   "metadata": {},
   "outputs": [],
   "source": [
    "vote_predicted = eclf.predict(X_test)\n",
    "\n",
    "print(classification_report(y_test, vote_predicted))\n",
    "le.fit(vote_predicted)\n",
    "vote_enc = le.transform(vote_predicted)\n",
    "votecm = ConfusionMatrix(actual_vector=y_test_enc, predict_vector=vote_enc) # Create CM From Data\n",
    "\n",
    "print(votecm)"
   ]
  },
  {
   "cell_type": "code",
   "execution_count": 42,
   "metadata": {},
   "outputs": [
    {
     "name": "stdout",
     "output_type": "stream",
     "text": [
      "Accuracy:  0.8991666666666667\n",
      "Confusion Matrix:  [[1181    0    0    3    0    0    0    0    2    0    0]\n",
      " [   2 1144   78    4    0    0    0    0    0    0    0]\n",
      " [   3   34 1171    4    0    0    0    0    0    0    0]\n",
      " [   7    0    0 1219    0    0    0    0    0    0    0]\n",
      " [   1    0    0    0    0 1191    0    0    0    0    0]\n",
      " [   2    0    0    0    0 1215    0    0    0    0    0]\n",
      " [   0    0    0    0    0    0 1137    0    0    0    0]\n",
      " [   0    0    0    0    0    0    0 1185    0    0    0]\n",
      " [   0    0    0    0    0    0    0    0 1252    0    0]\n",
      " [   0    0    0    0    0    0    0    0    0 1186    0]\n",
      " [   0    0    0    0    0    0    0    0    0    0 1179]]\n",
      "Confusion matrix, without normalization\n",
      "[[1181    0    0    3    0    0    0    0    2    0    0]\n",
      " [   2 1144   78    4    0    0    0    0    0    0    0]\n",
      " [   3   34 1171    4    0    0    0    0    0    0    0]\n",
      " [   7    0    0 1219    0    0    0    0    0    0    0]\n",
      " [   1    0    0    0    0 1191    0    0    0    0    0]\n",
      " [   2    0    0    0    0 1215    0    0    0    0    0]\n",
      " [   0    0    0    0    0    0 1137    0    0    0    0]\n",
      " [   0    0    0    0    0    0    0 1185    0    0    0]\n",
      " [   0    0    0    0    0    0    0    0 1252    0    0]\n",
      " [   0    0    0    0    0    0    0    0    0 1186    0]\n",
      " [   0    0    0    0    0    0    0    0    0    0 1179]]\n",
      "Accuracy: 0.750701 (+/- 0.003001) [SVM]\n",
      "Accuracy: 0.897576 (+/- 0.000877) [KNN]\n",
      "Accuracy: 0.740341 (+/- 0.037218) [Gaussian NB]\n",
      "Accuracy: 0.898561 (+/- 0.000296) [Ensemble]\n"
     ]
    },
    {
     "data": {
      "image/png": "[encoded data removed]",
      "text/plain": [
       "<Figure size 1152x1008 with 1 Axes>"
      ]
     },
     "metadata": {},
     "output_type": "display_data"
    }
   ],
   "source": [
    "from sklearn.ensemble import StackingClassifier\n",
    "\n",
    "estimators = [\n",
    "     ('svm', clf1),\n",
    "     ('knn', clf2),\n",
    "     ('nb', clf3)]\n",
    "stackclf = StackingClassifier(estimators=estimators, final_estimator=LogisticRegression())\n",
    "\n",
    "stackclf.fit(X_train, y_train)\n",
    "rf_predicted =stackclf.predict(X_test)\n",
    "accuracy = accuracy_score(y_test,rf_predicted)\n",
    "print (\"Accuracy: \", accuracy)\n",
    "\n",
    "rf_cm = confusion_matrix(y_test, rf_predicted)\n",
    "print(\"Confusion Matrix: \", rf_cm)\n",
    "plot_confusion_matrix(rf_cm, classes = rf_cic_lab.classes_,\n",
    "                      title = 'Confusion Matrix of Stacking Ensemble')\n",
    "\n",
    "plt.savefig('nbaiot_stacking.png')\n",
    "\n",
    "for clf, label in zip([clf1, clf2, clf3, stackclf], ['SVM', 'KNN',  'Gaussian NB','Ensemble']):\n",
    "    scores = cross_val_score(clf, X_train, y_train, scoring='accuracy', cv=5)\n",
    "    print(\"Accuracy: %0.6f (+/- %0.6f) [%s]\" % (scores.mean(), scores.std(), label))"
   ]
  },
  {
   "cell_type": "code",
   "execution_count": 52,
   "metadata": {},
   "outputs": [
    {
     "name": "stdout",
     "output_type": "stream",
     "text": [
      "                precision    recall  f1-score   support\n",
      "\n",
      "        benign       0.99      1.00      0.99      1186\n",
      "  gafgyt_combo       0.97      0.93      0.95      1228\n",
      "   gafgyt_junk       0.94      0.97      0.95      1212\n",
      "   gafgyt_scan       0.99      0.99      0.99      1226\n",
      "    gafgyt_tcp       0.00      0.00      0.00      1192\n",
      "    gafgyt_udp       0.50      1.00      0.67      1217\n",
      "     mirai_ack       1.00      1.00      1.00      1137\n",
      "    mirai_scan       1.00      1.00      1.00      1185\n",
      "     mirai_syn       1.00      1.00      1.00      1252\n",
      "     mirai_udp       1.00      1.00      1.00      1186\n",
      "mirai_udpplain       1.00      1.00      1.00      1179\n",
      "\n",
      "      accuracy                           0.90     13200\n",
      "     macro avg       0.85      0.90      0.87     13200\n",
      "  weighted avg       0.85      0.90      0.87     13200\n",
      "\n",
      "Predict    0          1          2          3          4          5          6          7          8          9          10         \n",
      "Actual\n",
      "0          1081       0          0          103        0          0          0          2          0          0          0          \n",
      "\n",
      "1          3          1049       173        3          0          0          0          0          0          0          0          \n",
      "\n",
      "2          5          253        952        2          0          0          0          0          0          0          0          \n",
      "\n",
      "3          4          0          0          1222       0          0          0          0          0          0          0          \n",
      "\n",
      "4          1          0          0          0          0          0          1191       0          0          0          0          \n",
      "\n",
      "5          2          0          0          0          0          0          1215       0          0          0          0          \n",
      "\n",
      "6          0          0          0          0          0          1137       0          0          0          0          0          \n",
      "\n",
      "7          0          0          0          0          0          0          1185       0          0          0          0          \n",
      "\n",
      "8          1          0          0          0          0          0          0          1251       0          0          0          \n",
      "\n",
      "9          1          0          0          0          0          0          0          0          1185       0          0          \n",
      "\n",
      "10         0          0          0          0          0          0          0          0          0          1179       0          \n",
      "\n",
      "\n",
      "\n",
      "\n",
      "\n",
      "Overall Statistics : \n",
      "\n",
      "95% CI                                                            (0.31806,0.33406)\n",
      "ACC Macro                                                         0.87747\n",
      "ARI                                                               0.69636\n",
      "AUNP                                                              0.62991\n",
      "AUNU                                                              0.62762\n",
      "Bangdiwala B                                                      0.29682\n",
      "Bennett S                                                         0.25867\n",
      "CBA                                                               0.31104\n",
      "CSI                                                               None\n",
      "Chi-Squared                                                       None\n",
      "Chi-Squared DF                                                    100\n",
      "Conditional Entropy                                               0.17898\n",
      "Cramer V                                                          None\n",
      "Cross Entropy                                                     2.70275\n",
      "F1 Macro                                                          0.32243\n",
      "F1 Micro                                                          0.32606\n",
      "FNR Macro                                                         0.67746\n",
      "FNR Micro                                                         0.67394\n",
      "FPR Macro                                                         0.06729\n",
      "FPR Micro                                                         0.06739\n",
      "Gwet AC1                                                          0.25965\n",
      "Hamming Loss                                                      0.67394\n",
      "Joint Entropy                                                     3.63797\n",
      "KL Divergence                                                     None\n",
      "Kappa                                                             0.25919\n",
      "Kappa 95% CI                                                      (0.2504,0.26798)\n",
      "Kappa No Prevalence                                               -0.34788\n",
      "Kappa Standard Error                                              0.00448\n",
      "Kappa Unbiased                                                    0.24866\n",
      "Krippendorff Alpha                                                0.24869\n",
      "Lambda A                                                          0.75485\n",
      "Lambda B                                                          0.94245\n",
      "Mutual Information                                                2.84697\n",
      "NIR                                                               0.09485\n",
      "Overall ACC                                                       0.32606\n",
      "Overall CEN                                                       0.2053\n",
      "Overall J                                                         (3.2103,0.29185)\n",
      "Overall MCC                                                       0.26676\n",
      "Overall MCEN                                                      0.23609\n",
      "Overall RACC                                                      0.09027\n",
      "Overall RACCU                                                     0.10301\n",
      "P-Value                                                           None\n",
      "PPV Macro                                                         None\n",
      "PPV Micro                                                         0.32606\n",
      "Pearson C                                                         None\n",
      "Phi-Squared                                                       None\n",
      "RCI                                                               0.82307\n",
      "RR                                                                1200.0\n",
      "Reference Entropy                                                 3.45899\n",
      "Response Entropy                                                  3.02595\n",
      "SOA1(Landis & Koch)                                               Fair\n",
      "SOA2(Fleiss)                                                      Poor\n",
      "SOA3(Altman)                                                      Fair\n",
      "SOA4(Cicchetti)                                                   Poor\n",
      "SOA5(Cramer)                                                      None\n",
      "SOA6(Matthews)                                                    Negligible\n",
      "Scott PI                                                          0.24866\n",
      "Standard Error                                                    0.00408\n",
      "TNR Macro                                                         0.93271\n",
      "TNR Micro                                                         0.93261\n",
      "TPR Macro                                                         0.32254\n",
      "TPR Micro                                                         0.32606\n",
      "Zero-one Loss                                                     8896\n",
      "\n",
      "Class Statistics :\n",
      "\n",
      "Classes                                                           0             1             2             3             4             5             6             7             8             9             10            \n",
      "ACC(Accuracy)                                                     0.99076       0.96727       0.9672        0.99152       0.9097        0.82167       0.64182       0.8153        0.81538       0.82083       0.91068       \n",
      "AGF(Adjusted F-score)                                             0.95839       0.91122       0.88368       0.98897       0.0           0.0           0.0           0.0           0.0           0.0           0.0           \n",
      "AGM(Adjusted geometric mean)                                      0.97526       0.94508       0.93017       0.99249       0             0             0             0             0             0             0             \n",
      "AM(Difference between automatic and manual classification)        -88           74            -87           104           -1192         -80           2454          68            -67           -7            -1179         \n",
      "AUC(Area under the ROC curve)                                     0.95503       0.91655       0.88552       0.99386       0.5           0.45256       0.35116       0.44786       0.45041       0.45093       0.5           \n",
      "AUCI(AUC value interpretation)                                    Excellent     Excellent     Very Good     Excellent     Poor          Poor          Poor          Poor          Poor          Poor          Poor          \n",
      "AUPR(Area under the PR curve)                                     0.94799       0.82996       0.81585       0.95777       None          0.0           0.0           0.0           0.0           0.0           None          \n",
      "BCD(Bray-Curtis dissimilarity)                                    0.00333       0.0028        0.0033        0.00394       0.04515       0.00303       0.09295       0.00258       0.00254       0.00027       0.04466       \n",
      "BM(Informedness or bookmaker informedness)                        0.91005       0.8331        0.77105       0.98772       0.0           -0.09488      -0.29769      -0.10429      -0.09918      -0.09814      0.0           \n",
      "CEN(Confusion entropy)                                            0.06525       0.14343       0.15108       0.05109       0.00226       0.23329       0.46266       0.23329       0.23237       0.23252       0.0           \n",
      "DOR(Diagnostic odds ratio)                                        7265.41008    271.45165     250.06403     33565.39815   None          0.0           0.0           0.0           0.0           0.0           None          \n",
      "DP(Discriminant power)                                            2.12882       1.34176       1.32211       2.49525       None          None          None          None          None          None          None          \n",
      "DPI(Discriminant power interpretation)                            Fair          Limited       Limited       Fair          None          None          None          None          None          None          None          \n",
      "ERR(Error rate)                                                   0.00924       0.03273       0.0328        0.00848       0.0903        0.17833       0.35818       0.1847        0.18462       0.17917       0.08932       \n",
      "F0.5(F0.5 score)                                                  0.96899       0.81495       0.83333       0.93339       0.0           0.0           0.0           0.0           0.0           0.0           0.0           \n",
      "F1(F1 score - harmonic mean of precision and sensitivity)         0.94658       0.82925       0.81472       0.95618       0.0           0.0           0.0           0.0           0.0           0.0           0.0           \n",
      "F2(F2 score)                                                      0.9252        0.84406       0.79692       0.98011       0.0           0.0           0.0           0.0           0.0           0.0           0.0           \n",
      "FDR(False discovery rate)                                         0.01548       0.19432       0.15378       0.0812        None          1.0           1.0           1.0           1.0           1.0           None          \n",
      "FN(False negative/miss/type 2 error)                              105           179           260           4             1192          1217          1137          1185          1252          1186          1179          \n",
      "FNR(Miss rate or false negative rate)                             0.08853       0.14577       0.21452       0.00326       1.0           1.0           1.0           1.0           1.0           1.0           1.0           \n",
      "FOR(False omission rate)                                          0.00868       0.01504       0.02153       0.00034       0.0903        0.10089       0.11833       0.09919       0.1042        0.09866       0.08932       \n",
      "FP(False positive/type 1 error/false alarm)                       17            253           173           108           0             1137          3591          1253          1185          1179          0             \n",
      "FPR(Fall-out or false positive rate)                              0.00142       0.02113       0.01443       0.00902       0.0           0.09488       0.29769       0.10429       0.09918       0.09814       0.0           \n",
      "G(G-measure geometric mean of precision and sensitivity)          0.94729       0.8296        0.81528       0.95697       None          0.0           0.0           0.0           0.0           0.0           None          \n",
      "GI(Gini index)                                                    0.91005       0.8331        0.77105       0.98772       0.0           -0.09488      -0.29769      -0.10429      -0.09918      -0.09814      0.0           \n",
      "GM(G-mean geometric mean of specificity and sensitivity)          0.95403       0.91443       0.87985       0.99385       0.0           0.0           0.0           0.0           0.0           0.0           0.0           \n",
      "IBA(Index of balanced accuracy)                                   0.83088       0.73197       0.61924       0.99343       0.0           0.0           0.0           0.0           0.0           0.0           0.0           \n",
      "ICSI(Individual classification success index)                     0.89598       0.65992       0.6317        0.91553       None          -1.0          -1.0          -1.0          -1.0          -1.0          None          \n",
      "IS(Information score)                                             3.45385       3.11444       3.20418       3.30633       None          None          None          None          None          None          None          \n",
      "J(Jaccard index)                                                  0.89859       0.70831       0.68736       0.91604       0.0           0.0           0.0           0.0           0.0           0.0           0.0           \n",
      "LS(Lift score)                                                    10.95753      8.66044       9.21628       9.89243       None          0.0           0.0           0.0           0.0           0.0           None          \n",
      "MCC(Matthews correlation coefficient)                             0.94237       0.81159       0.79742       0.95246       None          -0.09784      -0.18768      -0.10171      -0.10166      -0.0984       None          \n",
      "MCCI(Matthews correlation coefficient interpretation)             Very Strong   Strong        Strong        Very Strong   None          Negligible    Negligible    Negligible    Negligible    Negligible    None          \n",
      "MCEN(Modified confusion entropy)                                  0.10218       0.19288       0.20033       0.07966       0.00226       0.23329       0.46266       0.23329       0.23237       0.23252       0.0           \n",
      "MK(Markedness)                                                    0.97584       0.79064       0.82469       0.91846       None          -0.10089      -0.11833      -0.09919      -0.1042       -0.09866      None          \n",
      "N(Condition negative)                                             12014         11972         11988         11974         12008         11983         12063         12015         11948         12014         12021         \n",
      "NLR(Negative likelihood ratio)                                    0.08866       0.14891       0.21766       0.00329       1.0           1.10483       1.42387       1.11643       1.1101        1.10881       1.0           \n",
      "NLRI(Negative likelihood ratio interpretation)                    Good          Fair          Poor          Good          Negligible    Negligible    Negligible    Negligible    Negligible    Negligible    Negligible    \n",
      "NPV(Negative predictive value)                                    0.99132       0.98496       0.97847       0.99966       0.9097        0.89911       0.88167       0.90081       0.8958        0.90134       0.91068       \n",
      "OC(Overlap coefficient)                                           0.98452       0.85423       0.84622       0.99674       None          0.0           0.0           0.0           0.0           0.0           None          \n",
      "OOC(Otsuka-Ochiai coefficient)                                    0.94729       0.8296        0.81528       0.95697       None          0.0           0.0           0.0           0.0           0.0           None          \n",
      "OP(Optimized precision)                                           0.94515       0.89928       0.85422       0.98862       -0.0903       -0.17833      -0.35818      -0.1847       -0.18462      -0.17917      -0.08932      \n",
      "P(Condition positive or support)                                  1186          1228          1212          1226          1192          1217          1137          1185          1252          1186          1179          \n",
      "PLR(Positive likelihood ratio)                                    644.13917     40.42251      54.42958      110.50864     None          0.0           0.0           0.0           0.0           0.0           None          \n",
      "PLRI(Positive likelihood ratio interpretation)                    Good          Good          Good          Good          None          Negligible    Negligible    Negligible    Negligible    Negligible    None          \n",
      "POP(Population)                                                   13200         13200         13200         13200         13200         13200         13200         13200         13200         13200         13200         \n",
      "PPV(Precision or positive predictive value)                       0.98452       0.80568       0.84622       0.9188        None          0.0           0.0           0.0           0.0           0.0           None          \n",
      "PRE(Prevalence)                                                   0.08985       0.09303       0.09182       0.09288       0.0903        0.0922        0.08614       0.08977       0.09485       0.08985       0.08932       \n",
      "Q(Yule Q - coefficient of colligation)                            0.99972       0.99266       0.99203       0.99994       None          -1.0          -1.0          -1.0          -1.0          -1.0          None          \n",
      "QI(Yule Q interpretation)                                         Strong        Strong        Strong        Strong        None          Negligible    Negligible    Negligible    Negligible    Negligible    None          \n",
      "RACC(Random accuracy)                                             0.00747       0.00918       0.00783       0.00936       0.0           0.00794       0.02343       0.00852       0.00851       0.00803       0.0           \n",
      "RACCU(Random accuracy unbiased)                                   0.00748       0.00918       0.00784       0.00937       0.00204       0.00795       0.03207       0.00853       0.00852       0.00803       0.00199       \n",
      "TN(True negative/correct rejection)                               11997         11719         11815         11866         12008         10846         8472          10762         10763         10835         12021         \n",
      "TNR(Specificity or true negative rate)                            0.99858       0.97887       0.98557       0.99098       1.0           0.90512       0.70231       0.89571       0.90082       0.90186       1.0           \n",
      "TON(Test outcome negative)                                        12102         11898         12075         11870         13200         12063         9609          11947         12015         12021         13200         \n",
      "TOP(Test outcome positive)                                        1098          1302          1125          1330          0             1137          3591          1253          1185          1179          0             \n",
      "TP(True positive/hit)                                             1081          1049          952           1222          0             0             0             0             0             0             0             \n",
      "TPR(Sensitivity, recall, hit rate, or true positive rate)         0.91147       0.85423       0.78548       0.99674       0.0           0.0           0.0           0.0           0.0           0.0           0.0           \n",
      "Y(Youden index)                                                   0.91005       0.8331        0.77105       0.98772       0.0           -0.09488      -0.29769      -0.10429      -0.09918      -0.09814      0.0           \n",
      "dInd(Distance index)                                              0.08854       0.14729       0.21501       0.00959       1.0           1.00449       1.04337       1.00542       1.00491       1.0048        1.0           \n",
      "sInd(Similarity index)                                            0.93739       0.89585       0.84797       0.99322       0.29289       0.28972       0.26223       0.28906       0.28942       0.2895        0.29289       \n",
      "\n"
     ]
    }
   ],
   "source": [
    "stack_predicted = stackclf.predict(X_test)\n",
    "\n",
    "# eclf.score(X_test, y_test)\n",
    "print(classification_report(y_test, stack_predicted))\n",
    "le.fit(stack_predicted)\n",
    "stack_enc = le.transform(vote_predicted)\n",
    "stackcm = ConfusionMatrix(actual_vector=y_test_enc, predict_vector=stack_enc) # Create CM From Data\n",
    "\n",
    "print(stackcm)"
   ]
  },
  {
   "cell_type": "code",
   "execution_count": 8,
   "metadata": {},
   "outputs": [
    {
     "data": {
      "application/vnd.plotly.v1+json": {
       "config": {
        "plotlyServerURL": "https://plotly.com"
       },
       "data": [
        {
         "alignmentgroup": "True",
         "hovertemplate": "Technique=%{x}<br>Accuracy=%{y}<extra></extra>",
         "legendgroup": "",
         "marker": {
          "color": "#636efa",
          "pattern": {
           "shape": ""
          }
         },
         "name": "",
         "offsetgroup": "",
         "orientation": "v",
         "showlegend": false,
         "textposition": "auto",
         "texttemplate": "%{y}",
         "type": "bar",
         "x": [
          "KNN",
          "SVC",
          "GNB",
          "Gradient Boosting",
          "Stacking",
          "Voting"
         ],
         "xaxis": "x",
         "y": [
          89.83,
          72.47,
          75.05,
          90.69,
          90.87,
          78.68
         ],
         "yaxis": "y"
        }
       ],
       "layout": {
        "barmode": "relative",
        "font": {
         "size": 18
        },
        "legend": {
         "tracegroupgap": 0
        },
        "margin": {
         "t": 60
        },
        "template": {
         "data": {
          "bar": [
           {
            "error_x": {
             "color": "#2a3f5f"
            },
            "error_y": {
             "color": "#2a3f5f"
            },
            "marker": {
             "line": {
              "color": "#E5ECF6",
              "width": 0.5
             },
             "pattern": {
              "fillmode": "overlay",
              "size": 10,
              "solidity": 0.2
             }
            },
            "type": "bar"
           }
          ],
          "barpolar": [
           {
            "marker": {
             "line": {
              "color": "#E5ECF6",
              "width": 0.5
             },
             "pattern": {
              "fillmode": "overlay",
              "size": 10,
              "solidity": 0.2
             }
            },
            "type": "barpolar"
           }
          ],
          "carpet": [
           {
            "aaxis": {
             "endlinecolor": "#2a3f5f",
             "gridcolor": "white",
             "linecolor": "white",
             "minorgridcolor": "white",
             "startlinecolor": "#2a3f5f"
            },
            "baxis": {
             "endlinecolor": "#2a3f5f",
             "gridcolor": "white",
             "linecolor": "white",
             "minorgridcolor": "white",
             "startlinecolor": "#2a3f5f"
            },
            "type": "carpet"
           }
          ],
          "choropleth": [
           {
            "colorbar": {
             "outlinewidth": 0,
             "ticks": ""
            },
            "type": "choropleth"
           }
          ],
          "contour": [
           {
            "colorbar": {
             "outlinewidth": 0,
             "ticks": ""
            },
            "colorscale": [
             [
              0,
              "#0d0887"
             ],
             [
              0.1111111111111111,
              "#46039f"
             ],
             [
              0.2222222222222222,
              "#7201a8"
             ],
             [
              0.3333333333333333,
              "#9c179e"
             ],
             [
              0.4444444444444444,
              "#bd3786"
             ],
             [
              0.5555555555555556,
              "#d8576b"
             ],
             [
              0.6666666666666666,
              "#ed7953"
             ],
             [
              0.7777777777777778,
              "#fb9f3a"
             ],
             [
              0.8888888888888888,
              "#fdca26"
             ],
             [
              1,
              "#f0f921"
             ]
            ],
            "type": "contour"
           }
          ],
          "contourcarpet": [
           {
            "colorbar": {
             "outlinewidth": 0,
             "ticks": ""
            },
            "type": "contourcarpet"
           }
          ],
          "heatmap": [
           {
            "colorbar": {
             "outlinewidth": 0,
             "ticks": ""
            },
            "colorscale": [
             [
              0,
              "#0d0887"
             ],
             [
              0.1111111111111111,
              "#46039f"
             ],
             [
              0.2222222222222222,
              "#7201a8"
             ],
             [
              0.3333333333333333,
              "#9c179e"
             ],
             [
              0.4444444444444444,
              "#bd3786"
             ],
             [
              0.5555555555555556,
              "#d8576b"
             ],
             [
              0.6666666666666666,
              "#ed7953"
             ],
             [
              0.7777777777777778,
              "#fb9f3a"
             ],
             [
              0.8888888888888888,
              "#fdca26"
             ],
             [
              1,
              "#f0f921"
             ]
            ],
            "type": "heatmap"
           }
          ],
          "heatmapgl": [
           {
            "colorbar": {
             "outlinewidth": 0,
             "ticks": ""
            },
            "colorscale": [
             [
              0,
              "#0d0887"
             ],
             [
              0.1111111111111111,
              "#46039f"
             ],
             [
              0.2222222222222222,
              "#7201a8"
             ],
             [
              0.3333333333333333,
              "#9c179e"
             ],
             [
              0.4444444444444444,
              "#bd3786"
             ],
             [
              0.5555555555555556,
              "#d8576b"
             ],
             [
              0.6666666666666666,
              "#ed7953"
             ],
             [
              0.7777777777777778,
              "#fb9f3a"
             ],
             [
              0.8888888888888888,
              "#fdca26"
             ],
             [
              1,
              "#f0f921"
             ]
            ],
            "type": "heatmapgl"
           }
          ],
          "histogram": [
           {
            "marker": {
             "pattern": {
              "fillmode": "overlay",
              "size": 10,
              "solidity": 0.2
             }
            },
            "type": "histogram"
           }
          ],
          "histogram2d": [
           {
            "colorbar": {
             "outlinewidth": 0,
             "ticks": ""
            },
            "colorscale": [
             [
              0,
              "#0d0887"
             ],
             [
              0.1111111111111111,
              "#46039f"
             ],
             [
              0.2222222222222222,
              "#7201a8"
             ],
             [
              0.3333333333333333,
              "#9c179e"
             ],
             [
              0.4444444444444444,
              "#bd3786"
             ],
             [
              0.5555555555555556,
              "#d8576b"
             ],
             [
              0.6666666666666666,
              "#ed7953"
             ],
             [
              0.7777777777777778,
              "#fb9f3a"
             ],
             [
              0.8888888888888888,
              "#fdca26"
             ],
             [
              1,
              "#f0f921"
             ]
            ],
            "type": "histogram2d"
           }
          ],
          "histogram2dcontour": [
           {
            "colorbar": {
             "outlinewidth": 0,
             "ticks": ""
            },
            "colorscale": [
             [
              0,
              "#0d0887"
             ],
             [
              0.1111111111111111,
              "#46039f"
             ],
             [
              0.2222222222222222,
              "#7201a8"
             ],
             [
              0.3333333333333333,
              "#9c179e"
             ],
             [
              0.4444444444444444,
              "#bd3786"
             ],
             [
              0.5555555555555556,
              "#d8576b"
             ],
             [
              0.6666666666666666,
              "#ed7953"
             ],
             [
              0.7777777777777778,
              "#fb9f3a"
             ],
             [
              0.8888888888888888,
              "#fdca26"
             ],
             [
              1,
              "#f0f921"
             ]
            ],
            "type": "histogram2dcontour"
           }
          ],
          "mesh3d": [
           {
            "colorbar": {
             "outlinewidth": 0,
             "ticks": ""
            },
            "type": "mesh3d"
           }
          ],
          "parcoords": [
           {
            "line": {
             "colorbar": {
              "outlinewidth": 0,
              "ticks": ""
             }
            },
            "type": "parcoords"
           }
          ],
          "pie": [
           {
            "automargin": true,
            "type": "pie"
           }
          ],
          "scatter": [
           {
            "marker": {
             "colorbar": {
              "outlinewidth": 0,
              "ticks": ""
             }
            },
            "type": "scatter"
           }
          ],
          "scatter3d": [
           {
            "line": {
             "colorbar": {
              "outlinewidth": 0,
              "ticks": ""
             }
            },
            "marker": {
             "colorbar": {
              "outlinewidth": 0,
              "ticks": ""
             }
            },
            "type": "scatter3d"
           }
          ],
          "scattercarpet": [
           {
            "marker": {
             "colorbar": {
              "outlinewidth": 0,
              "ticks": ""
             }
            },
            "type": "scattercarpet"
           }
          ],
          "scattergeo": [
           {
            "marker": {
             "colorbar": {
              "outlinewidth": 0,
              "ticks": ""
             }
            },
            "type": "scattergeo"
           }
          ],
          "scattergl": [
           {
            "marker": {
             "colorbar": {
              "outlinewidth": 0,
              "ticks": ""
             }
            },
            "type": "scattergl"
           }
          ],
          "scattermapbox": [
           {
            "marker": {
             "colorbar": {
              "outlinewidth": 0,
              "ticks": ""
             }
            },
            "type": "scattermapbox"
           }
          ],
          "scatterpolar": [
           {
            "marker": {
             "colorbar": {
              "outlinewidth": 0,
              "ticks": ""
             }
            },
            "type": "scatterpolar"
           }
          ],
          "scatterpolargl": [
           {
            "marker": {
             "colorbar": {
              "outlinewidth": 0,
              "ticks": ""
             }
            },
            "type": "scatterpolargl"
           }
          ],
          "scatterternary": [
           {
            "marker": {
             "colorbar": {
              "outlinewidth": 0,
              "ticks": ""
             }
            },
            "type": "scatterternary"
           }
          ],
          "surface": [
           {
            "colorbar": {
             "outlinewidth": 0,
             "ticks": ""
            },
            "colorscale": [
             [
              0,
              "#0d0887"
             ],
             [
              0.1111111111111111,
              "#46039f"
             ],
             [
              0.2222222222222222,
              "#7201a8"
             ],
             [
              0.3333333333333333,
              "#9c179e"
             ],
             [
              0.4444444444444444,
              "#bd3786"
             ],
             [
              0.5555555555555556,
              "#d8576b"
             ],
             [
              0.6666666666666666,
              "#ed7953"
             ],
             [
              0.7777777777777778,
              "#fb9f3a"
             ],
             [
              0.8888888888888888,
              "#fdca26"
             ],
             [
              1,
              "#f0f921"
             ]
            ],
            "type": "surface"
           }
          ],
          "table": [
           {
            "cells": {
             "fill": {
              "color": "#EBF0F8"
             },
             "line": {
              "color": "white"
             }
            },
            "header": {
             "fill": {
              "color": "#C8D4E3"
             },
             "line": {
              "color": "white"
             }
            },
            "type": "table"
           }
          ]
         },
         "layout": {
          "annotationdefaults": {
           "arrowcolor": "#2a3f5f",
           "arrowhead": 0,
           "arrowwidth": 1
          },
          "autotypenumbers": "strict",
          "coloraxis": {
           "colorbar": {
            "outlinewidth": 0,
            "ticks": ""
           }
          },
          "colorscale": {
           "diverging": [
            [
             0,
             "#8e0152"
            ],
            [
             0.1,
             "#c51b7d"
            ],
            [
             0.2,
             "#de77ae"
            ],
            [
             0.3,
             "#f1b6da"
            ],
            [
             0.4,
             "#fde0ef"
            ],
            [
             0.5,
             "#f7f7f7"
            ],
            [
             0.6,
             "#e6f5d0"
            ],
            [
             0.7,
             "#b8e186"
            ],
            [
             0.8,
             "#7fbc41"
            ],
            [
             0.9,
             "#4d9221"
            ],
            [
             1,
             "#276419"
            ]
           ],
           "sequential": [
            [
             0,
             "#0d0887"
            ],
            [
             0.1111111111111111,
             "#46039f"
            ],
            [
             0.2222222222222222,
             "#7201a8"
            ],
            [
             0.3333333333333333,
             "#9c179e"
            ],
            [
             0.4444444444444444,
             "#bd3786"
            ],
            [
             0.5555555555555556,
             "#d8576b"
            ],
            [
             0.6666666666666666,
             "#ed7953"
            ],
            [
             0.7777777777777778,
             "#fb9f3a"
            ],
            [
             0.8888888888888888,
             "#fdca26"
            ],
            [
             1,
             "#f0f921"
            ]
           ],
           "sequentialminus": [
            [
             0,
             "#0d0887"
            ],
            [
             0.1111111111111111,
             "#46039f"
            ],
            [
             0.2222222222222222,
             "#7201a8"
            ],
            [
             0.3333333333333333,
             "#9c179e"
            ],
            [
             0.4444444444444444,
             "#bd3786"
            ],
            [
             0.5555555555555556,
             "#d8576b"
            ],
            [
             0.6666666666666666,
             "#ed7953"
            ],
            [
             0.7777777777777778,
             "#fb9f3a"
            ],
            [
             0.8888888888888888,
             "#fdca26"
            ],
            [
             1,
             "#f0f921"
            ]
           ]
          },
          "colorway": [
           "#636efa",
           "#EF553B",
           "#00cc96",
           "#ab63fa",
           "#FFA15A",
           "#19d3f3",
           "#FF6692",
           "#B6E880",
           "#FF97FF",
           "#FECB52"
          ],
          "font": {
           "color": "#2a3f5f"
          },
          "geo": {
           "bgcolor": "white",
           "lakecolor": "white",
           "landcolor": "#E5ECF6",
           "showlakes": true,
           "showland": true,
           "subunitcolor": "white"
          },
          "hoverlabel": {
           "align": "left"
          },
          "hovermode": "closest",
          "mapbox": {
           "style": "light"
          },
          "paper_bgcolor": "white",
          "plot_bgcolor": "#E5ECF6",
          "polar": {
           "angularaxis": {
            "gridcolor": "white",
            "linecolor": "white",
            "ticks": ""
           },
           "bgcolor": "#E5ECF6",
           "radialaxis": {
            "gridcolor": "white",
            "linecolor": "white",
            "ticks": ""
           }
          },
          "scene": {
           "xaxis": {
            "backgroundcolor": "#E5ECF6",
            "gridcolor": "white",
            "gridwidth": 2,
            "linecolor": "white",
            "showbackground": true,
            "ticks": "",
            "zerolinecolor": "white"
           },
           "yaxis": {
            "backgroundcolor": "#E5ECF6",
            "gridcolor": "white",
            "gridwidth": 2,
            "linecolor": "white",
            "showbackground": true,
            "ticks": "",
            "zerolinecolor": "white"
           },
           "zaxis": {
            "backgroundcolor": "#E5ECF6",
            "gridcolor": "white",
            "gridwidth": 2,
            "linecolor": "white",
            "showbackground": true,
            "ticks": "",
            "zerolinecolor": "white"
           }
          },
          "shapedefaults": {
           "line": {
            "color": "#2a3f5f"
           }
          },
          "ternary": {
           "aaxis": {
            "gridcolor": "white",
            "linecolor": "white",
            "ticks": ""
           },
           "baxis": {
            "gridcolor": "white",
            "linecolor": "white",
            "ticks": ""
           },
           "bgcolor": "#E5ECF6",
           "caxis": {
            "gridcolor": "white",
            "linecolor": "white",
            "ticks": ""
           }
          },
          "title": {
           "x": 0.05
          },
          "xaxis": {
           "automargin": true,
           "gridcolor": "white",
           "linecolor": "white",
           "ticks": "",
           "title": {
            "standoff": 15
           },
           "zerolinecolor": "white",
           "zerolinewidth": 2
          },
          "yaxis": {
           "automargin": true,
           "gridcolor": "white",
           "linecolor": "white",
           "ticks": "",
           "title": {
            "standoff": 15
           },
           "zerolinecolor": "white",
           "zerolinewidth": 2
          }
         }
        },
        "xaxis": {
         "anchor": "y",
         "domain": [
          0,
          1
         ],
         "title": {
          "text": "Base learners and Ensemble models"
         }
        },
        "yaxis": {
         "anchor": "x",
         "domain": [
          0,
          1
         ],
         "title": {
          "text": "Accuracy"
         }
        }
       }
      },
      "text/html": [
       "<div>                            <div id=\"56a9d9c4-2221-4129-b523-edfa7f389e89\" class=\"plotly-graph-div\" style=\"height:525px; width:100%;\"></div>            <script type=\"text/javascript\">                require([\"plotly\"], function(Plotly) {                    window.PLOTLYENV=window.PLOTLYENV || {};                                    if (document.getElementById(\"56a9d9c4-2221-4129-b523-edfa7f389e89\")) {                    Plotly.newPlot(                        \"56a9d9c4-2221-4129-b523-edfa7f389e89\",                        [{\"alignmentgroup\":\"True\",\"hovertemplate\":\"Technique=%{x}<br>Accuracy=%{y}<extra></extra>\",\"legendgroup\":\"\",\"marker\":{\"color\":\"#636efa\",\"pattern\":{\"shape\":\"\"}},\"name\":\"\",\"offsetgroup\":\"\",\"orientation\":\"v\",\"showlegend\":false,\"textposition\":\"auto\",\"texttemplate\":\"%{y}\",\"x\":[\"KNN\",\"SVC\",\"GNB\",\"Gradient Boosting\",\"Stacking\",\"Voting\"],\"xaxis\":\"x\",\"y\":[89.83,72.47,75.05,90.69,90.87,78.68],\"yaxis\":\"y\",\"type\":\"bar\"}],                        {\"template\":{\"data\":{\"bar\":[{\"error_x\":{\"color\":\"#2a3f5f\"},\"error_y\":{\"color\":\"#2a3f5f\"},\"marker\":{\"line\":{\"color\":\"#E5ECF6\",\"width\":0.5},\"pattern\":{\"fillmode\":\"overlay\",\"size\":10,\"solidity\":0.2}},\"type\":\"bar\"}],\"barpolar\":[{\"marker\":{\"line\":{\"color\":\"#E5ECF6\",\"width\":0.5},\"pattern\":{\"fillmode\":\"overlay\",\"size\":10,\"solidity\":0.2}},\"type\":\"barpolar\"}],\"carpet\":[{\"aaxis\":{\"endlinecolor\":\"#2a3f5f\",\"gridcolor\":\"white\",\"linecolor\":\"white\",\"minorgridcolor\":\"white\",\"startlinecolor\":\"#2a3f5f\"},\"baxis\":{\"endlinecolor\":\"#2a3f5f\",\"gridcolor\":\"white\",\"linecolor\":\"white\",\"minorgridcolor\":\"white\",\"startlinecolor\":\"#2a3f5f\"},\"type\":\"carpet\"}],\"choropleth\":[{\"colorbar\":{\"outlinewidth\":0,\"ticks\":\"\"},\"type\":\"choropleth\"}],\"contour\":[{\"colorbar\":{\"outlinewidth\":0,\"ticks\":\"\"},\"colorscale\":[[0.0,\"#0d0887\"],[0.1111111111111111,\"#46039f\"],[0.2222222222222222,\"#7201a8\"],[0.3333333333333333,\"#9c179e\"],[0.4444444444444444,\"#bd3786\"],[0.5555555555555556,\"#d8576b\"],[0.6666666666666666,\"#ed7953\"],[0.7777777777777778,\"#fb9f3a\"],[0.8888888888888888,\"#fdca26\"],[1.0,\"#f0f921\"]],\"type\":\"contour\"}],\"contourcarpet\":[{\"colorbar\":{\"outlinewidth\":0,\"ticks\":\"\"},\"type\":\"contourcarpet\"}],\"heatmap\":[{\"colorbar\":{\"outlinewidth\":0,\"ticks\":\"\"},\"colorscale\":[[0.0,\"#0d0887\"],[0.1111111111111111,\"#46039f\"],[0.2222222222222222,\"#7201a8\"],[0.3333333333333333,\"#9c179e\"],[0.4444444444444444,\"#bd3786\"],[0.5555555555555556,\"#d8576b\"],[0.6666666666666666,\"#ed7953\"],[0.7777777777777778,\"#fb9f3a\"],[0.8888888888888888,\"#fdca26\"],[1.0,\"#f0f921\"]],\"type\":\"heatmap\"}],\"heatmapgl\":[{\"colorbar\":{\"outlinewidth\":0,\"ticks\":\"\"},\"colorscale\":[[0.0,\"#0d0887\"],[0.1111111111111111,\"#46039f\"],[0.2222222222222222,\"#7201a8\"],[0.3333333333333333,\"#9c179e\"],[0.4444444444444444,\"#bd3786\"],[0.5555555555555556,\"#d8576b\"],[0.6666666666666666,\"#ed7953\"],[0.7777777777777778,\"#fb9f3a\"],[0.8888888888888888,\"#fdca26\"],[1.0,\"#f0f921\"]],\"type\":\"heatmapgl\"}],\"histogram\":[{\"marker\":{\"pattern\":{\"fillmode\":\"overlay\",\"size\":10,\"solidity\":0.2}},\"type\":\"histogram\"}],\"histogram2d\":[{\"colorbar\":{\"outlinewidth\":0,\"ticks\":\"\"},\"colorscale\":[[0.0,\"#0d0887\"],[0.1111111111111111,\"#46039f\"],[0.2222222222222222,\"#7201a8\"],[0.3333333333333333,\"#9c179e\"],[0.4444444444444444,\"#bd3786\"],[0.5555555555555556,\"#d8576b\"],[0.6666666666666666,\"#ed7953\"],[0.7777777777777778,\"#fb9f3a\"],[0.8888888888888888,\"#fdca26\"],[1.0,\"#f0f921\"]],\"type\":\"histogram2d\"}],\"histogram2dcontour\":[{\"colorbar\":{\"outlinewidth\":0,\"ticks\":\"\"},\"colorscale\":[[0.0,\"#0d0887\"],[0.1111111111111111,\"#46039f\"],[0.2222222222222222,\"#7201a8\"],[0.3333333333333333,\"#9c179e\"],[0.4444444444444444,\"#bd3786\"],[0.5555555555555556,\"#d8576b\"],[0.6666666666666666,\"#ed7953\"],[0.7777777777777778,\"#fb9f3a\"],[0.8888888888888888,\"#fdca26\"],[1.0,\"#f0f921\"]],\"type\":\"histogram2dcontour\"}],\"mesh3d\":[{\"colorbar\":{\"outlinewidth\":0,\"ticks\":\"\"},\"type\":\"mesh3d\"}],\"parcoords\":[{\"line\":{\"colorbar\":{\"outlinewidth\":0,\"ticks\":\"\"}},\"type\":\"parcoords\"}],\"pie\":[{\"automargin\":true,\"type\":\"pie\"}],\"scatter\":[{\"marker\":{\"colorbar\":{\"outlinewidth\":0,\"ticks\":\"\"}},\"type\":\"scatter\"}],\"scatter3d\":[{\"line\":{\"colorbar\":{\"outlinewidth\":0,\"ticks\":\"\"}},\"marker\":{\"colorbar\":{\"outlinewidth\":0,\"ticks\":\"\"}},\"type\":\"scatter3d\"}],\"scattercarpet\":[{\"marker\":{\"colorbar\":{\"outlinewidth\":0,\"ticks\":\"\"}},\"type\":\"scattercarpet\"}],\"scattergeo\":[{\"marker\":{\"colorbar\":{\"outlinewidth\":0,\"ticks\":\"\"}},\"type\":\"scattergeo\"}],\"scattergl\":[{\"marker\":{\"colorbar\":{\"outlinewidth\":0,\"ticks\":\"\"}},\"type\":\"scattergl\"}],\"scattermapbox\":[{\"marker\":{\"colorbar\":{\"outlinewidth\":0,\"ticks\":\"\"}},\"type\":\"scattermapbox\"}],\"scatterpolar\":[{\"marker\":{\"colorbar\":{\"outlinewidth\":0,\"ticks\":\"\"}},\"type\":\"scatterpolar\"}],\"scatterpolargl\":[{\"marker\":{\"colorbar\":{\"outlinewidth\":0,\"ticks\":\"\"}},\"type\":\"scatterpolargl\"}],\"scatterternary\":[{\"marker\":{\"colorbar\":{\"outlinewidth\":0,\"ticks\":\"\"}},\"type\":\"scatterternary\"}],\"surface\":[{\"colorbar\":{\"outlinewidth\":0,\"ticks\":\"\"},\"colorscale\":[[0.0,\"#0d0887\"],[0.1111111111111111,\"#46039f\"],[0.2222222222222222,\"#7201a8\"],[0.3333333333333333,\"#9c179e\"],[0.4444444444444444,\"#bd3786\"],[0.5555555555555556,\"#d8576b\"],[0.6666666666666666,\"#ed7953\"],[0.7777777777777778,\"#fb9f3a\"],[0.8888888888888888,\"#fdca26\"],[1.0,\"#f0f921\"]],\"type\":\"surface\"}],\"table\":[{\"cells\":{\"fill\":{\"color\":\"#EBF0F8\"},\"line\":{\"color\":\"white\"}},\"header\":{\"fill\":{\"color\":\"#C8D4E3\"},\"line\":{\"color\":\"white\"}},\"type\":\"table\"}]},\"layout\":{\"annotationdefaults\":{\"arrowcolor\":\"#2a3f5f\",\"arrowhead\":0,\"arrowwidth\":1},\"autotypenumbers\":\"strict\",\"coloraxis\":{\"colorbar\":{\"outlinewidth\":0,\"ticks\":\"\"}},\"colorscale\":{\"diverging\":[[0,\"#8e0152\"],[0.1,\"#c51b7d\"],[0.2,\"#de77ae\"],[0.3,\"#f1b6da\"],[0.4,\"#fde0ef\"],[0.5,\"#f7f7f7\"],[0.6,\"#e6f5d0\"],[0.7,\"#b8e186\"],[0.8,\"#7fbc41\"],[0.9,\"#4d9221\"],[1,\"#276419\"]],\"sequential\":[[0.0,\"#0d0887\"],[0.1111111111111111,\"#46039f\"],[0.2222222222222222,\"#7201a8\"],[0.3333333333333333,\"#9c179e\"],[0.4444444444444444,\"#bd3786\"],[0.5555555555555556,\"#d8576b\"],[0.6666666666666666,\"#ed7953\"],[0.7777777777777778,\"#fb9f3a\"],[0.8888888888888888,\"#fdca26\"],[1.0,\"#f0f921\"]],\"sequentialminus\":[[0.0,\"#0d0887\"],[0.1111111111111111,\"#46039f\"],[0.2222222222222222,\"#7201a8\"],[0.3333333333333333,\"#9c179e\"],[0.4444444444444444,\"#bd3786\"],[0.5555555555555556,\"#d8576b\"],[0.6666666666666666,\"#ed7953\"],[0.7777777777777778,\"#fb9f3a\"],[0.8888888888888888,\"#fdca26\"],[1.0,\"#f0f921\"]]},\"colorway\":[\"#636efa\",\"#EF553B\",\"#00cc96\",\"#ab63fa\",\"#FFA15A\",\"#19d3f3\",\"#FF6692\",\"#B6E880\",\"#FF97FF\",\"#FECB52\"],\"font\":{\"color\":\"#2a3f5f\"},\"geo\":{\"bgcolor\":\"white\",\"lakecolor\":\"white\",\"landcolor\":\"#E5ECF6\",\"showlakes\":true,\"showland\":true,\"subunitcolor\":\"white\"},\"hoverlabel\":{\"align\":\"left\"},\"hovermode\":\"closest\",\"mapbox\":{\"style\":\"light\"},\"paper_bgcolor\":\"white\",\"plot_bgcolor\":\"#E5ECF6\",\"polar\":{\"angularaxis\":{\"gridcolor\":\"white\",\"linecolor\":\"white\",\"ticks\":\"\"},\"bgcolor\":\"#E5ECF6\",\"radialaxis\":{\"gridcolor\":\"white\",\"linecolor\":\"white\",\"ticks\":\"\"}},\"scene\":{\"xaxis\":{\"backgroundcolor\":\"#E5ECF6\",\"gridcolor\":\"white\",\"gridwidth\":2,\"linecolor\":\"white\",\"showbackground\":true,\"ticks\":\"\",\"zerolinecolor\":\"white\"},\"yaxis\":{\"backgroundcolor\":\"#E5ECF6\",\"gridcolor\":\"white\",\"gridwidth\":2,\"linecolor\":\"white\",\"showbackground\":true,\"ticks\":\"\",\"zerolinecolor\":\"white\"},\"zaxis\":{\"backgroundcolor\":\"#E5ECF6\",\"gridcolor\":\"white\",\"gridwidth\":2,\"linecolor\":\"white\",\"showbackground\":true,\"ticks\":\"\",\"zerolinecolor\":\"white\"}},\"shapedefaults\":{\"line\":{\"color\":\"#2a3f5f\"}},\"ternary\":{\"aaxis\":{\"gridcolor\":\"white\",\"linecolor\":\"white\",\"ticks\":\"\"},\"baxis\":{\"gridcolor\":\"white\",\"linecolor\":\"white\",\"ticks\":\"\"},\"bgcolor\":\"#E5ECF6\",\"caxis\":{\"gridcolor\":\"white\",\"linecolor\":\"white\",\"ticks\":\"\"}},\"title\":{\"x\":0.05},\"xaxis\":{\"automargin\":true,\"gridcolor\":\"white\",\"linecolor\":\"white\",\"ticks\":\"\",\"title\":{\"standoff\":15},\"zerolinecolor\":\"white\",\"zerolinewidth\":2},\"yaxis\":{\"automargin\":true,\"gridcolor\":\"white\",\"linecolor\":\"white\",\"ticks\":\"\",\"title\":{\"standoff\":15},\"zerolinecolor\":\"white\",\"zerolinewidth\":2}}},\"xaxis\":{\"anchor\":\"y\",\"domain\":[0.0,1.0],\"title\":{\"text\":\"Base learners and Ensemble models\"}},\"yaxis\":{\"anchor\":\"x\",\"domain\":[0.0,1.0],\"title\":{\"text\":\"Accuracy\"}},\"legend\":{\"tracegroupgap\":0},\"margin\":{\"t\":60},\"barmode\":\"relative\",\"font\":{\"size\":18}},                        {\"responsive\": true}                    ).then(function(){\n",
       "                            \n",
       "var gd = document.getElementById('56a9d9c4-2221-4129-b523-edfa7f389e89');\n",
       "var x = new MutationObserver(function (mutations, observer) {{\n",
       "        var display = window.getComputedStyle(gd).display;\n",
       "        if (!display || display === 'none') {{\n",
       "            console.log([gd, 'removed!']);\n",
       "            Plotly.purge(gd);\n",
       "            observer.disconnect();\n",
       "        }}\n",
       "}});\n",
       "\n",
       "// Listen for the removal of the full notebook cells\n",
       "var notebookContainer = gd.closest('#notebook-container');\n",
       "if (notebookContainer) {{\n",
       "    x.observe(notebookContainer, {childList: true});\n",
       "}}\n",
       "\n",
       "// Listen for the clearing of the current output cell\n",
       "var outputEl = gd.closest('.output');\n",
       "if (outputEl) {{\n",
       "    x.observe(outputEl, {childList: true});\n",
       "}}\n",
       "\n",
       "                        })                };                });            </script>        </div>"
      ]
     },
     "metadata": {},
     "output_type": "display_data"
    }
   ],
   "source": [
    "data = {'Technique': ['KNN', 'SVC', 'GNB', 'Gradient Boosting','Stacking','Voting'], 'Accuracy': [89.83, 72.47, 75.05, 90.69, 90.87, 78.68]}\n",
    "# Create DataFrame.\n",
    "df = pd.DataFrame(data)\n",
    "\n",
    "df.head()\n",
    "\n",
    "import plotly.express as px\n",
    "# data_canada = px.data.gapminder().query(\"country == 'Canada'\")\n",
    "fig = px.bar(df, x='Technique', y='Accuracy', text_auto=True)\n",
    "fig.update_layout(\n",
    "#     title=\"Plot Title\",\n",
    "    xaxis_title=\"Base learners and Ensemble models\",\n",
    "    yaxis_title=\"Accuracy\",\n",
    "#     legend_title=\"Legend Title\",\n",
    "    font=dict(\n",
    "#         family=\"Courier New, monospace\",\n",
    "        size=18,\n",
    "#         color=\"RebeccaPurple\"\n",
    "    )\n",
    ")\n",
    "\n",
    "fig.show()"
   ]
  },
  {
   "cell_type": "code",
   "execution_count": null,
   "metadata": {},
   "outputs": [],
   "source": [
    "le.fit(rf_predicted)\n",
    "bagg_enc = le.transform(rf_predicted)\n",
    "baggcm = ConfusionMatrix(actual_vector=y_test_enc, predict_vector=bagg_enc) # Create CM From Data\n",
    "\n",
    "print(baggcm)"
   ]
  },
  {
   "cell_type": "code",
   "execution_count": null,
   "metadata": {},
   "outputs": [],
   "source": [
    "from sklearn.ensemble import BaggingClassifier\n",
    "base_methods=[clf1, clf2, clf3]\n",
    "for bm  in base_methods:\n",
    "    print(\"Method: \", bm)\n",
    "    bag_model=BaggingClassifier(base_estimator=bm,n_estimators=100,bootstrap=True)\n",
    "    bag_model.fit(X_train, y_train)\n",
    "    rf_predicted=bag_model.predict(X_test)\n",
    "    accuracy = accuracy_score(y_test,rf_predicted)\n",
    "    print (\"Accuracy: \", accuracy)\n",
    "\n",
    "    rf_cm = confusion_matrix(y_test, rf_predicted)\n",
    "    print(\"Confusion Matrix: \", rf_cm)\n",
    "\n",
    "for clf, label in zip([clf1, clf2, clf3, bag_model], ['SVM', 'KNN', 'Gaussian NB','Ensemble']):\n",
    "    scores = cross_val_score(clf, X_train, y_train, scoring='accuracy', cv=3)\n",
    "    print(\"Accuracy: %0.6f (+/- %0.6f) [%s]\" % (scores.mean(), scores.std(), label))"
   ]
  },
  {
   "cell_type": "code",
   "execution_count": null,
   "metadata": {},
   "outputs": [],
   "source": [
    "sampler=np.random.permutation(len(data))\n",
    "data=data.take(sampler)\n",
    "data.head(2)"
   ]
  },
  {
   "cell_type": "code",
   "execution_count": 11,
   "metadata": {},
   "outputs": [
    {
     "data": {
      "text/html": [
       "<div>\n",
       "<style scoped>\n",
       "    .dataframe tbody tr th:only-of-type {\n",
       "        vertical-align: middle;\n",
       "    }\n",
       "\n",
       "    .dataframe tbody tr th {\n",
       "        vertical-align: top;\n",
       "    }\n",
       "\n",
       "    .dataframe thead th {\n",
       "        text-align: right;\n",
       "    }\n",
       "</style>\n",
       "<table border=\"1\" class=\"dataframe\">\n",
       "  <thead>\n",
       "    <tr style=\"text-align: right;\">\n",
       "      <th></th>\n",
       "      <th>type_benign</th>\n",
       "      <th>type_gafgyt_combo</th>\n",
       "      <th>type_gafgyt_junk</th>\n",
       "      <th>type_gafgyt_scan</th>\n",
       "      <th>type_gafgyt_tcp</th>\n",
       "      <th>type_gafgyt_udp</th>\n",
       "      <th>type_mirai_ack</th>\n",
       "      <th>type_mirai_scan</th>\n",
       "      <th>type_mirai_syn</th>\n",
       "      <th>type_mirai_udp</th>\n",
       "      <th>type_mirai_udpplain</th>\n",
       "    </tr>\n",
       "  </thead>\n",
       "  <tbody>\n",
       "    <tr>\n",
       "      <th>265176</th>\n",
       "      <td>0</td>\n",
       "      <td>1</td>\n",
       "      <td>0</td>\n",
       "      <td>0</td>\n",
       "      <td>0</td>\n",
       "      <td>0</td>\n",
       "      <td>0</td>\n",
       "      <td>0</td>\n",
       "      <td>0</td>\n",
       "      <td>0</td>\n",
       "      <td>0</td>\n",
       "    </tr>\n",
       "    <tr>\n",
       "      <th>630673</th>\n",
       "      <td>0</td>\n",
       "      <td>0</td>\n",
       "      <td>0</td>\n",
       "      <td>0</td>\n",
       "      <td>0</td>\n",
       "      <td>0</td>\n",
       "      <td>0</td>\n",
       "      <td>1</td>\n",
       "      <td>0</td>\n",
       "      <td>0</td>\n",
       "      <td>0</td>\n",
       "    </tr>\n",
       "    <tr>\n",
       "      <th>131522</th>\n",
       "      <td>0</td>\n",
       "      <td>0</td>\n",
       "      <td>0</td>\n",
       "      <td>0</td>\n",
       "      <td>0</td>\n",
       "      <td>0</td>\n",
       "      <td>0</td>\n",
       "      <td>0</td>\n",
       "      <td>0</td>\n",
       "      <td>1</td>\n",
       "      <td>0</td>\n",
       "    </tr>\n",
       "    <tr>\n",
       "      <th>332938</th>\n",
       "      <td>0</td>\n",
       "      <td>0</td>\n",
       "      <td>1</td>\n",
       "      <td>0</td>\n",
       "      <td>0</td>\n",
       "      <td>0</td>\n",
       "      <td>0</td>\n",
       "      <td>0</td>\n",
       "      <td>0</td>\n",
       "      <td>0</td>\n",
       "      <td>0</td>\n",
       "    </tr>\n",
       "    <tr>\n",
       "      <th>173517</th>\n",
       "      <td>0</td>\n",
       "      <td>0</td>\n",
       "      <td>0</td>\n",
       "      <td>0</td>\n",
       "      <td>0</td>\n",
       "      <td>0</td>\n",
       "      <td>0</td>\n",
       "      <td>0</td>\n",
       "      <td>0</td>\n",
       "      <td>1</td>\n",
       "      <td>0</td>\n",
       "    </tr>\n",
       "  </tbody>\n",
       "</table>\n",
       "</div>"
      ],
      "text/plain": [
       "        type_benign  type_gafgyt_combo  type_gafgyt_junk  type_gafgyt_scan  \\\n",
       "265176            0                  1                 0                 0   \n",
       "630673            0                  0                 0                 0   \n",
       "131522            0                  0                 0                 0   \n",
       "332938            0                  0                 1                 0   \n",
       "173517            0                  0                 0                 0   \n",
       "\n",
       "        type_gafgyt_tcp  type_gafgyt_udp  type_mirai_ack  type_mirai_scan  \\\n",
       "265176                0                0               0                0   \n",
       "630673                0                0               0                1   \n",
       "131522                0                0               0                0   \n",
       "332938                0                0               0                0   \n",
       "173517                0                0               0                0   \n",
       "\n",
       "        type_mirai_syn  type_mirai_udp  type_mirai_udpplain  \n",
       "265176               0               0                    0  \n",
       "630673               0               0                    0  \n",
       "131522               0               1                    0  \n",
       "332938               0               0                    0  \n",
       "173517               0               1                    0  "
      ]
     },
     "execution_count": 11,
     "metadata": {},
     "output_type": "execute_result"
    }
   ],
   "source": [
    "#dummy encode labels, store separately\n",
    "labels_full=pd.get_dummies(data['type'], prefix='type')\n",
    "labels_full.head()"
   ]
  },
  {
   "cell_type": "code",
   "execution_count": 12,
   "metadata": {},
   "outputs": [
    {
     "data": {
      "text/html": [
       "<div>\n",
       "<style scoped>\n",
       "    .dataframe tbody tr th:only-of-type {\n",
       "        vertical-align: middle;\n",
       "    }\n",
       "\n",
       "    .dataframe tbody tr th {\n",
       "        vertical-align: top;\n",
       "    }\n",
       "\n",
       "    .dataframe thead th {\n",
       "        text-align: right;\n",
       "    }\n",
       "</style>\n",
       "<table border=\"1\" class=\"dataframe\">\n",
       "  <thead>\n",
       "    <tr style=\"text-align: right;\">\n",
       "      <th></th>\n",
       "      <th>MI_dir_L5_weight</th>\n",
       "      <th>MI_dir_L5_mean</th>\n",
       "      <th>MI_dir_L5_variance</th>\n",
       "      <th>MI_dir_L3_weight</th>\n",
       "      <th>MI_dir_L3_mean</th>\n",
       "      <th>MI_dir_L3_variance</th>\n",
       "      <th>MI_dir_L1_weight</th>\n",
       "      <th>MI_dir_L1_mean</th>\n",
       "      <th>MI_dir_L1_variance</th>\n",
       "      <th>MI_dir_L0.1_weight</th>\n",
       "      <th>...</th>\n",
       "      <th>HpHp_L0.1_radius</th>\n",
       "      <th>HpHp_L0.1_covariance</th>\n",
       "      <th>HpHp_L0.1_pcc</th>\n",
       "      <th>HpHp_L0.01_weight</th>\n",
       "      <th>HpHp_L0.01_mean</th>\n",
       "      <th>HpHp_L0.01_std</th>\n",
       "      <th>HpHp_L0.01_magnitude</th>\n",
       "      <th>HpHp_L0.01_radius</th>\n",
       "      <th>HpHp_L0.01_covariance</th>\n",
       "      <th>HpHp_L0.01_pcc</th>\n",
       "    </tr>\n",
       "  </thead>\n",
       "  <tbody>\n",
       "    <tr>\n",
       "      <th>265176</th>\n",
       "      <td>117.188471</td>\n",
       "      <td>74.130012</td>\n",
       "      <td>97.382407</td>\n",
       "      <td>151.260548</td>\n",
       "      <td>74.951785</td>\n",
       "      <td>765.549218</td>\n",
       "      <td>335.481296</td>\n",
       "      <td>78.518072</td>\n",
       "      <td>3686.754827</td>\n",
       "      <td>4919.897718</td>\n",
       "      <td>...</td>\n",
       "      <td>0.0</td>\n",
       "      <td>0.0</td>\n",
       "      <td>0.0</td>\n",
       "      <td>1.0</td>\n",
       "      <td>74.0</td>\n",
       "      <td>0.0</td>\n",
       "      <td>74.0</td>\n",
       "      <td>0.0</td>\n",
       "      <td>0.0</td>\n",
       "      <td>0.0</td>\n",
       "    </tr>\n",
       "    <tr>\n",
       "      <th>630673</th>\n",
       "      <td>32.511585</td>\n",
       "      <td>60.058892</td>\n",
       "      <td>0.764069</td>\n",
       "      <td>46.344250</td>\n",
       "      <td>60.135684</td>\n",
       "      <td>1.959494</td>\n",
       "      <td>162.222512</td>\n",
       "      <td>60.169435</td>\n",
       "      <td>2.703308</td>\n",
       "      <td>1955.498083</td>\n",
       "      <td>...</td>\n",
       "      <td>0.0</td>\n",
       "      <td>0.0</td>\n",
       "      <td>0.0</td>\n",
       "      <td>1.0</td>\n",
       "      <td>60.0</td>\n",
       "      <td>0.0</td>\n",
       "      <td>60.0</td>\n",
       "      <td>0.0</td>\n",
       "      <td>0.0</td>\n",
       "      <td>0.0</td>\n",
       "    </tr>\n",
       "    <tr>\n",
       "      <th>131522</th>\n",
       "      <td>173.732462</td>\n",
       "      <td>483.338794</td>\n",
       "      <td>29895.299581</td>\n",
       "      <td>263.082818</td>\n",
       "      <td>450.688928</td>\n",
       "      <td>40336.399152</td>\n",
       "      <td>545.676717</td>\n",
       "      <td>406.278773</td>\n",
       "      <td>51121.911069</td>\n",
       "      <td>3951.329155</td>\n",
       "      <td>...</td>\n",
       "      <td>0.0</td>\n",
       "      <td>0.0</td>\n",
       "      <td>0.0</td>\n",
       "      <td>1.0</td>\n",
       "      <td>554.0</td>\n",
       "      <td>0.0</td>\n",
       "      <td>554.0</td>\n",
       "      <td>0.0</td>\n",
       "      <td>0.0</td>\n",
       "      <td>0.0</td>\n",
       "    </tr>\n",
       "    <tr>\n",
       "      <th>332938</th>\n",
       "      <td>125.496078</td>\n",
       "      <td>74.071062</td>\n",
       "      <td>1.700428</td>\n",
       "      <td>225.917415</td>\n",
       "      <td>74.065188</td>\n",
       "      <td>1.560276</td>\n",
       "      <td>779.615565</td>\n",
       "      <td>74.048763</td>\n",
       "      <td>1.180694</td>\n",
       "      <td>7613.151879</td>\n",
       "      <td>...</td>\n",
       "      <td>0.0</td>\n",
       "      <td>0.0</td>\n",
       "      <td>0.0</td>\n",
       "      <td>1.0</td>\n",
       "      <td>74.0</td>\n",
       "      <td>0.0</td>\n",
       "      <td>74.0</td>\n",
       "      <td>0.0</td>\n",
       "      <td>0.0</td>\n",
       "      <td>0.0</td>\n",
       "    </tr>\n",
       "    <tr>\n",
       "      <th>173517</th>\n",
       "      <td>72.065407</td>\n",
       "      <td>523.540371</td>\n",
       "      <td>14116.082188</td>\n",
       "      <td>115.639812</td>\n",
       "      <td>465.220379</td>\n",
       "      <td>35967.449387</td>\n",
       "      <td>436.502851</td>\n",
       "      <td>371.259961</td>\n",
       "      <td>56864.518568</td>\n",
       "      <td>3989.989087</td>\n",
       "      <td>...</td>\n",
       "      <td>0.0</td>\n",
       "      <td>0.0</td>\n",
       "      <td>0.0</td>\n",
       "      <td>1.0</td>\n",
       "      <td>554.0</td>\n",
       "      <td>0.0</td>\n",
       "      <td>554.0</td>\n",
       "      <td>0.0</td>\n",
       "      <td>0.0</td>\n",
       "      <td>0.0</td>\n",
       "    </tr>\n",
       "  </tbody>\n",
       "</table>\n",
       "<p>5 rows × 115 columns</p>\n",
       "</div>"
      ],
      "text/plain": [
       "        MI_dir_L5_weight  MI_dir_L5_mean  MI_dir_L5_variance  \\\n",
       "265176        117.188471       74.130012           97.382407   \n",
       "630673         32.511585       60.058892            0.764069   \n",
       "131522        173.732462      483.338794        29895.299581   \n",
       "332938        125.496078       74.071062            1.700428   \n",
       "173517         72.065407      523.540371        14116.082188   \n",
       "\n",
       "        MI_dir_L3_weight  MI_dir_L3_mean  MI_dir_L3_variance  \\\n",
       "265176        151.260548       74.951785          765.549218   \n",
       "630673         46.344250       60.135684            1.959494   \n",
       "131522        263.082818      450.688928        40336.399152   \n",
       "332938        225.917415       74.065188            1.560276   \n",
       "173517        115.639812      465.220379        35967.449387   \n",
       "\n",
       "        MI_dir_L1_weight  MI_dir_L1_mean  MI_dir_L1_variance  \\\n",
       "265176        335.481296       78.518072         3686.754827   \n",
       "630673        162.222512       60.169435            2.703308   \n",
       "131522        545.676717      406.278773        51121.911069   \n",
       "332938        779.615565       74.048763            1.180694   \n",
       "173517        436.502851      371.259961        56864.518568   \n",
       "\n",
       "        MI_dir_L0.1_weight  ...  HpHp_L0.1_radius  HpHp_L0.1_covariance  \\\n",
       "265176         4919.897718  ...               0.0                   0.0   \n",
       "630673         1955.498083  ...               0.0                   0.0   \n",
       "131522         3951.329155  ...               0.0                   0.0   \n",
       "332938         7613.151879  ...               0.0                   0.0   \n",
       "173517         3989.989087  ...               0.0                   0.0   \n",
       "\n",
       "        HpHp_L0.1_pcc  HpHp_L0.01_weight  HpHp_L0.01_mean  HpHp_L0.01_std  \\\n",
       "265176            0.0                1.0             74.0             0.0   \n",
       "630673            0.0                1.0             60.0             0.0   \n",
       "131522            0.0                1.0            554.0             0.0   \n",
       "332938            0.0                1.0             74.0             0.0   \n",
       "173517            0.0                1.0            554.0             0.0   \n",
       "\n",
       "        HpHp_L0.01_magnitude  HpHp_L0.01_radius  HpHp_L0.01_covariance  \\\n",
       "265176                  74.0                0.0                    0.0   \n",
       "630673                  60.0                0.0                    0.0   \n",
       "131522                 554.0                0.0                    0.0   \n",
       "332938                  74.0                0.0                    0.0   \n",
       "173517                 554.0                0.0                    0.0   \n",
       "\n",
       "        HpHp_L0.01_pcc  \n",
       "265176             0.0  \n",
       "630673             0.0  \n",
       "131522             0.0  \n",
       "332938             0.0  \n",
       "173517             0.0  \n",
       "\n",
       "[5 rows x 115 columns]"
      ]
     },
     "execution_count": 12,
     "metadata": {},
     "output_type": "execute_result"
    }
   ],
   "source": [
    "#drop labels from training dataset\n",
    "data_drop_type =data.drop(columns='type')\n",
    "data_drop_type.head()"
   ]
  },
  {
   "cell_type": "code",
   "execution_count": 13,
   "metadata": {},
   "outputs": [
    {
     "data": {
      "text/html": [
       "<div>\n",
       "<style scoped>\n",
       "    .dataframe tbody tr th:only-of-type {\n",
       "        vertical-align: middle;\n",
       "    }\n",
       "\n",
       "    .dataframe tbody tr th {\n",
       "        vertical-align: top;\n",
       "    }\n",
       "\n",
       "    .dataframe thead th {\n",
       "        text-align: right;\n",
       "    }\n",
       "</style>\n",
       "<table border=\"1\" class=\"dataframe\">\n",
       "  <thead>\n",
       "    <tr style=\"text-align: right;\">\n",
       "      <th></th>\n",
       "      <th>MI_dir_L5_weight</th>\n",
       "      <th>MI_dir_L5_mean</th>\n",
       "      <th>MI_dir_L5_variance</th>\n",
       "      <th>MI_dir_L3_weight</th>\n",
       "      <th>MI_dir_L3_mean</th>\n",
       "      <th>MI_dir_L3_variance</th>\n",
       "      <th>MI_dir_L1_weight</th>\n",
       "      <th>MI_dir_L1_mean</th>\n",
       "      <th>MI_dir_L1_variance</th>\n",
       "      <th>MI_dir_L0.1_weight</th>\n",
       "      <th>...</th>\n",
       "      <th>HpHp_L0.1_radius</th>\n",
       "      <th>HpHp_L0.1_covariance</th>\n",
       "      <th>HpHp_L0.1_pcc</th>\n",
       "      <th>HpHp_L0.01_weight</th>\n",
       "      <th>HpHp_L0.01_mean</th>\n",
       "      <th>HpHp_L0.01_std</th>\n",
       "      <th>HpHp_L0.01_magnitude</th>\n",
       "      <th>HpHp_L0.01_radius</th>\n",
       "      <th>HpHp_L0.01_covariance</th>\n",
       "      <th>HpHp_L0.01_pcc</th>\n",
       "    </tr>\n",
       "  </thead>\n",
       "  <tbody>\n",
       "    <tr>\n",
       "      <th>265176</th>\n",
       "      <td>117.188471</td>\n",
       "      <td>74.130012</td>\n",
       "      <td>97.382407</td>\n",
       "      <td>151.260548</td>\n",
       "      <td>74.951785</td>\n",
       "      <td>765.549218</td>\n",
       "      <td>335.481296</td>\n",
       "      <td>78.518072</td>\n",
       "      <td>3686.754827</td>\n",
       "      <td>4919.897718</td>\n",
       "      <td>...</td>\n",
       "      <td>0.0</td>\n",
       "      <td>0.0</td>\n",
       "      <td>0.0</td>\n",
       "      <td>1.0</td>\n",
       "      <td>74.0</td>\n",
       "      <td>0.0</td>\n",
       "      <td>74.0</td>\n",
       "      <td>0.0</td>\n",
       "      <td>0.0</td>\n",
       "      <td>0.0</td>\n",
       "    </tr>\n",
       "    <tr>\n",
       "      <th>630673</th>\n",
       "      <td>32.511585</td>\n",
       "      <td>60.058892</td>\n",
       "      <td>0.764069</td>\n",
       "      <td>46.344250</td>\n",
       "      <td>60.135684</td>\n",
       "      <td>1.959494</td>\n",
       "      <td>162.222512</td>\n",
       "      <td>60.169435</td>\n",
       "      <td>2.703308</td>\n",
       "      <td>1955.498083</td>\n",
       "      <td>...</td>\n",
       "      <td>0.0</td>\n",
       "      <td>0.0</td>\n",
       "      <td>0.0</td>\n",
       "      <td>1.0</td>\n",
       "      <td>60.0</td>\n",
       "      <td>0.0</td>\n",
       "      <td>60.0</td>\n",
       "      <td>0.0</td>\n",
       "      <td>0.0</td>\n",
       "      <td>0.0</td>\n",
       "    </tr>\n",
       "    <tr>\n",
       "      <th>131522</th>\n",
       "      <td>173.732462</td>\n",
       "      <td>483.338794</td>\n",
       "      <td>29895.299581</td>\n",
       "      <td>263.082818</td>\n",
       "      <td>450.688928</td>\n",
       "      <td>40336.399152</td>\n",
       "      <td>545.676717</td>\n",
       "      <td>406.278773</td>\n",
       "      <td>51121.911069</td>\n",
       "      <td>3951.329155</td>\n",
       "      <td>...</td>\n",
       "      <td>0.0</td>\n",
       "      <td>0.0</td>\n",
       "      <td>0.0</td>\n",
       "      <td>1.0</td>\n",
       "      <td>554.0</td>\n",
       "      <td>0.0</td>\n",
       "      <td>554.0</td>\n",
       "      <td>0.0</td>\n",
       "      <td>0.0</td>\n",
       "      <td>0.0</td>\n",
       "    </tr>\n",
       "    <tr>\n",
       "      <th>332938</th>\n",
       "      <td>125.496078</td>\n",
       "      <td>74.071062</td>\n",
       "      <td>1.700428</td>\n",
       "      <td>225.917415</td>\n",
       "      <td>74.065188</td>\n",
       "      <td>1.560276</td>\n",
       "      <td>779.615565</td>\n",
       "      <td>74.048763</td>\n",
       "      <td>1.180694</td>\n",
       "      <td>7613.151879</td>\n",
       "      <td>...</td>\n",
       "      <td>0.0</td>\n",
       "      <td>0.0</td>\n",
       "      <td>0.0</td>\n",
       "      <td>1.0</td>\n",
       "      <td>74.0</td>\n",
       "      <td>0.0</td>\n",
       "      <td>74.0</td>\n",
       "      <td>0.0</td>\n",
       "      <td>0.0</td>\n",
       "      <td>0.0</td>\n",
       "    </tr>\n",
       "    <tr>\n",
       "      <th>173517</th>\n",
       "      <td>72.065407</td>\n",
       "      <td>523.540371</td>\n",
       "      <td>14116.082188</td>\n",
       "      <td>115.639812</td>\n",
       "      <td>465.220379</td>\n",
       "      <td>35967.449387</td>\n",
       "      <td>436.502851</td>\n",
       "      <td>371.259961</td>\n",
       "      <td>56864.518568</td>\n",
       "      <td>3989.989087</td>\n",
       "      <td>...</td>\n",
       "      <td>0.0</td>\n",
       "      <td>0.0</td>\n",
       "      <td>0.0</td>\n",
       "      <td>1.0</td>\n",
       "      <td>554.0</td>\n",
       "      <td>0.0</td>\n",
       "      <td>554.0</td>\n",
       "      <td>0.0</td>\n",
       "      <td>0.0</td>\n",
       "      <td>0.0</td>\n",
       "    </tr>\n",
       "  </tbody>\n",
       "</table>\n",
       "<p>5 rows × 115 columns</p>\n",
       "</div>"
      ],
      "text/plain": [
       "        MI_dir_L5_weight  MI_dir_L5_mean  MI_dir_L5_variance  \\\n",
       "265176        117.188471       74.130012           97.382407   \n",
       "630673         32.511585       60.058892            0.764069   \n",
       "131522        173.732462      483.338794        29895.299581   \n",
       "332938        125.496078       74.071062            1.700428   \n",
       "173517         72.065407      523.540371        14116.082188   \n",
       "\n",
       "        MI_dir_L3_weight  MI_dir_L3_mean  MI_dir_L3_variance  \\\n",
       "265176        151.260548       74.951785          765.549218   \n",
       "630673         46.344250       60.135684            1.959494   \n",
       "131522        263.082818      450.688928        40336.399152   \n",
       "332938        225.917415       74.065188            1.560276   \n",
       "173517        115.639812      465.220379        35967.449387   \n",
       "\n",
       "        MI_dir_L1_weight  MI_dir_L1_mean  MI_dir_L1_variance  \\\n",
       "265176        335.481296       78.518072         3686.754827   \n",
       "630673        162.222512       60.169435            2.703308   \n",
       "131522        545.676717      406.278773        51121.911069   \n",
       "332938        779.615565       74.048763            1.180694   \n",
       "173517        436.502851      371.259961        56864.518568   \n",
       "\n",
       "        MI_dir_L0.1_weight  ...  HpHp_L0.1_radius  HpHp_L0.1_covariance  \\\n",
       "265176         4919.897718  ...               0.0                   0.0   \n",
       "630673         1955.498083  ...               0.0                   0.0   \n",
       "131522         3951.329155  ...               0.0                   0.0   \n",
       "332938         7613.151879  ...               0.0                   0.0   \n",
       "173517         3989.989087  ...               0.0                   0.0   \n",
       "\n",
       "        HpHp_L0.1_pcc  HpHp_L0.01_weight  HpHp_L0.01_mean  HpHp_L0.01_std  \\\n",
       "265176            0.0                1.0             74.0             0.0   \n",
       "630673            0.0                1.0             60.0             0.0   \n",
       "131522            0.0                1.0            554.0             0.0   \n",
       "332938            0.0                1.0             74.0             0.0   \n",
       "173517            0.0                1.0            554.0             0.0   \n",
       "\n",
       "        HpHp_L0.01_magnitude  HpHp_L0.01_radius  HpHp_L0.01_covariance  \\\n",
       "265176                  74.0                0.0                    0.0   \n",
       "630673                  60.0                0.0                    0.0   \n",
       "131522                 554.0                0.0                    0.0   \n",
       "332938                  74.0                0.0                    0.0   \n",
       "173517                 554.0                0.0                    0.0   \n",
       "\n",
       "        HpHp_L0.01_pcc  \n",
       "265176             0.0  \n",
       "630673             0.0  \n",
       "131522             0.0  \n",
       "332938             0.0  \n",
       "173517             0.0  \n",
       "\n",
       "[5 rows x 115 columns]"
      ]
     },
     "execution_count": 13,
     "metadata": {},
     "output_type": "execute_result"
    }
   ],
   "source": [
    "#standardize numerical columns\n",
    "def standardize(df,col):\n",
    "    data_drop_type[col]= (data_drop_type[col]-data_drop_type[col].mean())/data_drop_type[col].std()\n",
    "\n",
    "data_st=data_drop_type.copy()\n",
    "for i in (data_st.iloc[:,:-1].columns):\n",
    "    standardize (data_st,i)\n",
    "\n",
    "data_st.head()"
   ]
  },
  {
   "cell_type": "code",
   "execution_count": 14,
   "metadata": {},
   "outputs": [
    {
     "data": {
      "text/plain": [
       "array([[1.17188471e+02, 7.41300121e+01, 9.73824070e+01, ...,\n",
       "        0.00000000e+00, 0.00000000e+00, 0.00000000e+00],\n",
       "       [3.25115851e+01, 6.00588919e+01, 7.64069116e-01, ...,\n",
       "        0.00000000e+00, 0.00000000e+00, 0.00000000e+00],\n",
       "       [1.73732462e+02, 4.83338794e+02, 2.98952996e+04, ...,\n",
       "        0.00000000e+00, 0.00000000e+00, 0.00000000e+00],\n",
       "       ...,\n",
       "       [1.03701805e+02, 2.11860266e+02, 5.18949677e+04, ...,\n",
       "        0.00000000e+00, 0.00000000e+00, 0.00000000e+00],\n",
       "       [1.00000000e+00, 6.00000000e+01, 0.00000000e+00, ...,\n",
       "        0.00000000e+00, 0.00000000e+00, 0.00000000e+00],\n",
       "       [1.00000000e+00, 6.00000000e+01, 0.00000000e+00, ...,\n",
       "        0.00000000e+00, 0.00000000e+00, 0.00000000e+00]])"
      ]
     },
     "execution_count": 14,
     "metadata": {},
     "output_type": "execute_result"
    }
   ],
   "source": [
    "#training data for the neural net\n",
    "train_data_st=data_st.values\n",
    "train_data_st"
   ]
  },
  {
   "cell_type": "code",
   "execution_count": 15,
   "metadata": {},
   "outputs": [
    {
     "data": {
      "text/plain": [
       "array([[0, 1, 0, ..., 0, 0, 0],\n",
       "       [0, 0, 0, ..., 0, 0, 0],\n",
       "       [0, 0, 0, ..., 0, 1, 0],\n",
       "       ...,\n",
       "       [0, 0, 0, ..., 0, 1, 0],\n",
       "       [0, 0, 0, ..., 0, 0, 0],\n",
       "       [0, 0, 0, ..., 0, 0, 0]], dtype=uint8)"
      ]
     },
     "execution_count": 15,
     "metadata": {},
     "output_type": "execute_result"
    }
   ],
   "source": [
    "#labels for training\n",
    "labels=labels_full.values\n",
    "labels"
   ]
  },
  {
   "cell_type": "code",
   "execution_count": 16,
   "metadata": {},
   "outputs": [
    {
     "name": "stdout",
     "output_type": "stream",
     "text": [
      "(585823, 115)\n",
      "(167379, 115)\n",
      "(83689, 115)\n",
      "(585823, 115, 1)\n",
      "(167379, 115, 1)\n",
      "(83689, 115, 1)\n"
     ]
    }
   ],
   "source": [
    "#Validation Technique\n",
    "x_train, x_test, y_train, y_test = train_test_split(train_data_st, labels, test_size=0.2)\n",
    "x_train, x_validate, y_train, y_validate = train_test_split(x_train, y_train, test_size=0.125)\n",
    "\n",
    "print(x_train.shape)\n",
    "print(x_test.shape)\n",
    "print(x_validate.shape)\n",
    "\n",
    "x_train_cnn = np.reshape(x_train, (x_train.shape[0], x_train.shape[1],1))\n",
    "x_test_cnn = np.reshape(x_test, (x_test.shape[0], x_test.shape[1],1))\n",
    "x_validate_cnn = np.reshape(x_validate, (x_validate.shape[0], x_validate.shape[1],1))\n",
    "print(x_train_cnn.shape)\n",
    "print(x_test_cnn.shape)\n",
    "print(x_validate_cnn.shape)"
   ]
  },
  {
   "cell_type": "code",
   "execution_count": 22,
   "metadata": {},
   "outputs": [
    {
     "name": "stdout",
     "output_type": "stream",
     "text": [
      "Model: \"sequential\"\n",
      "_________________________________________________________________\n",
      "Layer (type)                 Output Shape              Param #   \n",
      "=================================================================\n",
      "dense (Dense)                (None, 10)                1160      \n",
      "_________________________________________________________________\n",
      "dense_1 (Dense)              (None, 40)                440       \n",
      "_________________________________________________________________\n",
      "dense_2 (Dense)              (None, 10)                410       \n",
      "_________________________________________________________________\n",
      "dense_3 (Dense)              (None, 1)                 11        \n",
      "_________________________________________________________________\n",
      "dense_4 (Dense)              (None, 11)                22        \n",
      "=================================================================\n",
      "Total params: 2,043\n",
      "Trainable params: 2,043\n",
      "Non-trainable params: 0\n",
      "_________________________________________________________________\n"
     ]
    }
   ],
   "source": [
    "#import packages\n",
    "import numpy as np  # linear algebra\n",
    "import pandas as pd # Data processing, CSV file I/O (e.g. pd.read_csv)\n",
    "import os\n",
    "%matplotlib inline\n",
    "import matplotlib.pyplot as plt\n",
    "from glob import glob\n",
    "import seaborn as sns\n",
    "from PIL import Image\n",
    "#from imutils import paths\n",
    "import random\n",
    "import pickle\n",
    "import cv2\n",
    "import datetime\n",
    "from pprint import pprint\n",
    "# import librosa\n",
    "\n",
    "\n",
    "from sklearn.model_selection import *\n",
    "from sklearn.preprocessing import *\n",
    "from sklearn.metrics import *\n",
    "import keras\n",
    "from keras.utils import np_utils\n",
    "from keras.regularizers import *\n",
    "from keras.initializers import glorot_uniform\n",
    "\n",
    "import keras.backend as K\n",
    "K.clear_session()\n",
    "\n",
    "from keras.models import *\n",
    "from keras.layers import *\n",
    "from keras.preprocessing.image import ImageDataGenerator\n",
    "from keras.optimizers import *\n",
    "from keras.callbacks import *\n",
    "from tensorflow.keras.utils import plot_model\n",
    "\n",
    "model = Sequential()\n",
    "model.add(Dense(10, input_dim=train_data_st.shape[1], activation='relu'))\n",
    "model.add(Dense(40, activation='relu'))\n",
    "model.add(Dense(10, activation='relu'))\n",
    "model.add(Dense(1, kernel_initializer='normal'))\n",
    "model.add(Dense(labels.shape[1],activation='softmax'))\n",
    "\n",
    "modelName = 'ANN'\n",
    "plot_model(model, './'+modelName+'_Archi.png',show_shapes=True)\n",
    "model.summary()"
   ]
  },
  {
   "cell_type": "code",
   "execution_count": null,
   "metadata": {},
   "outputs": [],
   "source": []
  }
 ],
 "metadata": {
  "kernelspec": {
   "display_name": "Python 3",
   "language": "python",
   "name": "python3"
  },
  "language_info": {
   "codemirror_mode": {
    "name": "ipython",
    "version": 3
   },
   "file_extension": ".py",
   "mimetype": "text/x-python",
   "name": "python",
   "nbconvert_exporter": "python",
   "pygments_lexer": "ipython3",
   "version": "3.7.6"
  }
 },
 "nbformat": 4,
 "nbformat_minor": 4
}
