{
 "cells": [
  {
   "cell_type": "code",
   "execution_count": 1,
   "metadata": {},
   "outputs": [],
   "source": [
    "from sklearn.model_selection import cross_val_score\n",
    "from sklearn.linear_model import LogisticRegression\n",
    "from sklearn.naive_bayes import GaussianNB\n",
    "from sklearn.ensemble import RandomForestClassifier\n",
    "from sklearn.ensemble import VotingClassifier\n",
    "from sklearn.neighbors import KNeighborsClassifier\n",
    "from sklearn.ensemble import RandomForestClassifier,BaggingClassifier,AdaBoostClassifier,GradientBoostingClassifier,ExtraTreesClassifier\n",
    "from time import time\n",
    "from sklearn.linear_model import RidgeClassifier\n",
    "from sklearn.svm import SVC\n",
    "from sklearn import svm\n",
    "from mlxtend.classifier import StackingClassifier\n",
    "from sklearn.svm import SVC\n",
    "from sklearn.neural_network import MLPClassifier\n",
    "import pandas as pd\n",
    "import numpy as np\n",
    "import glob\n",
    "import matplotlib.pyplot as plt\n",
    "import seaborn as sns\n",
    "import helpers\n",
    "from sklearn import preprocessing\n",
    "import numpy as np\n",
    "from statistics import mode\n",
    "from scipy.stats import kurtosis, skew\n",
    "import statistics\n",
    "import struct\n",
    "import ast\n",
    "from time import time\n",
    "from sklearn.metrics import confusion_matrix\n",
    "import itertools\n",
    "\n",
    "from ast import literal_eval\n",
    "from sklearn.ensemble import IsolationForest\n",
    "import pandas as pd\n",
    "import glob\n",
    "from sklearn.model_selection import train_test_split\n",
    "from sklearn.ensemble import RandomForestClassifier\n",
    "from sklearn.metrics import accuracy_score\n",
    "from sklearn.metrics import confusion_matrix \n",
    "from sklearn.metrics import roc_curve, auc\n",
    "import sklearn\n",
    "from sklearn.multiclass import OneVsRestClassifier\n",
    "from time import time\n",
    "import seaborn as sns\n",
    "import matplotlib.pyplot as plt\n",
    "from sklearn import metrics\n",
    "from sklearn.metrics import classification_report\n",
    "import numpy as np\n",
    "from sklearn import tree\n",
    "from sklearn.tree import DecisionTreeClassifier\n",
    "from sklearn.preprocessing import LabelEncoder\n",
    "from sklearn import preprocessing\n",
    "from sklearn.preprocessing import LabelBinarizer\n",
    "from sklearn.ensemble import RandomForestClassifier\n",
    "from sklearn.model_selection import train_test_split, GridSearchCV, StratifiedKFold\n",
    "from sklearn.metrics import f1_score,roc_curve, precision_recall_curve, auc, make_scorer, recall_score, accuracy_score, precision_score, confusion_matrix\n",
    "from sklearn.metrics import roc_auc_score\n",
    "from xgboost import XGBRegressor\n",
    "from sklearn.preprocessing import StandardScaler\n",
    "from sklearn.model_selection import train_test_split\n",
    "from sklearn.model_selection import GridSearchCV\n",
    "from sklearn.model_selection import cross_val_score\n",
    "from sklearn.metrics import mean_squared_error\n",
    "from sklearn.ensemble import IsolationForest\n",
    "from sklearn import model_selection\n",
    "import warnings\n",
    "warnings.filterwarnings(\"ignore\")\n",
    "import matplotlib.pyplot as plt\n",
    "plt.style.use(\"ggplot\")\n",
    "from collections import Counter\n",
    "import time\n",
    "from sklearn.model_selection import cross_val_score\n",
    "from sklearn.linear_model import LogisticRegression\n",
    "from sklearn.naive_bayes import GaussianNB\n",
    "from sklearn.ensemble import RandomForestClassifier\n",
    "from sklearn.ensemble import VotingClassifier\n",
    "from IPython.core.pylabtools import figsize\n",
    "# Load Library\n",
    "from sklearn.datasets import make_moons\n",
    "from sklearn.metrics import accuracy_score\n",
    "from sklearn.model_selection import train_test_split\n",
    "from sklearn.tree import DecisionTreeClassifier\n",
    "from sklearn.ensemble import RandomForestClassifier,AdaBoostClassifier,GradientBoostingClassifier\n",
    "\n",
    "from sklearn.pipeline import make_pipeline\n",
    "from sklearn.preprocessing import StandardScaler\n",
    "\n"
   ]
  },
  {
   "cell_type": "code",
   "execution_count": null,
   "metadata": {},
   "outputs": [],
   "source": [
    "dos = pd.read_csv(r'/Users/mac/OneDrive - University of New Brunswick/Directed Studies Term Project Implementation/CICIDS2017/DoS.csv')\n",
    "\n",
    "\n",
    "dos[' Label'].value_counts()\n"
   ]
  },
  {
   "cell_type": "code",
   "execution_count": null,
   "metadata": {},
   "outputs": [],
   "source": [
    "bruteforce = pd.read_csv(r'/Users/mac/OneDrive - University of New Brunswick/Directed Studies Term Project Implementation/CICIDS2017/BruteForce.csv')\n",
    "\n",
    "bruteforce[' Label'].value_counts()"
   ]
  },
  {
   "cell_type": "code",
   "execution_count": null,
   "metadata": {},
   "outputs": [],
   "source": [
    "infilteration = pd.read_csv(r'/Users/mac/OneDrive - University of New Brunswick/Directed Studies Term Project Implementation/CICIDS2017/Infilteration.csv')\n",
    "\n",
    "infilteration[' Label'].value_counts()"
   ]
  },
  {
   "cell_type": "code",
   "execution_count": null,
   "metadata": {},
   "outputs": [],
   "source": [
    "benign = pd.read_csv(r'/Users/mac/OneDrive - University of New Brunswick/Directed Studies Term Project Implementation/CICIDS2017/Benign.csv')\n",
    "\n",
    "benign[' Label'].value_counts()"
   ]
  },
  {
   "cell_type": "code",
   "execution_count": null,
   "metadata": {},
   "outputs": [],
   "source": [
    "botnet = pd.read_csv(r'/Users/mac/OneDrive - University of New Brunswick/Directed Studies Term Project Implementation/CICIDS2017/Botnet.csv')\n",
    "\n",
    "botnet[' Label'].value_counts()\n"
   ]
  },
  {
   "cell_type": "code",
   "execution_count": null,
   "metadata": {},
   "outputs": [],
   "source": [
    "portscan = pd.read_csv(r'/Users/mac/OneDrive - University of New Brunswick/Directed Studies Term Project Implementation/CICIDS2017/PortScan.csv')\n",
    "\n",
    "portscan[' Label'].value_counts()"
   ]
  },
  {
   "cell_type": "code",
   "execution_count": null,
   "metadata": {},
   "outputs": [],
   "source": [
    "ddos = pd.read_csv(r'/Users/mac/OneDrive - University of New Brunswick/Directed Studies Term Project Implementation/CICIDS2017/DDoS.csv')\n",
    "\n",
    "ddos[' Label'].value_counts()"
   ]
  },
  {
   "cell_type": "code",
   "execution_count": null,
   "metadata": {},
   "outputs": [],
   "source": [
    "webattack = pd.read_csv(r'/Users/mac/OneDrive - University of New Brunswick/Directed Studies Term Project Implementation/CICIDS2017/WebAttacks.csv')\n",
    "\n",
    "webattack[' Label'].value_counts()\n",
    "\n"
   ]
  },
  {
   "cell_type": "code",
   "execution_count": null,
   "metadata": {},
   "outputs": [],
   "source": [
    "df = pd.concat([dos ,ddos,portscan,botnet,benign,infilteration,bruteforce])\n",
    "df[' Label'].value_counts()\n"
   ]
  },
  {
   "cell_type": "code",
   "execution_count": null,
   "metadata": {},
   "outputs": [],
   "source": [
    "df.loc[df[' Label'] == \"Web Attack � Brute Force\", \"label\"] = 'Web Attack'\n",
    "df.loc[df[' Label'] == \"Web Attack � XSS\", \"label\"] = 'Web Attack'\n",
    "df.loc[df[' Label'] == \"Web Attack � Sql Injectio\", \"label\"] = 'Web Attack'"
   ]
  },
  {
   "cell_type": "code",
   "execution_count": null,
   "metadata": {},
   "outputs": [],
   "source": [
    "df.loc[df[' Label'] == \"DoS Hulk\", \"label\"] = 'DoS'\n",
    "df.loc[df[' Label'] == \"DoS GoldenEye\", \"label\"] = 'DoS'\n",
    "df.loc[df[' Label'] == \"DoS slowloris\", \"label\"] = 'DoS'\n",
    "df.loc[df[' Label'] == \"DoS Slowhttptest\", \"label\"] = 'DoS'\n",
    "df.loc[df[' Label'] == \"Heartbleed\", \"label\"] = 'DoS'"
   ]
  },
  {
   "cell_type": "code",
   "execution_count": null,
   "metadata": {},
   "outputs": [],
   "source": [
    "df.loc[df[' Label'] == \"BENIGN\", \"label\"] = 'Benign'\n"
   ]
  },
  {
   "cell_type": "code",
   "execution_count": null,
   "metadata": {},
   "outputs": [],
   "source": [
    "df.loc[df[' Label'] == \"FTP-Patator\", \"label\"] = 'Bruteforce'\n",
    "df.loc[df[' Label'] == \"SSH-Patator\", \"label\"] = 'Bruteforce'\n",
    "\n",
    "           \n"
   ]
  },
  {
   "cell_type": "code",
   "execution_count": null,
   "metadata": {},
   "outputs": [],
   "source": [
    "\n",
    "df.loc[df[' Label'] == \"Infiltration\", \"label\"] = 'Infiltration'\n",
    "df.loc[df[' Label'] == \"DDoS\", \"label\"] = 'DDoS'\n",
    "df.loc[df[' Label'] == \"PortScan\", \"label\"] = 'PortScan'\n",
    "df.loc[df[' Label'] == \"Bot\", \"label\"] = 'Bot'\n"
   ]
  },
  {
   "cell_type": "code",
   "execution_count": null,
   "metadata": {},
   "outputs": [],
   "source": [
    "df.head(2)"
   ]
  },
  {
   "cell_type": "code",
   "execution_count": null,
   "metadata": {},
   "outputs": [],
   "source": [
    "df['label'].value_counts()\n"
   ]
  },
  {
   "cell_type": "code",
   "execution_count": null,
   "metadata": {},
   "outputs": [],
   "source": [
    "df[' Label'].value_counts()"
   ]
  },
  {
   "cell_type": "code",
   "execution_count": null,
   "metadata": {},
   "outputs": [],
   "source": [
    "df.shape"
   ]
  },
  {
   "cell_type": "code",
   "execution_count": null,
   "metadata": {},
   "outputs": [],
   "source": [
    "df.dropna(inplace=True)\n",
    "df = df.replace((np.inf, -np.inf, np.nan), 0).reset_index(drop=True)\n"
   ]
  },
  {
   "cell_type": "code",
   "execution_count": null,
   "metadata": {},
   "outputs": [],
   "source": [
    "df.shape"
   ]
  },
  {
   "cell_type": "code",
   "execution_count": null,
   "metadata": {},
   "outputs": [],
   "source": [
    "corr_matrix = df.corr()"
   ]
  },
  {
   "cell_type": "code",
   "execution_count": null,
   "metadata": {},
   "outputs": [],
   "source": [
    "plt.figure(figsize=(28,26))\n",
    "plt.title('Correlation Heatmap of Iris Dataset')\n",
    "a = sns.heatmap(corr_matrix, square=True, annot=True, fmt='.2f', linecolor='black')\n",
    "a.set_xticklabels(a.get_xticklabels(), rotation=30)\n",
    "a.set_yticklabels(a.get_yticklabels(), rotation=30)           \n",
    "plt.show()    "
   ]
  },
  {
   "cell_type": "code",
   "execution_count": null,
   "metadata": {},
   "outputs": [],
   "source": [
    "df[' Label'].value_counts()"
   ]
  },
  {
   "cell_type": "code",
   "execution_count": null,
   "metadata": {},
   "outputs": [],
   "source": [
    "benign = df[df[' Label'] == 'BENIGN'].sample(n=200000)"
   ]
  },
  {
   "cell_type": "code",
   "execution_count": null,
   "metadata": {},
   "outputs": [],
   "source": [
    "doshulk = df[df[' Label'] == 'DoS Hulk'].sample(n=5499)\n",
    "portsc = df[df[' Label'] == 'PortScan'].sample(n=5499)\n",
    "ddos = df[df[' Label'] == 'DDoS'].sample(n=5499)\n",
    "dosslo = df[df[' Label'] == 'DoS slowloris'].sample(n=5499)\n",
    "dosge = df[df[' Label'] == 'DoS GoldenEye'].sample(n=5499)\n",
    "ftp = df[df[' Label'] == 'FTP-Patator'].sample(n=5499)\n",
    "ssh = df[df[' Label'] == 'SSH-Patator'].sample(n=5499)\n",
    "slowhttp = df[df[' Label'] == 'DoS Slowhttptest'].sample(n=5499)\n",
    "bot = df[df[' Label'] == 'Bot']"
   ]
  },
  {
   "cell_type": "code",
   "execution_count": null,
   "metadata": {},
   "outputs": [],
   "source": [
    "drop_all_ben = df[df[' Label'] != 'BENIGN']"
   ]
  },
  {
   "cell_type": "code",
   "execution_count": null,
   "metadata": {},
   "outputs": [],
   "source": [
    "drop_all_inf = drop_all_ben[drop_all_ben[' Label'] != 'Infiltration']"
   ]
  },
  {
   "cell_type": "code",
   "execution_count": null,
   "metadata": {},
   "outputs": [],
   "source": [
    "drop_all_inf[' Label'].value_counts()"
   ]
  },
  {
   "cell_type": "code",
   "execution_count": null,
   "metadata": {},
   "outputs": [],
   "source": [
    "data = pd.concat([benign.sample(n=5499),doshulk,portsc,ddos,dosslo,dosge,ftp,ssh,slowhttp,bot], axis=0)\n",
    "data[' Label'].value_counts()"
   ]
  },
  {
   "cell_type": "code",
   "execution_count": null,
   "metadata": {},
   "outputs": [],
   "source": [
    "\n",
    "X = df.drop(['label',' Label'], axis=1)\n",
    "y = df['label']\n",
    "\n",
    "\n",
    "# X = np.nan_to_num(X) \n",
    "\n",
    "\n"
   ]
  },
  {
   "cell_type": "code",
   "execution_count": null,
   "metadata": {},
   "outputs": [],
   "source": [
    "\n",
    "\n",
    "\n",
    "X_data = data.drop(['label',' Label'], axis=1)\n",
    "y_data = data[' Label']\n",
    "\n"
   ]
  },
  {
   "cell_type": "code",
   "execution_count": null,
   "metadata": {},
   "outputs": [],
   "source": [
    "min_max_scaler = preprocessing.MinMaxScaler()\n",
    "X_minmax = min_max_scaler.fit_transform(X_data)\n",
    "X_minmax"
   ]
  },
  {
   "cell_type": "code",
   "execution_count": 35,
   "metadata": {},
   "outputs": [],
   "source": [
    "# X_train, X_test, y_train, y_test = train_test_split(X_minmax, y_data, test_size=0.2)"
   ]
  },
  {
   "cell_type": "code",
   "execution_count": null,
   "metadata": {},
   "outputs": [],
   "source": [
    "X_data.shape"
   ]
  },
  {
   "cell_type": "code",
   "execution_count": null,
   "metadata": {},
   "outputs": [],
   "source": [
    "from sklearn.feature_selection import SelectKBest\n",
    "from sklearn.feature_selection import chi2\n",
    "\n",
    "X_new = SelectKBest(chi2, k=20).fit_transform(X_minmax, y_data)\n",
    "\n"
   ]
  },
  {
   "cell_type": "code",
   "execution_count": null,
   "metadata": {},
   "outputs": [],
   "source": [
    "X_new.shape"
   ]
  },
  {
   "cell_type": "code",
   "execution_count": null,
   "metadata": {},
   "outputs": [],
   "source": [
    "def plot_confusion_matrix(cm, classes,\n",
    "                          normalize=False,\n",
    "                          title='Confusion matrix',\n",
    "                          cmap=plt.cm.Reds):\n",
    "    \"\"\"\n",
    "    This function prints and plots the confusion matrix.\n",
    "    Normalization can be applied by setting `normalize=True`.\n",
    "    Source: http://scikit-learn.org/stable/auto_examples/model_selection/plot_confusion_matrix.html\n",
    "    \"\"\"\n",
    "    if normalize:\n",
    "        cm = cm.astype('float') / cm.sum(axis=1)[:, np.newaxis]\n",
    "        print(\"Normalized confusion matrix\")\n",
    "    else:\n",
    "        print('Confusion matrix, without normalization')\n",
    "\n",
    "    print(cm)\n",
    "\n",
    "    # Plot the confusion matrix\n",
    "    plt.figure(figsize = (16, 14))\n",
    "    plt.imshow(cm, interpolation='nearest', cmap=cmap)\n",
    "    plt.title(title, size = 24)\n",
    "#     plt.colorbar(aspect=4)\n",
    "    tick_marks = np.arange(len(classes))\n",
    "    plt.xticks(tick_marks, classes, rotation=45, size = 14)\n",
    "    plt.yticks(tick_marks, classes, size = 14)\n",
    "\n",
    "    fmt = '.2f' if normalize else 'd'\n",
    "    thresh = cm.max() / 2.\n",
    "    \n",
    "    # Labeling the plot\n",
    "    for i, j in itertools.product(range(cm.shape[0]), range(cm.shape[1])):\n",
    "        plt.text(j, i, format(cm[i, j], fmt), fontsize = 20,\n",
    "                 horizontalalignment=\"center\",\n",
    "                 color=\"white\" if cm[i, j] > thresh else \"black\")\n",
    "        \n",
    "    plt.grid(None)\n",
    "    plt.tight_layout()\n",
    "    plt.ylabel('True label', size = 18)\n",
    "    plt.xlabel('Predicted label', size = 18)\n"
   ]
  },
  {
   "cell_type": "code",
   "execution_count": null,
   "metadata": {},
   "outputs": [],
   "source": [
    "X_train, X_test, y_train, y_test = train_test_split(X_minmax, y_data, test_size=0.2)\n",
    "rf_cic_lab=(RandomForestClassifier(n_estimators=100,oob_score=True))\n",
    "# t0 = time()\n",
    "rf_cic_lab = rf_cic_lab.fit(X_train,y_train)\n",
    "rf_predicted =rf_cic_lab.predict(X_test)\n",
    "accuracy = accuracy_score(y_test,rf_predicted)\n",
    "#print (rf.oob_score_)\n",
    "print (\"Accuracy: \", accuracy)\n",
    "#acc, score = rf.evaluate(x_test, y_test)\n",
    "# print(\"Time: \", time()-t0)   \n",
    "# creating a confusion matrix \n",
    "rf_cm = confusion_matrix(y_test, rf_predicted)\n",
    "print(\"Confusion Matrix: \", rf_cm)"
   ]
  },
  {
   "cell_type": "code",
   "execution_count": null,
   "metadata": {},
   "outputs": [],
   "source": [
    "X_train, X_test, y_train, y_test = train_test_split(X_minmax, y_data, test_size=0.2)\n",
    "rf_cic_lab=(RandomForestClassifier(n_estimators=100,oob_score=True))\n",
    "# t0 = time()\n",
    "rf_cic_lab = rf_cic_lab.fit(X_train,y_train)\n",
    "rf_predicted =rf_cic_lab.predict(X_test)\n",
    "accuracy = accuracy_score(y_test,rf_predicted)\n",
    "print (\"Accuracy: \", accuracy)\n",
    "\n",
    "rf_cm = confusion_matrix(y_test, rf_predicted)\n",
    "print(\"Confusion Matrix: \", rf_cm)"
   ]
  },
  {
   "cell_type": "code",
   "execution_count": null,
   "metadata": {},
   "outputs": [],
   "source": [
    "X_train, X_test, y_train, y_test = train_test_split(X_new, y_data, test_size=0.2)\n"
   ]
  },
  {
   "cell_type": "code",
   "execution_count": null,
   "metadata": {},
   "outputs": [],
   "source": [
    "# Load Library\n",
    "from sklearn.datasets import make_moons\n",
    "from sklearn.metrics import accuracy_score\n",
    "from sklearn.model_selection import train_test_split\n",
    "from sklearn.tree import DecisionTreeClassifier\n",
    "from sklearn.ensemble import RandomForestClassifier,AdaBoostClassifier,GradientBoostingClassifier\n",
    "\n",
    "clf = DecisionTreeClassifier()\n",
    "clf.fit(X_train, y_train)\n",
    "\n",
    "dt_predicted =clf.predict(X_test)\n",
    "accuracy = accuracy_score(y_test,dt_predicted)\n",
    "\n",
    "print (\"Accuracy: \", accuracy)\n"
   ]
  },
  {
   "cell_type": "code",
   "execution_count": null,
   "metadata": {},
   "outputs": [],
   "source": [
    "recall_score(y_test,dt_predicted,average='micro')"
   ]
  },
  {
   "cell_type": "code",
   "execution_count": null,
   "metadata": {},
   "outputs": [],
   "source": [
    "precision_score(y_test,dt_predicted,average='macro')"
   ]
  },
  {
   "cell_type": "code",
   "execution_count": 197,
   "metadata": {
    "scrolled": true
   },
   "outputs": [
    {
     "ename": "AttributeError",
     "evalue": "module 'sklearn.metrics' has no attribute 'jaccard_similarity_score'",
     "output_type": "error",
     "traceback": [
      "\u001b[0;31m---------------------------------------------------------------------------\u001b[0m",
      "\u001b[0;31mAttributeError\u001b[0m                            Traceback (most recent call last)",
      "\u001b[0;32m<ipython-input-197-819b025b695f>\u001b[0m in \u001b[0;36m<module>\u001b[0;34m\u001b[0m\n\u001b[0;32m----> 1\u001b[0;31m \u001b[0;32mfrom\u001b[0m \u001b[0mpandas_ml\u001b[0m \u001b[0;32mimport\u001b[0m \u001b[0mConfusionMatrix\u001b[0m\u001b[0;34m\u001b[0m\u001b[0;34m\u001b[0m\u001b[0m\n\u001b[0m\u001b[1;32m      2\u001b[0m \u001b[0;34m\u001b[0m\u001b[0m\n\u001b[1;32m      3\u001b[0m \u001b[0;31m# cm = ConfusionMatrix(actual_vector=y_test, predict_vector=dt_predicted)\u001b[0m\u001b[0;34m\u001b[0m\u001b[0;34m\u001b[0m\u001b[0;34m\u001b[0m\u001b[0m\n\u001b[1;32m      4\u001b[0m \u001b[0;31m# print(cm)\u001b[0m\u001b[0;34m\u001b[0m\u001b[0;34m\u001b[0m\u001b[0;34m\u001b[0m\u001b[0m\n\u001b[1;32m      5\u001b[0m \u001b[0;34m\u001b[0m\u001b[0m\n",
      "\u001b[0;32m/Applications/anaconda3/lib/python3.7/site-packages/pandas_ml/__init__.py\u001b[0m in \u001b[0;36m<module>\u001b[0;34m\u001b[0m\n\u001b[1;32m      1\u001b[0m \u001b[0;31m#!/usr/bin/env python\u001b[0m\u001b[0;34m\u001b[0m\u001b[0;34m\u001b[0m\u001b[0;34m\u001b[0m\u001b[0m\n\u001b[1;32m      2\u001b[0m \u001b[0;34m\u001b[0m\u001b[0m\n\u001b[0;32m----> 3\u001b[0;31m \u001b[0;32mfrom\u001b[0m \u001b[0mpandas_ml\u001b[0m\u001b[0;34m.\u001b[0m\u001b[0mcore\u001b[0m \u001b[0;32mimport\u001b[0m \u001b[0mModelFrame\u001b[0m\u001b[0;34m,\u001b[0m \u001b[0mModelSeries\u001b[0m       \u001b[0;31m# noqa\u001b[0m\u001b[0;34m\u001b[0m\u001b[0;34m\u001b[0m\u001b[0m\n\u001b[0m\u001b[1;32m      4\u001b[0m \u001b[0;32mfrom\u001b[0m \u001b[0mpandas_ml\u001b[0m\u001b[0;34m.\u001b[0m\u001b[0mtools\u001b[0m \u001b[0;32mimport\u001b[0m \u001b[0minfo\u001b[0m                         \u001b[0;31m# noqa\u001b[0m\u001b[0;34m\u001b[0m\u001b[0;34m\u001b[0m\u001b[0m\n\u001b[1;32m      5\u001b[0m \u001b[0;32mfrom\u001b[0m \u001b[0mpandas_ml\u001b[0m\u001b[0;34m.\u001b[0m\u001b[0mversion\u001b[0m \u001b[0;32mimport\u001b[0m \u001b[0mversion\u001b[0m \u001b[0;32mas\u001b[0m \u001b[0m__version__\u001b[0m     \u001b[0;31m# noqa\u001b[0m\u001b[0;34m\u001b[0m\u001b[0;34m\u001b[0m\u001b[0m\n",
      "\u001b[0;32m/Applications/anaconda3/lib/python3.7/site-packages/pandas_ml/core/__init__.py\u001b[0m in \u001b[0;36m<module>\u001b[0;34m\u001b[0m\n\u001b[1;32m      1\u001b[0m \u001b[0;31m#!/usr/bin/env python\u001b[0m\u001b[0;34m\u001b[0m\u001b[0;34m\u001b[0m\u001b[0;34m\u001b[0m\u001b[0m\n\u001b[1;32m      2\u001b[0m \u001b[0;34m\u001b[0m\u001b[0m\n\u001b[0;32m----> 3\u001b[0;31m \u001b[0;32mfrom\u001b[0m \u001b[0mpandas_ml\u001b[0m\u001b[0;34m.\u001b[0m\u001b[0mcore\u001b[0m\u001b[0;34m.\u001b[0m\u001b[0mframe\u001b[0m \u001b[0;32mimport\u001b[0m \u001b[0mModelFrame\u001b[0m       \u001b[0;31m# noqa\u001b[0m\u001b[0;34m\u001b[0m\u001b[0;34m\u001b[0m\u001b[0m\n\u001b[0m\u001b[1;32m      4\u001b[0m \u001b[0;32mfrom\u001b[0m \u001b[0mpandas_ml\u001b[0m\u001b[0;34m.\u001b[0m\u001b[0mcore\u001b[0m\u001b[0;34m.\u001b[0m\u001b[0mseries\u001b[0m \u001b[0;32mimport\u001b[0m \u001b[0mModelSeries\u001b[0m     \u001b[0;31m# noqa\u001b[0m\u001b[0;34m\u001b[0m\u001b[0;34m\u001b[0m\u001b[0m\n",
      "\u001b[0;32m/Applications/anaconda3/lib/python3.7/site-packages/pandas_ml/core/frame.py\u001b[0m in \u001b[0;36m<module>\u001b[0;34m\u001b[0m\n\u001b[1;32m      8\u001b[0m \u001b[0;34m\u001b[0m\u001b[0m\n\u001b[1;32m      9\u001b[0m \u001b[0;32mimport\u001b[0m \u001b[0mpandas_ml\u001b[0m\u001b[0;34m.\u001b[0m\u001b[0mimbaccessors\u001b[0m \u001b[0;32mas\u001b[0m \u001b[0mimbaccessors\u001b[0m\u001b[0;34m\u001b[0m\u001b[0;34m\u001b[0m\u001b[0m\n\u001b[0;32m---> 10\u001b[0;31m \u001b[0;32mimport\u001b[0m \u001b[0mpandas_ml\u001b[0m\u001b[0;34m.\u001b[0m\u001b[0mskaccessors\u001b[0m \u001b[0;32mas\u001b[0m \u001b[0mskaccessors\u001b[0m\u001b[0;34m\u001b[0m\u001b[0;34m\u001b[0m\u001b[0m\n\u001b[0m\u001b[1;32m     11\u001b[0m \u001b[0;32mimport\u001b[0m \u001b[0mpandas_ml\u001b[0m\u001b[0;34m.\u001b[0m\u001b[0msmaccessors\u001b[0m \u001b[0;32mas\u001b[0m \u001b[0msmaccessors\u001b[0m\u001b[0;34m\u001b[0m\u001b[0;34m\u001b[0m\u001b[0m\n\u001b[1;32m     12\u001b[0m \u001b[0;32mimport\u001b[0m \u001b[0mpandas_ml\u001b[0m\u001b[0;34m.\u001b[0m\u001b[0msnsaccessors\u001b[0m \u001b[0;32mas\u001b[0m \u001b[0msnsaccessors\u001b[0m\u001b[0;34m\u001b[0m\u001b[0;34m\u001b[0m\u001b[0m\n",
      "\u001b[0;32m/Applications/anaconda3/lib/python3.7/site-packages/pandas_ml/skaccessors/__init__.py\u001b[0m in \u001b[0;36m<module>\u001b[0;34m\u001b[0m\n\u001b[1;32m     13\u001b[0m \u001b[0;32mfrom\u001b[0m \u001b[0mpandas_ml\u001b[0m\u001b[0;34m.\u001b[0m\u001b[0mskaccessors\u001b[0m\u001b[0;34m.\u001b[0m\u001b[0mlinear_model\u001b[0m \u001b[0;32mimport\u001b[0m \u001b[0mLinearModelMethods\u001b[0m                 \u001b[0;31m# noqa\u001b[0m\u001b[0;34m\u001b[0m\u001b[0;34m\u001b[0m\u001b[0m\n\u001b[1;32m     14\u001b[0m \u001b[0;32mfrom\u001b[0m \u001b[0mpandas_ml\u001b[0m\u001b[0;34m.\u001b[0m\u001b[0mskaccessors\u001b[0m\u001b[0;34m.\u001b[0m\u001b[0mmanifold\u001b[0m \u001b[0;32mimport\u001b[0m \u001b[0mManifoldMethods\u001b[0m                        \u001b[0;31m# noqa\u001b[0m\u001b[0;34m\u001b[0m\u001b[0;34m\u001b[0m\u001b[0m\n\u001b[0;32m---> 15\u001b[0;31m \u001b[0;32mfrom\u001b[0m \u001b[0mpandas_ml\u001b[0m\u001b[0;34m.\u001b[0m\u001b[0mskaccessors\u001b[0m\u001b[0;34m.\u001b[0m\u001b[0mmetrics\u001b[0m \u001b[0;32mimport\u001b[0m \u001b[0mMetricsMethods\u001b[0m                          \u001b[0;31m# noqa\u001b[0m\u001b[0;34m\u001b[0m\u001b[0;34m\u001b[0m\u001b[0m\n\u001b[0m\u001b[1;32m     16\u001b[0m \u001b[0;32mfrom\u001b[0m \u001b[0mpandas_ml\u001b[0m\u001b[0;34m.\u001b[0m\u001b[0mskaccessors\u001b[0m\u001b[0;34m.\u001b[0m\u001b[0mmodel_selection\u001b[0m \u001b[0;32mimport\u001b[0m \u001b[0mModelSelectionMethods\u001b[0m           \u001b[0;31m# noqa\u001b[0m\u001b[0;34m\u001b[0m\u001b[0;34m\u001b[0m\u001b[0m\n\u001b[1;32m     17\u001b[0m \u001b[0;32mfrom\u001b[0m \u001b[0mpandas_ml\u001b[0m\u001b[0;34m.\u001b[0m\u001b[0mskaccessors\u001b[0m\u001b[0;34m.\u001b[0m\u001b[0mneighbors\u001b[0m \u001b[0;32mimport\u001b[0m \u001b[0mNeighborsMethods\u001b[0m                      \u001b[0;31m# noqa\u001b[0m\u001b[0;34m\u001b[0m\u001b[0;34m\u001b[0m\u001b[0m\n",
      "\u001b[0;32m/Applications/anaconda3/lib/python3.7/site-packages/pandas_ml/skaccessors/metrics.py\u001b[0m in \u001b[0;36m<module>\u001b[0;34m\u001b[0m\n\u001b[1;32m    254\u001b[0m _true_pred_methods = (_classification_methods + _regression_methods\n\u001b[1;32m    255\u001b[0m                       + _cluster_methods)\n\u001b[0;32m--> 256\u001b[0;31m \u001b[0m_attach_methods\u001b[0m\u001b[0;34m(\u001b[0m\u001b[0mMetricsMethods\u001b[0m\u001b[0;34m,\u001b[0m \u001b[0m_wrap_target_pred_func\u001b[0m\u001b[0;34m,\u001b[0m \u001b[0m_true_pred_methods\u001b[0m\u001b[0;34m)\u001b[0m\u001b[0;34m\u001b[0m\u001b[0;34m\u001b[0m\u001b[0m\n\u001b[0m\u001b[1;32m    257\u001b[0m \u001b[0;34m\u001b[0m\u001b[0m\n\u001b[1;32m    258\u001b[0m \u001b[0;34m\u001b[0m\u001b[0m\n",
      "\u001b[0;32m/Applications/anaconda3/lib/python3.7/site-packages/pandas_ml/core/accessor.py\u001b[0m in \u001b[0;36m_attach_methods\u001b[0;34m(cls, wrap_func, methods)\u001b[0m\n\u001b[1;32m     91\u001b[0m \u001b[0;34m\u001b[0m\u001b[0m\n\u001b[1;32m     92\u001b[0m         \u001b[0;32mfor\u001b[0m \u001b[0mmethod\u001b[0m \u001b[0;32min\u001b[0m \u001b[0mmethods\u001b[0m\u001b[0;34m:\u001b[0m\u001b[0;34m\u001b[0m\u001b[0;34m\u001b[0m\u001b[0m\n\u001b[0;32m---> 93\u001b[0;31m             \u001b[0m_f\u001b[0m \u001b[0;34m=\u001b[0m \u001b[0mgetattr\u001b[0m\u001b[0;34m(\u001b[0m\u001b[0mmodule\u001b[0m\u001b[0;34m,\u001b[0m \u001b[0mmethod\u001b[0m\u001b[0;34m)\u001b[0m\u001b[0;34m\u001b[0m\u001b[0;34m\u001b[0m\u001b[0m\n\u001b[0m\u001b[1;32m     94\u001b[0m             \u001b[0;32mif\u001b[0m \u001b[0mhasattr\u001b[0m\u001b[0;34m(\u001b[0m\u001b[0mcls\u001b[0m\u001b[0;34m,\u001b[0m \u001b[0mmethod\u001b[0m\u001b[0;34m)\u001b[0m\u001b[0;34m:\u001b[0m\u001b[0;34m\u001b[0m\u001b[0;34m\u001b[0m\u001b[0m\n\u001b[1;32m     95\u001b[0m                 \u001b[0;32mraise\u001b[0m \u001b[0mValueError\u001b[0m\u001b[0;34m(\u001b[0m\u001b[0;34m\"{0} already has '{1}' method\"\u001b[0m\u001b[0;34m.\u001b[0m\u001b[0mformat\u001b[0m\u001b[0;34m(\u001b[0m\u001b[0mcls\u001b[0m\u001b[0;34m,\u001b[0m \u001b[0mmethod\u001b[0m\u001b[0;34m)\u001b[0m\u001b[0;34m)\u001b[0m\u001b[0;34m\u001b[0m\u001b[0;34m\u001b[0m\u001b[0m\n",
      "\u001b[0;31mAttributeError\u001b[0m: module 'sklearn.metrics' has no attribute 'jaccard_similarity_score'"
     ]
    }
   ],
   "source": [
    "from pandas_ml import ConfusionMatrix\n",
    "\n",
    "cm = ConfusionMatrix(actual_vector=y_test, predict_vector=dt_predicted)\n",
    "print(cm)\n"
   ]
  },
  {
   "cell_type": "code",
   "execution_count": null,
   "metadata": {},
   "outputs": [],
   "source": [
    "clf = AdaBoostClassifier(n_estimators=100)\n",
    "clf.fit(X_train, y_train)\n",
    "rf_predicted =clf.predict(X_test)\n",
    "accuracy = accuracy_score(y_test,rf_predicted)\n",
    "print (\"Accuracy: \", accuracy)\n",
    "\n",
    "rf_cm = confusion_matrix(y_test, rf_predicted)\n",
    "print(\"Confusion Matrix: \", rf_cm)"
   ]
  },
  {
   "cell_type": "code",
   "execution_count": null,
   "metadata": {
    "scrolled": false
   },
   "outputs": [],
   "source": [
    "gradclf = GradientBoostingClassifier(n_estimators=100)\n",
    "gradclf.fit(X_train, y_train)\n",
    "rf_predicted =gradclf.predict(X_test)\n",
    "accuracy = accuracy_score(y_test,rf_predicted)\n",
    "print (\"Accuracy: \", accuracy)\n",
    "\n",
    "plot_confusion_matrix(rf_cm, classes = clf.classes_,\n",
    "                      title = 'Confusion Matrix of Gradient Boosting Classifier')\n",
    "\n",
    "plt.savefig('gradientboost.png')"
   ]
  },
  {
   "cell_type": "code",
   "execution_count": null,
   "metadata": {},
   "outputs": [],
   "source": [
    "import sklearn.metrics"
   ]
  },
  {
   "cell_type": "code",
   "execution_count": 123,
   "metadata": {},
   "outputs": [
    {
     "name": "stdout",
     "output_type": "stream",
     "text": [
      "Accuracy:  0.961912164788185\n",
      "Confusion Matrix:  [[ 883   49   21   19   20    6    4    6   26   20]\n",
      " [   3  280    2    0    0    0    0    0   95    0]\n",
      " [   1    0 1115    0    9    0    0    0    0    0]\n",
      " [   0    0    0 1049   18    2    0    0    0    5]\n",
      " [   0    0    9    2 1124    0    2    0    0    1]\n",
      " [   0    0    1    1    0 1133    8    0    0    8]\n",
      " [   0    0    1    0    1   19 1068    0    0   12]\n",
      " [   0    0    0    0    0    0    6 1090    0    1]\n",
      " [   2    0    0    0    1    5    2    1 1033    0]\n",
      " [   2    0    0    0    0    0    0    1    0 1125]]\n",
      "Confusion matrix, without normalization\n",
      "[[ 883   49   21   19   20    6    4    6   26   20]\n",
      " [   3  280    2    0    0    0    0    0   95    0]\n",
      " [   1    0 1115    0    9    0    0    0    0    0]\n",
      " [   0    0    0 1049   18    2    0    0    0    5]\n",
      " [   0    0    9    2 1124    0    2    0    0    1]\n",
      " [   0    0    1    1    0 1133    8    0    0    8]\n",
      " [   0    0    1    0    1   19 1068    0    0   12]\n",
      " [   0    0    0    0    0    0    6 1090    0    1]\n",
      " [   2    0    0    0    1    5    2    1 1033    0]\n",
      " [   2    0    0    0    0    0    0    1    0 1125]]\n"
     ]
    },
    {
     "data": {
      "image/png": "[encoded data removed]",
      "text/plain": [
       "<Figure size 1152x1008 with 1 Axes>"
      ]
     },
     "metadata": {},
     "output_type": "display_data"
    }
   ],
   "source": [
    "svmclf = svm.SVC()\n",
    "svmclf.fit(X_train, y_train)\n",
    "rf_predicted =svmclf.predict(X_test)\n",
    "accuracy = accuracy_score(y_test,rf_predicted)\n",
    "print (\"Accuracy: \", accuracy)\n",
    "\n",
    "rf_cm = confusion_matrix(y_test, rf_predicted)\n",
    "print(\"Confusion Matrix: \", rf_cm)\n",
    "\n",
    "\n",
    "plot_confusion_matrix(rf_cm, classes = clf.classes_,\n",
    "                      title = 'Confusion Matrix of Support Vector Machine')\n",
    "\n",
    "plt.savefig('svm.png')"
   ]
  },
  {
   "cell_type": "code",
   "execution_count": 146,
   "metadata": {},
   "outputs": [
    {
     "data": {
      "text/plain": [
       "array(['DoS slowloris', 'DoS GoldenEye', 'DoS GoldenEye', ..., 'DDoS',\n",
       "       'DoS GoldenEye', 'DoS Slowhttptest'], dtype=object)"
      ]
     },
     "execution_count": 146,
     "metadata": {},
     "output_type": "execute_result"
    }
   ],
   "source": [
    "svm_predicted =svmclf.predict(X_test)\n",
    "svm_predicted"
   ]
  },
  {
   "cell_type": "code",
   "execution_count": 149,
   "metadata": {},
   "outputs": [
    {
     "name": "stdout",
     "output_type": "stream",
     "text": [
      "                  precision    recall  f1-score   support\n",
      "\n",
      "          BENIGN       0.99      0.84      0.91      1054\n",
      "             Bot       0.85      0.74      0.79       380\n",
      "            DDoS       0.97      0.99      0.98      1125\n",
      "   DoS GoldenEye       0.98      0.98      0.98      1074\n",
      "        DoS Hulk       0.96      0.99      0.97      1138\n",
      "DoS Slowhttptest       0.97      0.98      0.98      1151\n",
      "   DoS slowloris       0.98      0.97      0.97      1101\n",
      "     FTP-Patator       0.99      0.99      0.99      1097\n",
      "        PortScan       0.90      0.99      0.94      1044\n",
      "     SSH-Patator       0.96      1.00      0.98      1128\n",
      "\n",
      "        accuracy                           0.96     10292\n",
      "       macro avg       0.96      0.95      0.95     10292\n",
      "    weighted avg       0.96      0.96      0.96     10292\n",
      "\n"
     ]
    }
   ],
   "source": [
    "print(classification_report(y_test, svm_predicted))\n"
   ]
  },
  {
   "cell_type": "code",
   "execution_count": 189,
   "metadata": {},
   "outputs": [
    {
     "data": {
      "text/plain": [
       "0.10513019821220365"
      ]
     },
     "execution_count": 189,
     "metadata": {},
     "output_type": "execute_result"
    }
   ],
   "source": [
    "recall_score(y_test, svm_predicted,average='micro')"
   ]
  },
  {
   "cell_type": "code",
   "execution_count": 158,
   "metadata": {},
   "outputs": [],
   "source": [
    "# print(classification_report(y_test, svm_predicted))\n",
    "\n",
    "from sklearn import preprocessing\n",
    "\n",
    "le = preprocessing.LabelEncoder()\n",
    "le.fit(svm_predicted)\n",
    "svm_enc = le.transform(svm_predicted)\n",
    "le.fit(y_test)\n",
    "y_test_enc = le.transform(y_test)\n"
   ]
  },
  {
   "cell_type": "code",
   "execution_count": 159,
   "metadata": {},
   "outputs": [],
   "source": [
    "le.fit(y_test)\n",
    "y_test_enc = le.transform(y_test)"
   ]
  },
  {
   "cell_type": "code",
   "execution_count": 160,
   "metadata": {
    "scrolled": false
   },
   "outputs": [
    {
     "name": "stdout",
     "output_type": "stream",
     "text": [
      "Predict    0          1          2          3          4          5          6          7          8          9          \n",
      "Actual\n",
      "0          883        49         21         19         20         6          4          6          26         20         \n",
      "\n",
      "1          3          280        2          0          0          0          0          0          95         0          \n",
      "\n",
      "2          1          0          1115       0          9          0          0          0          0          0          \n",
      "\n",
      "3          0          0          0          1049       18         2          0          0          0          5          \n",
      "\n",
      "4          0          0          9          2          1124       0          2          0          0          1          \n",
      "\n",
      "5          0          0          1          1          0          1133       8          0          0          8          \n",
      "\n",
      "6          0          0          1          0          1          19         1068       0          0          12         \n",
      "\n",
      "7          0          0          0          0          0          0          6          1090       0          1          \n",
      "\n",
      "8          2          0          0          0          1          5          2          1          1033       0          \n",
      "\n",
      "9          2          0          0          0          0          0          0          1          0          1125       \n",
      "\n",
      "\n",
      "\n",
      "\n",
      "\n",
      "Overall Statistics : \n",
      "\n",
      "95% CI                                                            (0.95821,0.96561)\n",
      "ACC Macro                                                         0.99238\n",
      "ARI                                                               0.92854\n",
      "AUNP                                                              0.97888\n",
      "AUNU                                                              0.97114\n",
      "Bangdiwala B                                                      0.93666\n",
      "Bennett S                                                         0.95768\n",
      "CBA                                                               0.92703\n",
      "CSI                                                               0.90152\n",
      "Chi-Squared                                                       83261.30197\n",
      "Chi-Squared DF                                                    81\n",
      "Conditional Entropy                                               0.2479\n",
      "Cramer V                                                          0.94809\n",
      "Cross Entropy                                                     3.28366\n",
      "F1 Macro                                                          0.9494\n",
      "F1 Micro                                                          0.96191\n",
      "FNR Macro                                                         0.05351\n",
      "FNR Micro                                                         0.03809\n",
      "FPR Macro                                                         0.00422\n",
      "FPR Micro                                                         0.00423\n",
      "Gwet AC1                                                          0.95771\n",
      "Hamming Loss                                                      0.03809\n",
      "Joint Entropy                                                     3.52805\n",
      "KL Divergence                                                     0.00351\n",
      "Kappa                                                             0.95745\n",
      "Kappa 95% CI                                                      (0.95332,0.96158)\n",
      "Kappa No Prevalence                                               0.92382\n",
      "Kappa Standard Error                                              0.00211\n",
      "Kappa Unbiased                                                    0.95744\n",
      "Krippendorff Alpha                                                0.95744\n",
      "Lambda A                                                          0.95712\n",
      "Lambda B                                                          0.95701\n",
      "Mutual Information                                                3.02059\n",
      "NIR                                                               0.11183\n",
      "Overall ACC                                                       0.96191\n",
      "Overall CEN                                                       0.05715\n",
      "Overall J                                                         (9.08953,0.90895)\n",
      "Overall MCC                                                       0.95768\n",
      "Overall MCEN                                                      0.09443\n",
      "Overall RACC                                                      0.10492\n",
      "Overall RACCU                                                     0.10503\n",
      "P-Value                                                           None\n",
      "PPV Macro                                                         0.95503\n",
      "PPV Micro                                                         0.96191\n",
      "Pearson C                                                         0.94339\n",
      "Phi-Squared                                                       8.0899\n",
      "RCI                                                               0.92087\n",
      "RR                                                                1029.2\n",
      "Reference Entropy                                                 3.28016\n",
      "Response Entropy                                                  3.26849\n",
      "SOA1(Landis & Koch)                                               Almost Perfect\n",
      "SOA2(Fleiss)                                                      Excellent\n",
      "SOA3(Altman)                                                      Very Good\n",
      "SOA4(Cicchetti)                                                   Excellent\n",
      "SOA5(Cramer)                                                      Very Strong\n",
      "SOA6(Matthews)                                                    Very Strong\n",
      "Scott PI                                                          0.95744\n",
      "Standard Error                                                    0.00189\n",
      "TNR Macro                                                         0.99578\n",
      "TNR Micro                                                         0.99577\n",
      "TPR Macro                                                         0.94649\n",
      "TPR Micro                                                         0.96191\n",
      "Zero-one Loss                                                     392\n",
      "\n",
      "Class Statistics :\n",
      "\n",
      "Classes                                                           0             1             2             3             4             5             6             7             8             9             \n",
      "ACC(Accuracy)                                                     0.98261       0.98552       0.99572       0.99543       0.99388       0.99514       0.99466       0.99854       0.98717       0.99514       \n",
      "AGF(Adjusted F-score)                                             0.92289       0.86622       0.99262       0.98726       0.98965       0.98982       0.98423       0.99632       0.98263       0.99415       \n",
      "AGM(Adjusted geometric mean)                                      0.95474       0.92436       0.99492       0.99207       0.9928        0.99328       0.99027       0.99767       0.98759       0.99552       \n",
      "AM(Difference between automatic and manual classification)        -163          -51           24            -3            35            14            -11           1             110           44            \n",
      "AUC(Area under the ROC curve)                                     0.91845       0.86595       0.9937        0.98717       0.99117       0.99043       0.98382       0.99637       0.98819       0.99611       \n",
      "AUCI(AUC value interpretation)                                    Excellent     Very Good     Excellent     Excellent     Excellent     Excellent     Excellent     Excellent     Excellent     Excellent     \n",
      "AUPR(Area under the PR curve)                                     0.91439       0.79395       0.98076       0.97809       0.97296       0.97845       0.97492       0.99317       0.94231       0.97862       \n",
      "BCD(Bray-Curtis dissimilarity)                                    0.00792       0.00248       0.00117       0.00015       0.0017        0.00068       0.00053       5e-05         0.00534       0.00214       \n",
      "BM(Informedness or bookmaker informedness)                        0.83689       0.7319        0.9874        0.97434       0.98234       0.98086       0.96763       0.99275       0.97638       0.99221       \n",
      "CEN(Confusion entropy)                                            0.14361       0.1708        0.03579       0.03899       0.04996       0.04153       0.04762       0.0148        0.07676       0.0408        \n",
      "DOR(Diagnostic odds ratio)                                        5957.66813    563.6         29950.86765   17539.28      14918.3965    17917.52951   13488.28099   178818.39286  7083.53944    72742.02128   \n",
      "DP(Discriminant power)                                            2.08131       1.51669       2.46797       2.33985       2.30109       2.34496       2.27696       2.89581       2.12275       2.68044       \n",
      "DPI(Discriminant power interpretation)                            Fair          Limited       Fair          Fair          Fair          Fair          Fair          Fair          Fair          Fair          \n",
      "ERR(Error rate)                                                   0.01739       0.01448       0.00428       0.00457       0.00612       0.00486       0.00534       0.00146       0.01283       0.00486       \n",
      "F0.5(F0.5 score)                                                  0.95604       0.82547       0.97448       0.97891       0.96398       0.97488       0.97784       0.99289       0.91254       0.96716       \n",
      "F1(F1 score - harmonic mean of precision and sensitivity)         0.90797       0.78984       0.98065       0.97809       0.97274       0.97841       0.9749        0.99317       0.93995       0.97826       \n",
      "F2(F2 score)                                                      0.8645        0.75717       0.9869        0.97727       0.98166       0.98197       0.97197       0.99344       0.96904       0.98962       \n",
      "FDR(False discovery rate)                                         0.00898       0.14894       0.02959       0.02054       0.04177       0.02747       0.02018       0.00729       0.10485       0.0401        \n",
      "FN(False negative/miss/type 2 error)                              171           100           10            25            14            18            33            7             11            3             \n",
      "FNR(Miss rate or false negative rate)                             0.16224       0.26316       0.00889       0.02328       0.0123        0.01564       0.02997       0.00638       0.01054       0.00266       \n",
      "FOR(False omission rate)                                          0.01819       0.01004       0.00109       0.00271       0.00154       0.00197       0.00359       0.00076       0.0012        0.00033       \n",
      "FP(False positive/type 1 error/false alarm)                       8             49            34            22            49            32            22            8             121           47            \n",
      "FPR(Fall-out or false positive rate)                              0.00087       0.00494       0.00371       0.00239       0.00535       0.0035        0.00239       0.00087       0.01308       0.00513       \n",
      "G(G-measure geometric mean of precision and sensitivity)          0.91117       0.7919        0.98071       0.97809       0.97285       0.97843       0.97491       0.99317       0.94112       0.97844       \n",
      "GI(Gini index)                                                    0.83689       0.7319        0.9874        0.97434       0.98234       0.98086       0.96763       0.99275       0.97638       0.99221       \n",
      "GM(G-mean geometric mean of specificity and sensitivity)          0.9149        0.85627       0.9937        0.98711       0.99117       0.99041       0.98372       0.99637       0.98819       0.99611       \n",
      "IBA(Index of balanced accuracy)                                   0.70196       0.54388       0.98232       0.95404       0.97558       0.96901       0.94102       0.98728       0.97901       0.99468       \n",
      "ICSI(Individual classification success index)                     0.82878       0.58791       0.96152       0.95618       0.94592       0.95689       0.94984       0.98633       0.88461       0.95724       \n",
      "IS(Information score)                                             3.27456       4.52672       3.15019       3.23051       3.11539       3.12038       3.19522       3.21934       3.14153       3.13064       \n",
      "J(Jaccard index)                                                  0.83145       0.65268       0.96204       0.95712       0.94693       0.95773       0.95102       0.98643       0.8867        0.95745       \n",
      "LS(Lift score)                                                    9.67703       23.05039      8.87773       9.38602       8.66614       8.69618       9.15919       9.31359       8.82457       8.75821       \n",
      "MCC(Matthews correlation coefficient)                             0.90231       0.78457       0.97832       0.97554       0.96943       0.9757        0.97192       0.99235       0.93425       0.97575       \n",
      "MCCI(Matthews correlation coefficient interpretation)             Very Strong   Strong        Very Strong   Very Strong   Very Strong   Very Strong   Very Strong   Very Strong   Very Strong   Very Strong   \n",
      "MCEN(Modified confusion entropy)                                  0.22773       0.22191       0.06136       0.06635       0.08503       0.07147       0.08159       0.02618       0.11993       0.06998       \n",
      "MK(Markedness)                                                    0.97283       0.84103       0.96932       0.97675       0.95669       0.97056       0.97623       0.99195       0.89394       0.95957       \n",
      "N(Condition negative)                                             9238          9912          9167          9218          9154          9141          9191          9195          9248          9164          \n",
      "NLR(Negative likelihood ratio)                                    0.16238       0.26447       0.00892       0.02333       0.01237       0.01569       0.03004       0.00639       0.01068       0.00267       \n",
      "NLRI(Negative likelihood ratio interpretation)                    Fair          Poor          Good          Good          Good          Good          Good          Good          Good          Good          \n",
      "NPV(Negative predictive value)                                    0.98181       0.98996       0.99891       0.99729       0.99846       0.99803       0.99641       0.99924       0.9988        0.99967       \n",
      "OC(Overlap coefficient)                                           0.99102       0.85106       0.99111       0.97946       0.9877        0.98436       0.97982       0.99362       0.98946       0.99734       \n",
      "OOC(Otsuka-Ochiai coefficient)                                    0.91117       0.7919        0.98071       0.97809       0.97285       0.97843       0.97491       0.99317       0.94112       0.97844       \n",
      "OP(Optimized precision)                                           0.89476       0.83643       0.99312       0.98485       0.99037       0.98901       0.98064       0.99578       0.98589       0.9939        \n",
      "P(Condition positive or support)                                  1054          380           1125          1074          1138          1151          1101          1097          1044          1128          \n",
      "PLR(Positive likelihood ratio)                                    967.40441     149.05263     267.22105     409.24674     184.51806     281.18899     405.25093     1142.04079    75.62446      194.46016     \n",
      "PLRI(Positive likelihood ratio interpretation)                    Good          Good          Good          Good          Good          Good          Good          Good          Good          Good          \n",
      "POP(Population)                                                   10292         10292         10292         10292         10292         10292         10292         10292         10292         10292         \n",
      "PPV(Precision or positive predictive value)                       0.99102       0.85106       0.97041       0.97946       0.95823       0.97253       0.97982       0.99271       0.89515       0.9599        \n",
      "PRE(Prevalence)                                                   0.10241       0.03692       0.10931       0.10435       0.11057       0.11183       0.10698       0.10659       0.10144       0.1096        \n",
      "Q(Yule Q - coefficient of colligation)                            0.99966       0.99646       0.99993       0.99989       0.99987       0.99989       0.99985       0.99999       0.99972       0.99997       \n",
      "QI(Yule Q interpretation)                                         Strong        Strong        Strong        Strong        Strong        Strong        Strong        Strong        Strong        Strong        \n",
      "RACC(Random accuracy)                                             0.00887       0.00118       0.0122        0.01086       0.0126        0.01266       0.01133       0.01137       0.01137       0.01248       \n",
      "RACCU(Random accuracy unbiased)                                   0.00893       0.00119       0.0122        0.01086       0.0126        0.01266       0.01133       0.01137       0.0114        0.01249       \n",
      "TN(True negative/correct rejection)                               9230          9863          9133          9196          9105          9109          9169          9187          9127          9117          \n",
      "TNR(Specificity or true negative rate)                            0.99913       0.99506       0.99629       0.99761       0.99465       0.9965        0.99761       0.99913       0.98692       0.99487       \n",
      "TON(Test outcome negative)                                        9401          9963          9143          9221          9119          9127          9202          9194          9138          9120          \n",
      "TOP(Test outcome positive)                                        891           329           1149          1071          1173          1165          1090          1098          1154          1172          \n",
      "TP(True positive/hit)                                             883           280           1115          1049          1124          1133          1068          1090          1033          1125          \n",
      "TPR(Sensitivity, recall, hit rate, or true positive rate)         0.83776       0.73684       0.99111       0.97672       0.9877        0.98436       0.97003       0.99362       0.98946       0.99734       \n",
      "Y(Youden index)                                                   0.83689       0.7319        0.9874        0.97434       0.98234       0.98086       0.96763       0.99275       0.97638       0.99221       \n",
      "dInd(Distance index)                                              0.16224       0.2632        0.00963       0.0234        0.01342       0.01603       0.03007       0.00644       0.0168        0.00578       \n",
      "sInd(Similarity index)                                            0.88528       0.81389       0.99319       0.98345       0.99051       0.98867       0.97874       0.99545       0.98812       0.99591       \n",
      "\n"
     ]
    }
   ],
   "source": [
    "from pycm import *\n",
    "\n",
    "\n",
    "svmcm = ConfusionMatrix(actual_vector=y_test_enc, predict_vector=svm_enc) # Create CM From Data\n",
    "\n",
    "print(svmcm)"
   ]
  },
  {
   "cell_type": "code",
   "execution_count": 161,
   "metadata": {
    "collapsed": true
   },
   "outputs": [
    {
     "ename": "AttributeError",
     "evalue": "'NoneType' object has no attribute 'tree_'",
     "output_type": "error",
     "traceback": [
      "\u001b[0;31m---------------------------------------------------------------------------\u001b[0m",
      "\u001b[0;31mAttributeError\u001b[0m                            Traceback (most recent call last)",
      "\u001b[0;32m<ipython-input-161-88fa4c36b38d>\u001b[0m in \u001b[0;36m<module>\u001b[0;34m\u001b[0m\n\u001b[0;32m----> 1\u001b[0;31m \u001b[0mgradclf_predicted\u001b[0m \u001b[0;34m=\u001b[0m\u001b[0mgradclf\u001b[0m\u001b[0;34m.\u001b[0m\u001b[0mpredict\u001b[0m\u001b[0;34m(\u001b[0m\u001b[0mX_test\u001b[0m\u001b[0;34m)\u001b[0m\u001b[0;34m\u001b[0m\u001b[0;34m\u001b[0m\u001b[0m\n\u001b[0m\u001b[1;32m      2\u001b[0m \u001b[0;31m# print(classification_report(y_test, gradclf_predicted))\u001b[0m\u001b[0;34m\u001b[0m\u001b[0;34m\u001b[0m\u001b[0;34m\u001b[0m\u001b[0m\n",
      "\u001b[0;32m/Applications/anaconda3/lib/python3.7/site-packages/sklearn/ensemble/_gb.py\u001b[0m in \u001b[0;36mpredict\u001b[0;34m(self, X)\u001b[0m\n\u001b[1;32m   1357\u001b[0m             \u001b[0mThe\u001b[0m \u001b[0mpredicted\u001b[0m \u001b[0mvalues\u001b[0m\u001b[0;34m.\u001b[0m\u001b[0;34m\u001b[0m\u001b[0;34m\u001b[0m\u001b[0m\n\u001b[1;32m   1358\u001b[0m         \"\"\"\n\u001b[0;32m-> 1359\u001b[0;31m         \u001b[0mraw_predictions\u001b[0m \u001b[0;34m=\u001b[0m \u001b[0mself\u001b[0m\u001b[0;34m.\u001b[0m\u001b[0mdecision_function\u001b[0m\u001b[0;34m(\u001b[0m\u001b[0mX\u001b[0m\u001b[0;34m)\u001b[0m\u001b[0;34m\u001b[0m\u001b[0;34m\u001b[0m\u001b[0m\n\u001b[0m\u001b[1;32m   1360\u001b[0m         \u001b[0mencoded_labels\u001b[0m \u001b[0;34m=\u001b[0m \u001b[0mself\u001b[0m\u001b[0;34m.\u001b[0m\u001b[0mloss_\u001b[0m\u001b[0;34m.\u001b[0m\u001b[0m_raw_prediction_to_decision\u001b[0m\u001b[0;34m(\u001b[0m\u001b[0mraw_predictions\u001b[0m\u001b[0;34m)\u001b[0m\u001b[0;34m\u001b[0m\u001b[0;34m\u001b[0m\u001b[0m\n\u001b[1;32m   1361\u001b[0m         \u001b[0;32mreturn\u001b[0m \u001b[0mself\u001b[0m\u001b[0;34m.\u001b[0m\u001b[0mclasses_\u001b[0m\u001b[0;34m.\u001b[0m\u001b[0mtake\u001b[0m\u001b[0;34m(\u001b[0m\u001b[0mencoded_labels\u001b[0m\u001b[0;34m,\u001b[0m \u001b[0maxis\u001b[0m\u001b[0;34m=\u001b[0m\u001b[0;36m0\u001b[0m\u001b[0;34m)\u001b[0m\u001b[0;34m\u001b[0m\u001b[0;34m\u001b[0m\u001b[0m\n",
      "\u001b[0;32m/Applications/anaconda3/lib/python3.7/site-packages/sklearn/ensemble/_gb.py\u001b[0m in \u001b[0;36mdecision_function\u001b[0;34m(self, X)\u001b[0m\n\u001b[1;32m   1313\u001b[0m             \u001b[0mX\u001b[0m\u001b[0;34m,\u001b[0m \u001b[0mdtype\u001b[0m\u001b[0;34m=\u001b[0m\u001b[0mDTYPE\u001b[0m\u001b[0;34m,\u001b[0m \u001b[0morder\u001b[0m\u001b[0;34m=\u001b[0m\u001b[0;34m\"C\"\u001b[0m\u001b[0;34m,\u001b[0m \u001b[0maccept_sparse\u001b[0m\u001b[0;34m=\u001b[0m\u001b[0;34m\"csr\"\u001b[0m\u001b[0;34m,\u001b[0m \u001b[0mreset\u001b[0m\u001b[0;34m=\u001b[0m\u001b[0;32mFalse\u001b[0m\u001b[0;34m\u001b[0m\u001b[0;34m\u001b[0m\u001b[0m\n\u001b[1;32m   1314\u001b[0m         )\n\u001b[0;32m-> 1315\u001b[0;31m         \u001b[0mraw_predictions\u001b[0m \u001b[0;34m=\u001b[0m \u001b[0mself\u001b[0m\u001b[0;34m.\u001b[0m\u001b[0m_raw_predict\u001b[0m\u001b[0;34m(\u001b[0m\u001b[0mX\u001b[0m\u001b[0;34m)\u001b[0m\u001b[0;34m\u001b[0m\u001b[0;34m\u001b[0m\u001b[0m\n\u001b[0m\u001b[1;32m   1316\u001b[0m         \u001b[0;32mif\u001b[0m \u001b[0mraw_predictions\u001b[0m\u001b[0;34m.\u001b[0m\u001b[0mshape\u001b[0m\u001b[0;34m[\u001b[0m\u001b[0;36m1\u001b[0m\u001b[0;34m]\u001b[0m \u001b[0;34m==\u001b[0m \u001b[0;36m1\u001b[0m\u001b[0;34m:\u001b[0m\u001b[0;34m\u001b[0m\u001b[0;34m\u001b[0m\u001b[0m\n\u001b[1;32m   1317\u001b[0m             \u001b[0;32mreturn\u001b[0m \u001b[0mraw_predictions\u001b[0m\u001b[0;34m.\u001b[0m\u001b[0mravel\u001b[0m\u001b[0;34m(\u001b[0m\u001b[0;34m)\u001b[0m\u001b[0;34m\u001b[0m\u001b[0;34m\u001b[0m\u001b[0m\n",
      "\u001b[0;32m/Applications/anaconda3/lib/python3.7/site-packages/sklearn/ensemble/_gb.py\u001b[0m in \u001b[0;36m_raw_predict\u001b[0;34m(self, X)\u001b[0m\n\u001b[1;32m    734\u001b[0m         \u001b[0;34m\"\"\"Return the sum of the trees raw predictions (+ init estimator).\"\"\"\u001b[0m\u001b[0;34m\u001b[0m\u001b[0;34m\u001b[0m\u001b[0m\n\u001b[1;32m    735\u001b[0m         \u001b[0mraw_predictions\u001b[0m \u001b[0;34m=\u001b[0m \u001b[0mself\u001b[0m\u001b[0;34m.\u001b[0m\u001b[0m_raw_predict_init\u001b[0m\u001b[0;34m(\u001b[0m\u001b[0mX\u001b[0m\u001b[0;34m)\u001b[0m\u001b[0;34m\u001b[0m\u001b[0;34m\u001b[0m\u001b[0m\n\u001b[0;32m--> 736\u001b[0;31m         \u001b[0mpredict_stages\u001b[0m\u001b[0;34m(\u001b[0m\u001b[0mself\u001b[0m\u001b[0;34m.\u001b[0m\u001b[0mestimators_\u001b[0m\u001b[0;34m,\u001b[0m \u001b[0mX\u001b[0m\u001b[0;34m,\u001b[0m \u001b[0mself\u001b[0m\u001b[0;34m.\u001b[0m\u001b[0mlearning_rate\u001b[0m\u001b[0;34m,\u001b[0m \u001b[0mraw_predictions\u001b[0m\u001b[0;34m)\u001b[0m\u001b[0;34m\u001b[0m\u001b[0;34m\u001b[0m\u001b[0m\n\u001b[0m\u001b[1;32m    737\u001b[0m         \u001b[0;32mreturn\u001b[0m \u001b[0mraw_predictions\u001b[0m\u001b[0;34m\u001b[0m\u001b[0;34m\u001b[0m\u001b[0m\n\u001b[1;32m    738\u001b[0m \u001b[0;34m\u001b[0m\u001b[0m\n",
      "\u001b[0;32msklearn/ensemble/_gradient_boosting.pyx\u001b[0m in \u001b[0;36msklearn.ensemble._gradient_boosting.predict_stages\u001b[0;34m()\u001b[0m\n",
      "\u001b[0;31mAttributeError\u001b[0m: 'NoneType' object has no attribute 'tree_'"
     ]
    }
   ],
   "source": [
    "gradclf_predicted =gradboosting.predict(X_test)\n",
    "# print(classification_report(y_test, gradclf_predicted))\n"
   ]
  },
  {
   "cell_type": "code",
   "execution_count": 201,
   "metadata": {},
   "outputs": [
    {
     "name": "stdout",
     "output_type": "stream",
     "text": [
      "Accuracy:  0.9897979012825495\n"
     ]
    }
   ],
   "source": [
    "from sklearn.neighbors import KNeighborsClassifier\n",
    "neigh = KNeighborsClassifier(n_neighbors=10)\n",
    "neigh.fit(X_train, y_train)\n",
    "rf_predicted =neigh.predict(X_test)\n",
    "accuracy = accuracy_score(y_test,rf_predicted)\n",
    "print (\"Accuracy: \", accuracy)\n"
   ]
  },
  {
   "cell_type": "code",
   "execution_count": 202,
   "metadata": {},
   "outputs": [
    {
     "name": "stdout",
     "output_type": "stream",
     "text": [
      "                  precision    recall  f1-score   support\n",
      "\n",
      "          BENIGN       0.99      0.96      0.97      1110\n",
      "             Bot       0.97      0.98      0.98       434\n",
      "            DDoS       0.99      0.99      0.99      1112\n",
      "   DoS GoldenEye       0.99      1.00      0.99      1093\n",
      "        DoS Hulk       0.98      0.99      0.99      1108\n",
      "DoS Slowhttptest       0.99      0.99      0.99      1034\n",
      "   DoS slowloris       0.99      0.99      0.99      1124\n",
      "     FTP-Patator       1.00      1.00      1.00      1096\n",
      "        PortScan       0.99      1.00      0.99      1115\n",
      "     SSH-Patator       1.00      1.00      1.00      1066\n",
      "\n",
      "        accuracy                           0.99     10292\n",
      "       macro avg       0.99      0.99      0.99     10292\n",
      "    weighted avg       0.99      0.99      0.99     10292\n",
      "\n"
     ]
    }
   ],
   "source": [
    "print(classification_report(y_test, rf_predicted))\n"
   ]
  },
  {
   "cell_type": "code",
   "execution_count": 162,
   "metadata": {
    "scrolled": false
   },
   "outputs": [
    {
     "name": "stdout",
     "output_type": "stream",
     "text": [
      "Predict    0          1          2          3          4          5          6          7          8          9          \n",
      "Actual\n",
      "0          982        16         1          12         7          2          5          3          20         6          \n",
      "\n",
      "1          1          379        0          0          0          0          0          0          0          0          \n",
      "\n",
      "2          1          0          1116       2          6          0          0          0          0          0          \n",
      "\n",
      "3          0          0          0          1072       0          2          0          0          0          0          \n",
      "\n",
      "4          1          0          8          3          1126       0          0          0          0          0          \n",
      "\n",
      "5          2          0          0          0          0          1134       13         0          0          2          \n",
      "\n",
      "6          3          0          0          0          1          7          1090       0          0          0          \n",
      "\n",
      "7          0          0          0          0          0          0          1          1095       0          1          \n",
      "\n",
      "8          2          0          0          0          1          0          3          0          1038       0          \n",
      "\n",
      "9          1          0          0          2          0          0          0          0          0          1125       \n",
      "\n",
      "\n",
      "\n",
      "\n",
      "\n",
      "Overall Statistics : \n",
      "\n",
      "95% CI                                                            (0.98468,0.98908)\n",
      "ACC Macro                                                         0.99738\n",
      "ARI                                                               0.97199\n",
      "AUNP                                                              0.99272\n",
      "AUNU                                                              0.99296\n",
      "Bangdiwala B                                                      0.97502\n",
      "Bennett S                                                         0.98543\n",
      "CBA                                                               0.97885\n",
      "CSI                                                               0.97246\n",
      "Chi-Squared                                                       89824.73999\n",
      "Chi-Squared DF                                                    81\n",
      "Conditional Entropy                                               0.11365\n",
      "Cramer V                                                          0.98475\n",
      "Cross Entropy                                                     3.2805\n",
      "F1 Macro                                                          0.98609\n",
      "F1 Micro                                                          0.98688\n",
      "FNR Macro                                                         0.01263\n",
      "FNR Micro                                                         0.01312\n",
      "FPR Macro                                                         0.00146\n",
      "FPR Micro                                                         0.00146\n",
      "Gwet AC1                                                          0.98543\n",
      "Hamming Loss                                                      0.01312\n",
      "Joint Entropy                                                     3.39381\n",
      "KL Divergence                                                     0.00034\n",
      "Kappa                                                             0.98535\n",
      "Kappa 95% CI                                                      (0.9829,0.98781)\n",
      "Kappa No Prevalence                                               0.97377\n",
      "Kappa Standard Error                                              0.00125\n",
      "Kappa Unbiased                                                    0.98535\n",
      "Krippendorff Alpha                                                0.98535\n",
      "Lambda A                                                          0.98523\n",
      "Lambda B                                                          0.98524\n",
      "Mutual Information                                                3.16819\n",
      "NIR                                                               0.11183\n",
      "Overall ACC                                                       0.98688\n",
      "Overall CEN                                                       0.02569\n",
      "Overall J                                                         (9.72762,0.97276)\n",
      "Overall MCC                                                       0.98538\n",
      "Overall MCEN                                                      0.04468\n",
      "Overall RACC                                                      0.10444\n",
      "Overall RACCU                                                     0.10445\n",
      "P-Value                                                           None\n",
      "PPV Macro                                                         0.98509\n",
      "PPV Micro                                                         0.98688\n",
      "Pearson C                                                         0.94721\n",
      "Phi-Squared                                                       8.72763\n",
      "RCI                                                               0.96587\n",
      "RR                                                                1029.2\n",
      "Reference Entropy                                                 3.28016\n",
      "Response Entropy                                                  3.28185\n",
      "SOA1(Landis & Koch)                                               Almost Perfect\n",
      "SOA2(Fleiss)                                                      Excellent\n",
      "SOA3(Altman)                                                      Very Good\n",
      "SOA4(Cicchetti)                                                   Excellent\n",
      "SOA5(Cramer)                                                      Very Strong\n",
      "SOA6(Matthews)                                                    Very Strong\n",
      "Scott PI                                                          0.98535\n",
      "Standard Error                                                    0.00112\n",
      "TNR Macro                                                         0.99854\n",
      "TNR Micro                                                         0.99854\n",
      "TPR Macro                                                         0.98737\n",
      "TPR Micro                                                         0.98688\n",
      "Zero-one Loss                                                     135\n",
      "\n",
      "Class Statistics :\n",
      "\n",
      "Classes                                                           0             1             2             3             4             5             6             7             8             9             \n",
      "ACC(Accuracy)                                                     0.99194       0.99835       0.99825       0.99796       0.99738       0.99728       0.99679       0.99951       0.99747       0.99883       \n",
      "AGF(Adjusted F-score)                                             0.96774       0.99456       0.9955        0.9972        0.99377       0.99225       0.99328       0.99888       0.99531       0.99791       \n",
      "AGM(Adjusted geometric mean)                                      0.98082       0.99813       0.99716       0.99799       0.996         0.99519       0.9956        0.99928       0.99689       0.99857       \n",
      "AM(Difference between automatic and manual classification)        -61           15            0             17            3             -6            11            1             14            6             \n",
      "AUC(Area under the ROC curve)                                     0.96525       0.99788       0.99551       0.99804       0.99391       0.99201       0.99381       0.99893       0.99605       0.99818       \n",
      "AUCI(AUC value interpretation)                                    Excellent     Excellent     Excellent     Excellent     Excellent     Excellent     Excellent     Excellent     Excellent     Excellent     \n",
      "AUPR(Area under the PR curve)                                     0.96031       0.97843       0.992         0.99036       0.98815       0.98781       0.98511       0.99772       0.98767       0.9947        \n",
      "BCD(Bray-Curtis dissimilarity)                                    0.00296       0.00073       0.0           0.00083       0.00015       0.00029       0.00053       5e-05         0.00068       0.00029       \n",
      "BM(Informedness or bookmaker informedness)                        0.9305        0.99575       0.99102       0.99608       0.98782       0.98403       0.98762       0.99785       0.99209       0.99636       \n",
      "CEN(Confusion entropy)                                            0.07699       0.03069       0.01694       0.01982       0.02496       0.02474       0.03011       0.00554       0.02211       0.01211       \n",
      "DOR(Diagnostic odds ratio)                                        11440.54798   234411.5      126176.88889  259508.63158  57169.52222   55365.88235   41298.38843   1677540.0     79822.2       381458.33333  \n",
      "DP(Discriminant power)                                            2.23754       2.96062       2.81232       2.98498       2.62276       2.61509       2.5449        3.43184       2.70268       3.07721       \n",
      "DPI(Discriminant power interpretation)                            Fair          Fair          Fair          Fair          Fair          Fair          Fair          Good          Fair          Good          \n",
      "ERR(Error rate)                                                   0.00806       0.00165       0.00175       0.00204       0.00262       0.00272       0.00321       0.00049       0.00253       0.00117       \n",
      "F0.5(F0.5 score)                                                  0.97692       0.96684       0.992         0.98566       0.98737       0.98936       0.98216       0.99745       0.9837        0.99311       \n",
      "F1(F1 score - harmonic mean of precision and sensitivity)         0.95945       0.97806       0.992         0.9903        0.98815       0.9878        0.98509       0.99772       0.98763       0.99469       \n",
      "F2(F2 score)                                                      0.9426        0.98956       0.992         0.99499       0.98893       0.98626       0.98803       0.99799       0.99159       0.99628       \n",
      "FDR(False discovery rate)                                         0.01108       0.04051       0.008         0.01742       0.01315       0.00961       0.01978       0.00273       0.0189        0.00794       \n",
      "FN(False negative/miss/type 2 error)                              72            1             9             2             12            17            11            2             6             3             \n",
      "FNR(Miss rate or false negative rate)                             0.06831       0.00263       0.008         0.00186       0.01054       0.01477       0.00999       0.00182       0.00575       0.00266       \n",
      "FOR(False omission rate)                                          0.00774       0.0001        0.00098       0.00022       0.00131       0.00186       0.0012        0.00022       0.00065       0.00033       \n",
      "FP(False positive/type 1 error/false alarm)                       11            16            9             19            15            11            22            3             20            9             \n",
      "FPR(Fall-out or false positive rate)                              0.00119       0.00161       0.00098       0.00206       0.00164       0.0012        0.00239       0.00033       0.00216       0.00098       \n",
      "G(G-measure geometric mean of precision and sensitivity)          0.95988       0.97825       0.992         0.99033       0.98815       0.98781       0.9851        0.99772       0.98765       0.9947        \n",
      "GI(Gini index)                                                    0.9305        0.99575       0.99102       0.99608       0.98782       0.98403       0.98762       0.99785       0.99209       0.99636       \n",
      "GM(G-mean geometric mean of specificity and sensitivity)          0.96467       0.99788       0.9955        0.99804       0.9939        0.99199       0.9938        0.99893       0.99604       0.99818       \n",
      "IBA(Index of balanced accuracy)                                   0.86812       0.99475       0.98407       0.99628       0.97904       0.97069       0.98014       0.99636       0.98855       0.99469       \n",
      "ICSI(Individual classification success index)                     0.92061       0.95686       0.984         0.98072       0.97631       0.97562       0.97022       0.99544       0.97535       0.9894        \n",
      "IS(Information score)                                             3.27151       4.69973       3.18194       3.23511       3.15786       3.14664       3.19581       3.22594       3.2738        3.17819       \n",
      "J(Jaccard index)                                                  0.92207       0.95707       0.98413       0.98079       0.97658       0.9759        0.97061       0.99545       0.97556       0.98945       \n",
      "LS(Lift score)                                                    9.65654       25.98713      9.07526       9.41598       8.92504       8.85589       9.16293       9.35632       9.67188       9.0517        \n",
      "MCC(Matthews correlation coefficient)                             0.9555        0.9774        0.99102       0.9892        0.98668       0.98628       0.98331       0.99745       0.98625       0.99404       \n",
      "MCCI(Matthews correlation coefficient interpretation)             Very Strong   Very Strong   Very Strong   Very Strong   Very Strong   Very Strong   Very Strong   Very Strong   Very Strong   Very Strong   \n",
      "MCEN(Modified confusion entropy)                                  0.13037       0.05008       0.02985       0.03471       0.04382       0.04321       0.05243       0.00998       0.03792       0.02158       \n",
      "MK(Markedness)                                                    0.98118       0.95939       0.99102       0.98237       0.98554       0.98853       0.97902       0.99705       0.98045       0.99174       \n",
      "N(Condition negative)                                             9238          9912          9167          9218          9154          9141          9191          9195          9248          9164          \n",
      "NLR(Negative likelihood ratio)                                    0.06839       0.00264       0.00801       0.00187       0.01056       0.01479       0.01001       0.00182       0.00576       0.00266       \n",
      "NLRI(Negative likelihood ratio interpretation)                    Good          Good          Good          Good          Good          Good          Good          Good          Good          Good          \n",
      "NPV(Negative predictive value)                                    0.99226       0.9999        0.99902       0.99978       0.99869       0.99814       0.9988        0.99978       0.99935       0.99967       \n",
      "OC(Overlap coefficient)                                           0.98892       0.99737       0.992         0.99814       0.98946       0.99039       0.99001       0.99818       0.99425       0.99734       \n",
      "OOC(Otsuka-Ochiai coefficient)                                    0.95988       0.97825       0.992         0.99033       0.98815       0.98781       0.9851        0.99772       0.98765       0.9947        \n",
      "OP(Optimized precision)                                           0.95717       0.99784       0.99473       0.99786       0.9929        0.99044       0.99297       0.99876       0.99567       0.99799       \n",
      "P(Condition positive or support)                                  1054          380           1125          1074          1138          1151          1101          1097          1044          1128          \n",
      "PLR(Positive likelihood ratio)                                    782.4492      617.86974     1010.40711    484.25443     603.83152     818.72632     413.59879     3059.41203    459.74253     1015.51418    \n",
      "PLRI(Positive likelihood ratio interpretation)                    Good          Good          Good          Good          Good          Good          Good          Good          Good          Good          \n",
      "POP(Population)                                                   10292         10292         10292         10292         10292         10292         10292         10292         10292         10292         \n",
      "PPV(Precision or positive predictive value)                       0.98892       0.95949       0.992         0.98258       0.98685       0.99039       0.98022       0.99727       0.9811        0.99206       \n",
      "PRE(Prevalence)                                                   0.10241       0.03692       0.10931       0.10435       0.11057       0.11183       0.10698       0.10659       0.10144       0.1096        \n",
      "Q(Yule Q - coefficient of colligation)                            0.99983       0.99999       0.99998       0.99999       0.99997       0.99996       0.99995       1.0           0.99997       0.99999       \n",
      "QI(Yule Q interpretation)                                         Strong        Strong        Strong        Strong        Strong        Strong        Strong        Strong        Strong        Strong        \n",
      "RACC(Random accuracy)                                             0.00988       0.00142       0.01195       0.01106       0.01226       0.01244       0.01156       0.01137       0.01043       0.01208       \n",
      "RACCU(Random accuracy unbiased)                                   0.00989       0.00142       0.01195       0.01106       0.01226       0.01244       0.01156       0.01137       0.01043       0.01208       \n",
      "TN(True negative/correct rejection)                               9227          9896          9158          9199          9139          9130          9169          9192          9228          9155          \n",
      "TNR(Specificity or true negative rate)                            0.99881       0.99839       0.99902       0.99794       0.99836       0.9988        0.99761       0.99967       0.99784       0.99902       \n",
      "TON(Test outcome negative)                                        9299          9897          9167          9201          9151          9147          9180          9194          9234          9158          \n",
      "TOP(Test outcome positive)                                        993           395           1125          1091          1141          1145          1112          1098          1058          1134          \n",
      "TP(True positive/hit)                                             982           379           1116          1072          1126          1134          1090          1095          1038          1125          \n",
      "TPR(Sensitivity, recall, hit rate, or true positive rate)         0.93169       0.99737       0.992         0.99814       0.98946       0.98523       0.99001       0.99818       0.99425       0.99734       \n",
      "Y(Youden index)                                                   0.9305        0.99575       0.99102       0.99608       0.98782       0.98403       0.98762       0.99785       0.99209       0.99636       \n",
      "dInd(Distance index)                                              0.06832       0.00309       0.00806       0.00278       0.01067       0.01482       0.01027       0.00185       0.00614       0.00284       \n",
      "sInd(Similarity index)                                            0.95169       0.99782       0.9943        0.99804       0.99245       0.98952       0.99274       0.99869       0.99566       0.998         \n",
      "\n"
     ]
    }
   ],
   "source": [
    "from pycm import *\n",
    "\n",
    "neigh_predicted =neigh.predict(X_test)\n",
    "\n",
    "le.fit(neigh_predicted)\n",
    "neigh_enc = le.transform(neigh_predicted)\n",
    "knncm = ConfusionMatrix(actual_vector=y_test_enc, predict_vector=neigh_enc) # Create CM From Data\n",
    "\n",
    "print(knncm)"
   ]
  },
  {
   "cell_type": "code",
   "execution_count": 166,
   "metadata": {},
   "outputs": [
    {
     "name": "stdout",
     "output_type": "stream",
     "text": [
      "Accuracy:  0.8876797512631169\n"
     ]
    }
   ],
   "source": [
    "from sklearn.naive_bayes import GaussianNB\n",
    "gnbclf = GaussianNB()\n",
    "gnbclf.fit(X_train, y_train)\n",
    "rf_predicted =gnbclf.predict(X_test)\n",
    "accuracy = accuracy_score(y_test,rf_predicted)\n",
    "#print (rf.oob_score_)\n",
    "print (\"Accuracy: \", accuracy)\n"
   ]
  },
  {
   "cell_type": "code",
   "execution_count": 203,
   "metadata": {},
   "outputs": [
    {
     "name": "stdout",
     "output_type": "stream",
     "text": [
      "                  precision    recall  f1-score   support\n",
      "\n",
      "          BENIGN       0.99      0.71      0.83      1110\n",
      "             Bot       0.40      1.00      0.57       434\n",
      "            DDoS       1.00      0.97      0.99      1112\n",
      "   DoS GoldenEye       0.90      0.99      0.94      1093\n",
      "        DoS Hulk       0.97      0.72      0.83      1108\n",
      "DoS Slowhttptest       0.93      0.65      0.76      1034\n",
      "   DoS slowloris       0.77      0.92      0.84      1124\n",
      "     FTP-Patator       1.00      0.99      1.00      1096\n",
      "        PortScan       1.00      0.98      0.99      1115\n",
      "     SSH-Patator       1.00      0.99      1.00      1066\n",
      "\n",
      "        accuracy                           0.89     10292\n",
      "       macro avg       0.90      0.89      0.87     10292\n",
      "    weighted avg       0.93      0.89      0.89     10292\n",
      "\n"
     ]
    }
   ],
   "source": [
    "gnb_predicted =gnbclf.predict(X_test)\n",
    "print(classification_report(y_test, gnb_predicted))\n"
   ]
  },
  {
   "cell_type": "code",
   "execution_count": 167,
   "metadata": {
    "scrolled": false
   },
   "outputs": [
    {
     "name": "stdout",
     "output_type": "stream",
     "text": [
      "Predict    0          1          2          3          4          5          6          7          8          9          \n",
      "Actual\n",
      "0          738        257        3          20         12         2          17         0          2          3          \n",
      "\n",
      "1          0          380        0          0          0          0          0          0          0          0          \n",
      "\n",
      "2          0          34         1091       0          0          0          0          0          0          0          \n",
      "\n",
      "3          0          5          0          1066       0          3          0          0          0          0          \n",
      "\n",
      "4          2          256        0          52         825        0          3          0          0          0          \n",
      "\n",
      "5          1          38         0          53         0          771        288        0          0          0          \n",
      "\n",
      "6          0          36         0          7          10         31         1017       0          0          0          \n",
      "\n",
      "7          2          0          0          0          0          0          0          1094       0          1          \n",
      "\n",
      "8          3          10         0          0          0          0          0          0          1031       0          \n",
      "\n",
      "9          0          5          0          0          0          0          0          0          0          1123       \n",
      "\n",
      "\n",
      "\n",
      "\n",
      "\n",
      "Overall Statistics : \n",
      "\n",
      "95% CI                                                            (0.88158,0.89378)\n",
      "ACC Macro                                                         0.97754\n",
      "ARI                                                               0.80591\n",
      "AUNP                                                              0.93966\n",
      "AUNU                                                              0.94204\n",
      "Bangdiwala B                                                      0.83507\n",
      "Bennett S                                                         0.8752\n",
      "CBA                                                               0.80747\n",
      "CSI                                                               0.79014\n",
      "Chi-Squared                                                       73349.84388\n",
      "Chi-Squared DF                                                    81\n",
      "Conditional Entropy                                               0.48622\n",
      "Cramer V                                                          0.88987\n",
      "Cross Entropy                                                     3.34446\n",
      "F1 Macro                                                          0.87288\n",
      "F1 Micro                                                          0.88768\n",
      "FNR Macro                                                         0.10386\n",
      "FNR Micro                                                         0.11232\n",
      "FPR Macro                                                         0.01207\n",
      "FPR Micro                                                         0.01248\n",
      "Gwet AC1                                                          0.87523\n",
      "Hamming Loss                                                      0.11232\n",
      "Joint Entropy                                                     3.76637\n",
      "KL Divergence                                                     0.0643\n",
      "Kappa                                                             0.8752\n",
      "Kappa 95% CI                                                      (0.86842,0.88198)\n",
      "Kappa No Prevalence                                               0.77536\n",
      "Kappa Standard Error                                              0.00346\n",
      "Kappa Unbiased                                                    0.87494\n",
      "Krippendorff Alpha                                                0.87495\n",
      "Lambda A                                                          0.87354\n",
      "Lambda B                                                          0.87108\n",
      "Mutual Information                                                2.81513\n",
      "NIR                                                               0.11183\n",
      "Overall ACC                                                       0.88768\n",
      "Overall CEN                                                       0.10346\n",
      "Overall J                                                         (7.97572,0.79757)\n",
      "Overall MCC                                                       0.87877\n",
      "Overall MCEN                                                      0.15256\n",
      "Overall RACC                                                      0.10001\n",
      "Overall RACCU                                                     0.10184\n",
      "P-Value                                                           None\n",
      "PPV Macro                                                         0.894\n",
      "PPV Micro                                                         0.88768\n",
      "Pearson C                                                         0.93646\n",
      "Phi-Squared                                                       7.12688\n",
      "RCI                                                               0.85823\n",
      "RR                                                                1029.2\n",
      "Reference Entropy                                                 3.28016\n",
      "Response Entropy                                                  3.30134\n",
      "SOA1(Landis & Koch)                                               Almost Perfect\n",
      "SOA2(Fleiss)                                                      Excellent\n",
      "SOA3(Altman)                                                      Very Good\n",
      "SOA4(Cicchetti)                                                   Excellent\n",
      "SOA5(Cramer)                                                      Very Strong\n",
      "SOA6(Matthews)                                                    Strong\n",
      "Scott PI                                                          0.87494\n",
      "Standard Error                                                    0.00311\n",
      "TNR Macro                                                         0.98793\n",
      "TNR Micro                                                         0.98752\n",
      "TPR Macro                                                         0.89614\n",
      "TPR Micro                                                         0.88768\n",
      "Zero-one Loss                                                     1156\n",
      "\n",
      "Class Statistics :\n",
      "\n",
      "Classes                                                           0             1             2             3             4             5             6             7             8             9             \n",
      "ACC(Accuracy)                                                     0.96852       0.93772       0.9964        0.9864        0.96745       0.95958       0.96191       0.99971       0.99854       0.99913       \n",
      "AGF(Adjusted F-score)                                             0.85071       0.8588        0.986         0.98319       0.86214       0.83          0.93536       0.99877       0.99422       0.99761       \n",
      "AGM(Adjusted geometric mean)                                      0.91338       0.95153       0.99171       0.98749       0.9197        0.90114       0.95506       0.99928       0.99655       0.99851       \n",
      "AM(Difference between automatic and manual classification)        -308          641           -31           124           -291          -344          224           -3            -11           -1            \n",
      "AUC(Area under the ROC curve)                                     0.84966       0.96767       0.98473       0.98912       0.86128       0.83296       0.9451        0.99863       0.99367       0.99757       \n",
      "AUCI(AUC value interpretation)                                    Very Good     Excellent     Excellent     Excellent     Very Good     Very Good     Excellent     Excellent     Excellent     Excellent     \n",
      "AUPR(Area under the PR curve)                                     0.84473       0.68609       0.98352       0.94118       0.84949       0.81262       0.84563       0.99863       0.99281       0.99601       \n",
      "BCD(Bray-Curtis dissimilarity)                                    0.01496       0.03114       0.00151       0.00602       0.01414       0.01671       0.01088       0.00015       0.00053       5e-05         \n",
      "BM(Informedness or bookmaker informedness)                        0.69932       0.93533       0.96945       0.97823       0.72255       0.66591       0.89019       0.99727       0.98733       0.99513       \n",
      "CEN(Confusion entropy)                                            0.16321       0.33883       0.02524       0.08851       0.15011       0.18773       0.15698       0.00343       0.01447       0.00892       \n",
      "DOR(Diagnostic odds ratio)                                        2694.51741    None          98018.86275   9172.04167    1094.08946    513.15461     349.18101     None          366639.46154  514334.0      \n",
      "DP(Discriminant power)                                            1.89132       None          2.75185       2.18462       1.67552       1.49424       1.40206       None          3.06773       3.14877       \n",
      "DPI(Discriminant power interpretation)                            Limited       None          Fair          Fair          Limited       Limited       Limited       None          Good          Good          \n",
      "ERR(Error rate)                                                   0.03148       0.06228       0.0036        0.0136        0.03255       0.04042       0.03809       0.00029       0.00146       0.00087       \n",
      "F0.5(F0.5 score)                                                  0.91382       0.42563       0.99164       0.90863       0.9114        0.88034       0.79441       0.99945       0.99594       0.99627       \n",
      "F1(F1 score - harmonic mean of precision and sensitivity)         0.82          0.54247       0.98333       0.93838       0.83123       0.78754       0.83842       0.99863       0.99278       0.99601       \n",
      "F2(F2 score)                                                      0.74365       0.74774       0.97515       0.97015       0.76403       0.71244       0.88759       0.99781       0.98963       0.99574       \n",
      "FDR(False discovery rate)                                         0.01072       0.62782       0.00274       0.11018       0.02597       0.04461       0.23245       0.0           0.00194       0.00355       \n",
      "FN(False negative/miss/type 2 error)                              316           0             34            8             313           380           84            3             13            5             \n",
      "FNR(Miss rate or false negative rate)                             0.29981       0.0           0.03022       0.00745       0.27504       0.33015       0.07629       0.00273       0.01245       0.00443       \n",
      "FOR(False omission rate)                                          0.0331        0.0           0.0037        0.00088       0.03314       0.04006       0.00937       0.00033       0.0014        0.00055       \n",
      "FP(False positive/type 1 error/false alarm)                       8             641           3             132           22            36            308           0             2             4             \n",
      "FPR(Fall-out or false positive rate)                              0.00087       0.06467       0.00033       0.01432       0.0024        0.00394       0.03351       0.0           0.00022       0.00044       \n",
      "G(G-measure geometric mean of precision and sensitivity)          0.83227       0.61007       0.98342       0.93978       0.84031       0.79998       0.84201       0.99863       0.99279       0.99601       \n",
      "GI(Gini index)                                                    0.69932       0.93533       0.96945       0.97823       0.72255       0.66591       0.89019       0.99727       0.98733       0.99513       \n",
      "GM(G-mean geometric mean of specificity and sensitivity)          0.83641       0.96713       0.98461       0.98911       0.85042       0.81683       0.94486       0.99863       0.99365       0.99756       \n",
      "IBA(Index of balanced accuracy)                                   0.49045       0.99582       0.94048       0.98506       0.52604       0.44956       0.85456       0.99454       0.97525       0.99116       \n",
      "ICSI(Individual classification success index)                     0.68947       0.37218       0.96704       0.88237       0.69898       0.62524       0.69125       0.99727       0.98561       0.99202       \n",
      "IS(Information score)                                             3.27202       3.33347       3.18956       3.09204       3.13898       3.09473       2.84296       3.22989       3.29853       3.18455       \n",
      "J(Jaccard index)                                                  0.69492       0.37218       0.9672        0.88391       0.71121       0.64954       0.72179       0.99727       0.98566       0.99205       \n",
      "LS(Lift score)                                                    9.65999       10.08031      9.12336       8.52699       8.80903       8.5429        7.17493       9.38195       9.83915       9.09173       \n",
      "MCC(Matthews correlation coefficient)                             0.81773       0.59001       0.98143       0.93252       0.82452       0.78072       0.82154       0.99847       0.99198       0.99552       \n",
      "MCCI(Matthews correlation coefficient interpretation)             Strong        Moderate      Very Strong   Very Strong   Strong        Strong        Strong        Very Strong   Very Strong   Very Strong   \n",
      "MCEN(Modified confusion entropy)                                  0.22093       0.39622       0.04197       0.1413        0.20319       0.24898       0.21798       0.00619       0.02533       0.01588       \n",
      "MK(Markedness)                                                    0.95617       0.37218       0.99356       0.88894       0.94089       0.91533       0.75818       0.99967       0.99666       0.99591       \n",
      "N(Condition negative)                                             9238          9912          9167          9218          9154          9141          9191          9195          9248          9164          \n",
      "NLR(Negative likelihood ratio)                                    0.30007       0.0           0.03023       0.00756       0.27571       0.33145       0.07894       0.00273       0.01245       0.00443       \n",
      "NLRI(Negative likelihood ratio interpretation)                    Poor          Good          Good          Good          Poor          Poor          Good          Good          Good          Good          \n",
      "NPV(Negative predictive value)                                    0.9669        1.0           0.9963        0.99912       0.96686       0.95994       0.99063       0.99967       0.9986        0.99945       \n",
      "OC(Overlap coefficient)                                           0.98928       1.0           0.99726       0.99255       0.97403       0.95539       0.92371       1.0           0.99806       0.99645       \n",
      "OOC(Otsuka-Ochiai coefficient)                                    0.83227       0.61007       0.98342       0.93978       0.84031       0.79998       0.84201       0.99863       0.99279       0.99601       \n",
      "OP(Optimized precision)                                           0.7926        0.9043        0.98123       0.98292       0.80917       0.76377       0.93928       0.99834       0.99239       0.99712       \n",
      "P(Condition positive or support)                                  1054          380           1125          1074          1138          1151          1101          1097          1044          1128          \n",
      "PLR(Positive likelihood ratio)                                    808.54412     15.46334      2963.31763    69.31316      301.64763     170.08666     27.56422      None          4566.42146    2280.84486    \n",
      "PLRI(Positive likelihood ratio interpretation)                    Good          Good          Good          Good          Good          Good          Good          None          Good          Good          \n",
      "POP(Population)                                                   10292         10292         10292         10292         10292         10292         10292         10292         10292         10292         \n",
      "PPV(Precision or positive predictive value)                       0.98928       0.37218       0.99726       0.88982       0.97403       0.95539       0.76755       1.0           0.99806       0.99645       \n",
      "PRE(Prevalence)                                                   0.10241       0.03692       0.10931       0.10435       0.11057       0.11183       0.10698       0.10659       0.10144       0.1096        \n",
      "Q(Yule Q - coefficient of colligation)                            0.99926       None          0.99998       0.99978       0.99817       0.99611       0.99429       None          0.99999       1.0           \n",
      "QI(Yule Q interpretation)                                         Strong        None          Strong        Strong        Strong        Strong        Strong        None          Strong        Strong        \n",
      "RACC(Random accuracy)                                             0.00742       0.00366       0.01162       0.01215       0.0091        0.00877       0.01377       0.01133       0.01018       0.012         \n",
      "RACCU(Random accuracy unbiased)                                   0.00765       0.00463       0.01162       0.01218       0.0093        0.00905       0.01389       0.01133       0.01018       0.012         \n",
      "TN(True negative/correct rejection)                               9230          9271          9164          9086          9132          9105          8883          9195          9246          9160          \n",
      "TNR(Specificity or true negative rate)                            0.99913       0.93533       0.99967       0.98568       0.9976        0.99606       0.96649       1.0           0.99978       0.99956       \n",
      "TON(Test outcome negative)                                        9546          9271          9198          9094          9445          9485          8967          9198          9259          9165          \n",
      "TOP(Test outcome positive)                                        746           1021          1094          1198          847           807           1325          1094          1033          1127          \n",
      "TP(True positive/hit)                                             738           380           1091          1066          825           771           1017          1094          1031          1123          \n",
      "TPR(Sensitivity, recall, hit rate, or true positive rate)         0.70019       1.0           0.96978       0.99255       0.72496       0.66985       0.92371       0.99727       0.98755       0.99557       \n",
      "Y(Youden index)                                                   0.69932       0.93533       0.96945       0.97823       0.72255       0.66591       0.89019       0.99727       0.98733       0.99513       \n",
      "dInd(Distance index)                                              0.29981       0.06467       0.03022       0.01614       0.27505       0.33017       0.08333       0.00273       0.01245       0.00445       \n",
      "sInd(Similarity index)                                            0.788         0.95427       0.97863       0.98859       0.80551       0.76653       0.94108       0.99807       0.99119       0.99685       \n",
      "\n"
     ]
    }
   ],
   "source": [
    "from pycm import *\n",
    "\n",
    "gnb_predicted =gnbclf.predict(X_test)\n",
    "\n",
    "le.fit(gnb_predicted)\n",
    "gnb_enc = le.transform(gnb_predicted)\n",
    "gnbcm = ConfusionMatrix(actual_vector=y_test_enc, predict_vector=gnb_enc) # Create CM From Data\n",
    "\n",
    "print(gnbcm)"
   ]
  },
  {
   "cell_type": "code",
   "execution_count": null,
   "metadata": {},
   "outputs": [],
   "source": [
    "from pycm import *\n",
    "\n",
    "neigh_predicted =neigh.predict(X_test)\n",
    "\n",
    "le.fit(neigh_predicted)\n",
    "neigh_enc = le.transform(neigh_predicted)\n",
    "knncm = ConfusionMatrix(actual_vector=y_test_enc, predict_vector=neigh_enc) # Create CM From Data\n",
    "\n",
    "print(knncm)"
   ]
  },
  {
   "cell_type": "markdown",
   "metadata": {},
   "source": [
    "# VotingClassifier"
   ]
  },
  {
   "cell_type": "code",
   "execution_count": 54,
   "metadata": {},
   "outputs": [],
   "source": [
    "class Timer:    \n",
    "    def __enter__(self):\n",
    "        self.tick = time.time()\n",
    "        return self\n",
    "\n",
    "    def __exit__(self, *args, **kwargs):\n",
    "        self.tock = time.time()\n",
    "        self.elapsed = self.tock - self.tick"
   ]
  },
  {
   "cell_type": "code",
   "execution_count": 55,
   "metadata": {
    "collapsed": true
   },
   "outputs": [
    {
     "ename": "KeyboardInterrupt",
     "evalue": "",
     "output_type": "error",
     "traceback": [
      "\u001b[0;31m---------------------------------------------------------------------------\u001b[0m",
      "\u001b[0;31mKeyboardInterrupt\u001b[0m                         Traceback (most recent call last)",
      "\u001b[0;32m<ipython-input-55-db9dffe67efa>\u001b[0m in \u001b[0;36m<module>\u001b[0;34m\u001b[0m\n\u001b[1;32m     16\u001b[0m \u001b[0;34m\u001b[0m\u001b[0m\n\u001b[1;32m     17\u001b[0m \u001b[0;32mwith\u001b[0m \u001b[0mTimer\u001b[0m\u001b[0;34m(\u001b[0m\u001b[0;34m)\u001b[0m \u001b[0;32mas\u001b[0m \u001b[0msk_fit_time\u001b[0m\u001b[0;34m:\u001b[0m\u001b[0;34m\u001b[0m\u001b[0;34m\u001b[0m\u001b[0m\n\u001b[0;32m---> 18\u001b[0;31m     \u001b[0mvoting_clf\u001b[0m\u001b[0;34m.\u001b[0m\u001b[0mfit\u001b[0m\u001b[0;34m(\u001b[0m\u001b[0mX\u001b[0m\u001b[0;34m,\u001b[0m \u001b[0my\u001b[0m\u001b[0;34m)\u001b[0m\u001b[0;34m\u001b[0m\u001b[0;34m\u001b[0m\u001b[0m\n\u001b[0m\u001b[1;32m     19\u001b[0m \u001b[0;34m\u001b[0m\u001b[0m\n\u001b[1;32m     20\u001b[0m \u001b[0;32mwith\u001b[0m \u001b[0mTimer\u001b[0m\u001b[0;34m(\u001b[0m\u001b[0;34m)\u001b[0m \u001b[0;32mas\u001b[0m \u001b[0msk_score_time\u001b[0m\u001b[0;34m:\u001b[0m\u001b[0;34m\u001b[0m\u001b[0;34m\u001b[0m\u001b[0m\n",
      "\u001b[0;32m/Applications/anaconda3/lib/python3.7/site-packages/sklearn/ensemble/_voting.py\u001b[0m in \u001b[0;36mfit\u001b[0;34m(self, X, y, sample_weight)\u001b[0m\n\u001b[1;32m    322\u001b[0m         \u001b[0mtransformed_y\u001b[0m \u001b[0;34m=\u001b[0m \u001b[0mself\u001b[0m\u001b[0;34m.\u001b[0m\u001b[0mle_\u001b[0m\u001b[0;34m.\u001b[0m\u001b[0mtransform\u001b[0m\u001b[0;34m(\u001b[0m\u001b[0my\u001b[0m\u001b[0;34m)\u001b[0m\u001b[0;34m\u001b[0m\u001b[0;34m\u001b[0m\u001b[0m\n\u001b[1;32m    323\u001b[0m \u001b[0;34m\u001b[0m\u001b[0m\n\u001b[0;32m--> 324\u001b[0;31m         \u001b[0;32mreturn\u001b[0m \u001b[0msuper\u001b[0m\u001b[0;34m(\u001b[0m\u001b[0;34m)\u001b[0m\u001b[0;34m.\u001b[0m\u001b[0mfit\u001b[0m\u001b[0;34m(\u001b[0m\u001b[0mX\u001b[0m\u001b[0;34m,\u001b[0m \u001b[0mtransformed_y\u001b[0m\u001b[0;34m,\u001b[0m \u001b[0msample_weight\u001b[0m\u001b[0;34m)\u001b[0m\u001b[0;34m\u001b[0m\u001b[0;34m\u001b[0m\u001b[0m\n\u001b[0m\u001b[1;32m    325\u001b[0m \u001b[0;34m\u001b[0m\u001b[0m\n\u001b[1;32m    326\u001b[0m     \u001b[0;32mdef\u001b[0m \u001b[0mpredict\u001b[0m\u001b[0;34m(\u001b[0m\u001b[0mself\u001b[0m\u001b[0;34m,\u001b[0m \u001b[0mX\u001b[0m\u001b[0;34m)\u001b[0m\u001b[0;34m:\u001b[0m\u001b[0;34m\u001b[0m\u001b[0;34m\u001b[0m\u001b[0m\n",
      "\u001b[0;32m/Applications/anaconda3/lib/python3.7/site-packages/sklearn/ensemble/_voting.py\u001b[0m in \u001b[0;36mfit\u001b[0;34m(self, X, y, sample_weight)\u001b[0m\n\u001b[1;32m     81\u001b[0m                 \u001b[0mmessage\u001b[0m\u001b[0;34m=\u001b[0m\u001b[0mself\u001b[0m\u001b[0;34m.\u001b[0m\u001b[0m_log_message\u001b[0m\u001b[0;34m(\u001b[0m\u001b[0mnames\u001b[0m\u001b[0;34m[\u001b[0m\u001b[0midx\u001b[0m\u001b[0;34m]\u001b[0m\u001b[0;34m,\u001b[0m \u001b[0midx\u001b[0m \u001b[0;34m+\u001b[0m \u001b[0;36m1\u001b[0m\u001b[0;34m,\u001b[0m \u001b[0mlen\u001b[0m\u001b[0;34m(\u001b[0m\u001b[0mclfs\u001b[0m\u001b[0;34m)\u001b[0m\u001b[0;34m)\u001b[0m\u001b[0;34m,\u001b[0m\u001b[0;34m\u001b[0m\u001b[0;34m\u001b[0m\u001b[0m\n\u001b[1;32m     82\u001b[0m             )\n\u001b[0;32m---> 83\u001b[0;31m             \u001b[0;32mfor\u001b[0m \u001b[0midx\u001b[0m\u001b[0;34m,\u001b[0m \u001b[0mclf\u001b[0m \u001b[0;32min\u001b[0m \u001b[0menumerate\u001b[0m\u001b[0;34m(\u001b[0m\u001b[0mclfs\u001b[0m\u001b[0;34m)\u001b[0m\u001b[0;34m\u001b[0m\u001b[0;34m\u001b[0m\u001b[0m\n\u001b[0m\u001b[1;32m     84\u001b[0m             \u001b[0;32mif\u001b[0m \u001b[0mclf\u001b[0m \u001b[0;34m!=\u001b[0m \u001b[0;34m\"drop\"\u001b[0m\u001b[0;34m\u001b[0m\u001b[0;34m\u001b[0m\u001b[0m\n\u001b[1;32m     85\u001b[0m         )\n",
      "\u001b[0;32m/Applications/anaconda3/lib/python3.7/site-packages/joblib/parallel.py\u001b[0m in \u001b[0;36m__call__\u001b[0;34m(self, iterable)\u001b[0m\n\u001b[1;32m   1015\u001b[0m \u001b[0;34m\u001b[0m\u001b[0m\n\u001b[1;32m   1016\u001b[0m             \u001b[0;32mwith\u001b[0m \u001b[0mself\u001b[0m\u001b[0;34m.\u001b[0m\u001b[0m_backend\u001b[0m\u001b[0;34m.\u001b[0m\u001b[0mretrieval_context\u001b[0m\u001b[0;34m(\u001b[0m\u001b[0;34m)\u001b[0m\u001b[0;34m:\u001b[0m\u001b[0;34m\u001b[0m\u001b[0;34m\u001b[0m\u001b[0m\n\u001b[0;32m-> 1017\u001b[0;31m                 \u001b[0mself\u001b[0m\u001b[0;34m.\u001b[0m\u001b[0mretrieve\u001b[0m\u001b[0;34m(\u001b[0m\u001b[0;34m)\u001b[0m\u001b[0;34m\u001b[0m\u001b[0;34m\u001b[0m\u001b[0m\n\u001b[0m\u001b[1;32m   1018\u001b[0m             \u001b[0;31m# Make sure that we get a last message telling us we are done\u001b[0m\u001b[0;34m\u001b[0m\u001b[0;34m\u001b[0m\u001b[0;34m\u001b[0m\u001b[0m\n\u001b[1;32m   1019\u001b[0m             \u001b[0melapsed_time\u001b[0m \u001b[0;34m=\u001b[0m \u001b[0mtime\u001b[0m\u001b[0;34m.\u001b[0m\u001b[0mtime\u001b[0m\u001b[0;34m(\u001b[0m\u001b[0;34m)\u001b[0m \u001b[0;34m-\u001b[0m \u001b[0mself\u001b[0m\u001b[0;34m.\u001b[0m\u001b[0m_start_time\u001b[0m\u001b[0;34m\u001b[0m\u001b[0;34m\u001b[0m\u001b[0m\n",
      "\u001b[0;32m/Applications/anaconda3/lib/python3.7/site-packages/joblib/parallel.py\u001b[0m in \u001b[0;36mretrieve\u001b[0;34m(self)\u001b[0m\n\u001b[1;32m    907\u001b[0m             \u001b[0;32mtry\u001b[0m\u001b[0;34m:\u001b[0m\u001b[0;34m\u001b[0m\u001b[0;34m\u001b[0m\u001b[0m\n\u001b[1;32m    908\u001b[0m                 \u001b[0;32mif\u001b[0m \u001b[0mgetattr\u001b[0m\u001b[0;34m(\u001b[0m\u001b[0mself\u001b[0m\u001b[0;34m.\u001b[0m\u001b[0m_backend\u001b[0m\u001b[0;34m,\u001b[0m \u001b[0;34m'supports_timeout'\u001b[0m\u001b[0;34m,\u001b[0m \u001b[0;32mFalse\u001b[0m\u001b[0;34m)\u001b[0m\u001b[0;34m:\u001b[0m\u001b[0;34m\u001b[0m\u001b[0;34m\u001b[0m\u001b[0m\n\u001b[0;32m--> 909\u001b[0;31m                     \u001b[0mself\u001b[0m\u001b[0;34m.\u001b[0m\u001b[0m_output\u001b[0m\u001b[0;34m.\u001b[0m\u001b[0mextend\u001b[0m\u001b[0;34m(\u001b[0m\u001b[0mjob\u001b[0m\u001b[0;34m.\u001b[0m\u001b[0mget\u001b[0m\u001b[0;34m(\u001b[0m\u001b[0mtimeout\u001b[0m\u001b[0;34m=\u001b[0m\u001b[0mself\u001b[0m\u001b[0;34m.\u001b[0m\u001b[0mtimeout\u001b[0m\u001b[0;34m)\u001b[0m\u001b[0;34m)\u001b[0m\u001b[0;34m\u001b[0m\u001b[0;34m\u001b[0m\u001b[0m\n\u001b[0m\u001b[1;32m    910\u001b[0m                 \u001b[0;32melse\u001b[0m\u001b[0;34m:\u001b[0m\u001b[0;34m\u001b[0m\u001b[0;34m\u001b[0m\u001b[0m\n\u001b[1;32m    911\u001b[0m                     \u001b[0mself\u001b[0m\u001b[0;34m.\u001b[0m\u001b[0m_output\u001b[0m\u001b[0;34m.\u001b[0m\u001b[0mextend\u001b[0m\u001b[0;34m(\u001b[0m\u001b[0mjob\u001b[0m\u001b[0;34m.\u001b[0m\u001b[0mget\u001b[0m\u001b[0;34m(\u001b[0m\u001b[0;34m)\u001b[0m\u001b[0;34m)\u001b[0m\u001b[0;34m\u001b[0m\u001b[0;34m\u001b[0m\u001b[0m\n",
      "\u001b[0;32m/Applications/anaconda3/lib/python3.7/site-packages/joblib/_parallel_backends.py\u001b[0m in \u001b[0;36mwrap_future_result\u001b[0;34m(future, timeout)\u001b[0m\n\u001b[1;32m    560\u001b[0m         AsyncResults.get from multiprocessing.\"\"\"\n\u001b[1;32m    561\u001b[0m         \u001b[0;32mtry\u001b[0m\u001b[0;34m:\u001b[0m\u001b[0;34m\u001b[0m\u001b[0;34m\u001b[0m\u001b[0m\n\u001b[0;32m--> 562\u001b[0;31m             \u001b[0;32mreturn\u001b[0m \u001b[0mfuture\u001b[0m\u001b[0;34m.\u001b[0m\u001b[0mresult\u001b[0m\u001b[0;34m(\u001b[0m\u001b[0mtimeout\u001b[0m\u001b[0;34m=\u001b[0m\u001b[0mtimeout\u001b[0m\u001b[0;34m)\u001b[0m\u001b[0;34m\u001b[0m\u001b[0;34m\u001b[0m\u001b[0m\n\u001b[0m\u001b[1;32m    563\u001b[0m         \u001b[0;32mexcept\u001b[0m \u001b[0mLokyTimeoutError\u001b[0m\u001b[0;34m:\u001b[0m\u001b[0;34m\u001b[0m\u001b[0;34m\u001b[0m\u001b[0m\n\u001b[1;32m    564\u001b[0m             \u001b[0;32mraise\u001b[0m \u001b[0mTimeoutError\u001b[0m\u001b[0;34m(\u001b[0m\u001b[0;34m)\u001b[0m\u001b[0;34m\u001b[0m\u001b[0;34m\u001b[0m\u001b[0m\n",
      "\u001b[0;32m/Applications/anaconda3/lib/python3.7/concurrent/futures/_base.py\u001b[0m in \u001b[0;36mresult\u001b[0;34m(self, timeout)\u001b[0m\n\u001b[1;32m    428\u001b[0m                 \u001b[0;32mreturn\u001b[0m \u001b[0mself\u001b[0m\u001b[0;34m.\u001b[0m\u001b[0m__get_result\u001b[0m\u001b[0;34m(\u001b[0m\u001b[0;34m)\u001b[0m\u001b[0;34m\u001b[0m\u001b[0;34m\u001b[0m\u001b[0m\n\u001b[1;32m    429\u001b[0m \u001b[0;34m\u001b[0m\u001b[0m\n\u001b[0;32m--> 430\u001b[0;31m             \u001b[0mself\u001b[0m\u001b[0;34m.\u001b[0m\u001b[0m_condition\u001b[0m\u001b[0;34m.\u001b[0m\u001b[0mwait\u001b[0m\u001b[0;34m(\u001b[0m\u001b[0mtimeout\u001b[0m\u001b[0;34m)\u001b[0m\u001b[0;34m\u001b[0m\u001b[0;34m\u001b[0m\u001b[0m\n\u001b[0m\u001b[1;32m    431\u001b[0m \u001b[0;34m\u001b[0m\u001b[0m\n\u001b[1;32m    432\u001b[0m             \u001b[0;32mif\u001b[0m \u001b[0mself\u001b[0m\u001b[0;34m.\u001b[0m\u001b[0m_state\u001b[0m \u001b[0;32min\u001b[0m \u001b[0;34m[\u001b[0m\u001b[0mCANCELLED\u001b[0m\u001b[0;34m,\u001b[0m \u001b[0mCANCELLED_AND_NOTIFIED\u001b[0m\u001b[0;34m]\u001b[0m\u001b[0;34m:\u001b[0m\u001b[0;34m\u001b[0m\u001b[0;34m\u001b[0m\u001b[0m\n",
      "\u001b[0;32m/Applications/anaconda3/lib/python3.7/threading.py\u001b[0m in \u001b[0;36mwait\u001b[0;34m(self, timeout)\u001b[0m\n\u001b[1;32m    294\u001b[0m         \u001b[0;32mtry\u001b[0m\u001b[0;34m:\u001b[0m    \u001b[0;31m# restore state no matter what (e.g., KeyboardInterrupt)\u001b[0m\u001b[0;34m\u001b[0m\u001b[0;34m\u001b[0m\u001b[0m\n\u001b[1;32m    295\u001b[0m             \u001b[0;32mif\u001b[0m \u001b[0mtimeout\u001b[0m \u001b[0;32mis\u001b[0m \u001b[0;32mNone\u001b[0m\u001b[0;34m:\u001b[0m\u001b[0;34m\u001b[0m\u001b[0;34m\u001b[0m\u001b[0m\n\u001b[0;32m--> 296\u001b[0;31m                 \u001b[0mwaiter\u001b[0m\u001b[0;34m.\u001b[0m\u001b[0macquire\u001b[0m\u001b[0;34m(\u001b[0m\u001b[0;34m)\u001b[0m\u001b[0;34m\u001b[0m\u001b[0;34m\u001b[0m\u001b[0m\n\u001b[0m\u001b[1;32m    297\u001b[0m                 \u001b[0mgotit\u001b[0m \u001b[0;34m=\u001b[0m \u001b[0;32mTrue\u001b[0m\u001b[0;34m\u001b[0m\u001b[0;34m\u001b[0m\u001b[0m\n\u001b[1;32m    298\u001b[0m             \u001b[0;32melse\u001b[0m\u001b[0;34m:\u001b[0m\u001b[0;34m\u001b[0m\u001b[0;34m\u001b[0m\u001b[0m\n",
      "\u001b[0;31mKeyboardInterrupt\u001b[0m: "
     ]
    }
   ],
   "source": [
    "clf1 = svm.SVC()\n",
    "clf2 = KNeighborsClassifier(n_neighbors=10)\n",
    "# clf3 = DecisionTreeClassifier()\n",
    "clf3 = GaussianNB()\n",
    "\n",
    "voting_clf = VotingClassifier(\n",
    "    estimators=[\n",
    "        ('svm', clf1), \n",
    "        ('knn', clf2),\n",
    "        ('nb', clf3)\n",
    "    ],\n",
    "    voting='hard',\n",
    "#     weights=[0.2, 0.8],\n",
    "    n_jobs=-1\n",
    ")\n",
    "\n",
    "with Timer() as sk_fit_time:\n",
    "    voting_clf.fit(X, y)\n",
    "    \n",
    "with Timer() as sk_score_time:\n",
    "    voting_clf.score(X, y)\n",
    "    \n",
    "print(f\"Fit time (seconds): {sk_fit_time.elapsed}\")\n",
    "print(f\"Score time (seconds): {sk_score_time.elapsed}\")"
   ]
  },
  {
   "cell_type": "markdown",
   "metadata": {},
   "source": [
    "# StackingClassifier"
   ]
  },
  {
   "cell_type": "code",
   "execution_count": null,
   "metadata": {},
   "outputs": [],
   "source": [
    "estimators = [\n",
    "    \n",
    "    ('svc', svm.SVC()),\n",
    "    ('rf', KNeighborsClassifier(n_neighbors=10)),\n",
    "    ('nb', GaussianNB())\n",
    "]\n",
    "\n",
    "stacked_clf = StackingClassifier(\n",
    "    estimators=estimators,\n",
    "    stack_method=\"predict\",\n",
    "    n_jobs=-1\n",
    ")\n",
    "\n",
    "with Timer() as sk_fit_time:\n",
    "    stacked_clf.fit(X, y)\n",
    "    \n",
    "with Timer() as sk_score_time:\n",
    "    stacked_clf.score(X, y)\n",
    "    \n",
    "print(f\"Fit time (seconds): {sk_fit_time.elapsed}\")\n",
    "print(f\"Score time (seconds): {sk_score_time.elapsed}\")"
   ]
  },
  {
   "cell_type": "code",
   "execution_count": null,
   "metadata": {},
   "outputs": [],
   "source": [
    "from sklearn.ensemble import BaggingClassifier\n",
    "from sklearn import tree\n",
    "model = BaggingClassifier(tree.DecisionTreeClassifier(random_state=1))\n",
    "model.fit(x_train, y_train)\n",
    "model.score(x_test,y_test)\n",
    "0.75135135135135134"
   ]
  },
  {
   "cell_type": "code",
   "execution_count": null,
   "metadata": {},
   "outputs": [],
   "source": [
    "import numpy as np\n",
    "import matplotlib.pyplot as plt\n",
    "from matplotlib.ticker import MaxNLocator\n",
    "fig, ax = plt.subplots(figsize=(20,10))\n",
    "n_groups = 8\n",
    "index = np.arange(n_groups)\n",
    "bar_width = 0.35\n",
    "opacity = .7\n",
    "error_config = {'ecolor': '0.3'}\n",
    "normal_clf = ax.bar(index, normal_accuracy, bar_width, alpha=opacity, color='g', yerr=normal_std, error_kw=error_config, label='Normal Classifier')\n",
    "bagging_clf = ax.bar(index + bar_width, bagging_accuracy, bar_width, alpha=opacity, color='c', yerr=bagging_std, error_kw=error_config, label='Bagging Classifier')\n",
    "ax.set_xlabel('Classifiers')\n",
    "ax.set_ylabel('Accuracy scores with variance')\n",
    "ax.set_title('Scores by group and gender')\n",
    "ax.set_xticks(index + bar_width / 2)\n",
    "ax.set_xticklabels((labels))\n",
    "ax.legend()\n",
    "#fig.tight_layout()\n",
    "plt.show()"
   ]
  },
  {
   "cell_type": "code",
   "execution_count": null,
   "metadata": {},
   "outputs": [],
   "source": [
    "subsampling_ratio = [0.1,0.2,0.3,0.4,0.5,0.6,0.7,0.8,0.9,1.0]\n",
    "various_bagging_scores = []\n",
    "for clf in classifier_array:\n",
    "    cv_scores = cross_val_score(clf, X, y, cv=3, n_jobs=-1)\n",
    "    #print(\"\\nAccuracy: %0.4f (+/- %0.4f) [Normal %s]\" % (cv_scores.mean(), cv_scores.std(), clf.__class__.__name__))\n",
    "    \n",
    "    mean_bagging_score = []\n",
    "    for ratio in subsampling_ratio:\n",
    "        bagging_clf = BaggingClassifier(clf, max_samples=ratio, max_features=3, random_state=RANDOM_SEED)\n",
    "        bagging_scores = cross_val_score(bagging_clf, X, y, cv=3, n_jobs=-1)\n",
    "        mean_bagging_score.append(bagging_scores.mean())\n",
    "        #print(\"Bagging accuracy: %0.4f [max_samples %0.2f]\" % (bagging_scores.mean(), ratio))\n",
    "    various_bagging_scores.append(mean_bagging_score)\n",
    "various_bagging_scores.insert(0,subsampling_ratio)\n",
    "    \n",
    "#Compare performance and display it in a pretty table.\n",
    "from prettytable import PrettyTable\n",
    "table = PrettyTable()\n",
    "labels.insert(0,\"Max Samples\")\n",
    "#table.field_names = label_models\n",
    "index=0\n",
    "for value in various_bagging_scores:\n",
    "    table.add_column(labels[index],value)\n",
    "    index += 1\n",
    "print(table)"
   ]
  },
  {
   "cell_type": "code",
   "execution_count": null,
   "metadata": {},
   "outputs": [],
   "source": [
    "labels.remove(\"Max Samples\")\n",
    "various_bagging_scores.remove(various_bagging_scores[0])\n",
    "x_axes = subsampling_ratio\n",
    "color_map = ['blue','g','r','c','grey','y','black','m']\n",
    "plt.figure(figsize=(20,10))\n",
    "for index in range(0,len(labels)):\n",
    "    plt.plot(x_axes, various_bagging_scores[index], color=color_map[index], label=labels[index])\n",
    "plt.xlabel('Sub sampling Ratio')\n",
    "plt.ylabel('Accuracy')\n",
    "plt.title(\"Comparison b/w accuracy of different classifiers at various sub sampling ratio\")\n",
    "plt.legend()\n",
    "plt.show()\n"
   ]
  },
  {
   "cell_type": "markdown",
   "metadata": {},
   "source": [
    "# Voting classifier"
   ]
  },
  {
   "cell_type": "code",
   "execution_count": 107,
   "metadata": {},
   "outputs": [
    {
     "name": "stdout",
     "output_type": "stream",
     "text": [
      "Accuracy:  0.9819277108433735\n",
      "Confusion Matrix:  [[ 953   49    3   14    6    2    1    3   19    4]\n",
      " [   0  380    0    0    0    0    0    0    0    0]\n",
      " [   1    0 1118    0    6    0    0    0    0    0]\n",
      " [   0    5    0 1067    0    2    0    0    0    0]\n",
      " [   1    7    1    2 1125    0    2    0    0    0]\n",
      " [   1    0    0    7    0 1132    9    0    0    2]\n",
      " [   3    0    0    0    1   17 1080    0    0    0]\n",
      " [   1    0    0    0    0    0    1 1094    0    1]\n",
      " [   5    5    0    0    1    0    2    0 1031    0]\n",
      " [   0    2    0    0    0    0    0    0    0 1126]]\n",
      "Confusion matrix, without normalization\n",
      "[[ 953   49    3   14    6    2    1    3   19    4]\n",
      " [   0  380    0    0    0    0    0    0    0    0]\n",
      " [   1    0 1118    0    6    0    0    0    0    0]\n",
      " [   0    5    0 1067    0    2    0    0    0    0]\n",
      " [   1    7    1    2 1125    0    2    0    0    0]\n",
      " [   1    0    0    7    0 1132    9    0    0    2]\n",
      " [   3    0    0    0    1   17 1080    0    0    0]\n",
      " [   1    0    0    0    0    0    1 1094    0    1]\n",
      " [   5    5    0    0    1    0    2    0 1031    0]\n",
      " [   0    2    0    0    0    0    0    0    0 1126]]\n",
      "Accuracy: 0.957221 (+/- 0.001996) [SVM]\n",
      "Accuracy: 0.986591 (+/- 0.000851) [KNN]\n",
      "Accuracy: 0.886117 (+/- 0.002847) [Gaussian NB]\n",
      "Accuracy: 0.979959 (+/- 0.001665) [Ensemble]\n"
     ]
    },
    {
     "data": {
      "image/png": "[encoded data removed]",
      "text/plain": [
       "<Figure size 1152x1008 with 1 Axes>"
      ]
     },
     "metadata": {},
     "output_type": "display_data"
    }
   ],
   "source": [
    "from sklearn.model_selection import cross_val_score\n",
    "from sklearn.linear_model import LogisticRegression\n",
    "from sklearn.naive_bayes import GaussianNB\n",
    "from sklearn.ensemble import RandomForestClassifier\n",
    "from sklearn.ensemble import VotingClassifier\n",
    "\n",
    "# >>> iris = datasets.load_iris()\n",
    "# >>> X, y = iris.data[:, 1:3], iris.target\n",
    "\n",
    "# >>> clf1 = LogisticRegression(random_state=1)\n",
    "clf1 = svm.SVC()\n",
    "clf2 = KNeighborsClassifier(n_neighbors=10)\n",
    "# clf3 = DecisionTreeClassifier()\n",
    "clf3 = GaussianNB()\n",
    "# >>> clf3 = GaussianNB()\n",
    "\n",
    "eclf = VotingClassifier(estimators=[('svm', clf1), ('knn', clf2), ('nb', clf3)],voting='hard')\n",
    "eclf.fit(X_train, y_train)\n",
    "rf_predicted =eclf.predict(X_test)\n",
    "accuracy = accuracy_score(y_test,rf_predicted)\n",
    "#print (rf.oob_score_)\n",
    "print (\"Accuracy: \", accuracy)\n",
    "#acc, score = rf.evaluate(x_test, y_test)\n",
    "# print(\"Time: \", time()-t0)   \n",
    "# creating a confusion matrix \n",
    "rf_cm = confusion_matrix(y_test, rf_predicted)\n",
    "print(\"Confusion Matrix: \", rf_cm)\n",
    "plot_confusion_matrix(rf_cm, classes = clf.classes_,\n",
    "                      title = 'Confusion Matrix of Voting Ensemble')\n",
    "\n",
    "plt.savefig('voting.png')\n",
    "\n",
    "for clf, label in zip([clf1, clf2, clf3, eclf], ['SVM', 'KNN', 'Gaussian NB','Ensemble']):\n",
    "    scores = cross_val_score(clf, X_train, y_train, scoring='accuracy', cv=5)\n",
    "    print(\"Accuracy: %0.6f (+/- %0.6f) [%s]\" % (scores.mean(), scores.std(), label))\n",
    "# Accuracy: 0.95 (+/- 0.04) [Logistic Regression]\n",
    "# Accuracy: 0.94 (+/- 0.04) [Random Forest]\n",
    "# Accuracy: 0.91 (+/- 0.04) [naive Bayes]\n",
    "# Accuracy: 0.95 (+/- 0.04) [Ensemble]"
   ]
  },
  {
   "cell_type": "code",
   "execution_count": 204,
   "metadata": {},
   "outputs": [
    {
     "name": "stdout",
     "output_type": "stream",
     "text": [
      "                  precision    recall  f1-score   support\n",
      "\n",
      "          BENIGN       0.10      0.09      0.09      1110\n",
      "             Bot       0.04      0.04      0.04       434\n",
      "            DDoS       0.11      0.11      0.11      1112\n",
      "   DoS GoldenEye       0.13      0.13      0.13      1093\n",
      "        DoS Hulk       0.10      0.10      0.10      1108\n",
      "DoS Slowhttptest       0.09      0.10      0.10      1034\n",
      "   DoS slowloris       0.10      0.10      0.10      1124\n",
      "     FTP-Patator       0.10      0.10      0.10      1096\n",
      "        PortScan       0.12      0.12      0.12      1115\n",
      "     SSH-Patator       0.11      0.11      0.11      1066\n",
      "\n",
      "        accuracy                           0.10     10292\n",
      "       macro avg       0.10      0.10      0.10     10292\n",
      "    weighted avg       0.10      0.10      0.10     10292\n",
      "\n"
     ]
    }
   ],
   "source": [
    "print(classification_report(y_test, vote_predicted))"
   ]
  },
  {
   "cell_type": "code",
   "execution_count": 168,
   "metadata": {
    "scrolled": false
   },
   "outputs": [
    {
     "name": "stdout",
     "output_type": "stream",
     "text": [
      "Predict    0          1          2          3          4          5          6          7          8          9          \n",
      "Actual\n",
      "0          953        49         3          14         6          2          1          3          19         4          \n",
      "\n",
      "1          0          380        0          0          0          0          0          0          0          0          \n",
      "\n",
      "2          1          0          1118       0          6          0          0          0          0          0          \n",
      "\n",
      "3          0          5          0          1067       0          2          0          0          0          0          \n",
      "\n",
      "4          1          7          1          2          1125       0          2          0          0          0          \n",
      "\n",
      "5          1          0          0          7          0          1132       9          0          0          2          \n",
      "\n",
      "6          3          0          0          0          1          17         1080       0          0          0          \n",
      "\n",
      "7          1          0          0          0          0          0          1          1094       0          1          \n",
      "\n",
      "8          5          5          0          0          1          0          2          0          1031       0          \n",
      "\n",
      "9          0          2          0          0          0          0          0          0          0          1126       \n",
      "\n",
      "\n",
      "\n",
      "\n",
      "\n",
      "Overall Statistics : \n",
      "\n",
      "95% CI                                                            (0.97935,0.9845)\n",
      "ACC Macro                                                         0.99639\n",
      "ARI                                                               0.96482\n",
      "AUNP                                                              0.99015\n",
      "AUNU                                                              0.99039\n",
      "Bangdiwala B                                                      0.96875\n",
      "Bennett S                                                         0.97992\n",
      "CBA                                                               0.96485\n",
      "CSI                                                               0.95674\n",
      "Chi-Squared                                                       88263.5677\n",
      "Chi-Squared DF                                                    81\n",
      "Conditional Entropy                                               0.14436\n",
      "Cramer V                                                          0.97616\n",
      "Cross Entropy                                                     3.2815\n",
      "F1 Macro                                                          0.97755\n",
      "F1 Micro                                                          0.98193\n",
      "FNR Macro                                                         0.01725\n",
      "FNR Micro                                                         0.01807\n",
      "FPR Macro                                                         0.00197\n",
      "FPR Micro                                                         0.00201\n",
      "Gwet AC1                                                          0.97993\n",
      "Hamming Loss                                                      0.01807\n",
      "Joint Entropy                                                     3.42451\n",
      "KL Divergence                                                     0.00135\n",
      "Kappa                                                             0.97983\n",
      "Kappa 95% CI                                                      (0.97696,0.9827)\n",
      "Kappa No Prevalence                                               0.96386\n",
      "Kappa Standard Error                                              0.00147\n",
      "Kappa Unbiased                                                    0.97983\n",
      "Krippendorff Alpha                                                0.97983\n",
      "Lambda A                                                          0.97965\n",
      "Lambda B                                                          0.97965\n",
      "Mutual Information                                                3.1441\n",
      "NIR                                                               0.11183\n",
      "Overall ACC                                                       0.98193\n",
      "Overall CEN                                                       0.03175\n",
      "Overall J                                                         (9.57181,0.95718)\n",
      "Overall MCC                                                       0.97989\n",
      "Overall MCEN                                                      0.05432\n",
      "Overall RACC                                                      0.1041\n",
      "Overall RACCU                                                     0.10413\n",
      "P-Value                                                           None\n",
      "PPV Macro                                                         0.97399\n",
      "PPV Micro                                                         0.98193\n",
      "Pearson C                                                         0.94635\n",
      "Phi-Squared                                                       8.57594\n",
      "RCI                                                               0.95852\n",
      "RR                                                                1029.2\n",
      "Reference Entropy                                                 3.28016\n",
      "Response Entropy                                                  3.28845\n",
      "SOA1(Landis & Koch)                                               Almost Perfect\n",
      "SOA2(Fleiss)                                                      Excellent\n",
      "SOA3(Altman)                                                      Very Good\n",
      "SOA4(Cicchetti)                                                   Excellent\n",
      "SOA5(Cramer)                                                      Very Strong\n",
      "SOA6(Matthews)                                                    Very Strong\n",
      "Scott PI                                                          0.97983\n",
      "Standard Error                                                    0.00131\n",
      "TNR Macro                                                         0.99803\n",
      "TNR Micro                                                         0.99799\n",
      "TPR Macro                                                         0.98275\n",
      "TPR Micro                                                         0.98193\n",
      "Zero-one Loss                                                     186\n",
      "\n",
      "Class Statistics :\n",
      "\n",
      "Classes                                                           0             1             2             3             4             5             6             7             8             9             \n",
      "ACC(Accuracy)                                                     0.98902       0.99339       0.99893       0.99709       0.99738       0.99611       0.9965        0.99942       0.99689       0.99913       \n",
      "AGF(Adjusted F-score)                                             0.95472       0.98189       0.9968        0.9947        0.99347       0.99049       0.98989       0.99847       0.99242       0.99851       \n",
      "AGM(Adjusted geometric mean)                                      0.97318       0.99488       0.99803       0.99644       0.99585       0.99393       0.99374       0.99904       0.9952        0.99897       \n",
      "AM(Difference between automatic and manual classification)        -89           68            -3            16            1             2             -6            0             6             5             \n",
      "AUC(Area under the ROC curve)                                     0.95144       0.99657       0.99667       0.99549       0.99352       0.9906        0.98965       0.99847       0.99275       0.99873       \n",
      "AUCI(AUC value interpretation)                                    Excellent     Excellent     Excellent     Excellent     Excellent     Excellent     Excellent     Excellent     Excellent     Excellent     \n",
      "AUPR(Area under the PR curve)                                     0.94587       0.92411       0.99511       0.98619       0.98814       0.98264       0.98361       0.99727       0.98473       0.99602       \n",
      "BCD(Bray-Curtis dissimilarity)                                    0.00432       0.0033        0.00015       0.00078       5e-05         0.0001        0.00029       0.0           0.00029       0.00024       \n",
      "BM(Informedness or bookmaker informedness)                        0.90288       0.99314       0.99334       0.99099       0.98705       0.9812        0.97929       0.99694       0.98549       0.99746       \n",
      "CEN(Confusion entropy)                                            0.09267       0.09823       0.01091       0.02702       0.02596       0.03363       0.03198       0.00676       0.0283        0.00936       \n",
      "DOR(Diagnostic odds ratio)                                        7254.43729    None          365865.5      60938.29193   56497.25275   25874.28571   31460.57143   1117338.66667 38522.66802   736484.42857  \n",
      "DP(Discriminant power)                                            2.12846       None          3.06722       2.63805       2.61993       2.43294       2.47975       3.33454       2.52824       3.23474       \n",
      "DPI(Discriminant power interpretation)                            Fair          None          Good          Fair          Fair          Fair          Fair          Good          Fair          Good          \n",
      "ERR(Error rate)                                                   0.01098       0.00661       0.00107       0.00291       0.00262       0.00389       0.0035        0.00058       0.00311       0.00087       \n",
      "F0.5(F0.5 score)                                                  0.96968       0.87477       0.9959        0.98178       0.98788       0.98213       0.98522       0.99727       0.98303       0.9947        \n",
      "F1(F1 score - harmonic mean of precision and sensitivity)         0.94403       0.91787       0.9951        0.98614       0.98814       0.98264       0.98361       0.99727       0.98472       0.99602       \n",
      "F2(F2 score)                                                      0.91971       0.96545       0.99431       0.99053       0.9884        0.98315       0.982         0.99727       0.98641       0.99734       \n",
      "FDR(False discovery rate)                                         0.01244       0.15179       0.00357       0.0211        0.01229       0.01821       0.0137        0.00273       0.0181        0.00618       \n",
      "FN(False negative/miss/type 2 error)                              101           0             7             7             13            19            21            3             13            2             \n",
      "FNR(Miss rate or false negative rate)                             0.09583       0.0           0.00622       0.00652       0.01142       0.01651       0.01907       0.00273       0.01245       0.00177       \n",
      "FOR(False omission rate)                                          0.01083       0.0           0.00076       0.00076       0.00142       0.00208       0.00228       0.00033       0.00141       0.00022       \n",
      "FP(False positive/type 1 error/false alarm)                       12            68            4             23            14            21            15            3             19            7             \n",
      "FPR(Fall-out or false positive rate)                              0.0013        0.00686       0.00044       0.0025        0.00153       0.0023        0.00163       0.00033       0.00205       0.00076       \n",
      "G(G-measure geometric mean of precision and sensitivity)          0.94495       0.92099       0.99511       0.98616       0.98814       0.98264       0.98361       0.99727       0.98472       0.99602       \n",
      "GI(Gini index)                                                    0.90288       0.99314       0.99334       0.99099       0.98705       0.9812        0.97929       0.99694       0.98549       0.99746       \n",
      "GM(G-mean geometric mean of specificity and sensitivity)          0.95026       0.99656       0.99667       0.99549       0.99351       0.99057       0.98961       0.99847       0.99273       0.99873       \n",
      "IBA(Index of balanced accuracy)                                   0.81764       0.99995       0.9876        0.98702       0.9773        0.96729       0.96224       0.99454       0.97527       0.99646       \n",
      "ICSI(Individual classification success index)                     0.89174       0.84821       0.99021       0.97238       0.97628       0.96528       0.96723       0.99453       0.96945       0.99205       \n",
      "IS(Information score)                                             3.26952       4.52188       3.18837       3.22969       3.15911       3.13405       3.20474       3.22594       3.27498       3.18074       \n",
      "J(Jaccard index)                                                  0.894         0.84821       0.99026       0.97265       0.97656       0.96587       0.96774       0.99455       0.9699        0.99207       \n",
      "LS(Lift score)                                                    9.64328       22.97321      9.11583       9.38066       8.93277       8.77893       9.21981       9.35629       9.67985       9.06774       \n",
      "MCC(Matthews correlation coefficient)                             0.93908       0.91782       0.99451       0.98454       0.98667       0.98045       0.98165       0.99694       0.98299       0.99553       \n",
      "MCCI(Matthews correlation coefficient interpretation)             Very Strong   Very Strong   Very Strong   Very Strong   Very Strong   Very Strong   Very Strong   Very Strong   Very Strong   Very Strong   \n",
      "MCEN(Modified confusion entropy)                                  0.15208       0.1493        0.01939       0.04687       0.04578       0.05814       0.05538       0.01218       0.04868       0.01676       \n",
      "MK(Markedness)                                                    0.97674       0.84821       0.99567       0.97814       0.98629       0.97971       0.98402       0.99694       0.9805        0.9936        \n",
      "N(Condition negative)                                             9238          9912          9167          9218          9154          9141          9191          9195          9248          9164          \n",
      "NLR(Negative likelihood ratio)                                    0.09595       0.0           0.00622       0.00653       0.01144       0.01655       0.0191        0.00274       0.01248       0.00177       \n",
      "NLRI(Negative likelihood ratio interpretation)                    Good          Good          Good          Good          Good          Good          Good          Good          Good          Good          \n",
      "NPV(Negative predictive value)                                    0.98917       1.0           0.99924       0.99924       0.99858       0.99792       0.99772       0.99967       0.99859       0.99978       \n",
      "OC(Overlap coefficient)                                           0.98756       1.0           0.99643       0.99348       0.98858       0.98349       0.9863        0.99727       0.98755       0.99823       \n",
      "OOC(Otsuka-Ochiai coefficient)                                    0.94495       0.92099       0.99511       0.98616       0.98814       0.98264       0.98361       0.99727       0.98472       0.99602       \n",
      "OP(Optimized precision)                                           0.93935       0.98995       0.99603       0.99506       0.9924        0.98894       0.98769       0.99821       0.99165       0.99862       \n",
      "P(Condition positive or support)                                  1054          380           1125          1074          1138          1151          1101          1097          1044          1128          \n",
      "PLR(Positive likelihood ratio)                                    696.06373     145.76471     2277.49022    398.17043     646.38777     428.10029     601.04632     3056.61805    480.67594     1306.82168    \n",
      "PLRI(Positive likelihood ratio interpretation)                    Good          Good          Good          Good          Good          Good          Good          Good          Good          Good          \n",
      "POP(Population)                                                   10292         10292         10292         10292         10292         10292         10292         10292         10292         10292         \n",
      "PPV(Precision or positive predictive value)                       0.98756       0.84821       0.99643       0.9789        0.98771       0.98179       0.9863        0.99727       0.9819        0.99382       \n",
      "PRE(Prevalence)                                                   0.10241       0.03692       0.10931       0.10435       0.11057       0.11183       0.10698       0.10659       0.10144       0.1096        \n",
      "Q(Yule Q - coefficient of colligation)                            0.99972       None          0.99999       0.99997       0.99996       0.99992       0.99994       1.0           0.99995       1.0           \n",
      "QI(Yule Q interpretation)                                         Strong        None          Strong        Strong        Strong        Strong        Strong        Strong        Strong        Strong        \n",
      "RACC(Random accuracy)                                             0.0096        0.00161       0.01192       0.01105       0.01224       0.01253       0.01138       0.01136       0.01035       0.01207       \n",
      "RACCU(Random accuracy unbiased)                                   0.00962       0.00162       0.01192       0.01105       0.01224       0.01253       0.01138       0.01136       0.01035       0.01207       \n",
      "TN(True negative/correct rejection)                               9226          9844          9163          9195          9140          9120          9176          9192          9229          9157          \n",
      "TNR(Specificity or true negative rate)                            0.9987        0.99314       0.99956       0.9975        0.99847       0.9977        0.99837       0.99967       0.99795       0.99924       \n",
      "TON(Test outcome negative)                                        9327          9844          9170          9202          9153          9139          9197          9195          9242          9159          \n",
      "TOP(Test outcome positive)                                        965           448           1122          1090          1139          1153          1095          1097          1050          1133          \n",
      "TP(True positive/hit)                                             953           380           1118          1067          1125          1132          1080          1094          1031          1126          \n",
      "TPR(Sensitivity, recall, hit rate, or true positive rate)         0.90417       1.0           0.99378       0.99348       0.98858       0.98349       0.98093       0.99727       0.98755       0.99823       \n",
      "Y(Youden index)                                                   0.90288       0.99314       0.99334       0.99099       0.98705       0.9812        0.97929       0.99694       0.98549       0.99746       \n",
      "dInd(Distance index)                                              0.09583       0.00686       0.00624       0.00698       0.01153       0.01667       0.01914       0.00275       0.01262       0.00193       \n",
      "sInd(Similarity index)                                            0.93223       0.99515       0.99559       0.99507       0.99185       0.98822       0.98646       0.99805       0.99108       0.99863       \n",
      "\n"
     ]
    }
   ],
   "source": [
    "from pycm import *\n",
    "\n",
    "vote_predicted =eclf.predict(X_test)\n",
    "\n",
    "le.fit(vote_predicted)\n",
    "vote_enc = le.transform(vote_predicted)\n",
    "votecm = ConfusionMatrix(actual_vector=y_test_enc, predict_vector=vote_enc) # Create CM From Data\n",
    "# >>> cm.classes\n",
    "# [0, 1, 2]\n",
    "# >>> cm.table\n",
    "# {0: {0: 3, 1: 0, 2: 0}, 1: {0: 0, 1: 1, 2: 2}, 2: {0: 2, 1: 1, 2: 3}}\n",
    "# >>> \n",
    "print(votecm)"
   ]
  },
  {
   "cell_type": "markdown",
   "metadata": {},
   "source": [
    "# Stacking classifier"
   ]
  },
  {
   "cell_type": "code",
   "execution_count": 110,
   "metadata": {},
   "outputs": [
    {
     "name": "stdout",
     "output_type": "stream",
     "text": [
      "Accuracy:  0.9933929265448892\n",
      "Confusion Matrix:  [[1026   11    2    2    5    1    1    1    2    3]\n",
      " [   1  379    0    0    0    0    0    0    0    0]\n",
      " [   1    0 1124    0    0    0    0    0    0    0]\n",
      " [   0    0    0 1072    0    2    0    0    0    0]\n",
      " [   2    0    1    3 1130    0    2    0    0    0]\n",
      " [   1    0    0    1    0 1139    9    0    0    1]\n",
      " [   3    0    0    0    1    5 1092    0    0    0]\n",
      " [   1    0    0    0    0    0    1 1094    0    1]\n",
      " [   2    0    0    0    1    0    1    0 1040    0]\n",
      " [   0    0    0    0    0    0    0    0    0 1128]]\n",
      "Confusion matrix, without normalization\n",
      "[[1026   11    2    2    5    1    1    1    2    3]\n",
      " [   1  379    0    0    0    0    0    0    0    0]\n",
      " [   1    0 1124    0    0    0    0    0    0    0]\n",
      " [   0    0    0 1072    0    2    0    0    0    0]\n",
      " [   2    0    1    3 1130    0    2    0    0    0]\n",
      " [   1    0    0    1    0 1139    9    0    0    1]\n",
      " [   3    0    0    0    1    5 1092    0    0    0]\n",
      " [   1    0    0    0    0    0    1 1094    0    1]\n",
      " [   2    0    0    0    1    0    1    0 1040    0]\n",
      " [   0    0    0    0    0    0    0    0    0 1128]]\n",
      "Accuracy: 0.957221 (+/- 0.001996) [SVM]\n",
      "Accuracy: 0.986591 (+/- 0.000851) [KNN]\n",
      "Accuracy: 0.886117 (+/- 0.002847) [Gaussian NB]\n",
      "Accuracy: 0.991838 (+/- 0.000658) [Ensemble]\n"
     ]
    },
    {
     "data": {
      "image/png": "[encoded data removed]",
      "text/plain": [
       "<Figure size 1152x1008 with 1 Axes>"
      ]
     },
     "metadata": {},
     "output_type": "display_data"
    }
   ],
   "source": [
    "from sklearn.ensemble import StackingClassifier\n",
    "\n",
    "estimators = [\n",
    "     ('svm', clf1),\n",
    "     ('knn', clf2),\n",
    "#      ('dt', clf2),\n",
    "     ('nb', clf3)]\n",
    "stackclf = StackingClassifier(estimators=estimators, final_estimator=LogisticRegression())\n",
    "# t0 = time.time()\n",
    "\n",
    "stackclf.fit(X_train, y_train)\n",
    "rf_predicted =stackclf.predict(X_test)\n",
    "accuracy = accuracy_score(y_test,rf_predicted)\n",
    "#print (rf.oob_score_)\n",
    "print (\"Accuracy: \", accuracy)\n",
    "#acc, score = rf.evaluate(x_test, y_test)\n",
    "# print(\"Time: \", time()-t0)   \n",
    "# creating a confusion matrix \n",
    "rf_cm = confusion_matrix(y_test, rf_predicted)\n",
    "print(\"Confusion Matrix: \", rf_cm)\n",
    "plot_confusion_matrix(rf_cm, classes = clf.classes_,\n",
    "                      title = 'Confusion Matrix of Stacking Ensemble')\n",
    "\n",
    "plt.savefig('stacking.png')\n",
    "# print('Stacked Classifier:\\n> Accuracy on training data = {:.4f}\\n> Accuracy on test data = {:.4f}'.format(\n",
    "#     accuracy_score(y_true=y_train, y_pred=rf_predicted),\n",
    "#     accuracy_score(y_true=y_test, y_pred=rf_predicted)\n",
    "# ))\n",
    "\n",
    "for clf, label in zip([clf1, clf2, clf3, stackclf], ['SVM', 'KNN',  'Gaussian NB','Ensemble']):\n",
    "    scores = cross_val_score(clf, X_train, y_train, scoring='accuracy', cv=5)\n",
    "    print(\"Accuracy: %0.6f (+/- %0.6f) [%s]\" % (scores.mean(), scores.std(), label))"
   ]
  },
  {
   "cell_type": "code",
   "execution_count": 169,
   "metadata": {},
   "outputs": [
    {
     "name": "stdout",
     "output_type": "stream",
     "text": [
      "Predict    0          1          2          3          4          5          6          7          8          9          \n",
      "Actual\n",
      "0          1026       11         2          2          5          1          1          1          2          3          \n",
      "\n",
      "1          1          379        0          0          0          0          0          0          0          0          \n",
      "\n",
      "2          1          0          1124       0          0          0          0          0          0          0          \n",
      "\n",
      "3          0          0          0          1072       0          2          0          0          0          0          \n",
      "\n",
      "4          2          0          1          3          1130       0          2          0          0          0          \n",
      "\n",
      "5          1          0          0          1          0          1139       9          0          0          1          \n",
      "\n",
      "6          3          0          0          0          1          5          1092       0          0          0          \n",
      "\n",
      "7          1          0          0          0          0          0          1          1094       0          1          \n",
      "\n",
      "8          2          0          0          0          1          0          1          0          1040       0          \n",
      "\n",
      "9          0          0          0          0          0          0          0          0          0          1128       \n",
      "\n",
      "\n",
      "\n",
      "\n",
      "\n",
      "Overall Statistics : \n",
      "\n",
      "95% CI                                                            (0.99183,0.99496)\n",
      "ACC Macro                                                         0.99868\n",
      "ARI                                                               0.98593\n",
      "AUNP                                                              0.99634\n",
      "AUNU                                                              0.99643\n",
      "Bangdiwala B                                                      0.98741\n",
      "Bennett S                                                         0.99266\n",
      "CBA                                                               0.98959\n",
      "CSI                                                               0.98558\n",
      "Chi-Squared                                                       91154.57433\n",
      "Chi-Squared DF                                                    81\n",
      "Conditional Entropy                                               0.06451\n",
      "Cramer V                                                          0.99201\n",
      "Cross Entropy                                                     3.2802\n",
      "F1 Macro                                                          0.99276\n",
      "F1 Micro                                                          0.99339\n",
      "FNR Macro                                                         0.00641\n",
      "FNR Micro                                                         0.00661\n",
      "FPR Macro                                                         0.00073\n",
      "FPR Micro                                                         0.00073\n",
      "Gwet AC1                                                          0.99266\n",
      "Hamming Loss                                                      0.00661\n",
      "Joint Entropy                                                     3.34466\n",
      "KL Divergence                                                     4e-05\n",
      "Kappa                                                             0.99262\n",
      "Kappa 95% CI                                                      (0.99087,0.99437)\n",
      "Kappa No Prevalence                                               0.98679\n",
      "Kappa Standard Error                                              0.00089\n",
      "Kappa Unbiased                                                    0.99262\n",
      "Krippendorff Alpha                                                0.99262\n",
      "Lambda A                                                          0.99256\n",
      "Lambda B                                                          0.99256\n",
      "Mutual Information                                                3.217\n",
      "NIR                                                               0.11183\n",
      "Overall ACC                                                       0.99339\n",
      "Overall CEN                                                       0.01462\n",
      "Overall J                                                         (9.85696,0.9857)\n",
      "Overall MCC                                                       0.99262\n",
      "Overall MCEN                                                      0.02594\n",
      "Overall RACC                                                      0.10447\n",
      "Overall RACCU                                                     0.10447\n",
      "P-Value                                                           None\n",
      "PPV Macro                                                         0.99199\n",
      "PPV Micro                                                         0.99339\n",
      "Pearson C                                                         0.94792\n",
      "Phi-Squared                                                       8.85684\n",
      "RCI                                                               0.98075\n",
      "RR                                                                1029.2\n",
      "Reference Entropy                                                 3.28016\n",
      "Response Entropy                                                  3.2815\n",
      "SOA1(Landis & Koch)                                               Almost Perfect\n",
      "SOA2(Fleiss)                                                      Excellent\n",
      "SOA3(Altman)                                                      Very Good\n",
      "SOA4(Cicchetti)                                                   Excellent\n",
      "SOA5(Cramer)                                                      Very Strong\n",
      "SOA6(Matthews)                                                    Very Strong\n",
      "Scott PI                                                          0.99262\n",
      "Standard Error                                                    0.0008\n",
      "TNR Macro                                                         0.99927\n",
      "TNR Micro                                                         0.99927\n",
      "TPR Macro                                                         0.99359\n",
      "TPR Micro                                                         0.99339\n",
      "Zero-one Loss                                                     68\n",
      "\n",
      "Class Statistics :\n",
      "\n",
      "Classes                                                           0             1             2             3             4             5             6             7             8             9             \n",
      "ACC(Accuracy)                                                     0.99621       0.99883       0.99961       0.99922       0.99854       0.99806       0.99777       0.99961       0.99942       0.99951       \n",
      "AGF(Adjusted F-score)                                             0.98691       0.99591       0.9993        0.99854       0.99614       0.99451       0.99491       0.99867       0.99808       0.9995        \n",
      "AGM(Adjusted geometric mean)                                      0.99208       0.9985        0.99952       0.99903       0.99757       0.99659       0.99672       0.9992        0.99883       0.9996        \n",
      "AM(Difference between automatic and manual classification)        -17           10            2             4             -1            -4            5             -2            -2            5             \n",
      "AUC(Area under the ROC curve)                                     0.98612       0.99813       0.99939       0.99874       0.9961        0.99435       0.99515       0.99858       0.99798       0.99973       \n",
      "AUCI(AUC value interpretation)                                    Excellent     Excellent     Excellent     Excellent     Excellent     Excellent     Excellent     Excellent     Excellent     Excellent     \n",
      "AUPR(Area under the PR curve)                                     0.98141       0.98458       0.99822       0.99629       0.99341       0.9913        0.98958       0.99818       0.99712       0.99779       \n",
      "BCD(Bray-Curtis dissimilarity)                                    0.00083       0.00049       0.0001        0.00019       5e-05         0.00019       0.00024       0.0001        0.0001        0.00024       \n",
      "BM(Informedness or bookmaker informedness)                        0.97224       0.99626       0.99878       0.99749       0.99221       0.9887        0.9903        0.99716       0.99595       0.99945       \n",
      "CEN(Confusion entropy)                                            0.0414        0.02398       0.00453       0.00889       0.01549       0.01891       0.02267       0.00486       0.00715       0.0054        \n",
      "DOR(Diagnostic odds ratio)                                        30736.69481   341134.45455  3433445.33333 822938.66667  184573.39286  108359.23958  79534.0       3352745.33333 1201980.0     None          \n",
      "DP(Discriminant power)                                            2.47418       3.05046       3.60334       3.26131       2.90339       2.77587       2.70182       3.59764       3.35202       None          \n",
      "DPI(Discriminant power interpretation)                            Fair          Good          Good          Good          Fair          Fair          Fair          Good          Good          None          \n",
      "ERR(Error rate)                                                   0.00379       0.00117       0.00039       0.00078       0.00146       0.00194       0.00223       0.00039       0.00058       0.00049       \n",
      "F0.5(F0.5 score)                                                  0.98616       0.9768        0.99769       0.99517       0.99367       0.99233       0.98824       0.99872       0.9977        0.99647       \n",
      "F1(F1 score - harmonic mean of precision and sensitivity)         0.98135       0.98442       0.99822       0.99628       0.99341       0.9913        0.98958       0.99818       0.99712       0.99779       \n",
      "F2(F2 score)                                                      0.97658       0.99215       0.99876       0.99739       0.99314       0.99026       0.99093       0.99763       0.99655       0.99911       \n",
      "FDR(False discovery rate)                                         0.01061       0.02821       0.00266       0.00557       0.00616       0.00697       0.01266       0.00091       0.00192       0.00441       \n",
      "FN(False negative/miss/type 2 error)                              28            1             1             2             8             12            9             3             4             0             \n",
      "FNR(Miss rate or false negative rate)                             0.02657       0.00263       0.00089       0.00186       0.00703       0.01043       0.00817       0.00273       0.00383       0.0           \n",
      "FOR(False omission rate)                                          0.00303       0.0001        0.00011       0.00022       0.00087       0.00131       0.00098       0.00033       0.00043       0.0           \n",
      "FP(False positive/type 1 error/false alarm)                       11            11            3             6             7             8             14            1             2             5             \n",
      "FPR(Fall-out or false positive rate)                              0.00119       0.00111       0.00033       0.00065       0.00076       0.00088       0.00152       0.00011       0.00022       0.00055       \n",
      "G(G-measure geometric mean of precision and sensitivity)          0.98138       0.9845        0.99822       0.99628       0.99341       0.9913        0.98958       0.99818       0.99712       0.99779       \n",
      "GI(Gini index)                                                    0.97224       0.99626       0.99878       0.99749       0.99221       0.9887        0.9903        0.99716       0.99595       0.99945       \n",
      "GM(G-mean geometric mean of specificity and sensitivity)          0.98604       0.99813       0.99939       0.99874       0.9961        0.99434       0.99515       0.99858       0.99797       0.99973       \n",
      "IBA(Index of balanced accuracy)                                   0.9476        0.99475       0.99822       0.99628       0.98599       0.97927       0.98373       0.99454       0.99235       1.0           \n",
      "ICSI(Individual classification success index)                     0.96283       0.96916       0.99645       0.99257       0.98681       0.9826        0.97917       0.99635       0.99425       0.99559       \n",
      "IS(Information score)                                             3.27219       4.7181        3.18968       3.25241       3.16804       3.15047       3.20626       3.22857       3.29856       3.1833        \n",
      "J(Jaccard index)                                                  0.96338       0.96931       0.99645       0.99259       0.9869        0.98274       0.97937       0.99636       0.99426       0.99559       \n",
      "LS(Lift score)                                                    9.66113       26.3203       9.12409       9.52953       8.98826       8.87942       9.22954       9.37338       9.83932       9.08385       \n",
      "MCC(Matthews correlation coefficient)                             0.97928       0.9839        0.99801       0.99585       0.99259       0.9902        0.98833       0.99796       0.9968        0.99752       \n",
      "MCCI(Matthews correlation coefficient interpretation)             Very Strong   Very Strong   Very Strong   Very Strong   Very Strong   Very Strong   Very Strong   Very Strong   Very Strong   Very Strong   \n",
      "MCEN(Modified confusion entropy)                                  0.07274       0.04004       0.0082        0.01596       0.02766       0.0334        0.03999       0.00882       0.01288       0.00973       \n",
      "MK(Markedness)                                                    0.98637       0.97169       0.99723       0.99422       0.99297       0.99171       0.98636       0.99876       0.99765       0.99559       \n",
      "N(Condition negative)                                             9238          9912          9167          9218          9154          9141          9191          9195          9248          9164          \n",
      "NLR(Negative likelihood ratio)                                    0.0266        0.00263       0.00089       0.00186       0.00704       0.01043       0.00819       0.00274       0.00383       0.0           \n",
      "NLRI(Negative likelihood ratio interpretation)                    Good          Good          Good          Good          Good          Good          Good          Good          Good          Good          \n",
      "NPV(Negative predictive value)                                    0.99697       0.9999        0.99989       0.99978       0.99913       0.99869       0.99902       0.99967       0.99957       1.0           \n",
      "OC(Overlap coefficient)                                           0.98939       0.99737       0.99911       0.99814       0.99384       0.99303       0.99183       0.99909       0.99808       1.0           \n",
      "OOC(Otsuka-Ochiai coefficient)                                    0.98138       0.9845        0.99822       0.99628       0.99341       0.9913        0.98958       0.99818       0.99712       0.99779       \n",
      "OP(Optimized precision)                                           0.98334       0.99807       0.99933       0.99862       0.9954        0.99325       0.99442       0.9983        0.99761       0.99924       \n",
      "P(Condition positive or support)                                  1054          380           1125          1074          1138          1151          1101          1097          1044          1128          \n",
      "PLR(Positive likelihood ratio)                                    817.50802     898.71962     3052.95052    1533.47238    1298.52122    1130.71232    651.13351     9169.85415    4606.28352    1832.8        \n",
      "PLRI(Positive likelihood ratio interpretation)                    Good          Good          Good          Good          Good          Good          Good          Good          Good          Good          \n",
      "POP(Population)                                                   10292         10292         10292         10292         10292         10292         10292         10292         10292         10292         \n",
      "PPV(Precision or positive predictive value)                       0.98939       0.97179       0.99734       0.99443       0.99384       0.99303       0.98734       0.99909       0.99808       0.99559       \n",
      "PRE(Prevalence)                                                   0.10241       0.03692       0.10931       0.10435       0.11057       0.11183       0.10698       0.10659       0.10144       0.1096        \n",
      "Q(Yule Q - coefficient of colligation)                            0.99993       0.99999       1.0           1.0           0.99999       0.99998       0.99997       1.0           1.0           None          \n",
      "QI(Yule Q interpretation)                                         Strong        Strong        Strong        Strong        Strong        Strong        Strong        Strong        Strong        None          \n",
      "RACC(Random accuracy)                                             0.01032       0.0014        0.01197       0.01093       0.01222       0.01246       0.0115        0.01134       0.01027       0.01207       \n",
      "RACCU(Random accuracy unbiased)                                   0.01032       0.0014        0.01197       0.01093       0.01222       0.01246       0.0115        0.01134       0.01027       0.01207       \n",
      "TN(True negative/correct rejection)                               9227          9901          9164          9212          9147          9133          9177          9194          9246          9159          \n",
      "TNR(Specificity or true negative rate)                            0.99881       0.99889       0.99967       0.99935       0.99924       0.99912       0.99848       0.99989       0.99978       0.99945       \n",
      "TON(Test outcome negative)                                        9255          9902          9165          9214          9155          9145          9186          9197          9250          9159          \n",
      "TOP(Test outcome positive)                                        1037          390           1127          1078          1137          1147          1106          1095          1042          1133          \n",
      "TP(True positive/hit)                                             1026          379           1124          1072          1130          1139          1092          1094          1040          1128          \n",
      "TPR(Sensitivity, recall, hit rate, or true positive rate)         0.97343       0.99737       0.99911       0.99814       0.99297       0.98957       0.99183       0.99727       0.99617       1.0           \n",
      "Y(Youden index)                                                   0.97224       0.99626       0.99878       0.99749       0.99221       0.9887        0.9903        0.99716       0.99595       0.99945       \n",
      "dInd(Distance index)                                              0.02659       0.00286       0.00095       0.00197       0.00707       0.01046       0.00832       0.00274       0.00384       0.00055       \n",
      "sInd(Similarity index)                                            0.9812        0.99798       0.99933       0.99861       0.995         0.9926        0.99412       0.99806       0.99729       0.99961       \n",
      "\n"
     ]
    }
   ],
   "source": [
    "from pycm import *\n",
    "\n",
    "stack_predicted =stackclf.predict(X_test)\n",
    "\n",
    "le.fit(stack_predicted)\n",
    "stack_enc = le.transform(stack_predicted)\n",
    "stackcm = ConfusionMatrix(actual_vector=y_test_enc, predict_vector=stack_enc) # Create CM From Data\n",
    "# >>> cm.classes\n",
    "# [0, 1, 2]\n",
    "# >>> cm.table\n",
    "# {0: {0: 3, 1: 0, 2: 0}, 1: {0: 0, 1: 1, 2: 2}, 2: {0: 2, 1: 1, 2: 3}}\n",
    "# >>> \n",
    "print(stackcm)"
   ]
  },
  {
   "cell_type": "code",
   "execution_count": 211,
   "metadata": {},
   "outputs": [
    {
     "name": "stdout",
     "output_type": "stream",
     "text": [
      "                  precision    recall  f1-score   support\n",
      "\n",
      "          BENIGN       0.10      0.09      0.10      1110\n",
      "             Bot       0.04      0.03      0.04       434\n",
      "            DDoS       0.11      0.11      0.11      1112\n",
      "   DoS GoldenEye       0.13      0.13      0.13      1093\n",
      "        DoS Hulk       0.10      0.11      0.11      1108\n",
      "DoS Slowhttptest       0.09      0.10      0.10      1034\n",
      "   DoS slowloris       0.10      0.10      0.10      1124\n",
      "     FTP-Patator       0.10      0.10      0.10      1096\n",
      "        PortScan       0.12      0.12      0.12      1115\n",
      "     SSH-Patator       0.10      0.11      0.11      1066\n",
      "\n",
      "        accuracy                           0.11     10292\n",
      "       macro avg       0.10      0.10      0.10     10292\n",
      "    weighted avg       0.11      0.11      0.11     10292\n",
      "\n"
     ]
    }
   ],
   "source": [
    "print(classification_report(y_test, stack_predicted))"
   ]
  },
  {
   "cell_type": "code",
   "execution_count": 182,
   "metadata": {},
   "outputs": [],
   "source": [
    "X_train, X_test, y_train, y_test = train_test_split(X_minmax, y_data, test_size=0.2)\n"
   ]
  },
  {
   "cell_type": "code",
   "execution_count": 185,
   "metadata": {
    "collapsed": true
   },
   "outputs": [
    {
     "ename": "KeyboardInterrupt",
     "evalue": "",
     "output_type": "error",
     "traceback": [
      "\u001b[0;31m---------------------------------------------------------------------------\u001b[0m",
      "\u001b[0;31mKeyboardInterrupt\u001b[0m                         Traceback (most recent call last)",
      "\u001b[0;32m<ipython-input-185-f678f2e3005c>\u001b[0m in \u001b[0;36m<module>\u001b[0;34m\u001b[0m\n\u001b[1;32m      6\u001b[0m \u001b[0mestimator\u001b[0m \u001b[0;34m=\u001b[0m \u001b[0mKNeighborsClassifier\u001b[0m\u001b[0;34m(\u001b[0m\u001b[0mn_neighbors\u001b[0m\u001b[0;34m=\u001b[0m\u001b[0;36m10\u001b[0m\u001b[0;34m)\u001b[0m\u001b[0;34m\u001b[0m\u001b[0;34m\u001b[0m\u001b[0m\n\u001b[1;32m      7\u001b[0m \u001b[0mbagmodelknn\u001b[0m \u001b[0;34m=\u001b[0m \u001b[0mBaggingClassifier\u001b[0m\u001b[0;34m(\u001b[0m\u001b[0mbase_estimator\u001b[0m\u001b[0;34m=\u001b[0m\u001b[0mestimator\u001b[0m\u001b[0;34m,\u001b[0m\u001b[0mn_estimators\u001b[0m\u001b[0;34m=\u001b[0m\u001b[0;36m100\u001b[0m\u001b[0;34m,\u001b[0m\u001b[0mbootstrap\u001b[0m\u001b[0;34m=\u001b[0m\u001b[0;32mTrue\u001b[0m\u001b[0;34m)\u001b[0m\u001b[0;34m\u001b[0m\u001b[0;34m\u001b[0m\u001b[0m\n\u001b[0;32m----> 8\u001b[0;31m \u001b[0mscores\u001b[0m \u001b[0;34m=\u001b[0m \u001b[0mcross_val_score\u001b[0m\u001b[0;34m(\u001b[0m\u001b[0mbagmodelknn\u001b[0m\u001b[0;34m,\u001b[0m \u001b[0mX_train\u001b[0m\u001b[0;34m,\u001b[0m \u001b[0my_train\u001b[0m\u001b[0;34m,\u001b[0m \u001b[0mcv\u001b[0m\u001b[0;34m=\u001b[0m\u001b[0;36m3\u001b[0m\u001b[0;34m)\u001b[0m\u001b[0;34m\u001b[0m\u001b[0;34m\u001b[0m\u001b[0m\n\u001b[0m\u001b[1;32m      9\u001b[0m \u001b[0mprint\u001b[0m\u001b[0;34m(\u001b[0m\u001b[0;34m\"Accuracy: %0.6f (+/- %0.6f) [%s]\"\u001b[0m \u001b[0;34m%\u001b[0m \u001b[0;34m(\u001b[0m\u001b[0mscores\u001b[0m\u001b[0;34m.\u001b[0m\u001b[0mmean\u001b[0m\u001b[0;34m(\u001b[0m\u001b[0;34m)\u001b[0m\u001b[0;34m,\u001b[0m \u001b[0mscores\u001b[0m\u001b[0;34m.\u001b[0m\u001b[0mstd\u001b[0m\u001b[0;34m(\u001b[0m\u001b[0;34m)\u001b[0m\u001b[0;34m,\u001b[0m \u001b[0mlabel\u001b[0m\u001b[0;34m)\u001b[0m\u001b[0;34m)\u001b[0m\u001b[0;34m\u001b[0m\u001b[0;34m\u001b[0m\u001b[0m\n\u001b[1;32m     10\u001b[0m \u001b[0mbagmodelknn\u001b[0m\u001b[0;34m.\u001b[0m\u001b[0mfit\u001b[0m\u001b[0;34m(\u001b[0m\u001b[0mX_train\u001b[0m\u001b[0;34m,\u001b[0m \u001b[0my_train\u001b[0m\u001b[0;34m)\u001b[0m\u001b[0;34m\u001b[0m\u001b[0;34m\u001b[0m\u001b[0m\n",
      "\u001b[0;32m/Applications/anaconda3/lib/python3.7/site-packages/sklearn/model_selection/_validation.py\u001b[0m in \u001b[0;36mcross_val_score\u001b[0;34m(estimator, X, y, groups, scoring, cv, n_jobs, verbose, fit_params, pre_dispatch, error_score)\u001b[0m\n\u001b[1;32m    518\u001b[0m         \u001b[0mfit_params\u001b[0m\u001b[0;34m=\u001b[0m\u001b[0mfit_params\u001b[0m\u001b[0;34m,\u001b[0m\u001b[0;34m\u001b[0m\u001b[0;34m\u001b[0m\u001b[0m\n\u001b[1;32m    519\u001b[0m         \u001b[0mpre_dispatch\u001b[0m\u001b[0;34m=\u001b[0m\u001b[0mpre_dispatch\u001b[0m\u001b[0;34m,\u001b[0m\u001b[0;34m\u001b[0m\u001b[0;34m\u001b[0m\u001b[0m\n\u001b[0;32m--> 520\u001b[0;31m         \u001b[0merror_score\u001b[0m\u001b[0;34m=\u001b[0m\u001b[0merror_score\u001b[0m\u001b[0;34m,\u001b[0m\u001b[0;34m\u001b[0m\u001b[0;34m\u001b[0m\u001b[0m\n\u001b[0m\u001b[1;32m    521\u001b[0m     )\n\u001b[1;32m    522\u001b[0m     \u001b[0;32mreturn\u001b[0m \u001b[0mcv_results\u001b[0m\u001b[0;34m[\u001b[0m\u001b[0;34m\"test_score\"\u001b[0m\u001b[0;34m]\u001b[0m\u001b[0;34m\u001b[0m\u001b[0;34m\u001b[0m\u001b[0m\n",
      "\u001b[0;32m/Applications/anaconda3/lib/python3.7/site-packages/sklearn/model_selection/_validation.py\u001b[0m in \u001b[0;36mcross_validate\u001b[0;34m(estimator, X, y, groups, scoring, cv, n_jobs, verbose, fit_params, pre_dispatch, return_train_score, return_estimator, error_score)\u001b[0m\n\u001b[1;32m    281\u001b[0m             \u001b[0merror_score\u001b[0m\u001b[0;34m=\u001b[0m\u001b[0merror_score\u001b[0m\u001b[0;34m,\u001b[0m\u001b[0;34m\u001b[0m\u001b[0;34m\u001b[0m\u001b[0m\n\u001b[1;32m    282\u001b[0m         )\n\u001b[0;32m--> 283\u001b[0;31m         \u001b[0;32mfor\u001b[0m \u001b[0mtrain\u001b[0m\u001b[0;34m,\u001b[0m \u001b[0mtest\u001b[0m \u001b[0;32min\u001b[0m \u001b[0mcv\u001b[0m\u001b[0;34m.\u001b[0m\u001b[0msplit\u001b[0m\u001b[0;34m(\u001b[0m\u001b[0mX\u001b[0m\u001b[0;34m,\u001b[0m \u001b[0my\u001b[0m\u001b[0;34m,\u001b[0m \u001b[0mgroups\u001b[0m\u001b[0;34m)\u001b[0m\u001b[0;34m\u001b[0m\u001b[0;34m\u001b[0m\u001b[0m\n\u001b[0m\u001b[1;32m    284\u001b[0m     )\n\u001b[1;32m    285\u001b[0m \u001b[0;34m\u001b[0m\u001b[0m\n",
      "\u001b[0;32m/Applications/anaconda3/lib/python3.7/site-packages/joblib/parallel.py\u001b[0m in \u001b[0;36m__call__\u001b[0;34m(self, iterable)\u001b[0m\n\u001b[1;32m   1002\u001b[0m             \u001b[0;31m# remaining jobs.\u001b[0m\u001b[0;34m\u001b[0m\u001b[0;34m\u001b[0m\u001b[0;34m\u001b[0m\u001b[0m\n\u001b[1;32m   1003\u001b[0m             \u001b[0mself\u001b[0m\u001b[0;34m.\u001b[0m\u001b[0m_iterating\u001b[0m \u001b[0;34m=\u001b[0m \u001b[0;32mFalse\u001b[0m\u001b[0;34m\u001b[0m\u001b[0;34m\u001b[0m\u001b[0m\n\u001b[0;32m-> 1004\u001b[0;31m             \u001b[0;32mif\u001b[0m \u001b[0mself\u001b[0m\u001b[0;34m.\u001b[0m\u001b[0mdispatch_one_batch\u001b[0m\u001b[0;34m(\u001b[0m\u001b[0miterator\u001b[0m\u001b[0;34m)\u001b[0m\u001b[0;34m:\u001b[0m\u001b[0;34m\u001b[0m\u001b[0;34m\u001b[0m\u001b[0m\n\u001b[0m\u001b[1;32m   1005\u001b[0m                 \u001b[0mself\u001b[0m\u001b[0;34m.\u001b[0m\u001b[0m_iterating\u001b[0m \u001b[0;34m=\u001b[0m \u001b[0mself\u001b[0m\u001b[0;34m.\u001b[0m\u001b[0m_original_iterator\u001b[0m \u001b[0;32mis\u001b[0m \u001b[0;32mnot\u001b[0m \u001b[0;32mNone\u001b[0m\u001b[0;34m\u001b[0m\u001b[0;34m\u001b[0m\u001b[0m\n\u001b[1;32m   1006\u001b[0m \u001b[0;34m\u001b[0m\u001b[0m\n",
      "\u001b[0;32m/Applications/anaconda3/lib/python3.7/site-packages/joblib/parallel.py\u001b[0m in \u001b[0;36mdispatch_one_batch\u001b[0;34m(self, iterator)\u001b[0m\n\u001b[1;32m    833\u001b[0m                 \u001b[0;32mreturn\u001b[0m \u001b[0;32mFalse\u001b[0m\u001b[0;34m\u001b[0m\u001b[0;34m\u001b[0m\u001b[0m\n\u001b[1;32m    834\u001b[0m             \u001b[0;32melse\u001b[0m\u001b[0;34m:\u001b[0m\u001b[0;34m\u001b[0m\u001b[0;34m\u001b[0m\u001b[0m\n\u001b[0;32m--> 835\u001b[0;31m                 \u001b[0mself\u001b[0m\u001b[0;34m.\u001b[0m\u001b[0m_dispatch\u001b[0m\u001b[0;34m(\u001b[0m\u001b[0mtasks\u001b[0m\u001b[0;34m)\u001b[0m\u001b[0;34m\u001b[0m\u001b[0;34m\u001b[0m\u001b[0m\n\u001b[0m\u001b[1;32m    836\u001b[0m                 \u001b[0;32mreturn\u001b[0m \u001b[0;32mTrue\u001b[0m\u001b[0;34m\u001b[0m\u001b[0;34m\u001b[0m\u001b[0m\n\u001b[1;32m    837\u001b[0m \u001b[0;34m\u001b[0m\u001b[0m\n",
      "\u001b[0;32m/Applications/anaconda3/lib/python3.7/site-packages/joblib/parallel.py\u001b[0m in \u001b[0;36m_dispatch\u001b[0;34m(self, batch)\u001b[0m\n\u001b[1;32m    752\u001b[0m         \u001b[0;32mwith\u001b[0m \u001b[0mself\u001b[0m\u001b[0;34m.\u001b[0m\u001b[0m_lock\u001b[0m\u001b[0;34m:\u001b[0m\u001b[0;34m\u001b[0m\u001b[0;34m\u001b[0m\u001b[0m\n\u001b[1;32m    753\u001b[0m             \u001b[0mjob_idx\u001b[0m \u001b[0;34m=\u001b[0m \u001b[0mlen\u001b[0m\u001b[0;34m(\u001b[0m\u001b[0mself\u001b[0m\u001b[0;34m.\u001b[0m\u001b[0m_jobs\u001b[0m\u001b[0;34m)\u001b[0m\u001b[0;34m\u001b[0m\u001b[0;34m\u001b[0m\u001b[0m\n\u001b[0;32m--> 754\u001b[0;31m             \u001b[0mjob\u001b[0m \u001b[0;34m=\u001b[0m \u001b[0mself\u001b[0m\u001b[0;34m.\u001b[0m\u001b[0m_backend\u001b[0m\u001b[0;34m.\u001b[0m\u001b[0mapply_async\u001b[0m\u001b[0;34m(\u001b[0m\u001b[0mbatch\u001b[0m\u001b[0;34m,\u001b[0m \u001b[0mcallback\u001b[0m\u001b[0;34m=\u001b[0m\u001b[0mcb\u001b[0m\u001b[0;34m)\u001b[0m\u001b[0;34m\u001b[0m\u001b[0;34m\u001b[0m\u001b[0m\n\u001b[0m\u001b[1;32m    755\u001b[0m             \u001b[0;31m# A job can complete so quickly than its callback is\u001b[0m\u001b[0;34m\u001b[0m\u001b[0;34m\u001b[0m\u001b[0;34m\u001b[0m\u001b[0m\n\u001b[1;32m    756\u001b[0m             \u001b[0;31m# called before we get here, causing self._jobs to\u001b[0m\u001b[0;34m\u001b[0m\u001b[0;34m\u001b[0m\u001b[0;34m\u001b[0m\u001b[0m\n",
      "\u001b[0;32m/Applications/anaconda3/lib/python3.7/site-packages/joblib/_parallel_backends.py\u001b[0m in \u001b[0;36mapply_async\u001b[0;34m(self, func, callback)\u001b[0m\n\u001b[1;32m    207\u001b[0m     \u001b[0;32mdef\u001b[0m \u001b[0mapply_async\u001b[0m\u001b[0;34m(\u001b[0m\u001b[0mself\u001b[0m\u001b[0;34m,\u001b[0m \u001b[0mfunc\u001b[0m\u001b[0;34m,\u001b[0m \u001b[0mcallback\u001b[0m\u001b[0;34m=\u001b[0m\u001b[0;32mNone\u001b[0m\u001b[0;34m)\u001b[0m\u001b[0;34m:\u001b[0m\u001b[0;34m\u001b[0m\u001b[0;34m\u001b[0m\u001b[0m\n\u001b[1;32m    208\u001b[0m         \u001b[0;34m\"\"\"Schedule a func to be run\"\"\"\u001b[0m\u001b[0;34m\u001b[0m\u001b[0;34m\u001b[0m\u001b[0m\n\u001b[0;32m--> 209\u001b[0;31m         \u001b[0mresult\u001b[0m \u001b[0;34m=\u001b[0m \u001b[0mImmediateResult\u001b[0m\u001b[0;34m(\u001b[0m\u001b[0mfunc\u001b[0m\u001b[0;34m)\u001b[0m\u001b[0;34m\u001b[0m\u001b[0;34m\u001b[0m\u001b[0m\n\u001b[0m\u001b[1;32m    210\u001b[0m         \u001b[0;32mif\u001b[0m \u001b[0mcallback\u001b[0m\u001b[0;34m:\u001b[0m\u001b[0;34m\u001b[0m\u001b[0;34m\u001b[0m\u001b[0m\n\u001b[1;32m    211\u001b[0m             \u001b[0mcallback\u001b[0m\u001b[0;34m(\u001b[0m\u001b[0mresult\u001b[0m\u001b[0;34m)\u001b[0m\u001b[0;34m\u001b[0m\u001b[0;34m\u001b[0m\u001b[0m\n",
      "\u001b[0;32m/Applications/anaconda3/lib/python3.7/site-packages/joblib/_parallel_backends.py\u001b[0m in \u001b[0;36m__init__\u001b[0;34m(self, batch)\u001b[0m\n\u001b[1;32m    588\u001b[0m         \u001b[0;31m# Don't delay the application, to avoid keeping the input\u001b[0m\u001b[0;34m\u001b[0m\u001b[0;34m\u001b[0m\u001b[0;34m\u001b[0m\u001b[0m\n\u001b[1;32m    589\u001b[0m         \u001b[0;31m# arguments in memory\u001b[0m\u001b[0;34m\u001b[0m\u001b[0;34m\u001b[0m\u001b[0;34m\u001b[0m\u001b[0m\n\u001b[0;32m--> 590\u001b[0;31m         \u001b[0mself\u001b[0m\u001b[0;34m.\u001b[0m\u001b[0mresults\u001b[0m \u001b[0;34m=\u001b[0m \u001b[0mbatch\u001b[0m\u001b[0;34m(\u001b[0m\u001b[0;34m)\u001b[0m\u001b[0;34m\u001b[0m\u001b[0;34m\u001b[0m\u001b[0m\n\u001b[0m\u001b[1;32m    591\u001b[0m \u001b[0;34m\u001b[0m\u001b[0m\n\u001b[1;32m    592\u001b[0m     \u001b[0;32mdef\u001b[0m \u001b[0mget\u001b[0m\u001b[0;34m(\u001b[0m\u001b[0mself\u001b[0m\u001b[0;34m)\u001b[0m\u001b[0;34m:\u001b[0m\u001b[0;34m\u001b[0m\u001b[0;34m\u001b[0m\u001b[0m\n",
      "\u001b[0;32m/Applications/anaconda3/lib/python3.7/site-packages/joblib/parallel.py\u001b[0m in \u001b[0;36m__call__\u001b[0;34m(self)\u001b[0m\n\u001b[1;32m    254\u001b[0m         \u001b[0;32mwith\u001b[0m \u001b[0mparallel_backend\u001b[0m\u001b[0;34m(\u001b[0m\u001b[0mself\u001b[0m\u001b[0;34m.\u001b[0m\u001b[0m_backend\u001b[0m\u001b[0;34m,\u001b[0m \u001b[0mn_jobs\u001b[0m\u001b[0;34m=\u001b[0m\u001b[0mself\u001b[0m\u001b[0;34m.\u001b[0m\u001b[0m_n_jobs\u001b[0m\u001b[0;34m)\u001b[0m\u001b[0;34m:\u001b[0m\u001b[0;34m\u001b[0m\u001b[0;34m\u001b[0m\u001b[0m\n\u001b[1;32m    255\u001b[0m             return [func(*args, **kwargs)\n\u001b[0;32m--> 256\u001b[0;31m                     for func, args, kwargs in self.items]\n\u001b[0m\u001b[1;32m    257\u001b[0m \u001b[0;34m\u001b[0m\u001b[0m\n\u001b[1;32m    258\u001b[0m     \u001b[0;32mdef\u001b[0m \u001b[0m__len__\u001b[0m\u001b[0;34m(\u001b[0m\u001b[0mself\u001b[0m\u001b[0;34m)\u001b[0m\u001b[0;34m:\u001b[0m\u001b[0;34m\u001b[0m\u001b[0;34m\u001b[0m\u001b[0m\n",
      "\u001b[0;32m/Applications/anaconda3/lib/python3.7/site-packages/joblib/parallel.py\u001b[0m in \u001b[0;36m<listcomp>\u001b[0;34m(.0)\u001b[0m\n\u001b[1;32m    254\u001b[0m         \u001b[0;32mwith\u001b[0m \u001b[0mparallel_backend\u001b[0m\u001b[0;34m(\u001b[0m\u001b[0mself\u001b[0m\u001b[0;34m.\u001b[0m\u001b[0m_backend\u001b[0m\u001b[0;34m,\u001b[0m \u001b[0mn_jobs\u001b[0m\u001b[0;34m=\u001b[0m\u001b[0mself\u001b[0m\u001b[0;34m.\u001b[0m\u001b[0m_n_jobs\u001b[0m\u001b[0;34m)\u001b[0m\u001b[0;34m:\u001b[0m\u001b[0;34m\u001b[0m\u001b[0;34m\u001b[0m\u001b[0m\n\u001b[1;32m    255\u001b[0m             return [func(*args, **kwargs)\n\u001b[0;32m--> 256\u001b[0;31m                     for func, args, kwargs in self.items]\n\u001b[0m\u001b[1;32m    257\u001b[0m \u001b[0;34m\u001b[0m\u001b[0m\n\u001b[1;32m    258\u001b[0m     \u001b[0;32mdef\u001b[0m \u001b[0m__len__\u001b[0m\u001b[0;34m(\u001b[0m\u001b[0mself\u001b[0m\u001b[0;34m)\u001b[0m\u001b[0;34m:\u001b[0m\u001b[0;34m\u001b[0m\u001b[0;34m\u001b[0m\u001b[0m\n",
      "\u001b[0;32m/Applications/anaconda3/lib/python3.7/site-packages/sklearn/utils/fixes.py\u001b[0m in \u001b[0;36m__call__\u001b[0;34m(self, *args, **kwargs)\u001b[0m\n\u001b[1;32m    214\u001b[0m     \u001b[0;32mdef\u001b[0m \u001b[0m__call__\u001b[0m\u001b[0;34m(\u001b[0m\u001b[0mself\u001b[0m\u001b[0;34m,\u001b[0m \u001b[0;34m*\u001b[0m\u001b[0margs\u001b[0m\u001b[0;34m,\u001b[0m \u001b[0;34m**\u001b[0m\u001b[0mkwargs\u001b[0m\u001b[0;34m)\u001b[0m\u001b[0;34m:\u001b[0m\u001b[0;34m\u001b[0m\u001b[0;34m\u001b[0m\u001b[0m\n\u001b[1;32m    215\u001b[0m         \u001b[0;32mwith\u001b[0m \u001b[0mconfig_context\u001b[0m\u001b[0;34m(\u001b[0m\u001b[0;34m**\u001b[0m\u001b[0mself\u001b[0m\u001b[0;34m.\u001b[0m\u001b[0mconfig\u001b[0m\u001b[0;34m)\u001b[0m\u001b[0;34m:\u001b[0m\u001b[0;34m\u001b[0m\u001b[0;34m\u001b[0m\u001b[0m\n\u001b[0;32m--> 216\u001b[0;31m             \u001b[0;32mreturn\u001b[0m \u001b[0mself\u001b[0m\u001b[0;34m.\u001b[0m\u001b[0mfunction\u001b[0m\u001b[0;34m(\u001b[0m\u001b[0;34m*\u001b[0m\u001b[0margs\u001b[0m\u001b[0;34m,\u001b[0m \u001b[0;34m**\u001b[0m\u001b[0mkwargs\u001b[0m\u001b[0;34m)\u001b[0m\u001b[0;34m\u001b[0m\u001b[0;34m\u001b[0m\u001b[0m\n\u001b[0m\u001b[1;32m    217\u001b[0m \u001b[0;34m\u001b[0m\u001b[0m\n\u001b[1;32m    218\u001b[0m \u001b[0;34m\u001b[0m\u001b[0m\n",
      "\u001b[0;32m/Applications/anaconda3/lib/python3.7/site-packages/sklearn/model_selection/_validation.py\u001b[0m in \u001b[0;36m_fit_and_score\u001b[0;34m(estimator, X, y, scorer, train, test, verbose, parameters, fit_params, return_train_score, return_parameters, return_n_test_samples, return_times, return_estimator, split_progress, candidate_progress, error_score)\u001b[0m\n\u001b[1;32m    700\u001b[0m \u001b[0;34m\u001b[0m\u001b[0m\n\u001b[1;32m    701\u001b[0m         \u001b[0mfit_time\u001b[0m \u001b[0;34m=\u001b[0m \u001b[0mtime\u001b[0m\u001b[0;34m.\u001b[0m\u001b[0mtime\u001b[0m\u001b[0;34m(\u001b[0m\u001b[0;34m)\u001b[0m \u001b[0;34m-\u001b[0m \u001b[0mstart_time\u001b[0m\u001b[0;34m\u001b[0m\u001b[0;34m\u001b[0m\u001b[0m\n\u001b[0;32m--> 702\u001b[0;31m         \u001b[0mtest_scores\u001b[0m \u001b[0;34m=\u001b[0m \u001b[0m_score\u001b[0m\u001b[0;34m(\u001b[0m\u001b[0mestimator\u001b[0m\u001b[0;34m,\u001b[0m \u001b[0mX_test\u001b[0m\u001b[0;34m,\u001b[0m \u001b[0my_test\u001b[0m\u001b[0;34m,\u001b[0m \u001b[0mscorer\u001b[0m\u001b[0;34m,\u001b[0m \u001b[0merror_score\u001b[0m\u001b[0;34m)\u001b[0m\u001b[0;34m\u001b[0m\u001b[0;34m\u001b[0m\u001b[0m\n\u001b[0m\u001b[1;32m    703\u001b[0m         \u001b[0mscore_time\u001b[0m \u001b[0;34m=\u001b[0m \u001b[0mtime\u001b[0m\u001b[0;34m.\u001b[0m\u001b[0mtime\u001b[0m\u001b[0;34m(\u001b[0m\u001b[0;34m)\u001b[0m \u001b[0;34m-\u001b[0m \u001b[0mstart_time\u001b[0m \u001b[0;34m-\u001b[0m \u001b[0mfit_time\u001b[0m\u001b[0;34m\u001b[0m\u001b[0;34m\u001b[0m\u001b[0m\n\u001b[1;32m    704\u001b[0m         \u001b[0;32mif\u001b[0m \u001b[0mreturn_train_score\u001b[0m\u001b[0;34m:\u001b[0m\u001b[0;34m\u001b[0m\u001b[0;34m\u001b[0m\u001b[0m\n",
      "\u001b[0;32m/Applications/anaconda3/lib/python3.7/site-packages/sklearn/model_selection/_validation.py\u001b[0m in \u001b[0;36m_score\u001b[0;34m(estimator, X_test, y_test, scorer, error_score)\u001b[0m\n\u001b[1;32m    759\u001b[0m             \u001b[0mscores\u001b[0m \u001b[0;34m=\u001b[0m \u001b[0mscorer\u001b[0m\u001b[0;34m(\u001b[0m\u001b[0mestimator\u001b[0m\u001b[0;34m,\u001b[0m \u001b[0mX_test\u001b[0m\u001b[0;34m)\u001b[0m\u001b[0;34m\u001b[0m\u001b[0;34m\u001b[0m\u001b[0m\n\u001b[1;32m    760\u001b[0m         \u001b[0;32melse\u001b[0m\u001b[0;34m:\u001b[0m\u001b[0;34m\u001b[0m\u001b[0;34m\u001b[0m\u001b[0m\n\u001b[0;32m--> 761\u001b[0;31m             \u001b[0mscores\u001b[0m \u001b[0;34m=\u001b[0m \u001b[0mscorer\u001b[0m\u001b[0;34m(\u001b[0m\u001b[0mestimator\u001b[0m\u001b[0;34m,\u001b[0m \u001b[0mX_test\u001b[0m\u001b[0;34m,\u001b[0m \u001b[0my_test\u001b[0m\u001b[0;34m)\u001b[0m\u001b[0;34m\u001b[0m\u001b[0;34m\u001b[0m\u001b[0m\n\u001b[0m\u001b[1;32m    762\u001b[0m     \u001b[0;32mexcept\u001b[0m \u001b[0mException\u001b[0m\u001b[0;34m:\u001b[0m\u001b[0;34m\u001b[0m\u001b[0;34m\u001b[0m\u001b[0m\n\u001b[1;32m    763\u001b[0m         \u001b[0;32mif\u001b[0m \u001b[0merror_score\u001b[0m \u001b[0;34m==\u001b[0m \u001b[0;34m\"raise\"\u001b[0m\u001b[0;34m:\u001b[0m\u001b[0;34m\u001b[0m\u001b[0;34m\u001b[0m\u001b[0m\n",
      "\u001b[0;32m/Applications/anaconda3/lib/python3.7/site-packages/sklearn/metrics/_scorer.py\u001b[0m in \u001b[0;36m__call__\u001b[0;34m(self, estimator, *args, **kwargs)\u001b[0m\n\u001b[1;32m    103\u001b[0m                 \u001b[0mscore\u001b[0m \u001b[0;34m=\u001b[0m \u001b[0mscorer\u001b[0m\u001b[0;34m.\u001b[0m\u001b[0m_score\u001b[0m\u001b[0;34m(\u001b[0m\u001b[0mcached_call\u001b[0m\u001b[0;34m,\u001b[0m \u001b[0mestimator\u001b[0m\u001b[0;34m,\u001b[0m \u001b[0;34m*\u001b[0m\u001b[0margs\u001b[0m\u001b[0;34m,\u001b[0m \u001b[0;34m**\u001b[0m\u001b[0mkwargs\u001b[0m\u001b[0;34m)\u001b[0m\u001b[0;34m\u001b[0m\u001b[0;34m\u001b[0m\u001b[0m\n\u001b[1;32m    104\u001b[0m             \u001b[0;32melse\u001b[0m\u001b[0;34m:\u001b[0m\u001b[0;34m\u001b[0m\u001b[0;34m\u001b[0m\u001b[0m\n\u001b[0;32m--> 105\u001b[0;31m                 \u001b[0mscore\u001b[0m \u001b[0;34m=\u001b[0m \u001b[0mscorer\u001b[0m\u001b[0;34m(\u001b[0m\u001b[0mestimator\u001b[0m\u001b[0;34m,\u001b[0m \u001b[0;34m*\u001b[0m\u001b[0margs\u001b[0m\u001b[0;34m,\u001b[0m \u001b[0;34m**\u001b[0m\u001b[0mkwargs\u001b[0m\u001b[0;34m)\u001b[0m\u001b[0;34m\u001b[0m\u001b[0;34m\u001b[0m\u001b[0m\n\u001b[0m\u001b[1;32m    106\u001b[0m             \u001b[0mscores\u001b[0m\u001b[0;34m[\u001b[0m\u001b[0mname\u001b[0m\u001b[0;34m]\u001b[0m \u001b[0;34m=\u001b[0m \u001b[0mscore\u001b[0m\u001b[0;34m\u001b[0m\u001b[0;34m\u001b[0m\u001b[0m\n\u001b[1;32m    107\u001b[0m         \u001b[0;32mreturn\u001b[0m \u001b[0mscores\u001b[0m\u001b[0;34m\u001b[0m\u001b[0;34m\u001b[0m\u001b[0m\n",
      "\u001b[0;32m/Applications/anaconda3/lib/python3.7/site-packages/sklearn/metrics/_scorer.py\u001b[0m in \u001b[0;36m_passthrough_scorer\u001b[0;34m(estimator, *args, **kwargs)\u001b[0m\n\u001b[1;32m    416\u001b[0m \u001b[0;32mdef\u001b[0m \u001b[0m_passthrough_scorer\u001b[0m\u001b[0;34m(\u001b[0m\u001b[0mestimator\u001b[0m\u001b[0;34m,\u001b[0m \u001b[0;34m*\u001b[0m\u001b[0margs\u001b[0m\u001b[0;34m,\u001b[0m \u001b[0;34m**\u001b[0m\u001b[0mkwargs\u001b[0m\u001b[0;34m)\u001b[0m\u001b[0;34m:\u001b[0m\u001b[0;34m\u001b[0m\u001b[0;34m\u001b[0m\u001b[0m\n\u001b[1;32m    417\u001b[0m     \u001b[0;34m\"\"\"Function that wraps estimator.score\"\"\"\u001b[0m\u001b[0;34m\u001b[0m\u001b[0;34m\u001b[0m\u001b[0m\n\u001b[0;32m--> 418\u001b[0;31m     \u001b[0;32mreturn\u001b[0m \u001b[0mestimator\u001b[0m\u001b[0;34m.\u001b[0m\u001b[0mscore\u001b[0m\u001b[0;34m(\u001b[0m\u001b[0;34m*\u001b[0m\u001b[0margs\u001b[0m\u001b[0;34m,\u001b[0m \u001b[0;34m**\u001b[0m\u001b[0mkwargs\u001b[0m\u001b[0;34m)\u001b[0m\u001b[0;34m\u001b[0m\u001b[0;34m\u001b[0m\u001b[0m\n\u001b[0m\u001b[1;32m    419\u001b[0m \u001b[0;34m\u001b[0m\u001b[0m\n\u001b[1;32m    420\u001b[0m \u001b[0;34m\u001b[0m\u001b[0m\n",
      "\u001b[0;32m/Applications/anaconda3/lib/python3.7/site-packages/sklearn/base.py\u001b[0m in \u001b[0;36mscore\u001b[0;34m(self, X, y, sample_weight)\u001b[0m\n\u001b[1;32m    649\u001b[0m         \u001b[0;32mfrom\u001b[0m \u001b[0;34m.\u001b[0m\u001b[0mmetrics\u001b[0m \u001b[0;32mimport\u001b[0m \u001b[0maccuracy_score\u001b[0m\u001b[0;34m\u001b[0m\u001b[0;34m\u001b[0m\u001b[0m\n\u001b[1;32m    650\u001b[0m \u001b[0;34m\u001b[0m\u001b[0m\n\u001b[0;32m--> 651\u001b[0;31m         \u001b[0;32mreturn\u001b[0m \u001b[0maccuracy_score\u001b[0m\u001b[0;34m(\u001b[0m\u001b[0my\u001b[0m\u001b[0;34m,\u001b[0m \u001b[0mself\u001b[0m\u001b[0;34m.\u001b[0m\u001b[0mpredict\u001b[0m\u001b[0;34m(\u001b[0m\u001b[0mX\u001b[0m\u001b[0;34m)\u001b[0m\u001b[0;34m,\u001b[0m \u001b[0msample_weight\u001b[0m\u001b[0;34m=\u001b[0m\u001b[0msample_weight\u001b[0m\u001b[0;34m)\u001b[0m\u001b[0;34m\u001b[0m\u001b[0;34m\u001b[0m\u001b[0m\n\u001b[0m\u001b[1;32m    652\u001b[0m \u001b[0;34m\u001b[0m\u001b[0m\n\u001b[1;32m    653\u001b[0m     \u001b[0;32mdef\u001b[0m \u001b[0m_more_tags\u001b[0m\u001b[0;34m(\u001b[0m\u001b[0mself\u001b[0m\u001b[0;34m)\u001b[0m\u001b[0;34m:\u001b[0m\u001b[0;34m\u001b[0m\u001b[0;34m\u001b[0m\u001b[0m\n",
      "\u001b[0;32m/Applications/anaconda3/lib/python3.7/site-packages/sklearn/ensemble/_bagging.py\u001b[0m in \u001b[0;36mpredict\u001b[0;34m(self, X)\u001b[0m\n\u001b[1;32m    742\u001b[0m             \u001b[0mThe\u001b[0m \u001b[0mpredicted\u001b[0m \u001b[0mclasses\u001b[0m\u001b[0;34m.\u001b[0m\u001b[0;34m\u001b[0m\u001b[0;34m\u001b[0m\u001b[0m\n\u001b[1;32m    743\u001b[0m         \"\"\"\n\u001b[0;32m--> 744\u001b[0;31m         \u001b[0mpredicted_probabilitiy\u001b[0m \u001b[0;34m=\u001b[0m \u001b[0mself\u001b[0m\u001b[0;34m.\u001b[0m\u001b[0mpredict_proba\u001b[0m\u001b[0;34m(\u001b[0m\u001b[0mX\u001b[0m\u001b[0;34m)\u001b[0m\u001b[0;34m\u001b[0m\u001b[0;34m\u001b[0m\u001b[0m\n\u001b[0m\u001b[1;32m    745\u001b[0m         \u001b[0;32mreturn\u001b[0m \u001b[0mself\u001b[0m\u001b[0;34m.\u001b[0m\u001b[0mclasses_\u001b[0m\u001b[0;34m.\u001b[0m\u001b[0mtake\u001b[0m\u001b[0;34m(\u001b[0m\u001b[0;34m(\u001b[0m\u001b[0mnp\u001b[0m\u001b[0;34m.\u001b[0m\u001b[0margmax\u001b[0m\u001b[0;34m(\u001b[0m\u001b[0mpredicted_probabilitiy\u001b[0m\u001b[0;34m,\u001b[0m \u001b[0maxis\u001b[0m\u001b[0;34m=\u001b[0m\u001b[0;36m1\u001b[0m\u001b[0;34m)\u001b[0m\u001b[0;34m)\u001b[0m\u001b[0;34m,\u001b[0m \u001b[0maxis\u001b[0m\u001b[0;34m=\u001b[0m\u001b[0;36m0\u001b[0m\u001b[0;34m)\u001b[0m\u001b[0;34m\u001b[0m\u001b[0;34m\u001b[0m\u001b[0m\n\u001b[1;32m    746\u001b[0m \u001b[0;34m\u001b[0m\u001b[0m\n",
      "\u001b[0;32m/Applications/anaconda3/lib/python3.7/site-packages/sklearn/ensemble/_bagging.py\u001b[0m in \u001b[0;36mpredict_proba\u001b[0;34m(self, X)\u001b[0m\n\u001b[1;32m    791\u001b[0m                 \u001b[0mself\u001b[0m\u001b[0;34m.\u001b[0m\u001b[0mn_classes_\u001b[0m\u001b[0;34m,\u001b[0m\u001b[0;34m\u001b[0m\u001b[0;34m\u001b[0m\u001b[0m\n\u001b[1;32m    792\u001b[0m             )\n\u001b[0;32m--> 793\u001b[0;31m             \u001b[0;32mfor\u001b[0m \u001b[0mi\u001b[0m \u001b[0;32min\u001b[0m \u001b[0mrange\u001b[0m\u001b[0;34m(\u001b[0m\u001b[0mn_jobs\u001b[0m\u001b[0;34m)\u001b[0m\u001b[0;34m\u001b[0m\u001b[0;34m\u001b[0m\u001b[0m\n\u001b[0m\u001b[1;32m    794\u001b[0m         )\n\u001b[1;32m    795\u001b[0m \u001b[0;34m\u001b[0m\u001b[0m\n",
      "\u001b[0;32m/Applications/anaconda3/lib/python3.7/site-packages/joblib/parallel.py\u001b[0m in \u001b[0;36m__call__\u001b[0;34m(self, iterable)\u001b[0m\n\u001b[1;32m   1002\u001b[0m             \u001b[0;31m# remaining jobs.\u001b[0m\u001b[0;34m\u001b[0m\u001b[0;34m\u001b[0m\u001b[0;34m\u001b[0m\u001b[0m\n\u001b[1;32m   1003\u001b[0m             \u001b[0mself\u001b[0m\u001b[0;34m.\u001b[0m\u001b[0m_iterating\u001b[0m \u001b[0;34m=\u001b[0m \u001b[0;32mFalse\u001b[0m\u001b[0;34m\u001b[0m\u001b[0;34m\u001b[0m\u001b[0m\n\u001b[0;32m-> 1004\u001b[0;31m             \u001b[0;32mif\u001b[0m \u001b[0mself\u001b[0m\u001b[0;34m.\u001b[0m\u001b[0mdispatch_one_batch\u001b[0m\u001b[0;34m(\u001b[0m\u001b[0miterator\u001b[0m\u001b[0;34m)\u001b[0m\u001b[0;34m:\u001b[0m\u001b[0;34m\u001b[0m\u001b[0;34m\u001b[0m\u001b[0m\n\u001b[0m\u001b[1;32m   1005\u001b[0m                 \u001b[0mself\u001b[0m\u001b[0;34m.\u001b[0m\u001b[0m_iterating\u001b[0m \u001b[0;34m=\u001b[0m \u001b[0mself\u001b[0m\u001b[0;34m.\u001b[0m\u001b[0m_original_iterator\u001b[0m \u001b[0;32mis\u001b[0m \u001b[0;32mnot\u001b[0m \u001b[0;32mNone\u001b[0m\u001b[0;34m\u001b[0m\u001b[0;34m\u001b[0m\u001b[0m\n\u001b[1;32m   1006\u001b[0m \u001b[0;34m\u001b[0m\u001b[0m\n",
      "\u001b[0;32m/Applications/anaconda3/lib/python3.7/site-packages/joblib/parallel.py\u001b[0m in \u001b[0;36mdispatch_one_batch\u001b[0;34m(self, iterator)\u001b[0m\n\u001b[1;32m    833\u001b[0m                 \u001b[0;32mreturn\u001b[0m \u001b[0;32mFalse\u001b[0m\u001b[0;34m\u001b[0m\u001b[0;34m\u001b[0m\u001b[0m\n\u001b[1;32m    834\u001b[0m             \u001b[0;32melse\u001b[0m\u001b[0;34m:\u001b[0m\u001b[0;34m\u001b[0m\u001b[0;34m\u001b[0m\u001b[0m\n\u001b[0;32m--> 835\u001b[0;31m                 \u001b[0mself\u001b[0m\u001b[0;34m.\u001b[0m\u001b[0m_dispatch\u001b[0m\u001b[0;34m(\u001b[0m\u001b[0mtasks\u001b[0m\u001b[0;34m)\u001b[0m\u001b[0;34m\u001b[0m\u001b[0;34m\u001b[0m\u001b[0m\n\u001b[0m\u001b[1;32m    836\u001b[0m                 \u001b[0;32mreturn\u001b[0m \u001b[0;32mTrue\u001b[0m\u001b[0;34m\u001b[0m\u001b[0;34m\u001b[0m\u001b[0m\n\u001b[1;32m    837\u001b[0m \u001b[0;34m\u001b[0m\u001b[0m\n",
      "\u001b[0;32m/Applications/anaconda3/lib/python3.7/site-packages/joblib/parallel.py\u001b[0m in \u001b[0;36m_dispatch\u001b[0;34m(self, batch)\u001b[0m\n\u001b[1;32m    752\u001b[0m         \u001b[0;32mwith\u001b[0m \u001b[0mself\u001b[0m\u001b[0;34m.\u001b[0m\u001b[0m_lock\u001b[0m\u001b[0;34m:\u001b[0m\u001b[0;34m\u001b[0m\u001b[0;34m\u001b[0m\u001b[0m\n\u001b[1;32m    753\u001b[0m             \u001b[0mjob_idx\u001b[0m \u001b[0;34m=\u001b[0m \u001b[0mlen\u001b[0m\u001b[0;34m(\u001b[0m\u001b[0mself\u001b[0m\u001b[0;34m.\u001b[0m\u001b[0m_jobs\u001b[0m\u001b[0;34m)\u001b[0m\u001b[0;34m\u001b[0m\u001b[0;34m\u001b[0m\u001b[0m\n\u001b[0;32m--> 754\u001b[0;31m             \u001b[0mjob\u001b[0m \u001b[0;34m=\u001b[0m \u001b[0mself\u001b[0m\u001b[0;34m.\u001b[0m\u001b[0m_backend\u001b[0m\u001b[0;34m.\u001b[0m\u001b[0mapply_async\u001b[0m\u001b[0;34m(\u001b[0m\u001b[0mbatch\u001b[0m\u001b[0;34m,\u001b[0m \u001b[0mcallback\u001b[0m\u001b[0;34m=\u001b[0m\u001b[0mcb\u001b[0m\u001b[0;34m)\u001b[0m\u001b[0;34m\u001b[0m\u001b[0;34m\u001b[0m\u001b[0m\n\u001b[0m\u001b[1;32m    755\u001b[0m             \u001b[0;31m# A job can complete so quickly than its callback is\u001b[0m\u001b[0;34m\u001b[0m\u001b[0;34m\u001b[0m\u001b[0;34m\u001b[0m\u001b[0m\n\u001b[1;32m    756\u001b[0m             \u001b[0;31m# called before we get here, causing self._jobs to\u001b[0m\u001b[0;34m\u001b[0m\u001b[0;34m\u001b[0m\u001b[0;34m\u001b[0m\u001b[0m\n",
      "\u001b[0;32m/Applications/anaconda3/lib/python3.7/site-packages/joblib/_parallel_backends.py\u001b[0m in \u001b[0;36mapply_async\u001b[0;34m(self, func, callback)\u001b[0m\n\u001b[1;32m    207\u001b[0m     \u001b[0;32mdef\u001b[0m \u001b[0mapply_async\u001b[0m\u001b[0;34m(\u001b[0m\u001b[0mself\u001b[0m\u001b[0;34m,\u001b[0m \u001b[0mfunc\u001b[0m\u001b[0;34m,\u001b[0m \u001b[0mcallback\u001b[0m\u001b[0;34m=\u001b[0m\u001b[0;32mNone\u001b[0m\u001b[0;34m)\u001b[0m\u001b[0;34m:\u001b[0m\u001b[0;34m\u001b[0m\u001b[0;34m\u001b[0m\u001b[0m\n\u001b[1;32m    208\u001b[0m         \u001b[0;34m\"\"\"Schedule a func to be run\"\"\"\u001b[0m\u001b[0;34m\u001b[0m\u001b[0;34m\u001b[0m\u001b[0m\n\u001b[0;32m--> 209\u001b[0;31m         \u001b[0mresult\u001b[0m \u001b[0;34m=\u001b[0m \u001b[0mImmediateResult\u001b[0m\u001b[0;34m(\u001b[0m\u001b[0mfunc\u001b[0m\u001b[0;34m)\u001b[0m\u001b[0;34m\u001b[0m\u001b[0;34m\u001b[0m\u001b[0m\n\u001b[0m\u001b[1;32m    210\u001b[0m         \u001b[0;32mif\u001b[0m \u001b[0mcallback\u001b[0m\u001b[0;34m:\u001b[0m\u001b[0;34m\u001b[0m\u001b[0;34m\u001b[0m\u001b[0m\n\u001b[1;32m    211\u001b[0m             \u001b[0mcallback\u001b[0m\u001b[0;34m(\u001b[0m\u001b[0mresult\u001b[0m\u001b[0;34m)\u001b[0m\u001b[0;34m\u001b[0m\u001b[0;34m\u001b[0m\u001b[0m\n",
      "\u001b[0;32m/Applications/anaconda3/lib/python3.7/site-packages/joblib/_parallel_backends.py\u001b[0m in \u001b[0;36m__init__\u001b[0;34m(self, batch)\u001b[0m\n\u001b[1;32m    588\u001b[0m         \u001b[0;31m# Don't delay the application, to avoid keeping the input\u001b[0m\u001b[0;34m\u001b[0m\u001b[0;34m\u001b[0m\u001b[0;34m\u001b[0m\u001b[0m\n\u001b[1;32m    589\u001b[0m         \u001b[0;31m# arguments in memory\u001b[0m\u001b[0;34m\u001b[0m\u001b[0;34m\u001b[0m\u001b[0;34m\u001b[0m\u001b[0m\n\u001b[0;32m--> 590\u001b[0;31m         \u001b[0mself\u001b[0m\u001b[0;34m.\u001b[0m\u001b[0mresults\u001b[0m \u001b[0;34m=\u001b[0m \u001b[0mbatch\u001b[0m\u001b[0;34m(\u001b[0m\u001b[0;34m)\u001b[0m\u001b[0;34m\u001b[0m\u001b[0;34m\u001b[0m\u001b[0m\n\u001b[0m\u001b[1;32m    591\u001b[0m \u001b[0;34m\u001b[0m\u001b[0m\n\u001b[1;32m    592\u001b[0m     \u001b[0;32mdef\u001b[0m \u001b[0mget\u001b[0m\u001b[0;34m(\u001b[0m\u001b[0mself\u001b[0m\u001b[0;34m)\u001b[0m\u001b[0;34m:\u001b[0m\u001b[0;34m\u001b[0m\u001b[0;34m\u001b[0m\u001b[0m\n",
      "\u001b[0;32m/Applications/anaconda3/lib/python3.7/site-packages/joblib/parallel.py\u001b[0m in \u001b[0;36m__call__\u001b[0;34m(self)\u001b[0m\n\u001b[1;32m    254\u001b[0m         \u001b[0;32mwith\u001b[0m \u001b[0mparallel_backend\u001b[0m\u001b[0;34m(\u001b[0m\u001b[0mself\u001b[0m\u001b[0;34m.\u001b[0m\u001b[0m_backend\u001b[0m\u001b[0;34m,\u001b[0m \u001b[0mn_jobs\u001b[0m\u001b[0;34m=\u001b[0m\u001b[0mself\u001b[0m\u001b[0;34m.\u001b[0m\u001b[0m_n_jobs\u001b[0m\u001b[0;34m)\u001b[0m\u001b[0;34m:\u001b[0m\u001b[0;34m\u001b[0m\u001b[0;34m\u001b[0m\u001b[0m\n\u001b[1;32m    255\u001b[0m             return [func(*args, **kwargs)\n\u001b[0;32m--> 256\u001b[0;31m                     for func, args, kwargs in self.items]\n\u001b[0m\u001b[1;32m    257\u001b[0m \u001b[0;34m\u001b[0m\u001b[0m\n\u001b[1;32m    258\u001b[0m     \u001b[0;32mdef\u001b[0m \u001b[0m__len__\u001b[0m\u001b[0;34m(\u001b[0m\u001b[0mself\u001b[0m\u001b[0;34m)\u001b[0m\u001b[0;34m:\u001b[0m\u001b[0;34m\u001b[0m\u001b[0;34m\u001b[0m\u001b[0m\n",
      "\u001b[0;32m/Applications/anaconda3/lib/python3.7/site-packages/joblib/parallel.py\u001b[0m in \u001b[0;36m<listcomp>\u001b[0;34m(.0)\u001b[0m\n\u001b[1;32m    254\u001b[0m         \u001b[0;32mwith\u001b[0m \u001b[0mparallel_backend\u001b[0m\u001b[0;34m(\u001b[0m\u001b[0mself\u001b[0m\u001b[0;34m.\u001b[0m\u001b[0m_backend\u001b[0m\u001b[0;34m,\u001b[0m \u001b[0mn_jobs\u001b[0m\u001b[0;34m=\u001b[0m\u001b[0mself\u001b[0m\u001b[0;34m.\u001b[0m\u001b[0m_n_jobs\u001b[0m\u001b[0;34m)\u001b[0m\u001b[0;34m:\u001b[0m\u001b[0;34m\u001b[0m\u001b[0;34m\u001b[0m\u001b[0m\n\u001b[1;32m    255\u001b[0m             return [func(*args, **kwargs)\n\u001b[0;32m--> 256\u001b[0;31m                     for func, args, kwargs in self.items]\n\u001b[0m\u001b[1;32m    257\u001b[0m \u001b[0;34m\u001b[0m\u001b[0m\n\u001b[1;32m    258\u001b[0m     \u001b[0;32mdef\u001b[0m \u001b[0m__len__\u001b[0m\u001b[0;34m(\u001b[0m\u001b[0mself\u001b[0m\u001b[0;34m)\u001b[0m\u001b[0;34m:\u001b[0m\u001b[0;34m\u001b[0m\u001b[0;34m\u001b[0m\u001b[0m\n",
      "\u001b[0;32m/Applications/anaconda3/lib/python3.7/site-packages/sklearn/utils/fixes.py\u001b[0m in \u001b[0;36m__call__\u001b[0;34m(self, *args, **kwargs)\u001b[0m\n\u001b[1;32m    214\u001b[0m     \u001b[0;32mdef\u001b[0m \u001b[0m__call__\u001b[0m\u001b[0;34m(\u001b[0m\u001b[0mself\u001b[0m\u001b[0;34m,\u001b[0m \u001b[0;34m*\u001b[0m\u001b[0margs\u001b[0m\u001b[0;34m,\u001b[0m \u001b[0;34m**\u001b[0m\u001b[0mkwargs\u001b[0m\u001b[0;34m)\u001b[0m\u001b[0;34m:\u001b[0m\u001b[0;34m\u001b[0m\u001b[0;34m\u001b[0m\u001b[0m\n\u001b[1;32m    215\u001b[0m         \u001b[0;32mwith\u001b[0m \u001b[0mconfig_context\u001b[0m\u001b[0;34m(\u001b[0m\u001b[0;34m**\u001b[0m\u001b[0mself\u001b[0m\u001b[0;34m.\u001b[0m\u001b[0mconfig\u001b[0m\u001b[0;34m)\u001b[0m\u001b[0;34m:\u001b[0m\u001b[0;34m\u001b[0m\u001b[0;34m\u001b[0m\u001b[0m\n\u001b[0;32m--> 216\u001b[0;31m             \u001b[0;32mreturn\u001b[0m \u001b[0mself\u001b[0m\u001b[0;34m.\u001b[0m\u001b[0mfunction\u001b[0m\u001b[0;34m(\u001b[0m\u001b[0;34m*\u001b[0m\u001b[0margs\u001b[0m\u001b[0;34m,\u001b[0m \u001b[0;34m**\u001b[0m\u001b[0mkwargs\u001b[0m\u001b[0;34m)\u001b[0m\u001b[0;34m\u001b[0m\u001b[0;34m\u001b[0m\u001b[0m\n\u001b[0m\u001b[1;32m    217\u001b[0m \u001b[0;34m\u001b[0m\u001b[0m\n\u001b[1;32m    218\u001b[0m \u001b[0;34m\u001b[0m\u001b[0m\n",
      "\u001b[0;32m/Applications/anaconda3/lib/python3.7/site-packages/sklearn/ensemble/_bagging.py\u001b[0m in \u001b[0;36m_parallel_predict_proba\u001b[0;34m(estimators, estimators_features, X, n_classes)\u001b[0m\n\u001b[1;32m    139\u001b[0m     \u001b[0;32mfor\u001b[0m \u001b[0mestimator\u001b[0m\u001b[0;34m,\u001b[0m \u001b[0mfeatures\u001b[0m \u001b[0;32min\u001b[0m \u001b[0mzip\u001b[0m\u001b[0;34m(\u001b[0m\u001b[0mestimators\u001b[0m\u001b[0;34m,\u001b[0m \u001b[0mestimators_features\u001b[0m\u001b[0;34m)\u001b[0m\u001b[0;34m:\u001b[0m\u001b[0;34m\u001b[0m\u001b[0;34m\u001b[0m\u001b[0m\n\u001b[1;32m    140\u001b[0m         \u001b[0;32mif\u001b[0m \u001b[0mhasattr\u001b[0m\u001b[0;34m(\u001b[0m\u001b[0mestimator\u001b[0m\u001b[0;34m,\u001b[0m \u001b[0;34m\"predict_proba\"\u001b[0m\u001b[0;34m)\u001b[0m\u001b[0;34m:\u001b[0m\u001b[0;34m\u001b[0m\u001b[0;34m\u001b[0m\u001b[0m\n\u001b[0;32m--> 141\u001b[0;31m             \u001b[0mproba_estimator\u001b[0m \u001b[0;34m=\u001b[0m \u001b[0mestimator\u001b[0m\u001b[0;34m.\u001b[0m\u001b[0mpredict_proba\u001b[0m\u001b[0;34m(\u001b[0m\u001b[0mX\u001b[0m\u001b[0;34m[\u001b[0m\u001b[0;34m:\u001b[0m\u001b[0;34m,\u001b[0m \u001b[0mfeatures\u001b[0m\u001b[0;34m]\u001b[0m\u001b[0;34m)\u001b[0m\u001b[0;34m\u001b[0m\u001b[0;34m\u001b[0m\u001b[0m\n\u001b[0m\u001b[1;32m    142\u001b[0m \u001b[0;34m\u001b[0m\u001b[0m\n\u001b[1;32m    143\u001b[0m             \u001b[0;32mif\u001b[0m \u001b[0mn_classes\u001b[0m \u001b[0;34m==\u001b[0m \u001b[0mlen\u001b[0m\u001b[0;34m(\u001b[0m\u001b[0mestimator\u001b[0m\u001b[0;34m.\u001b[0m\u001b[0mclasses_\u001b[0m\u001b[0;34m)\u001b[0m\u001b[0;34m:\u001b[0m\u001b[0;34m\u001b[0m\u001b[0;34m\u001b[0m\u001b[0m\n",
      "\u001b[0;32m/Applications/anaconda3/lib/python3.7/site-packages/sklearn/neighbors/_classification.py\u001b[0m in \u001b[0;36mpredict_proba\u001b[0;34m(self, X)\u001b[0m\n\u001b[1;32m    254\u001b[0m             \u001b[0mby\u001b[0m \u001b[0mlexicographic\u001b[0m \u001b[0morder\u001b[0m\u001b[0;34m.\u001b[0m\u001b[0;34m\u001b[0m\u001b[0;34m\u001b[0m\u001b[0m\n\u001b[1;32m    255\u001b[0m         \"\"\"\n\u001b[0;32m--> 256\u001b[0;31m         \u001b[0mneigh_dist\u001b[0m\u001b[0;34m,\u001b[0m \u001b[0mneigh_ind\u001b[0m \u001b[0;34m=\u001b[0m \u001b[0mself\u001b[0m\u001b[0;34m.\u001b[0m\u001b[0mkneighbors\u001b[0m\u001b[0;34m(\u001b[0m\u001b[0mX\u001b[0m\u001b[0;34m)\u001b[0m\u001b[0;34m\u001b[0m\u001b[0;34m\u001b[0m\u001b[0m\n\u001b[0m\u001b[1;32m    257\u001b[0m \u001b[0;34m\u001b[0m\u001b[0m\n\u001b[1;32m    258\u001b[0m         \u001b[0mclasses_\u001b[0m \u001b[0;34m=\u001b[0m \u001b[0mself\u001b[0m\u001b[0;34m.\u001b[0m\u001b[0mclasses_\u001b[0m\u001b[0;34m\u001b[0m\u001b[0;34m\u001b[0m\u001b[0m\n",
      "\u001b[0;32m/Applications/anaconda3/lib/python3.7/site-packages/sklearn/neighbors/_base.py\u001b[0m in \u001b[0;36mkneighbors\u001b[0;34m(self, X, n_neighbors, return_distance)\u001b[0m\n\u001b[1;32m    757\u001b[0m                     \u001b[0mmetric\u001b[0m\u001b[0;34m=\u001b[0m\u001b[0mself\u001b[0m\u001b[0;34m.\u001b[0m\u001b[0meffective_metric_\u001b[0m\u001b[0;34m,\u001b[0m\u001b[0;34m\u001b[0m\u001b[0;34m\u001b[0m\u001b[0m\n\u001b[1;32m    758\u001b[0m                     \u001b[0mn_jobs\u001b[0m\u001b[0;34m=\u001b[0m\u001b[0mn_jobs\u001b[0m\u001b[0;34m,\u001b[0m\u001b[0;34m\u001b[0m\u001b[0;34m\u001b[0m\u001b[0m\n\u001b[0;32m--> 759\u001b[0;31m                     \u001b[0;34m**\u001b[0m\u001b[0mkwds\u001b[0m\u001b[0;34m,\u001b[0m\u001b[0;34m\u001b[0m\u001b[0;34m\u001b[0m\u001b[0m\n\u001b[0m\u001b[1;32m    760\u001b[0m                 )\n\u001b[1;32m    761\u001b[0m             )\n",
      "\u001b[0;32m/Applications/anaconda3/lib/python3.7/site-packages/sklearn/metrics/pairwise.py\u001b[0m in \u001b[0;36mpairwise_distances_chunked\u001b[0;34m(X, Y, reduce_func, metric, n_jobs, working_memory, **kwds)\u001b[0m\n\u001b[1;32m   1715\u001b[0m         \u001b[0;32melse\u001b[0m\u001b[0;34m:\u001b[0m\u001b[0;34m\u001b[0m\u001b[0;34m\u001b[0m\u001b[0m\n\u001b[1;32m   1716\u001b[0m             \u001b[0mX_chunk\u001b[0m \u001b[0;34m=\u001b[0m \u001b[0mX\u001b[0m\u001b[0;34m[\u001b[0m\u001b[0msl\u001b[0m\u001b[0;34m]\u001b[0m\u001b[0;34m\u001b[0m\u001b[0;34m\u001b[0m\u001b[0m\n\u001b[0;32m-> 1717\u001b[0;31m         \u001b[0mD_chunk\u001b[0m \u001b[0;34m=\u001b[0m \u001b[0mpairwise_distances\u001b[0m\u001b[0;34m(\u001b[0m\u001b[0mX_chunk\u001b[0m\u001b[0;34m,\u001b[0m \u001b[0mY\u001b[0m\u001b[0;34m,\u001b[0m \u001b[0mmetric\u001b[0m\u001b[0;34m=\u001b[0m\u001b[0mmetric\u001b[0m\u001b[0;34m,\u001b[0m \u001b[0mn_jobs\u001b[0m\u001b[0;34m=\u001b[0m\u001b[0mn_jobs\u001b[0m\u001b[0;34m,\u001b[0m \u001b[0;34m**\u001b[0m\u001b[0mkwds\u001b[0m\u001b[0;34m)\u001b[0m\u001b[0;34m\u001b[0m\u001b[0;34m\u001b[0m\u001b[0m\n\u001b[0m\u001b[1;32m   1718\u001b[0m         if (X is Y or Y is None) and PAIRWISE_DISTANCE_FUNCTIONS.get(\n\u001b[1;32m   1719\u001b[0m             \u001b[0mmetric\u001b[0m\u001b[0;34m,\u001b[0m \u001b[0;32mNone\u001b[0m\u001b[0;34m\u001b[0m\u001b[0;34m\u001b[0m\u001b[0m\n",
      "\u001b[0;32m/Applications/anaconda3/lib/python3.7/site-packages/sklearn/metrics/pairwise.py\u001b[0m in \u001b[0;36mpairwise_distances\u001b[0;34m(X, Y, metric, n_jobs, force_all_finite, **kwds)\u001b[0m\n\u001b[1;32m   1887\u001b[0m         \u001b[0mfunc\u001b[0m \u001b[0;34m=\u001b[0m \u001b[0mpartial\u001b[0m\u001b[0;34m(\u001b[0m\u001b[0mdistance\u001b[0m\u001b[0;34m.\u001b[0m\u001b[0mcdist\u001b[0m\u001b[0;34m,\u001b[0m \u001b[0mmetric\u001b[0m\u001b[0;34m=\u001b[0m\u001b[0mmetric\u001b[0m\u001b[0;34m,\u001b[0m \u001b[0;34m**\u001b[0m\u001b[0mkwds\u001b[0m\u001b[0;34m)\u001b[0m\u001b[0;34m\u001b[0m\u001b[0;34m\u001b[0m\u001b[0m\n\u001b[1;32m   1888\u001b[0m \u001b[0;34m\u001b[0m\u001b[0m\n\u001b[0;32m-> 1889\u001b[0;31m     \u001b[0;32mreturn\u001b[0m \u001b[0m_parallel_pairwise\u001b[0m\u001b[0;34m(\u001b[0m\u001b[0mX\u001b[0m\u001b[0;34m,\u001b[0m \u001b[0mY\u001b[0m\u001b[0;34m,\u001b[0m \u001b[0mfunc\u001b[0m\u001b[0;34m,\u001b[0m \u001b[0mn_jobs\u001b[0m\u001b[0;34m,\u001b[0m \u001b[0;34m**\u001b[0m\u001b[0mkwds\u001b[0m\u001b[0;34m)\u001b[0m\u001b[0;34m\u001b[0m\u001b[0;34m\u001b[0m\u001b[0m\n\u001b[0m\u001b[1;32m   1890\u001b[0m \u001b[0;34m\u001b[0m\u001b[0m\n\u001b[1;32m   1891\u001b[0m \u001b[0;34m\u001b[0m\u001b[0m\n",
      "\u001b[0;32m/Applications/anaconda3/lib/python3.7/site-packages/sklearn/metrics/pairwise.py\u001b[0m in \u001b[0;36m_parallel_pairwise\u001b[0;34m(X, Y, func, n_jobs, **kwds)\u001b[0m\n\u001b[1;32m   1428\u001b[0m \u001b[0;34m\u001b[0m\u001b[0m\n\u001b[1;32m   1429\u001b[0m     \u001b[0;32mif\u001b[0m \u001b[0meffective_n_jobs\u001b[0m\u001b[0;34m(\u001b[0m\u001b[0mn_jobs\u001b[0m\u001b[0;34m)\u001b[0m \u001b[0;34m==\u001b[0m \u001b[0;36m1\u001b[0m\u001b[0;34m:\u001b[0m\u001b[0;34m\u001b[0m\u001b[0;34m\u001b[0m\u001b[0m\n\u001b[0;32m-> 1430\u001b[0;31m         \u001b[0;32mreturn\u001b[0m \u001b[0mfunc\u001b[0m\u001b[0;34m(\u001b[0m\u001b[0mX\u001b[0m\u001b[0;34m,\u001b[0m \u001b[0mY\u001b[0m\u001b[0;34m,\u001b[0m \u001b[0;34m**\u001b[0m\u001b[0mkwds\u001b[0m\u001b[0;34m)\u001b[0m\u001b[0;34m\u001b[0m\u001b[0;34m\u001b[0m\u001b[0m\n\u001b[0m\u001b[1;32m   1431\u001b[0m \u001b[0;34m\u001b[0m\u001b[0m\n\u001b[1;32m   1432\u001b[0m     \u001b[0;31m# enforce a threading backend to prevent data communication overhead\u001b[0m\u001b[0;34m\u001b[0m\u001b[0;34m\u001b[0m\u001b[0;34m\u001b[0m\u001b[0m\n",
      "\u001b[0;32m/Applications/anaconda3/lib/python3.7/site-packages/sklearn/metrics/pairwise.py\u001b[0m in \u001b[0;36meuclidean_distances\u001b[0;34m(X, Y, Y_norm_squared, squared, X_norm_squared)\u001b[0m\n\u001b[1;32m    328\u001b[0m             )\n\u001b[1;32m    329\u001b[0m \u001b[0;34m\u001b[0m\u001b[0m\n\u001b[0;32m--> 330\u001b[0;31m     \u001b[0;32mreturn\u001b[0m \u001b[0m_euclidean_distances\u001b[0m\u001b[0;34m(\u001b[0m\u001b[0mX\u001b[0m\u001b[0;34m,\u001b[0m \u001b[0mY\u001b[0m\u001b[0;34m,\u001b[0m \u001b[0mX_norm_squared\u001b[0m\u001b[0;34m,\u001b[0m \u001b[0mY_norm_squared\u001b[0m\u001b[0;34m,\u001b[0m \u001b[0msquared\u001b[0m\u001b[0;34m)\u001b[0m\u001b[0;34m\u001b[0m\u001b[0;34m\u001b[0m\u001b[0m\n\u001b[0m\u001b[1;32m    331\u001b[0m \u001b[0;34m\u001b[0m\u001b[0m\n\u001b[1;32m    332\u001b[0m \u001b[0;34m\u001b[0m\u001b[0m\n",
      "\u001b[0;32m/Applications/anaconda3/lib/python3.7/site-packages/sklearn/metrics/pairwise.py\u001b[0m in \u001b[0;36m_euclidean_distances\u001b[0;34m(X, Y, X_norm_squared, Y_norm_squared, squared)\u001b[0m\n\u001b[1;32m    372\u001b[0m         \u001b[0mdistances\u001b[0m \u001b[0;34m+=\u001b[0m \u001b[0mXX\u001b[0m\u001b[0;34m\u001b[0m\u001b[0;34m\u001b[0m\u001b[0m\n\u001b[1;32m    373\u001b[0m         \u001b[0mdistances\u001b[0m \u001b[0;34m+=\u001b[0m \u001b[0mYY\u001b[0m\u001b[0;34m\u001b[0m\u001b[0;34m\u001b[0m\u001b[0m\n\u001b[0;32m--> 374\u001b[0;31m     \u001b[0mnp\u001b[0m\u001b[0;34m.\u001b[0m\u001b[0mmaximum\u001b[0m\u001b[0;34m(\u001b[0m\u001b[0mdistances\u001b[0m\u001b[0;34m,\u001b[0m \u001b[0;36m0\u001b[0m\u001b[0;34m,\u001b[0m \u001b[0mout\u001b[0m\u001b[0;34m=\u001b[0m\u001b[0mdistances\u001b[0m\u001b[0;34m)\u001b[0m\u001b[0;34m\u001b[0m\u001b[0;34m\u001b[0m\u001b[0m\n\u001b[0m\u001b[1;32m    375\u001b[0m \u001b[0;34m\u001b[0m\u001b[0m\n\u001b[1;32m    376\u001b[0m     \u001b[0;31m# Ensure that distances between vectors and themselves are set to 0.0.\u001b[0m\u001b[0;34m\u001b[0m\u001b[0;34m\u001b[0m\u001b[0;34m\u001b[0m\u001b[0m\n",
      "\u001b[0;31mKeyboardInterrupt\u001b[0m: "
     ]
    }
   ],
   "source": [
    "from sklearn.model_selection import KFold\n",
    "\n",
    "\n",
    "cv = KFold(n_splits=5)\n",
    "\n",
    "estimator = KNeighborsClassifier(n_neighbors=10)\n",
    "bagmodelknn = BaggingClassifier(base_estimator=estimator,n_estimators=100,bootstrap=True)\n",
    "scores = cross_val_score(bagmodelknn, X_train, y_train, cv=3)\n",
    "print(\"Accuracy: %0.6f (+/- %0.6f) [%s]\" % (scores.mean(), scores.std(), label))\n",
    "bagmodelknn.fit(X_train, y_train)\n",
    "bagg_predicted=bagmodelknn.predict(X_test)\n",
    "accuracy = accuracy_score(y_test,bagg_predicted)\n",
    "#print (rf.oob_score_)\n",
    "print (\"Accuracy: \", accuracy)\n",
    "#acc, score = rf.evaluate(x_test, y_test)\n",
    "# print(\"Time: \", time()-t0)   \n",
    "# creating a confusion matrix \n",
    "# rf_cm = confusion_matrix(y_test, rf_predicted)\n",
    "# print(\"Confusion Matrix: \", rf_cm)\n",
    "\n",
    "# plot_confusion_matrix(rf_cm, classes = clf.classes_,\n",
    "#                       title = 'Confusion Matrix of Bagging Ensemble with KNN')\n",
    "\n",
    "# plt.savefig('BaggingKNN.png')\n",
    "# bagg_predicted =bagmodelknn.predict(X_test)\n",
    "\n",
    "le.fit(bagg_predicted)\n",
    "bagg_enc = le.transform(bagg_predicted)\n",
    "baggcm = ConfusionMatrix(actual_vector=y_test_enc, predict_vector=bagg_enc) # Create CM From Data\n",
    "# >>> cm.classes\n",
    "# [0, 1, 2]\n",
    "# >>> cm.table\n",
    "# {0: {0: 3, 1: 0, 2: 0}, 1: {0: 0, 1: 1, 2: 2}, 2: {0: 2, 1: 1, 2: 3}}\n",
    "# >>> \n",
    "print(baggcm)"
   ]
  },
  {
   "cell_type": "code",
   "execution_count": 174,
   "metadata": {},
   "outputs": [
    {
     "data": {
      "text/plain": [
       "0.11222308589195491"
      ]
     },
     "execution_count": 174,
     "metadata": {},
     "output_type": "execute_result"
    }
   ],
   "source": [
    "precision_score(y_test_enc, bagg_enc, average='micro')"
   ]
  },
  {
   "cell_type": "code",
   "execution_count": 179,
   "metadata": {},
   "outputs": [
    {
     "data": {
      "text/plain": [
       "0.11222308589195491"
      ]
     },
     "execution_count": 179,
     "metadata": {},
     "output_type": "execute_result"
    }
   ],
   "source": [
    "recall_score(y_test_enc, bagg_enc, average='weighted')"
   ]
  },
  {
   "cell_type": "code",
   "execution_count": null,
   "metadata": {},
   "outputs": [],
   "source": [
    "from pycm import *\n",
    "\n",
    "bagg_predicted =bagmodelknn.predict(X_test)\n",
    "\n",
    "le.fit(bagg_predicted)\n",
    "bagg_enc = le.transform(stack_predicted)\n",
    "baggcm = ConfusionMatrix(actual_vector=y_test_enc, predict_vector=bagg_enc) # Create CM From Data\n",
    "\n",
    "print(baggcm)"
   ]
  },
  {
   "cell_type": "code",
   "execution_count": 115,
   "metadata": {},
   "outputs": [
    {
     "name": "stdout",
     "output_type": "stream",
     "text": [
      "Method:  SVC()\n",
      "Accuracy:  0.9620093276331131\n",
      "Confusion Matrix:  [[ 884   49   21   19   20    6    4    6   26   19]\n",
      " [   3  280    2    0    0    0    0    0   95    0]\n",
      " [   1    0 1115    0    9    0    0    0    0    0]\n",
      " [   0    0    0 1049   18    2    0    0    0    5]\n",
      " [   0    0   10    2 1123    0    2    0    0    1]\n",
      " [   0    0    1    1    0 1134    7    0    0    8]\n",
      " [   0    0    1    0    1   19 1068    0    0   12]\n",
      " [   0    0    0    0    0    0    6 1090    0    1]\n",
      " [   2    0    0    0    1    5    2    1 1033    0]\n",
      " [   2    0    0    0    0    0    0    1    0 1125]]\n",
      "Method:  KNeighborsClassifier(n_neighbors=10)\n",
      "Accuracy:  0.9864943645549942\n",
      "Confusion Matrix:  [[ 980   17    2   13    7    2    4    3   20    6]\n",
      " [   1  379    0    0    0    0    0    0    0    0]\n",
      " [   1    0 1114    2    8    0    0    0    0    0]\n",
      " [   0    0    0 1072    0    2    0    0    0    0]\n",
      " [   1    0    8    3 1126    0    0    0    0    0]\n",
      " [   2    0    0    0    0 1134   13    0    0    2]\n",
      " [   3    0    0    0    1    7 1090    0    0    0]\n",
      " [   0    0    0    0    0    0    1 1095    0    1]\n",
      " [   2    0    0    0    1    0    3    0 1038    0]\n",
      " [   1    0    0    2    0    0    0    0    0 1125]]\n",
      "Method:  GaussianNB()\n",
      "Accuracy:  0.8885542168674698\n",
      "Confusion Matrix:  [[ 743  253    3   20   12    2   17    0    1    3]\n",
      " [   0  380    0    0    0    0    0    0    0    0]\n",
      " [   0   30 1095    0    0    0    0    0    0    0]\n",
      " [   0    5    0 1066    0    3    0    0    0    0]\n",
      " [   2  256    0   52  825    0    3    0    0    0]\n",
      " [   1   38    0   53    0  771  288    0    0    0]\n",
      " [   0   36    0    7   10   31 1017    0    0    0]\n",
      " [   2    0    0    0    0    0    0 1094    0    1]\n",
      " [   3   10    0    0    0    0    0    0 1031    0]\n",
      " [   0    5    0    0    0    0    0    0    0 1123]]\n",
      "Accuracy: 0.955035 (+/- 0.001482) [SVM]\n",
      "Accuracy: 0.985109 (+/- 0.000998) [KNN]\n",
      "Accuracy: 0.886141 (+/- 0.000753) [Gaussian NB]\n",
      "Accuracy: 0.887040 (+/- 0.000598) [Ensemble]\n"
     ]
    }
   ],
   "source": [
    "from sklearn.ensemble import BaggingClassifier\n",
    "base_methods=[clf1, clf2, clf3]\n",
    "for bm  in base_methods:\n",
    "    print(\"Method: \", bm)\n",
    "    bag_model=BaggingClassifier(base_estimator=bm,n_estimators=100,bootstrap=True)\n",
    "    bag_model.fit(X_train, y_train)\n",
    "    rf_predicted=bag_model.predict(X_test)\n",
    "    accuracy = accuracy_score(y_test,rf_predicted)\n",
    "    #print (rf.oob_score_)\n",
    "    print (\"Accuracy: \", accuracy)\n",
    "    #acc, score = rf.evaluate(x_test, y_test)\n",
    "    # print(\"Time: \", time()-t0)   \n",
    "    # creating a confusion matrix \n",
    "    rf_cm = confusion_matrix(y_test, rf_predicted)\n",
    "    print(\"Confusion Matrix: \", rf_cm)\n",
    "\n",
    "for clf, label in zip([clf1, clf2, clf3, bag_model], ['SVM', 'KNN', 'Gaussian NB','Ensemble']):\n",
    "    scores = cross_val_score(clf, X_train, y_train, scoring='accuracy', cv=3)\n",
    "    print(\"Accuracy: %0.6f (+/- %0.6f) [%s]\" % (scores.mean(), scores.std(), label))"
   ]
  },
  {
   "cell_type": "markdown",
   "metadata": {},
   "source": [
    "#  Stacking classifier"
   ]
  },
  {
   "cell_type": "code",
   "execution_count": 81,
   "metadata": {},
   "outputs": [
    {
     "name": "stdout",
     "output_type": "stream",
     "text": [
      "For Boosting : F1 Score 0.11, Accuracy 0.11\n"
     ]
    }
   ],
   "source": [
    "clf_boosting = AdaBoostClassifier(\n",
    "    DecisionTreeClassifier(max_depth=1),\n",
    "    n_estimators=200\n",
    ")\n",
    "clf_boosting.fit(X_train, y_train)\n",
    "predictions = clf_boosting.predict(X_test)\n",
    "print(\"For Boosting : F1 Score {}, Accuracy {}\".format(round(f1_score(y_test,predictions,average='micro'),2),round(accuracy_score(y_test,predictions),2)))\n"
   ]
  },
  {
   "cell_type": "code",
   "execution_count": 183,
   "metadata": {},
   "outputs": [
    {
     "data": {
      "text/plain": [
       "0.9088612514574427"
      ]
     },
     "execution_count": 183,
     "metadata": {},
     "output_type": "execute_result"
    }
   ],
   "source": [
    "gradclf = GradientBoostingClassifier(n_estimators=100, learning_rate=1.0,max_depth=1, random_state=0).fit(X_train, y_train)\n",
    "\n",
    "predicted = gradclf.predict(X_test)\n",
    "\n",
    "gradclf.score(X_test, y_test)\n",
    "print(classification_report(y_test, predicted))\n",
    "le.fit(predicted)\n",
    "g_enc = le.transform(predicted)\n",
    "gcm = ConfusionMatrix(actual_vector=y_test_enc, predict_vector=g_enc) # Create CM From Data\n",
    " \n",
    "print(gcm)"
   ]
  },
  {
   "cell_type": "code",
   "execution_count": 205,
   "metadata": {},
   "outputs": [
    {
     "name": "stdout",
     "output_type": "stream",
     "text": [
      "                  precision    recall  f1-score   support\n",
      "\n",
      "          BENIGN       0.90      0.75      0.82      1110\n",
      "             Bot       0.42      0.86      0.56       434\n",
      "            DDoS       1.00      1.00      1.00      1112\n",
      "   DoS GoldenEye       0.99      0.99      0.99      1093\n",
      "        DoS Hulk       0.98      1.00      0.99      1108\n",
      "DoS Slowhttptest       0.97      0.83      0.89      1034\n",
      "   DoS slowloris       0.87      0.99      0.92      1124\n",
      "     FTP-Patator       1.00      1.00      1.00      1096\n",
      "        PortScan       0.88      0.64      0.74      1115\n",
      "     SSH-Patator       1.00      1.00      1.00      1066\n",
      "\n",
      "        accuracy                           0.91     10292\n",
      "       macro avg       0.90      0.91      0.89     10292\n",
      "    weighted avg       0.93      0.91      0.91     10292\n",
      "\n"
     ]
    }
   ],
   "source": [
    "print(classification_report(y_test, predicted))"
   ]
  },
  {
   "cell_type": "code",
   "execution_count": 184,
   "metadata": {
    "scrolled": false
   },
   "outputs": [
    {
     "name": "stdout",
     "output_type": "stream",
     "text": [
      "Predict   0         1         2         3         4         5         6         7         8         9         \n",
      "Actual\n",
      "0         86        95        112       127       103       89        130       112       79        121       \n",
      "\n",
      "1         33        30        38        40        50        31        46        40        25        47        \n",
      "\n",
      "2         108       79        127       104       115       114       143       118       102       115       \n",
      "\n",
      "3         79        102       100       135       123       97        123       114       76        125       \n",
      "\n",
      "4         103       113       124       117       122       102       136       127       91        103       \n",
      "\n",
      "5         100       96        133       121       126       98        144       124       86        123       \n",
      "\n",
      "6         117       100       140       108       125       86        129       121       73        102       \n",
      "\n",
      "7         95        78        115       113       122       92        149       111       99        123       \n",
      "\n",
      "8         111       87        117       98        115       79        134       113       99        91        \n",
      "\n",
      "9         90        114       106       128       121       103       147       117       85        117       \n",
      "\n",
      "\n",
      "\n",
      "\n",
      "\n",
      "Overall Statistics : \n",
      "\n",
      "95% CI                                                            (0.09655,0.10827)\n",
      "ACC Macro                                                         0.82048\n",
      "ARI                                                               -2e-05\n",
      "AUNP                                                              0.50076\n",
      "AUNU                                                              0.5005\n",
      "Bangdiwala B                                                      0.01117\n",
      "Bennett S                                                         0.00268\n",
      "CBA                                                               0.09446\n",
      "CSI                                                               -0.79751\n",
      "Chi-Squared                                                       82.98948\n",
      "Chi-Squared DF                                                    81\n",
      "Conditional Entropy                                               3.3036\n",
      "Cramer V                                                          0.02993\n",
      "Cross Entropy                                                     3.31905\n",
      "F1 Macro                                                          0.0999\n",
      "F1 Micro                                                          0.10241\n",
      "FNR Macro                                                         0.89916\n",
      "FNR Micro                                                         0.89759\n",
      "FPR Macro                                                         0.09985\n",
      "FPR Micro                                                         0.09973\n",
      "Gwet AC1                                                          0.00294\n",
      "Hamming Loss                                                      0.89759\n",
      "Joint Entropy                                                     6.58375\n",
      "KL Divergence                                                     0.03889\n",
      "Kappa                                                             0.0015\n",
      "Kappa 95% CI                                                      (-0.00502,0.00802)\n",
      "Kappa No Prevalence                                               -0.79518\n",
      "Kappa Standard Error                                              0.00332\n",
      "Kappa Unbiased                                                    0.00035\n",
      "Krippendorff Alpha                                                0.0004\n",
      "Lambda A                                                          0.01072\n",
      "Lambda B                                                          0.003\n",
      "Mutual Information                                                0.0058\n",
      "NIR                                                               0.11183\n",
      "Overall ACC                                                       0.10241\n",
      "Overall CEN                                                       0.92131\n",
      "Overall J                                                         (0.52688,0.05269)\n",
      "Overall MCC                                                       0.0015\n",
      "Overall MCEN                                                      0.95387\n",
      "Overall RACC                                                      0.10106\n",
      "Overall RACCU                                                     0.1021\n",
      "P-Value                                                           None\n",
      "PPV Macro                                                         0.10165\n",
      "PPV Micro                                                         0.10241\n",
      "Pearson C                                                         0.08944\n",
      "Phi-Squared                                                       0.00806\n",
      "RCI                                                               0.00177\n",
      "RR                                                                1029.2\n",
      "Reference Entropy                                                 3.28016\n",
      "Response Entropy                                                  3.3094\n",
      "SOA1(Landis & Koch)                                               Slight\n",
      "SOA2(Fleiss)                                                      Poor\n",
      "SOA3(Altman)                                                      Poor\n",
      "SOA4(Cicchetti)                                                   Poor\n",
      "SOA5(Cramer)                                                      Negligible\n",
      "SOA6(Matthews)                                                    Negligible\n",
      "Scott PI                                                          0.00035\n",
      "Standard Error                                                    0.00299\n",
      "TNR Macro                                                         0.90015\n",
      "TNR Micro                                                         0.90027\n",
      "TPR Macro                                                         0.10084\n",
      "TPR Micro                                                         0.10241\n",
      "Zero-one Loss                                                     9238\n",
      "\n",
      "Class Statistics :\n",
      "\n",
      "Classes                                                           0             1             2             3             4             5             6             7             8             9             \n",
      "ACC(Accuracy)                                                     0.82472       0.88204       0.80733       0.81588       0.80412       0.82064       0.79363       0.80839       0.83861       0.80946       \n",
      "AGF(Adjusted F-score)                                             0.27433       0.24326       0.31761       0.33537       0.30924       0.28218       0.31751       0.30056       0.29954       0.30576       \n",
      "AGM(Adjusted geometric mean)                                      0.57377       0.58458       0.58836       0.60054       0.58287       0.57726       0.58172       0.57999       0.59243       0.58348       \n",
      "AM(Difference between automatic and manual classification)        -132          514           -13           17            -16           -260          180           0             -229          -61           \n",
      "AUC(Area under the ROC curve)                                     0.49555       0.49589       0.50272       0.51099       0.49898       0.4992        0.49591       0.49698       0.5087        0.50003       \n",
      "AUCI(AUC value interpretation)                                    Poor          Poor          Poor          Poor          Poor          Poor          Poor          Poor          Poor          Poor          \n",
      "AUPR(Area under the PR curve)                                     0.08743       0.05625       0.11355       0.12472       0.10797       0.09757       0.10893       0.10119       0.10815       0.10669       \n",
      "BCD(Bray-Curtis dissimilarity)                                    0.00641       0.02497       0.00063       0.00083       0.00078       0.01263       0.00874       0.0           0.01113       0.00296       \n",
      "BM(Informedness or bookmaker informedness)                        -0.0089       -0.00822      0.00544       0.02199       -0.00204      -0.00161      -0.00817      -0.00605      0.01741       6e-05         \n",
      "CEN(Confusion entropy)                                            0.933         0.93445       0.91572       0.90814       0.92233       0.92501       0.91778       0.92427       0.91718       0.9217        \n",
      "DOR(Diagnostic odds ratio)                                        0.89289       0.89762       1.05705       1.2425        0.97912       0.97973       0.92613       0.93726       1.24836       1.00061       \n",
      "DP(Discriminant power)                                            -0.02713      -0.02586      0.01329       0.05199       -0.00505      -0.0049       -0.01837      -0.01551      0.05312       0.00015       \n",
      "DPI(Discriminant power interpretation)                            Poor          Poor          Poor          Poor          Poor          Poor          Poor          Poor          Poor          Poor          \n",
      "ERR(Error rate)                                                   0.17528       0.11796       0.19267       0.18412       0.19588       0.17936       0.20637       0.19161       0.16139       0.19054       \n",
      "F0.5(F0.5 score)                                                  0.09068       0.03792       0.11394       0.12413       0.10843       0.10392       0.10361       0.10119       0.11501       0.10841       \n",
      "F1(F1 score - harmonic mean of precision and sensitivity)         0.08704       0.0471        0.11354       0.12471       0.10796       0.09598       0.10831       0.10119       0.10651       0.10661       \n",
      "F2(F2 score)                                                      0.08369       0.06214       0.11315       0.1253        0.10751       0.08917       0.11346       0.10119       0.09918       0.10486       \n",
      "FDR(False discovery rate)                                         0.90672       0.96644       0.88579       0.87626       0.89127       0.89001       0.8993        0.89881       0.87853       0.89035       \n",
      "FN(False negative/miss/type 2 error)                              968           350           998           939           1016          1053          972           986           945           1011          \n",
      "FNR(Miss rate or false negative rate)                             0.91841       0.92105       0.88711       0.8743        0.89279       0.91486       0.88283       0.89881       0.90517       0.89628       \n",
      "FOR(False omission rate)                                          0.10331       0.03724       0.10871       0.10205       0.1108        0.11201       0.10787       0.10723       0.09972       0.10959       \n",
      "FP(False positive/type 1 error/false alarm)                       836           864           985           956           1000          793           1152          986           716           950           \n",
      "FPR(Fall-out or false positive rate)                              0.0905        0.08717       0.10745       0.10371       0.10924       0.08675       0.12534       0.10723       0.07742       0.10367       \n",
      "G(G-measure geometric mean of precision and sensitivity)          0.08724       0.05147       0.11355       0.12472       0.10797       0.09677       0.10862       0.10119       0.10733       0.10665       \n",
      "GI(Gini index)                                                    -0.0089       -0.00822      0.00544       0.02199       -0.00204      -0.00161      -0.00817      -0.00605      0.01741       6e-05         \n",
      "GM(G-mean geometric mean of specificity and sensitivity)          0.27242       0.26845       0.31743       0.33565       0.30902       0.27885       0.32013       0.30056       0.29578       0.30491       \n",
      "IBA(Index of balanced accuracy)                                   0.01277       0.01197       0.0222        0.02585       0.02067       0.01337       0.02485       0.01883       0.01507       0.01928       \n",
      "ICSI(Individual classification success index)                     -0.82513      -0.8875       -0.7729       -0.75056      -0.78406      -0.80487      -0.78213      -0.79763      -0.7837       -0.78662      \n",
      "IS(Information score)                                             -0.13478      -0.13786      0.06327       0.24584       -0.02417      -0.02401      -0.08719      -0.07504      0.26003       0.0007        \n",
      "J(Jaccard index)                                                  0.0455        0.02412       0.06019       0.0665        0.05706       0.05041       0.05726       0.05329       0.05625       0.0563        \n",
      "LS(Lift score)                                                    0.91081       0.90887       1.04483       1.18578       0.98339       0.9835        0.94135       0.94931       1.1975        1.00049       \n",
      "MCC(Matthews correlation coefficient)                             -0.00945      -0.0055       0.00547       0.02184       -0.00205      -0.0018       -0.00765      -0.00605      0.01946       6e-05         \n",
      "MCCI(Matthews correlation coefficient interpretation)             Negligible    Negligible    Negligible    Negligible    Negligible    Negligible    Negligible    Negligible    Negligible    Negligible    \n",
      "MCEN(Modified confusion entropy)                                  0.96075       0.94894       0.95183       0.94774       0.95686       0.95548       0.95217       0.95652       0.9509        0.95571       \n",
      "MK(Markedness)                                                    -0.01003      -0.00368      0.00549       0.02169       -0.00206      -0.00202      -0.00717      -0.00605      0.02176       6e-05         \n",
      "N(Condition negative)                                             9238          9912          9167          9218          9154          9141          9191          9195          9248          9164          \n",
      "NLR(Negative likelihood ratio)                                    1.00979       1.009         0.99391       0.97547       1.00229       1.00176       1.00935       1.00677       0.98113       0.99994       \n",
      "NLRI(Negative likelihood ratio interpretation)                    Negligible    Negligible    Negligible    Negligible    Negligible    Negligible    Negligible    Negligible    Negligible    Negligible    \n",
      "NPV(Negative predictive value)                                    0.89669       0.96276       0.89129       0.89795       0.8892        0.88799       0.89213       0.89277       0.90028       0.89041       \n",
      "OC(Overlap coefficient)                                           0.09328       0.07895       0.11421       0.1257        0.10873       0.10999       0.11717       0.10119       0.12147       0.10965       \n",
      "OOC(Otsuka-Ochiai coefficient)                                    0.08724       0.05147       0.11355       0.12472       0.10797       0.09677       0.10862       0.10119       0.10733       0.10665       \n",
      "OP(Optimized precision)                                           -0.01063      0.04125       0.03188       0.06186       0.01897       -0.0088       0.02989       0.012         0.02502       0.0169        \n",
      "P(Condition positive or support)                                  1054          380           1125          1074          1138          1151          1101          1097          1044          1128          \n",
      "PLR(Positive likelihood ratio)                                    0.90163       0.9057        1.05061       1.21202       0.98136       0.98146       0.93479       0.94361       1.22481       1.00055       \n",
      "PLRI(Positive likelihood ratio interpretation)                    Negligible    Negligible    Poor          Poor          Negligible    Negligible    Negligible    Negligible    Poor          Poor          \n",
      "POP(Population)                                                   10292         10292         10292         10292         10292         10292         10292         10292         10292         10292         \n",
      "PPV(Precision or positive predictive value)                       0.09328       0.03356       0.11421       0.12374       0.10873       0.10999       0.1007        0.10119       0.12147       0.10965       \n",
      "PRE(Prevalence)                                                   0.10241       0.03692       0.10931       0.10435       0.11057       0.11183       0.10698       0.10659       0.10144       0.1096        \n",
      "Q(Yule Q - coefficient of colligation)                            -0.05658      -0.05395      0.02773       0.10814       -0.01055      -0.01024      -0.03835      -0.03239      0.11046       0.00031       \n",
      "QI(Yule Q interpretation)                                         Negligible    Negligible    Negligible    Negligible    Negligible    Negligible    Negligible    Negligible    Negligible    Negligible    \n",
      "RACC(Random accuracy)                                             0.00917       0.00321       0.01181       0.01106       0.01205       0.00968       0.01331       0.01136       0.00803       0.01136       \n",
      "RACCU(Random accuracy unbiased)                                   0.00922       0.00383       0.01181       0.01106       0.01205       0.00984       0.01339       0.01136       0.00816       0.01137       \n",
      "TN(True negative/correct rejection)                               8402          9048          8182          8262          8154          8348          8039          8209          8532          8214          \n",
      "TNR(Specificity or true negative rate)                            0.9095        0.91283       0.89255       0.89629       0.89076       0.91325       0.87466       0.89277       0.92258       0.89633       \n",
      "TON(Test outcome negative)                                        9370          9398          9180          9201          9170          9401          9011          9195          9477          9225          \n",
      "TOP(Test outcome positive)                                        922           894           1112          1091          1122          891           1281          1097          815           1067          \n",
      "TP(True positive/hit)                                             86            30            127           135           122           98            129           111           99            117           \n",
      "TPR(Sensitivity, recall, hit rate, or true positive rate)         0.08159       0.07895       0.11289       0.1257        0.10721       0.08514       0.11717       0.10119       0.09483       0.10372       \n",
      "Y(Youden index)                                                   -0.0089       -0.00822      0.00544       0.02199       -0.00204      -0.00161      -0.00817      -0.00605      0.01741       6e-05         \n",
      "dInd(Distance index)                                              0.92285       0.92517       0.89359       0.88043       0.89945       0.91896       0.89169       0.90519       0.90848       0.90225       \n",
      "sInd(Similarity index)                                            0.34744       0.34581       0.36813       0.37744       0.36399       0.3502        0.36948       0.35993       0.35761       0.36201       \n",
      "\n"
     ]
    }
   ],
   "source": [
    "le.fit(predicted)\n",
    "g_enc = le.transform(predicted)\n",
    "gcm = ConfusionMatrix(actual_vector=y_test_enc, predict_vector=g_enc) # Create CM From Data\n",
    "\n",
    "print(gcm)"
   ]
  },
  {
   "cell_type": "code",
   "execution_count": 4,
   "metadata": {},
   "outputs": [
    {
     "data": {
      "application/vnd.plotly.v1+json": {
       "config": {
        "plotlyServerURL": "https://plotly.com"
       },
       "data": [
        {
         "alignmentgroup": "True",
         "hovertemplate": "Technique=%{x}<br>Accuracy=%{y}<extra></extra>",
         "legendgroup": "",
         "marker": {
          "color": "#636efa",
          "pattern": {
           "shape": ""
          }
         },
         "name": "",
         "offsetgroup": "",
         "orientation": "v",
         "showlegend": false,
         "textposition": "auto",
         "texttemplate": "%{y}",
         "type": "bar",
         "x": [
          "KNN",
          "SVC",
          "GNB",
          "Gradient Boosting",
          "Stacking",
          "Voting"
         ],
         "xaxis": "x",
         "y": [
          98.69,
          88.77,
          96.19,
          99.73,
          99.87,
          99.64
         ],
         "yaxis": "y"
        }
       ],
       "layout": {
        "barmode": "relative",
        "font": {
         "size": 18
        },
        "legend": {
         "tracegroupgap": 0
        },
        "margin": {
         "t": 60
        },
        "template": {
         "data": {
          "bar": [
           {
            "error_x": {
             "color": "#2a3f5f"
            },
            "error_y": {
             "color": "#2a3f5f"
            },
            "marker": {
             "line": {
              "color": "#E5ECF6",
              "width": 0.5
             },
             "pattern": {
              "fillmode": "overlay",
              "size": 10,
              "solidity": 0.2
             }
            },
            "type": "bar"
           }
          ],
          "barpolar": [
           {
            "marker": {
             "line": {
              "color": "#E5ECF6",
              "width": 0.5
             },
             "pattern": {
              "fillmode": "overlay",
              "size": 10,
              "solidity": 0.2
             }
            },
            "type": "barpolar"
           }
          ],
          "carpet": [
           {
            "aaxis": {
             "endlinecolor": "#2a3f5f",
             "gridcolor": "white",
             "linecolor": "white",
             "minorgridcolor": "white",
             "startlinecolor": "#2a3f5f"
            },
            "baxis": {
             "endlinecolor": "#2a3f5f",
             "gridcolor": "white",
             "linecolor": "white",
             "minorgridcolor": "white",
             "startlinecolor": "#2a3f5f"
            },
            "type": "carpet"
           }
          ],
          "choropleth": [
           {
            "colorbar": {
             "outlinewidth": 0,
             "ticks": ""
            },
            "type": "choropleth"
           }
          ],
          "contour": [
           {
            "colorbar": {
             "outlinewidth": 0,
             "ticks": ""
            },
            "colorscale": [
             [
              0,
              "#0d0887"
             ],
             [
              0.1111111111111111,
              "#46039f"
             ],
             [
              0.2222222222222222,
              "#7201a8"
             ],
             [
              0.3333333333333333,
              "#9c179e"
             ],
             [
              0.4444444444444444,
              "#bd3786"
             ],
             [
              0.5555555555555556,
              "#d8576b"
             ],
             [
              0.6666666666666666,
              "#ed7953"
             ],
             [
              0.7777777777777778,
              "#fb9f3a"
             ],
             [
              0.8888888888888888,
              "#fdca26"
             ],
             [
              1,
              "#f0f921"
             ]
            ],
            "type": "contour"
           }
          ],
          "contourcarpet": [
           {
            "colorbar": {
             "outlinewidth": 0,
             "ticks": ""
            },
            "type": "contourcarpet"
           }
          ],
          "heatmap": [
           {
            "colorbar": {
             "outlinewidth": 0,
             "ticks": ""
            },
            "colorscale": [
             [
              0,
              "#0d0887"
             ],
             [
              0.1111111111111111,
              "#46039f"
             ],
             [
              0.2222222222222222,
              "#7201a8"
             ],
             [
              0.3333333333333333,
              "#9c179e"
             ],
             [
              0.4444444444444444,
              "#bd3786"
             ],
             [
              0.5555555555555556,
              "#d8576b"
             ],
             [
              0.6666666666666666,
              "#ed7953"
             ],
             [
              0.7777777777777778,
              "#fb9f3a"
             ],
             [
              0.8888888888888888,
              "#fdca26"
             ],
             [
              1,
              "#f0f921"
             ]
            ],
            "type": "heatmap"
           }
          ],
          "heatmapgl": [
           {
            "colorbar": {
             "outlinewidth": 0,
             "ticks": ""
            },
            "colorscale": [
             [
              0,
              "#0d0887"
             ],
             [
              0.1111111111111111,
              "#46039f"
             ],
             [
              0.2222222222222222,
              "#7201a8"
             ],
             [
              0.3333333333333333,
              "#9c179e"
             ],
             [
              0.4444444444444444,
              "#bd3786"
             ],
             [
              0.5555555555555556,
              "#d8576b"
             ],
             [
              0.6666666666666666,
              "#ed7953"
             ],
             [
              0.7777777777777778,
              "#fb9f3a"
             ],
             [
              0.8888888888888888,
              "#fdca26"
             ],
             [
              1,
              "#f0f921"
             ]
            ],
            "type": "heatmapgl"
           }
          ],
          "histogram": [
           {
            "marker": {
             "pattern": {
              "fillmode": "overlay",
              "size": 10,
              "solidity": 0.2
             }
            },
            "type": "histogram"
           }
          ],
          "histogram2d": [
           {
            "colorbar": {
             "outlinewidth": 0,
             "ticks": ""
            },
            "colorscale": [
             [
              0,
              "#0d0887"
             ],
             [
              0.1111111111111111,
              "#46039f"
             ],
             [
              0.2222222222222222,
              "#7201a8"
             ],
             [
              0.3333333333333333,
              "#9c179e"
             ],
             [
              0.4444444444444444,
              "#bd3786"
             ],
             [
              0.5555555555555556,
              "#d8576b"
             ],
             [
              0.6666666666666666,
              "#ed7953"
             ],
             [
              0.7777777777777778,
              "#fb9f3a"
             ],
             [
              0.8888888888888888,
              "#fdca26"
             ],
             [
              1,
              "#f0f921"
             ]
            ],
            "type": "histogram2d"
           }
          ],
          "histogram2dcontour": [
           {
            "colorbar": {
             "outlinewidth": 0,
             "ticks": ""
            },
            "colorscale": [
             [
              0,
              "#0d0887"
             ],
             [
              0.1111111111111111,
              "#46039f"
             ],
             [
              0.2222222222222222,
              "#7201a8"
             ],
             [
              0.3333333333333333,
              "#9c179e"
             ],
             [
              0.4444444444444444,
              "#bd3786"
             ],
             [
              0.5555555555555556,
              "#d8576b"
             ],
             [
              0.6666666666666666,
              "#ed7953"
             ],
             [
              0.7777777777777778,
              "#fb9f3a"
             ],
             [
              0.8888888888888888,
              "#fdca26"
             ],
             [
              1,
              "#f0f921"
             ]
            ],
            "type": "histogram2dcontour"
           }
          ],
          "mesh3d": [
           {
            "colorbar": {
             "outlinewidth": 0,
             "ticks": ""
            },
            "type": "mesh3d"
           }
          ],
          "parcoords": [
           {
            "line": {
             "colorbar": {
              "outlinewidth": 0,
              "ticks": ""
             }
            },
            "type": "parcoords"
           }
          ],
          "pie": [
           {
            "automargin": true,
            "type": "pie"
           }
          ],
          "scatter": [
           {
            "marker": {
             "colorbar": {
              "outlinewidth": 0,
              "ticks": ""
             }
            },
            "type": "scatter"
           }
          ],
          "scatter3d": [
           {
            "line": {
             "colorbar": {
              "outlinewidth": 0,
              "ticks": ""
             }
            },
            "marker": {
             "colorbar": {
              "outlinewidth": 0,
              "ticks": ""
             }
            },
            "type": "scatter3d"
           }
          ],
          "scattercarpet": [
           {
            "marker": {
             "colorbar": {
              "outlinewidth": 0,
              "ticks": ""
             }
            },
            "type": "scattercarpet"
           }
          ],
          "scattergeo": [
           {
            "marker": {
             "colorbar": {
              "outlinewidth": 0,
              "ticks": ""
             }
            },
            "type": "scattergeo"
           }
          ],
          "scattergl": [
           {
            "marker": {
             "colorbar": {
              "outlinewidth": 0,
              "ticks": ""
             }
            },
            "type": "scattergl"
           }
          ],
          "scattermapbox": [
           {
            "marker": {
             "colorbar": {
              "outlinewidth": 0,
              "ticks": ""
             }
            },
            "type": "scattermapbox"
           }
          ],
          "scatterpolar": [
           {
            "marker": {
             "colorbar": {
              "outlinewidth": 0,
              "ticks": ""
             }
            },
            "type": "scatterpolar"
           }
          ],
          "scatterpolargl": [
           {
            "marker": {
             "colorbar": {
              "outlinewidth": 0,
              "ticks": ""
             }
            },
            "type": "scatterpolargl"
           }
          ],
          "scatterternary": [
           {
            "marker": {
             "colorbar": {
              "outlinewidth": 0,
              "ticks": ""
             }
            },
            "type": "scatterternary"
           }
          ],
          "surface": [
           {
            "colorbar": {
             "outlinewidth": 0,
             "ticks": ""
            },
            "colorscale": [
             [
              0,
              "#0d0887"
             ],
             [
              0.1111111111111111,
              "#46039f"
             ],
             [
              0.2222222222222222,
              "#7201a8"
             ],
             [
              0.3333333333333333,
              "#9c179e"
             ],
             [
              0.4444444444444444,
              "#bd3786"
             ],
             [
              0.5555555555555556,
              "#d8576b"
             ],
             [
              0.6666666666666666,
              "#ed7953"
             ],
             [
              0.7777777777777778,
              "#fb9f3a"
             ],
             [
              0.8888888888888888,
              "#fdca26"
             ],
             [
              1,
              "#f0f921"
             ]
            ],
            "type": "surface"
           }
          ],
          "table": [
           {
            "cells": {
             "fill": {
              "color": "#EBF0F8"
             },
             "line": {
              "color": "white"
             }
            },
            "header": {
             "fill": {
              "color": "#C8D4E3"
             },
             "line": {
              "color": "white"
             }
            },
            "type": "table"
           }
          ]
         },
         "layout": {
          "annotationdefaults": {
           "arrowcolor": "#2a3f5f",
           "arrowhead": 0,
           "arrowwidth": 1
          },
          "autotypenumbers": "strict",
          "coloraxis": {
           "colorbar": {
            "outlinewidth": 0,
            "ticks": ""
           }
          },
          "colorscale": {
           "diverging": [
            [
             0,
             "#8e0152"
            ],
            [
             0.1,
             "#c51b7d"
            ],
            [
             0.2,
             "#de77ae"
            ],
            [
             0.3,
             "#f1b6da"
            ],
            [
             0.4,
             "#fde0ef"
            ],
            [
             0.5,
             "#f7f7f7"
            ],
            [
             0.6,
             "#e6f5d0"
            ],
            [
             0.7,
             "#b8e186"
            ],
            [
             0.8,
             "#7fbc41"
            ],
            [
             0.9,
             "#4d9221"
            ],
            [
             1,
             "#276419"
            ]
           ],
           "sequential": [
            [
             0,
             "#0d0887"
            ],
            [
             0.1111111111111111,
             "#46039f"
            ],
            [
             0.2222222222222222,
             "#7201a8"
            ],
            [
             0.3333333333333333,
             "#9c179e"
            ],
            [
             0.4444444444444444,
             "#bd3786"
            ],
            [
             0.5555555555555556,
             "#d8576b"
            ],
            [
             0.6666666666666666,
             "#ed7953"
            ],
            [
             0.7777777777777778,
             "#fb9f3a"
            ],
            [
             0.8888888888888888,
             "#fdca26"
            ],
            [
             1,
             "#f0f921"
            ]
           ],
           "sequentialminus": [
            [
             0,
             "#0d0887"
            ],
            [
             0.1111111111111111,
             "#46039f"
            ],
            [
             0.2222222222222222,
             "#7201a8"
            ],
            [
             0.3333333333333333,
             "#9c179e"
            ],
            [
             0.4444444444444444,
             "#bd3786"
            ],
            [
             0.5555555555555556,
             "#d8576b"
            ],
            [
             0.6666666666666666,
             "#ed7953"
            ],
            [
             0.7777777777777778,
             "#fb9f3a"
            ],
            [
             0.8888888888888888,
             "#fdca26"
            ],
            [
             1,
             "#f0f921"
            ]
           ]
          },
          "colorway": [
           "#636efa",
           "#EF553B",
           "#00cc96",
           "#ab63fa",
           "#FFA15A",
           "#19d3f3",
           "#FF6692",
           "#B6E880",
           "#FF97FF",
           "#FECB52"
          ],
          "font": {
           "color": "#2a3f5f"
          },
          "geo": {
           "bgcolor": "white",
           "lakecolor": "white",
           "landcolor": "#E5ECF6",
           "showlakes": true,
           "showland": true,
           "subunitcolor": "white"
          },
          "hoverlabel": {
           "align": "left"
          },
          "hovermode": "closest",
          "mapbox": {
           "style": "light"
          },
          "paper_bgcolor": "white",
          "plot_bgcolor": "#E5ECF6",
          "polar": {
           "angularaxis": {
            "gridcolor": "white",
            "linecolor": "white",
            "ticks": ""
           },
           "bgcolor": "#E5ECF6",
           "radialaxis": {
            "gridcolor": "white",
            "linecolor": "white",
            "ticks": ""
           }
          },
          "scene": {
           "xaxis": {
            "backgroundcolor": "#E5ECF6",
            "gridcolor": "white",
            "gridwidth": 2,
            "linecolor": "white",
            "showbackground": true,
            "ticks": "",
            "zerolinecolor": "white"
           },
           "yaxis": {
            "backgroundcolor": "#E5ECF6",
            "gridcolor": "white",
            "gridwidth": 2,
            "linecolor": "white",
            "showbackground": true,
            "ticks": "",
            "zerolinecolor": "white"
           },
           "zaxis": {
            "backgroundcolor": "#E5ECF6",
            "gridcolor": "white",
            "gridwidth": 2,
            "linecolor": "white",
            "showbackground": true,
            "ticks": "",
            "zerolinecolor": "white"
           }
          },
          "shapedefaults": {
           "line": {
            "color": "#2a3f5f"
           }
          },
          "ternary": {
           "aaxis": {
            "gridcolor": "white",
            "linecolor": "white",
            "ticks": ""
           },
           "baxis": {
            "gridcolor": "white",
            "linecolor": "white",
            "ticks": ""
           },
           "bgcolor": "#E5ECF6",
           "caxis": {
            "gridcolor": "white",
            "linecolor": "white",
            "ticks": ""
           }
          },
          "title": {
           "x": 0.05
          },
          "xaxis": {
           "automargin": true,
           "gridcolor": "white",
           "linecolor": "white",
           "ticks": "",
           "title": {
            "standoff": 15
           },
           "zerolinecolor": "white",
           "zerolinewidth": 2
          },
          "yaxis": {
           "automargin": true,
           "gridcolor": "white",
           "linecolor": "white",
           "ticks": "",
           "title": {
            "standoff": 15
           },
           "zerolinecolor": "white",
           "zerolinewidth": 2
          }
         }
        },
        "xaxis": {
         "anchor": "y",
         "domain": [
          0,
          1
         ],
         "title": {
          "text": "Base learners and Ensemble models"
         }
        },
        "yaxis": {
         "anchor": "x",
         "domain": [
          0,
          1
         ],
         "title": {
          "text": "Accuracy"
         }
        }
       }
      },
      "text/html": [
       "<div>                            <div id=\"d43b9af3-d777-44f7-b2ab-d6f9617ea718\" class=\"plotly-graph-div\" style=\"height:525px; width:100%;\"></div>            <script type=\"text/javascript\">                require([\"plotly\"], function(Plotly) {                    window.PLOTLYENV=window.PLOTLYENV || {};                                    if (document.getElementById(\"d43b9af3-d777-44f7-b2ab-d6f9617ea718\")) {                    Plotly.newPlot(                        \"d43b9af3-d777-44f7-b2ab-d6f9617ea718\",                        [{\"alignmentgroup\":\"True\",\"hovertemplate\":\"Technique=%{x}<br>Accuracy=%{y}<extra></extra>\",\"legendgroup\":\"\",\"marker\":{\"color\":\"#636efa\",\"pattern\":{\"shape\":\"\"}},\"name\":\"\",\"offsetgroup\":\"\",\"orientation\":\"v\",\"showlegend\":false,\"textposition\":\"auto\",\"texttemplate\":\"%{y}\",\"x\":[\"KNN\",\"SVC\",\"GNB\",\"Gradient Boosting\",\"Stacking\",\"Voting\"],\"xaxis\":\"x\",\"y\":[98.69,88.77,96.19,99.73,99.87,99.64],\"yaxis\":\"y\",\"type\":\"bar\"}],                        {\"template\":{\"data\":{\"bar\":[{\"error_x\":{\"color\":\"#2a3f5f\"},\"error_y\":{\"color\":\"#2a3f5f\"},\"marker\":{\"line\":{\"color\":\"#E5ECF6\",\"width\":0.5},\"pattern\":{\"fillmode\":\"overlay\",\"size\":10,\"solidity\":0.2}},\"type\":\"bar\"}],\"barpolar\":[{\"marker\":{\"line\":{\"color\":\"#E5ECF6\",\"width\":0.5},\"pattern\":{\"fillmode\":\"overlay\",\"size\":10,\"solidity\":0.2}},\"type\":\"barpolar\"}],\"carpet\":[{\"aaxis\":{\"endlinecolor\":\"#2a3f5f\",\"gridcolor\":\"white\",\"linecolor\":\"white\",\"minorgridcolor\":\"white\",\"startlinecolor\":\"#2a3f5f\"},\"baxis\":{\"endlinecolor\":\"#2a3f5f\",\"gridcolor\":\"white\",\"linecolor\":\"white\",\"minorgridcolor\":\"white\",\"startlinecolor\":\"#2a3f5f\"},\"type\":\"carpet\"}],\"choropleth\":[{\"colorbar\":{\"outlinewidth\":0,\"ticks\":\"\"},\"type\":\"choropleth\"}],\"contour\":[{\"colorbar\":{\"outlinewidth\":0,\"ticks\":\"\"},\"colorscale\":[[0.0,\"#0d0887\"],[0.1111111111111111,\"#46039f\"],[0.2222222222222222,\"#7201a8\"],[0.3333333333333333,\"#9c179e\"],[0.4444444444444444,\"#bd3786\"],[0.5555555555555556,\"#d8576b\"],[0.6666666666666666,\"#ed7953\"],[0.7777777777777778,\"#fb9f3a\"],[0.8888888888888888,\"#fdca26\"],[1.0,\"#f0f921\"]],\"type\":\"contour\"}],\"contourcarpet\":[{\"colorbar\":{\"outlinewidth\":0,\"ticks\":\"\"},\"type\":\"contourcarpet\"}],\"heatmap\":[{\"colorbar\":{\"outlinewidth\":0,\"ticks\":\"\"},\"colorscale\":[[0.0,\"#0d0887\"],[0.1111111111111111,\"#46039f\"],[0.2222222222222222,\"#7201a8\"],[0.3333333333333333,\"#9c179e\"],[0.4444444444444444,\"#bd3786\"],[0.5555555555555556,\"#d8576b\"],[0.6666666666666666,\"#ed7953\"],[0.7777777777777778,\"#fb9f3a\"],[0.8888888888888888,\"#fdca26\"],[1.0,\"#f0f921\"]],\"type\":\"heatmap\"}],\"heatmapgl\":[{\"colorbar\":{\"outlinewidth\":0,\"ticks\":\"\"},\"colorscale\":[[0.0,\"#0d0887\"],[0.1111111111111111,\"#46039f\"],[0.2222222222222222,\"#7201a8\"],[0.3333333333333333,\"#9c179e\"],[0.4444444444444444,\"#bd3786\"],[0.5555555555555556,\"#d8576b\"],[0.6666666666666666,\"#ed7953\"],[0.7777777777777778,\"#fb9f3a\"],[0.8888888888888888,\"#fdca26\"],[1.0,\"#f0f921\"]],\"type\":\"heatmapgl\"}],\"histogram\":[{\"marker\":{\"pattern\":{\"fillmode\":\"overlay\",\"size\":10,\"solidity\":0.2}},\"type\":\"histogram\"}],\"histogram2d\":[{\"colorbar\":{\"outlinewidth\":0,\"ticks\":\"\"},\"colorscale\":[[0.0,\"#0d0887\"],[0.1111111111111111,\"#46039f\"],[0.2222222222222222,\"#7201a8\"],[0.3333333333333333,\"#9c179e\"],[0.4444444444444444,\"#bd3786\"],[0.5555555555555556,\"#d8576b\"],[0.6666666666666666,\"#ed7953\"],[0.7777777777777778,\"#fb9f3a\"],[0.8888888888888888,\"#fdca26\"],[1.0,\"#f0f921\"]],\"type\":\"histogram2d\"}],\"histogram2dcontour\":[{\"colorbar\":{\"outlinewidth\":0,\"ticks\":\"\"},\"colorscale\":[[0.0,\"#0d0887\"],[0.1111111111111111,\"#46039f\"],[0.2222222222222222,\"#7201a8\"],[0.3333333333333333,\"#9c179e\"],[0.4444444444444444,\"#bd3786\"],[0.5555555555555556,\"#d8576b\"],[0.6666666666666666,\"#ed7953\"],[0.7777777777777778,\"#fb9f3a\"],[0.8888888888888888,\"#fdca26\"],[1.0,\"#f0f921\"]],\"type\":\"histogram2dcontour\"}],\"mesh3d\":[{\"colorbar\":{\"outlinewidth\":0,\"ticks\":\"\"},\"type\":\"mesh3d\"}],\"parcoords\":[{\"line\":{\"colorbar\":{\"outlinewidth\":0,\"ticks\":\"\"}},\"type\":\"parcoords\"}],\"pie\":[{\"automargin\":true,\"type\":\"pie\"}],\"scatter\":[{\"marker\":{\"colorbar\":{\"outlinewidth\":0,\"ticks\":\"\"}},\"type\":\"scatter\"}],\"scatter3d\":[{\"line\":{\"colorbar\":{\"outlinewidth\":0,\"ticks\":\"\"}},\"marker\":{\"colorbar\":{\"outlinewidth\":0,\"ticks\":\"\"}},\"type\":\"scatter3d\"}],\"scattercarpet\":[{\"marker\":{\"colorbar\":{\"outlinewidth\":0,\"ticks\":\"\"}},\"type\":\"scattercarpet\"}],\"scattergeo\":[{\"marker\":{\"colorbar\":{\"outlinewidth\":0,\"ticks\":\"\"}},\"type\":\"scattergeo\"}],\"scattergl\":[{\"marker\":{\"colorbar\":{\"outlinewidth\":0,\"ticks\":\"\"}},\"type\":\"scattergl\"}],\"scattermapbox\":[{\"marker\":{\"colorbar\":{\"outlinewidth\":0,\"ticks\":\"\"}},\"type\":\"scattermapbox\"}],\"scatterpolar\":[{\"marker\":{\"colorbar\":{\"outlinewidth\":0,\"ticks\":\"\"}},\"type\":\"scatterpolar\"}],\"scatterpolargl\":[{\"marker\":{\"colorbar\":{\"outlinewidth\":0,\"ticks\":\"\"}},\"type\":\"scatterpolargl\"}],\"scatterternary\":[{\"marker\":{\"colorbar\":{\"outlinewidth\":0,\"ticks\":\"\"}},\"type\":\"scatterternary\"}],\"surface\":[{\"colorbar\":{\"outlinewidth\":0,\"ticks\":\"\"},\"colorscale\":[[0.0,\"#0d0887\"],[0.1111111111111111,\"#46039f\"],[0.2222222222222222,\"#7201a8\"],[0.3333333333333333,\"#9c179e\"],[0.4444444444444444,\"#bd3786\"],[0.5555555555555556,\"#d8576b\"],[0.6666666666666666,\"#ed7953\"],[0.7777777777777778,\"#fb9f3a\"],[0.8888888888888888,\"#fdca26\"],[1.0,\"#f0f921\"]],\"type\":\"surface\"}],\"table\":[{\"cells\":{\"fill\":{\"color\":\"#EBF0F8\"},\"line\":{\"color\":\"white\"}},\"header\":{\"fill\":{\"color\":\"#C8D4E3\"},\"line\":{\"color\":\"white\"}},\"type\":\"table\"}]},\"layout\":{\"annotationdefaults\":{\"arrowcolor\":\"#2a3f5f\",\"arrowhead\":0,\"arrowwidth\":1},\"autotypenumbers\":\"strict\",\"coloraxis\":{\"colorbar\":{\"outlinewidth\":0,\"ticks\":\"\"}},\"colorscale\":{\"diverging\":[[0,\"#8e0152\"],[0.1,\"#c51b7d\"],[0.2,\"#de77ae\"],[0.3,\"#f1b6da\"],[0.4,\"#fde0ef\"],[0.5,\"#f7f7f7\"],[0.6,\"#e6f5d0\"],[0.7,\"#b8e186\"],[0.8,\"#7fbc41\"],[0.9,\"#4d9221\"],[1,\"#276419\"]],\"sequential\":[[0.0,\"#0d0887\"],[0.1111111111111111,\"#46039f\"],[0.2222222222222222,\"#7201a8\"],[0.3333333333333333,\"#9c179e\"],[0.4444444444444444,\"#bd3786\"],[0.5555555555555556,\"#d8576b\"],[0.6666666666666666,\"#ed7953\"],[0.7777777777777778,\"#fb9f3a\"],[0.8888888888888888,\"#fdca26\"],[1.0,\"#f0f921\"]],\"sequentialminus\":[[0.0,\"#0d0887\"],[0.1111111111111111,\"#46039f\"],[0.2222222222222222,\"#7201a8\"],[0.3333333333333333,\"#9c179e\"],[0.4444444444444444,\"#bd3786\"],[0.5555555555555556,\"#d8576b\"],[0.6666666666666666,\"#ed7953\"],[0.7777777777777778,\"#fb9f3a\"],[0.8888888888888888,\"#fdca26\"],[1.0,\"#f0f921\"]]},\"colorway\":[\"#636efa\",\"#EF553B\",\"#00cc96\",\"#ab63fa\",\"#FFA15A\",\"#19d3f3\",\"#FF6692\",\"#B6E880\",\"#FF97FF\",\"#FECB52\"],\"font\":{\"color\":\"#2a3f5f\"},\"geo\":{\"bgcolor\":\"white\",\"lakecolor\":\"white\",\"landcolor\":\"#E5ECF6\",\"showlakes\":true,\"showland\":true,\"subunitcolor\":\"white\"},\"hoverlabel\":{\"align\":\"left\"},\"hovermode\":\"closest\",\"mapbox\":{\"style\":\"light\"},\"paper_bgcolor\":\"white\",\"plot_bgcolor\":\"#E5ECF6\",\"polar\":{\"angularaxis\":{\"gridcolor\":\"white\",\"linecolor\":\"white\",\"ticks\":\"\"},\"bgcolor\":\"#E5ECF6\",\"radialaxis\":{\"gridcolor\":\"white\",\"linecolor\":\"white\",\"ticks\":\"\"}},\"scene\":{\"xaxis\":{\"backgroundcolor\":\"#E5ECF6\",\"gridcolor\":\"white\",\"gridwidth\":2,\"linecolor\":\"white\",\"showbackground\":true,\"ticks\":\"\",\"zerolinecolor\":\"white\"},\"yaxis\":{\"backgroundcolor\":\"#E5ECF6\",\"gridcolor\":\"white\",\"gridwidth\":2,\"linecolor\":\"white\",\"showbackground\":true,\"ticks\":\"\",\"zerolinecolor\":\"white\"},\"zaxis\":{\"backgroundcolor\":\"#E5ECF6\",\"gridcolor\":\"white\",\"gridwidth\":2,\"linecolor\":\"white\",\"showbackground\":true,\"ticks\":\"\",\"zerolinecolor\":\"white\"}},\"shapedefaults\":{\"line\":{\"color\":\"#2a3f5f\"}},\"ternary\":{\"aaxis\":{\"gridcolor\":\"white\",\"linecolor\":\"white\",\"ticks\":\"\"},\"baxis\":{\"gridcolor\":\"white\",\"linecolor\":\"white\",\"ticks\":\"\"},\"bgcolor\":\"#E5ECF6\",\"caxis\":{\"gridcolor\":\"white\",\"linecolor\":\"white\",\"ticks\":\"\"}},\"title\":{\"x\":0.05},\"xaxis\":{\"automargin\":true,\"gridcolor\":\"white\",\"linecolor\":\"white\",\"ticks\":\"\",\"title\":{\"standoff\":15},\"zerolinecolor\":\"white\",\"zerolinewidth\":2},\"yaxis\":{\"automargin\":true,\"gridcolor\":\"white\",\"linecolor\":\"white\",\"ticks\":\"\",\"title\":{\"standoff\":15},\"zerolinecolor\":\"white\",\"zerolinewidth\":2}}},\"xaxis\":{\"anchor\":\"y\",\"domain\":[0.0,1.0],\"title\":{\"text\":\"Base learners and Ensemble models\"}},\"yaxis\":{\"anchor\":\"x\",\"domain\":[0.0,1.0],\"title\":{\"text\":\"Accuracy\"}},\"legend\":{\"tracegroupgap\":0},\"margin\":{\"t\":60},\"barmode\":\"relative\",\"font\":{\"size\":18}},                        {\"responsive\": true}                    ).then(function(){\n",
       "                            \n",
       "var gd = document.getElementById('d43b9af3-d777-44f7-b2ab-d6f9617ea718');\n",
       "var x = new MutationObserver(function (mutations, observer) {{\n",
       "        var display = window.getComputedStyle(gd).display;\n",
       "        if (!display || display === 'none') {{\n",
       "            console.log([gd, 'removed!']);\n",
       "            Plotly.purge(gd);\n",
       "            observer.disconnect();\n",
       "        }}\n",
       "}});\n",
       "\n",
       "// Listen for the removal of the full notebook cells\n",
       "var notebookContainer = gd.closest('#notebook-container');\n",
       "if (notebookContainer) {{\n",
       "    x.observe(notebookContainer, {childList: true});\n",
       "}}\n",
       "\n",
       "// Listen for the clearing of the current output cell\n",
       "var outputEl = gd.closest('.output');\n",
       "if (outputEl) {{\n",
       "    x.observe(outputEl, {childList: true});\n",
       "}}\n",
       "\n",
       "                        })                };                });            </script>        </div>"
      ]
     },
     "metadata": {},
     "output_type": "display_data"
    }
   ],
   "source": [
    "data = {'Technique': ['KNN', 'SVC', 'GNB', 'Gradient Boosting','Stacking','Voting'], 'Accuracy': [98.69,88.77,96.19,99.73,99.87,99.64]}\n",
    "# Create DataFrame.\n",
    "df = pd.DataFrame(data)\n",
    "\n",
    "df.head()\n",
    "\n",
    "import plotly.express as px\n",
    "# data_canada = px.data.gapminder().query(\"country == 'Canada'\")\n",
    "fig = px.bar(df, x='Technique', y='Accuracy', text_auto=True)\n",
    "fig.update_layout(\n",
    "#     title=\"Plot Title\",\n",
    "    xaxis_title=\"Base learners and Ensemble models\",\n",
    "    yaxis_title=\"Accuracy\",\n",
    "#     legend_title=\"Legend Title\",\n",
    "    font=dict(\n",
    "#         family=\"Courier New, monospace\",\n",
    "        size=18,\n",
    "#         color=\"RebeccaPurple\"\n",
    "    )\n",
    ")\n",
    "fig.show()"
   ]
  },
  {
   "cell_type": "code",
   "execution_count": 209,
   "metadata": {},
   "outputs": [
    {
     "data": {
      "application/vnd.plotly.v1+json": {
       "config": {
        "plotlyServerURL": "https://plotly.com"
       },
       "data": [
        {
         "alignmentgroup": "True",
         "hovertemplate": "Technique=%{x}<br>Accuracy=%{y}<extra></extra>",
         "legendgroup": "",
         "marker": {
          "color": "#636efa",
          "pattern": {
           "shape": ""
          }
         },
         "name": "",
         "offsetgroup": "",
         "orientation": "v",
         "showlegend": false,
         "textposition": "auto",
         "texttemplate": "%{y}",
         "type": "bar",
         "x": [
          "KNN",
          "SVC",
          "GNB",
          "Gradient Boosting",
          "Stacking",
          "Voting"
         ],
         "xaxis": "x",
         "y": [
          98.69,
          88.77,
          96.19,
          99.73,
          99.87,
          99.64
         ],
         "yaxis": "y"
        }
       ],
       "layout": {
        "barmode": "relative",
        "legend": {
         "tracegroupgap": 0
        },
        "margin": {
         "t": 60
        },
        "template": {
         "data": {
          "bar": [
           {
            "error_x": {
             "color": "#2a3f5f"
            },
            "error_y": {
             "color": "#2a3f5f"
            },
            "marker": {
             "line": {
              "color": "#E5ECF6",
              "width": 0.5
             },
             "pattern": {
              "fillmode": "overlay",
              "size": 10,
              "solidity": 0.2
             }
            },
            "type": "bar"
           }
          ],
          "barpolar": [
           {
            "marker": {
             "line": {
              "color": "#E5ECF6",
              "width": 0.5
             },
             "pattern": {
              "fillmode": "overlay",
              "size": 10,
              "solidity": 0.2
             }
            },
            "type": "barpolar"
           }
          ],
          "carpet": [
           {
            "aaxis": {
             "endlinecolor": "#2a3f5f",
             "gridcolor": "white",
             "linecolor": "white",
             "minorgridcolor": "white",
             "startlinecolor": "#2a3f5f"
            },
            "baxis": {
             "endlinecolor": "#2a3f5f",
             "gridcolor": "white",
             "linecolor": "white",
             "minorgridcolor": "white",
             "startlinecolor": "#2a3f5f"
            },
            "type": "carpet"
           }
          ],
          "choropleth": [
           {
            "colorbar": {
             "outlinewidth": 0,
             "ticks": ""
            },
            "type": "choropleth"
           }
          ],
          "contour": [
           {
            "colorbar": {
             "outlinewidth": 0,
             "ticks": ""
            },
            "colorscale": [
             [
              0,
              "#0d0887"
             ],
             [
              0.1111111111111111,
              "#46039f"
             ],
             [
              0.2222222222222222,
              "#7201a8"
             ],
             [
              0.3333333333333333,
              "#9c179e"
             ],
             [
              0.4444444444444444,
              "#bd3786"
             ],
             [
              0.5555555555555556,
              "#d8576b"
             ],
             [
              0.6666666666666666,
              "#ed7953"
             ],
             [
              0.7777777777777778,
              "#fb9f3a"
             ],
             [
              0.8888888888888888,
              "#fdca26"
             ],
             [
              1,
              "#f0f921"
             ]
            ],
            "type": "contour"
           }
          ],
          "contourcarpet": [
           {
            "colorbar": {
             "outlinewidth": 0,
             "ticks": ""
            },
            "type": "contourcarpet"
           }
          ],
          "heatmap": [
           {
            "colorbar": {
             "outlinewidth": 0,
             "ticks": ""
            },
            "colorscale": [
             [
              0,
              "#0d0887"
             ],
             [
              0.1111111111111111,
              "#46039f"
             ],
             [
              0.2222222222222222,
              "#7201a8"
             ],
             [
              0.3333333333333333,
              "#9c179e"
             ],
             [
              0.4444444444444444,
              "#bd3786"
             ],
             [
              0.5555555555555556,
              "#d8576b"
             ],
             [
              0.6666666666666666,
              "#ed7953"
             ],
             [
              0.7777777777777778,
              "#fb9f3a"
             ],
             [
              0.8888888888888888,
              "#fdca26"
             ],
             [
              1,
              "#f0f921"
             ]
            ],
            "type": "heatmap"
           }
          ],
          "heatmapgl": [
           {
            "colorbar": {
             "outlinewidth": 0,
             "ticks": ""
            },
            "colorscale": [
             [
              0,
              "#0d0887"
             ],
             [
              0.1111111111111111,
              "#46039f"
             ],
             [
              0.2222222222222222,
              "#7201a8"
             ],
             [
              0.3333333333333333,
              "#9c179e"
             ],
             [
              0.4444444444444444,
              "#bd3786"
             ],
             [
              0.5555555555555556,
              "#d8576b"
             ],
             [
              0.6666666666666666,
              "#ed7953"
             ],
             [
              0.7777777777777778,
              "#fb9f3a"
             ],
             [
              0.8888888888888888,
              "#fdca26"
             ],
             [
              1,
              "#f0f921"
             ]
            ],
            "type": "heatmapgl"
           }
          ],
          "histogram": [
           {
            "marker": {
             "pattern": {
              "fillmode": "overlay",
              "size": 10,
              "solidity": 0.2
             }
            },
            "type": "histogram"
           }
          ],
          "histogram2d": [
           {
            "colorbar": {
             "outlinewidth": 0,
             "ticks": ""
            },
            "colorscale": [
             [
              0,
              "#0d0887"
             ],
             [
              0.1111111111111111,
              "#46039f"
             ],
             [
              0.2222222222222222,
              "#7201a8"
             ],
             [
              0.3333333333333333,
              "#9c179e"
             ],
             [
              0.4444444444444444,
              "#bd3786"
             ],
             [
              0.5555555555555556,
              "#d8576b"
             ],
             [
              0.6666666666666666,
              "#ed7953"
             ],
             [
              0.7777777777777778,
              "#fb9f3a"
             ],
             [
              0.8888888888888888,
              "#fdca26"
             ],
             [
              1,
              "#f0f921"
             ]
            ],
            "type": "histogram2d"
           }
          ],
          "histogram2dcontour": [
           {
            "colorbar": {
             "outlinewidth": 0,
             "ticks": ""
            },
            "colorscale": [
             [
              0,
              "#0d0887"
             ],
             [
              0.1111111111111111,
              "#46039f"
             ],
             [
              0.2222222222222222,
              "#7201a8"
             ],
             [
              0.3333333333333333,
              "#9c179e"
             ],
             [
              0.4444444444444444,
              "#bd3786"
             ],
             [
              0.5555555555555556,
              "#d8576b"
             ],
             [
              0.6666666666666666,
              "#ed7953"
             ],
             [
              0.7777777777777778,
              "#fb9f3a"
             ],
             [
              0.8888888888888888,
              "#fdca26"
             ],
             [
              1,
              "#f0f921"
             ]
            ],
            "type": "histogram2dcontour"
           }
          ],
          "mesh3d": [
           {
            "colorbar": {
             "outlinewidth": 0,
             "ticks": ""
            },
            "type": "mesh3d"
           }
          ],
          "parcoords": [
           {
            "line": {
             "colorbar": {
              "outlinewidth": 0,
              "ticks": ""
             }
            },
            "type": "parcoords"
           }
          ],
          "pie": [
           {
            "automargin": true,
            "type": "pie"
           }
          ],
          "scatter": [
           {
            "marker": {
             "colorbar": {
              "outlinewidth": 0,
              "ticks": ""
             }
            },
            "type": "scatter"
           }
          ],
          "scatter3d": [
           {
            "line": {
             "colorbar": {
              "outlinewidth": 0,
              "ticks": ""
             }
            },
            "marker": {
             "colorbar": {
              "outlinewidth": 0,
              "ticks": ""
             }
            },
            "type": "scatter3d"
           }
          ],
          "scattercarpet": [
           {
            "marker": {
             "colorbar": {
              "outlinewidth": 0,
              "ticks": ""
             }
            },
            "type": "scattercarpet"
           }
          ],
          "scattergeo": [
           {
            "marker": {
             "colorbar": {
              "outlinewidth": 0,
              "ticks": ""
             }
            },
            "type": "scattergeo"
           }
          ],
          "scattergl": [
           {
            "marker": {
             "colorbar": {
              "outlinewidth": 0,
              "ticks": ""
             }
            },
            "type": "scattergl"
           }
          ],
          "scattermapbox": [
           {
            "marker": {
             "colorbar": {
              "outlinewidth": 0,
              "ticks": ""
             }
            },
            "type": "scattermapbox"
           }
          ],
          "scatterpolar": [
           {
            "marker": {
             "colorbar": {
              "outlinewidth": 0,
              "ticks": ""
             }
            },
            "type": "scatterpolar"
           }
          ],
          "scatterpolargl": [
           {
            "marker": {
             "colorbar": {
              "outlinewidth": 0,
              "ticks": ""
             }
            },
            "type": "scatterpolargl"
           }
          ],
          "scatterternary": [
           {
            "marker": {
             "colorbar": {
              "outlinewidth": 0,
              "ticks": ""
             }
            },
            "type": "scatterternary"
           }
          ],
          "surface": [
           {
            "colorbar": {
             "outlinewidth": 0,
             "ticks": ""
            },
            "colorscale": [
             [
              0,
              "#0d0887"
             ],
             [
              0.1111111111111111,
              "#46039f"
             ],
             [
              0.2222222222222222,
              "#7201a8"
             ],
             [
              0.3333333333333333,
              "#9c179e"
             ],
             [
              0.4444444444444444,
              "#bd3786"
             ],
             [
              0.5555555555555556,
              "#d8576b"
             ],
             [
              0.6666666666666666,
              "#ed7953"
             ],
             [
              0.7777777777777778,
              "#fb9f3a"
             ],
             [
              0.8888888888888888,
              "#fdca26"
             ],
             [
              1,
              "#f0f921"
             ]
            ],
            "type": "surface"
           }
          ],
          "table": [
           {
            "cells": {
             "fill": {
              "color": "#EBF0F8"
             },
             "line": {
              "color": "white"
             }
            },
            "header": {
             "fill": {
              "color": "#C8D4E3"
             },
             "line": {
              "color": "white"
             }
            },
            "type": "table"
           }
          ]
         },
         "layout": {
          "annotationdefaults": {
           "arrowcolor": "#2a3f5f",
           "arrowhead": 0,
           "arrowwidth": 1
          },
          "autotypenumbers": "strict",
          "coloraxis": {
           "colorbar": {
            "outlinewidth": 0,
            "ticks": ""
           }
          },
          "colorscale": {
           "diverging": [
            [
             0,
             "#8e0152"
            ],
            [
             0.1,
             "#c51b7d"
            ],
            [
             0.2,
             "#de77ae"
            ],
            [
             0.3,
             "#f1b6da"
            ],
            [
             0.4,
             "#fde0ef"
            ],
            [
             0.5,
             "#f7f7f7"
            ],
            [
             0.6,
             "#e6f5d0"
            ],
            [
             0.7,
             "#b8e186"
            ],
            [
             0.8,
             "#7fbc41"
            ],
            [
             0.9,
             "#4d9221"
            ],
            [
             1,
             "#276419"
            ]
           ],
           "sequential": [
            [
             0,
             "#0d0887"
            ],
            [
             0.1111111111111111,
             "#46039f"
            ],
            [
             0.2222222222222222,
             "#7201a8"
            ],
            [
             0.3333333333333333,
             "#9c179e"
            ],
            [
             0.4444444444444444,
             "#bd3786"
            ],
            [
             0.5555555555555556,
             "#d8576b"
            ],
            [
             0.6666666666666666,
             "#ed7953"
            ],
            [
             0.7777777777777778,
             "#fb9f3a"
            ],
            [
             0.8888888888888888,
             "#fdca26"
            ],
            [
             1,
             "#f0f921"
            ]
           ],
           "sequentialminus": [
            [
             0,
             "#0d0887"
            ],
            [
             0.1111111111111111,
             "#46039f"
            ],
            [
             0.2222222222222222,
             "#7201a8"
            ],
            [
             0.3333333333333333,
             "#9c179e"
            ],
            [
             0.4444444444444444,
             "#bd3786"
            ],
            [
             0.5555555555555556,
             "#d8576b"
            ],
            [
             0.6666666666666666,
             "#ed7953"
            ],
            [
             0.7777777777777778,
             "#fb9f3a"
            ],
            [
             0.8888888888888888,
             "#fdca26"
            ],
            [
             1,
             "#f0f921"
            ]
           ]
          },
          "colorway": [
           "#636efa",
           "#EF553B",
           "#00cc96",
           "#ab63fa",
           "#FFA15A",
           "#19d3f3",
           "#FF6692",
           "#B6E880",
           "#FF97FF",
           "#FECB52"
          ],
          "font": {
           "color": "#2a3f5f"
          },
          "geo": {
           "bgcolor": "white",
           "lakecolor": "white",
           "landcolor": "#E5ECF6",
           "showlakes": true,
           "showland": true,
           "subunitcolor": "white"
          },
          "hoverlabel": {
           "align": "left"
          },
          "hovermode": "closest",
          "mapbox": {
           "style": "light"
          },
          "paper_bgcolor": "white",
          "plot_bgcolor": "#E5ECF6",
          "polar": {
           "angularaxis": {
            "gridcolor": "white",
            "linecolor": "white",
            "ticks": ""
           },
           "bgcolor": "#E5ECF6",
           "radialaxis": {
            "gridcolor": "white",
            "linecolor": "white",
            "ticks": ""
           }
          },
          "scene": {
           "xaxis": {
            "backgroundcolor": "#E5ECF6",
            "gridcolor": "white",
            "gridwidth": 2,
            "linecolor": "white",
            "showbackground": true,
            "ticks": "",
            "zerolinecolor": "white"
           },
           "yaxis": {
            "backgroundcolor": "#E5ECF6",
            "gridcolor": "white",
            "gridwidth": 2,
            "linecolor": "white",
            "showbackground": true,
            "ticks": "",
            "zerolinecolor": "white"
           },
           "zaxis": {
            "backgroundcolor": "#E5ECF6",
            "gridcolor": "white",
            "gridwidth": 2,
            "linecolor": "white",
            "showbackground": true,
            "ticks": "",
            "zerolinecolor": "white"
           }
          },
          "shapedefaults": {
           "line": {
            "color": "#2a3f5f"
           }
          },
          "ternary": {
           "aaxis": {
            "gridcolor": "white",
            "linecolor": "white",
            "ticks": ""
           },
           "baxis": {
            "gridcolor": "white",
            "linecolor": "white",
            "ticks": ""
           },
           "bgcolor": "#E5ECF6",
           "caxis": {
            "gridcolor": "white",
            "linecolor": "white",
            "ticks": ""
           }
          },
          "title": {
           "x": 0.05
          },
          "xaxis": {
           "automargin": true,
           "gridcolor": "white",
           "linecolor": "white",
           "ticks": "",
           "title": {
            "standoff": 15
           },
           "zerolinecolor": "white",
           "zerolinewidth": 2
          },
          "yaxis": {
           "automargin": true,
           "gridcolor": "white",
           "linecolor": "white",
           "ticks": "",
           "title": {
            "standoff": 15
           },
           "zerolinecolor": "white",
           "zerolinewidth": 2
          }
         }
        },
        "xaxis": {
         "anchor": "y",
         "domain": [
          0,
          1
         ],
         "title": {
          "text": "Technique"
         }
        },
        "yaxis": {
         "anchor": "x",
         "domain": [
          0,
          1
         ],
         "title": {
          "text": "Accuracy"
         }
        }
       }
      },
      "text/html": [
       "<div>                            <div id=\"23178126-c1cc-4152-9abd-e0ad6ff8db5f\" class=\"plotly-graph-div\" style=\"height:525px; width:100%;\"></div>            <script type=\"text/javascript\">                require([\"plotly\"], function(Plotly) {                    window.PLOTLYENV=window.PLOTLYENV || {};                                    if (document.getElementById(\"23178126-c1cc-4152-9abd-e0ad6ff8db5f\")) {                    Plotly.newPlot(                        \"23178126-c1cc-4152-9abd-e0ad6ff8db5f\",                        [{\"alignmentgroup\":\"True\",\"hovertemplate\":\"Technique=%{x}<br>Accuracy=%{y}<extra></extra>\",\"legendgroup\":\"\",\"marker\":{\"color\":\"#636efa\",\"pattern\":{\"shape\":\"\"}},\"name\":\"\",\"offsetgroup\":\"\",\"orientation\":\"v\",\"showlegend\":false,\"textposition\":\"auto\",\"texttemplate\":\"%{y}\",\"x\":[\"KNN\",\"SVC\",\"GNB\",\"Gradient Boosting\",\"Stacking\",\"Voting\"],\"xaxis\":\"x\",\"y\":[98.69,88.77,96.19,99.73,99.87,99.64],\"yaxis\":\"y\",\"type\":\"bar\"}],                        {\"template\":{\"data\":{\"bar\":[{\"error_x\":{\"color\":\"#2a3f5f\"},\"error_y\":{\"color\":\"#2a3f5f\"},\"marker\":{\"line\":{\"color\":\"#E5ECF6\",\"width\":0.5},\"pattern\":{\"fillmode\":\"overlay\",\"size\":10,\"solidity\":0.2}},\"type\":\"bar\"}],\"barpolar\":[{\"marker\":{\"line\":{\"color\":\"#E5ECF6\",\"width\":0.5},\"pattern\":{\"fillmode\":\"overlay\",\"size\":10,\"solidity\":0.2}},\"type\":\"barpolar\"}],\"carpet\":[{\"aaxis\":{\"endlinecolor\":\"#2a3f5f\",\"gridcolor\":\"white\",\"linecolor\":\"white\",\"minorgridcolor\":\"white\",\"startlinecolor\":\"#2a3f5f\"},\"baxis\":{\"endlinecolor\":\"#2a3f5f\",\"gridcolor\":\"white\",\"linecolor\":\"white\",\"minorgridcolor\":\"white\",\"startlinecolor\":\"#2a3f5f\"},\"type\":\"carpet\"}],\"choropleth\":[{\"colorbar\":{\"outlinewidth\":0,\"ticks\":\"\"},\"type\":\"choropleth\"}],\"contour\":[{\"colorbar\":{\"outlinewidth\":0,\"ticks\":\"\"},\"colorscale\":[[0.0,\"#0d0887\"],[0.1111111111111111,\"#46039f\"],[0.2222222222222222,\"#7201a8\"],[0.3333333333333333,\"#9c179e\"],[0.4444444444444444,\"#bd3786\"],[0.5555555555555556,\"#d8576b\"],[0.6666666666666666,\"#ed7953\"],[0.7777777777777778,\"#fb9f3a\"],[0.8888888888888888,\"#fdca26\"],[1.0,\"#f0f921\"]],\"type\":\"contour\"}],\"contourcarpet\":[{\"colorbar\":{\"outlinewidth\":0,\"ticks\":\"\"},\"type\":\"contourcarpet\"}],\"heatmap\":[{\"colorbar\":{\"outlinewidth\":0,\"ticks\":\"\"},\"colorscale\":[[0.0,\"#0d0887\"],[0.1111111111111111,\"#46039f\"],[0.2222222222222222,\"#7201a8\"],[0.3333333333333333,\"#9c179e\"],[0.4444444444444444,\"#bd3786\"],[0.5555555555555556,\"#d8576b\"],[0.6666666666666666,\"#ed7953\"],[0.7777777777777778,\"#fb9f3a\"],[0.8888888888888888,\"#fdca26\"],[1.0,\"#f0f921\"]],\"type\":\"heatmap\"}],\"heatmapgl\":[{\"colorbar\":{\"outlinewidth\":0,\"ticks\":\"\"},\"colorscale\":[[0.0,\"#0d0887\"],[0.1111111111111111,\"#46039f\"],[0.2222222222222222,\"#7201a8\"],[0.3333333333333333,\"#9c179e\"],[0.4444444444444444,\"#bd3786\"],[0.5555555555555556,\"#d8576b\"],[0.6666666666666666,\"#ed7953\"],[0.7777777777777778,\"#fb9f3a\"],[0.8888888888888888,\"#fdca26\"],[1.0,\"#f0f921\"]],\"type\":\"heatmapgl\"}],\"histogram\":[{\"marker\":{\"pattern\":{\"fillmode\":\"overlay\",\"size\":10,\"solidity\":0.2}},\"type\":\"histogram\"}],\"histogram2d\":[{\"colorbar\":{\"outlinewidth\":0,\"ticks\":\"\"},\"colorscale\":[[0.0,\"#0d0887\"],[0.1111111111111111,\"#46039f\"],[0.2222222222222222,\"#7201a8\"],[0.3333333333333333,\"#9c179e\"],[0.4444444444444444,\"#bd3786\"],[0.5555555555555556,\"#d8576b\"],[0.6666666666666666,\"#ed7953\"],[0.7777777777777778,\"#fb9f3a\"],[0.8888888888888888,\"#fdca26\"],[1.0,\"#f0f921\"]],\"type\":\"histogram2d\"}],\"histogram2dcontour\":[{\"colorbar\":{\"outlinewidth\":0,\"ticks\":\"\"},\"colorscale\":[[0.0,\"#0d0887\"],[0.1111111111111111,\"#46039f\"],[0.2222222222222222,\"#7201a8\"],[0.3333333333333333,\"#9c179e\"],[0.4444444444444444,\"#bd3786\"],[0.5555555555555556,\"#d8576b\"],[0.6666666666666666,\"#ed7953\"],[0.7777777777777778,\"#fb9f3a\"],[0.8888888888888888,\"#fdca26\"],[1.0,\"#f0f921\"]],\"type\":\"histogram2dcontour\"}],\"mesh3d\":[{\"colorbar\":{\"outlinewidth\":0,\"ticks\":\"\"},\"type\":\"mesh3d\"}],\"parcoords\":[{\"line\":{\"colorbar\":{\"outlinewidth\":0,\"ticks\":\"\"}},\"type\":\"parcoords\"}],\"pie\":[{\"automargin\":true,\"type\":\"pie\"}],\"scatter\":[{\"marker\":{\"colorbar\":{\"outlinewidth\":0,\"ticks\":\"\"}},\"type\":\"scatter\"}],\"scatter3d\":[{\"line\":{\"colorbar\":{\"outlinewidth\":0,\"ticks\":\"\"}},\"marker\":{\"colorbar\":{\"outlinewidth\":0,\"ticks\":\"\"}},\"type\":\"scatter3d\"}],\"scattercarpet\":[{\"marker\":{\"colorbar\":{\"outlinewidth\":0,\"ticks\":\"\"}},\"type\":\"scattercarpet\"}],\"scattergeo\":[{\"marker\":{\"colorbar\":{\"outlinewidth\":0,\"ticks\":\"\"}},\"type\":\"scattergeo\"}],\"scattergl\":[{\"marker\":{\"colorbar\":{\"outlinewidth\":0,\"ticks\":\"\"}},\"type\":\"scattergl\"}],\"scattermapbox\":[{\"marker\":{\"colorbar\":{\"outlinewidth\":0,\"ticks\":\"\"}},\"type\":\"scattermapbox\"}],\"scatterpolar\":[{\"marker\":{\"colorbar\":{\"outlinewidth\":0,\"ticks\":\"\"}},\"type\":\"scatterpolar\"}],\"scatterpolargl\":[{\"marker\":{\"colorbar\":{\"outlinewidth\":0,\"ticks\":\"\"}},\"type\":\"scatterpolargl\"}],\"scatterternary\":[{\"marker\":{\"colorbar\":{\"outlinewidth\":0,\"ticks\":\"\"}},\"type\":\"scatterternary\"}],\"surface\":[{\"colorbar\":{\"outlinewidth\":0,\"ticks\":\"\"},\"colorscale\":[[0.0,\"#0d0887\"],[0.1111111111111111,\"#46039f\"],[0.2222222222222222,\"#7201a8\"],[0.3333333333333333,\"#9c179e\"],[0.4444444444444444,\"#bd3786\"],[0.5555555555555556,\"#d8576b\"],[0.6666666666666666,\"#ed7953\"],[0.7777777777777778,\"#fb9f3a\"],[0.8888888888888888,\"#fdca26\"],[1.0,\"#f0f921\"]],\"type\":\"surface\"}],\"table\":[{\"cells\":{\"fill\":{\"color\":\"#EBF0F8\"},\"line\":{\"color\":\"white\"}},\"header\":{\"fill\":{\"color\":\"#C8D4E3\"},\"line\":{\"color\":\"white\"}},\"type\":\"table\"}]},\"layout\":{\"annotationdefaults\":{\"arrowcolor\":\"#2a3f5f\",\"arrowhead\":0,\"arrowwidth\":1},\"autotypenumbers\":\"strict\",\"coloraxis\":{\"colorbar\":{\"outlinewidth\":0,\"ticks\":\"\"}},\"colorscale\":{\"diverging\":[[0,\"#8e0152\"],[0.1,\"#c51b7d\"],[0.2,\"#de77ae\"],[0.3,\"#f1b6da\"],[0.4,\"#fde0ef\"],[0.5,\"#f7f7f7\"],[0.6,\"#e6f5d0\"],[0.7,\"#b8e186\"],[0.8,\"#7fbc41\"],[0.9,\"#4d9221\"],[1,\"#276419\"]],\"sequential\":[[0.0,\"#0d0887\"],[0.1111111111111111,\"#46039f\"],[0.2222222222222222,\"#7201a8\"],[0.3333333333333333,\"#9c179e\"],[0.4444444444444444,\"#bd3786\"],[0.5555555555555556,\"#d8576b\"],[0.6666666666666666,\"#ed7953\"],[0.7777777777777778,\"#fb9f3a\"],[0.8888888888888888,\"#fdca26\"],[1.0,\"#f0f921\"]],\"sequentialminus\":[[0.0,\"#0d0887\"],[0.1111111111111111,\"#46039f\"],[0.2222222222222222,\"#7201a8\"],[0.3333333333333333,\"#9c179e\"],[0.4444444444444444,\"#bd3786\"],[0.5555555555555556,\"#d8576b\"],[0.6666666666666666,\"#ed7953\"],[0.7777777777777778,\"#fb9f3a\"],[0.8888888888888888,\"#fdca26\"],[1.0,\"#f0f921\"]]},\"colorway\":[\"#636efa\",\"#EF553B\",\"#00cc96\",\"#ab63fa\",\"#FFA15A\",\"#19d3f3\",\"#FF6692\",\"#B6E880\",\"#FF97FF\",\"#FECB52\"],\"font\":{\"color\":\"#2a3f5f\"},\"geo\":{\"bgcolor\":\"white\",\"lakecolor\":\"white\",\"landcolor\":\"#E5ECF6\",\"showlakes\":true,\"showland\":true,\"subunitcolor\":\"white\"},\"hoverlabel\":{\"align\":\"left\"},\"hovermode\":\"closest\",\"mapbox\":{\"style\":\"light\"},\"paper_bgcolor\":\"white\",\"plot_bgcolor\":\"#E5ECF6\",\"polar\":{\"angularaxis\":{\"gridcolor\":\"white\",\"linecolor\":\"white\",\"ticks\":\"\"},\"bgcolor\":\"#E5ECF6\",\"radialaxis\":{\"gridcolor\":\"white\",\"linecolor\":\"white\",\"ticks\":\"\"}},\"scene\":{\"xaxis\":{\"backgroundcolor\":\"#E5ECF6\",\"gridcolor\":\"white\",\"gridwidth\":2,\"linecolor\":\"white\",\"showbackground\":true,\"ticks\":\"\",\"zerolinecolor\":\"white\"},\"yaxis\":{\"backgroundcolor\":\"#E5ECF6\",\"gridcolor\":\"white\",\"gridwidth\":2,\"linecolor\":\"white\",\"showbackground\":true,\"ticks\":\"\",\"zerolinecolor\":\"white\"},\"zaxis\":{\"backgroundcolor\":\"#E5ECF6\",\"gridcolor\":\"white\",\"gridwidth\":2,\"linecolor\":\"white\",\"showbackground\":true,\"ticks\":\"\",\"zerolinecolor\":\"white\"}},\"shapedefaults\":{\"line\":{\"color\":\"#2a3f5f\"}},\"ternary\":{\"aaxis\":{\"gridcolor\":\"white\",\"linecolor\":\"white\",\"ticks\":\"\"},\"baxis\":{\"gridcolor\":\"white\",\"linecolor\":\"white\",\"ticks\":\"\"},\"bgcolor\":\"#E5ECF6\",\"caxis\":{\"gridcolor\":\"white\",\"linecolor\":\"white\",\"ticks\":\"\"}},\"title\":{\"x\":0.05},\"xaxis\":{\"automargin\":true,\"gridcolor\":\"white\",\"linecolor\":\"white\",\"ticks\":\"\",\"title\":{\"standoff\":15},\"zerolinecolor\":\"white\",\"zerolinewidth\":2},\"yaxis\":{\"automargin\":true,\"gridcolor\":\"white\",\"linecolor\":\"white\",\"ticks\":\"\",\"title\":{\"standoff\":15},\"zerolinecolor\":\"white\",\"zerolinewidth\":2}}},\"xaxis\":{\"anchor\":\"y\",\"domain\":[0.0,1.0],\"title\":{\"text\":\"Technique\"}},\"yaxis\":{\"anchor\":\"x\",\"domain\":[0.0,1.0],\"title\":{\"text\":\"Accuracy\"}},\"legend\":{\"tracegroupgap\":0},\"margin\":{\"t\":60},\"barmode\":\"relative\"},                        {\"responsive\": true}                    ).then(function(){\n",
       "                            \n",
       "var gd = document.getElementById('23178126-c1cc-4152-9abd-e0ad6ff8db5f');\n",
       "var x = new MutationObserver(function (mutations, observer) {{\n",
       "        var display = window.getComputedStyle(gd).display;\n",
       "        if (!display || display === 'none') {{\n",
       "            console.log([gd, 'removed!']);\n",
       "            Plotly.purge(gd);\n",
       "            observer.disconnect();\n",
       "        }}\n",
       "}});\n",
       "\n",
       "// Listen for the removal of the full notebook cells\n",
       "var notebookContainer = gd.closest('#notebook-container');\n",
       "if (notebookContainer) {{\n",
       "    x.observe(notebookContainer, {childList: true});\n",
       "}}\n",
       "\n",
       "// Listen for the clearing of the current output cell\n",
       "var outputEl = gd.closest('.output');\n",
       "if (outputEl) {{\n",
       "    x.observe(outputEl, {childList: true});\n",
       "}}\n",
       "\n",
       "                        })                };                });            </script>        </div>"
      ]
     },
     "metadata": {},
     "output_type": "display_data"
    }
   ],
   "source": [
    "import plotly.express as px\n",
    "# data_canada = px.data.gapminder().query(\"country == 'Canada'\")\n",
    "fig = px.bar(df, x='Technique', y='Accuracy', text_auto=True)\n",
    "fig.show()"
   ]
  },
  {
   "cell_type": "code",
   "execution_count": null,
   "metadata": {},
   "outputs": [],
   "source": []
  }
 ],
 "metadata": {
  "kernelspec": {
   "display_name": "Python 3",
   "language": "python",
   "name": "python3"
  },
  "language_info": {
   "codemirror_mode": {
    "name": "ipython",
    "version": 3
   },
   "file_extension": ".py",
   "mimetype": "text/x-python",
   "name": "python",
   "nbconvert_exporter": "python",
   "pygments_lexer": "ipython3",
   "version": "3.7.6"
  }
 },
 "nbformat": 4,
 "nbformat_minor": 4
}
